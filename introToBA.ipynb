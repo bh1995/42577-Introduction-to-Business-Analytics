{
 "cells": [
  {
   "cell_type": "markdown",
   "metadata": {},
   "source": [
    "## Part 1: Preprocessing of the Database\n",
    "Since the provided dataset is not \"ready-to-use\", it needs to be handled so it could be used further safely. "
   ]
  },
  {
   "cell_type": "code",
   "execution_count": 1,
   "metadata": {},
   "outputs": [],
   "source": [
    "import pandas as pd\n",
    "import numpy as np\n",
    "\n",
    "pd.set_option('display.max_columns', None)\n",
    "pd.set_option('display.max_rows', None)\n",
    "\n",
    "\n",
    "df_or = pd.read_excel('Cities.xls', index_col=0, skipinitialspace=True) # Read with excel index. \n",
    "# Skip all white-spaces.\n",
    "\n",
    "df = df_or.set_index('cityID') # Remove the indices and use cityID as index.\n",
    "\n",
    "# Drop unnecessary columns (that explicitly imply each other)\n",
    "# cityID implies City, and Country\n",
    "# clusterID implies Typology\n",
    "# Pollution Index is restricted to be used in prediction.\n",
    "col2drop = ['Country', 'City', 'Typology', 'Pollution Index ']\n",
    "\n",
    "\n",
    "df.drop(columns=col2drop, inplace=True)# Typology <=> clusterID, City <=> cityID, "
   ]
  },
  {
   "cell_type": "code",
   "execution_count": 2,
   "metadata": {},
   "outputs": [
    {
     "name": "stdout",
     "output_type": "stream",
     "text": [
      "3040\n"
     ]
    }
   ],
   "source": [
    "df = df.replace(r'^\\s*$', np.NaN, regex=True)\n",
    "\n",
    "n_NaN = df.isna().sum().sum()\n",
    "print(n_NaN) # As you can see the total number of NaNs in the database 3199, so we need to impute.\n",
    "\n",
    "# Impute all NaNs over the database.\n",
    "\n",
    "df_int = df.select_dtypes(include='integer')\n",
    "df_float = df.select_dtypes(include='float')\n",
    "\n",
    "df_int = df_int.fillna(df.mode().iloc[0]) # Try using mean/mod for different columns.\n",
    "df_float = df_float.fillna(df.mean().iloc[0]) # Try using mean/mod for different columns.\n",
    "\n",
    "df[df_int.columns.values.tolist()] = df_int # Use mod for integers,\n",
    "df[df_float.columns.values.tolist()] = df_float # Use mean for floats\n"
   ]
  },
  {
   "cell_type": "code",
   "execution_count": 3,
   "metadata": {},
   "outputs": [],
   "source": [
    "# Normalize the database:\n",
    "\n",
    "# df_train = df.iloc[0:tr_slice_ind]\n",
    "# df_test = df.iloc[tr_slice_ind::]\n",
    "\n",
    "\n",
    "\n",
    "# tr_mean = tr_inputs.mean() # min/max normalization\n",
    "# tr_min_ = tr_inputs.min()\n",
    "# tr_max_ = tr_inputs.max()\n",
    "\n",
    "# tr_inputs = (tr_inputs-tr_mean)/(tr_max_-tr_min_)\n",
    "\n",
    "df_targets = df['CO2 Emissions per Capita (metric tonnes)']\n",
    "df_inputs = df.drop(columns=['CO2 Emissions per Capita (metric tonnes)'])\n",
    "\n",
    "df_in_mean = df_inputs.mean()\n",
    "df_in_min = df_inputs.min()\n",
    "df_in_max = df_inputs.max()\n",
    "\n",
    "\n",
    "df_in = (df_inputs - df_in_mean)/(df_in_max - df_in_min)\n",
    "\n",
    "train_perc = 0.75\n",
    "tr_slice_ind = int(len(df)*0.75)+1\n",
    "\n",
    "tr_target = df_targets[0:tr_slice_ind]\n",
    "tr_inputs = df_in.iloc[0:tr_slice_ind]\n",
    "\n",
    "ts_target = df_targets[tr_slice_ind::]\n",
    "ts_inputs = df_in.iloc[tr_slice_ind::]"
   ]
  },
  {
   "cell_type": "code",
   "execution_count": 4,
   "metadata": {},
   "outputs": [
    {
     "data": {
      "text/plain": [
       "10"
      ]
     },
     "execution_count": 4,
     "metadata": {},
     "output_type": "execute_result"
    }
   ],
   "source": [
    "from sklearn.decomposition import PCA\n",
    "\n",
    "pca = PCA(n_components=10)\n",
    "comps = pca.fit_transform(tr_inputs)\n",
    "\n",
    "p_df = pd.DataFrame(comps)\n",
    "\n",
    "len(pca.components_)"
   ]
  },
  {
   "cell_type": "code",
   "execution_count": 5,
   "metadata": {},
   "outputs": [
    {
     "data": {
      "text/plain": [
       "0.6041078218919904"
      ]
     },
     "execution_count": 5,
     "metadata": {},
     "output_type": "execute_result"
    }
   ],
   "source": [
    "from sklearn.ensemble import RandomForestRegressor\n",
    "from sklearn.model_selection import RandomizedSearchCV\n",
    "from sklearn.metrics import r2_score\n",
    "\n",
    "\n",
    "# # Number of trees in random forest\n",
    "# n_estimators = [int(x) for x in np.linspace(start = 200, stop = 2000, num = 10)]\n",
    "# # Number of features to consider at every split\n",
    "# max_features = ['auto', 'sqrt']\n",
    "# # Maximum number of levels in tree\n",
    "# max_depth = [int(x) for x in np.linspace(10, 100, num = 20)]\n",
    "# max_depth.append(None)\n",
    "# # Minimum number of samples required to split a node\n",
    "# min_samples_split = [3, 5, 8]\n",
    "# # Minimum number of samples required at each leaf node\n",
    "# min_samples_leaf = [1, 2, 4]\n",
    "# # Method of selecting samples for training each tree\n",
    "# bootstrap = [True, False]\n",
    "\n",
    "\n",
    "regr = RandomForestRegressor()\n",
    "\n",
    "# Create the random grid\n",
    "random_grid = {'n_estimators': n_estimators,\n",
    "               'max_features': max_features,\n",
    "               'max_depth': max_depth,\n",
    "               'min_samples_split': min_samples_split,\n",
    "               'min_samples_leaf': min_samples_leaf,\n",
    "               'bootstrap': bootstrap}\n",
    "\n",
    "regr = RandomizedSearchCV(estimator = regr, \n",
    "                               param_distributions = random_grid, \n",
    "                               n_iter = 100, cv = 3, verbose=2, \n",
    "\n",
    "\n",
    "\n",
    "from sklearn.neural_network import MLPRegressor\n",
    "\n",
    "clf = MLPRegressor(hidden_layer_sizes=(8, 32, 16), \n",
    "                   activation='relu',\n",
    "                   solver = 'adam',\n",
    "                   alpha = 1e-1,\n",
    "                   learning_rate='adaptive',\n",
    "                   learning_rate_init=2.25e-5,\n",
    "                   max_iter=35000,\n",
    "                   random_state = 42,\n",
    "                   shuffle=False).fit(p_df, tr_target)\n",
    "\n",
    "pca_test = pca.transform(ts_inputs)\n",
    "p_test = pd.DataFrame(pca_test)\n",
    "\n",
    "est_out = clf.predict(p_test)\n",
    "\n",
    "R_2 = r2_score(ts_target, est_out)\n",
    "\n",
    "R_2"
   ]
  },
  {
   "cell_type": "code",
   "execution_count": 6,
   "metadata": {},
   "outputs": [
    {
     "data": {
      "text/plain": [
       "{'activation': 'relu',\n",
       " 'alpha': 0.1,\n",
       " 'batch_size': 'auto',\n",
       " 'beta_1': 0.9,\n",
       " 'beta_2': 0.999,\n",
       " 'early_stopping': False,\n",
       " 'epsilon': 1e-08,\n",
       " 'hidden_layer_sizes': (8, 32, 16),\n",
       " 'learning_rate': 'adaptive',\n",
       " 'learning_rate_init': 2.25e-05,\n",
       " 'max_fun': 15000,\n",
       " 'max_iter': 35000,\n",
       " 'momentum': 0.9,\n",
       " 'n_iter_no_change': 10,\n",
       " 'nesterovs_momentum': True,\n",
       " 'power_t': 0.5,\n",
       " 'random_state': 42,\n",
       " 'shuffle': False,\n",
       " 'solver': 'adam',\n",
       " 'tol': 0.0001,\n",
       " 'validation_fraction': 0.1,\n",
       " 'verbose': False,\n",
       " 'warm_start': False}"
      ]
     },
     "execution_count": 6,
     "metadata": {},
     "output_type": "execute_result"
    }
   ],
   "source": [
    "clf.get_params()"
   ]
  }
 ],
 "metadata": {
  "kernelspec": {
   "display_name": "Python 3",
   "language": "python",
   "name": "python3"
  },
  "language_info": {
   "codemirror_mode": {
    "name": "ipython",
    "version": 3
   },
   "file_extension": ".py",
   "mimetype": "text/x-python",
   "name": "python",
   "nbconvert_exporter": "python",
   "pygments_lexer": "ipython3",
   "version": "3.8.3"
  }
 },
 "nbformat": 4,
 "nbformat_minor": 4
}
