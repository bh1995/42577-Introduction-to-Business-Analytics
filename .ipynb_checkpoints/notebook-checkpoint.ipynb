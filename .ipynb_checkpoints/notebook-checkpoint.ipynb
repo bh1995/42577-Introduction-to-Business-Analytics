{
 "cells": [
  {
   "cell_type": "code",
   "execution_count": 11,
   "metadata": {
    "cell_id": "00000-6aba0258-80d5-4929-8fe3-f8139dfa9b48",
    "deepnote_cell_type": "code",
    "execution_millis": 1550,
    "execution_start": 1607205238222,
    "output_cleared": false,
    "source_hash": "6b49f03",
    "tags": []
   },
   "outputs": [
    {
     "name": "stdout",
     "output_type": "stream",
     "text": [
      "Requirement already satisfied: seaborn==0.11.0 in /opt/venv/lib/python3.7/site-packages (0.11.0)\n",
      "Requirement already satisfied: pandas>=0.23 in /opt/venv/lib/python3.7/site-packages (from seaborn==0.11.0) (1.0.5)\n",
      "Requirement already satisfied: matplotlib>=2.2 in /opt/venv/lib/python3.7/site-packages (from seaborn==0.11.0) (3.3.3)\n",
      "Requirement already satisfied: numpy>=1.15 in /opt/venv/lib/python3.7/site-packages (from seaborn==0.11.0) (1.19.4)\n",
      "Requirement already satisfied: scipy>=1.0 in /opt/venv/lib/python3.7/site-packages (from seaborn==0.11.0) (1.5.4)\n",
      "Requirement already satisfied: cycler>=0.10 in /opt/venv/lib/python3.7/site-packages (from matplotlib>=2.2->seaborn==0.11.0) (0.10.0)\n",
      "Requirement already satisfied: pyparsing!=2.0.4,!=2.1.2,!=2.1.6,>=2.0.3 in /opt/venv/lib/python3.7/site-packages (from matplotlib>=2.2->seaborn==0.11.0) (2.4.7)\n",
      "Requirement already satisfied: numpy>=1.15 in /opt/venv/lib/python3.7/site-packages (from seaborn==0.11.0) (1.19.4)\n",
      "Requirement already satisfied: python-dateutil>=2.1 in /opt/venv/lib/python3.7/site-packages (from matplotlib>=2.2->seaborn==0.11.0) (2.8.1)\n",
      "Requirement already satisfied: pillow>=6.2.0 in /opt/venv/lib/python3.7/site-packages (from matplotlib>=2.2->seaborn==0.11.0) (8.0.1)\n",
      "Requirement already satisfied: kiwisolver>=1.0.1 in /opt/venv/lib/python3.7/site-packages (from matplotlib>=2.2->seaborn==0.11.0) (1.3.1)\n",
      "Requirement already satisfied: six in /opt/venv/lib/python3.7/site-packages (from cycler>=0.10->matplotlib>=2.2->seaborn==0.11.0) (1.15.0)\n",
      "Requirement already satisfied: python-dateutil>=2.1 in /opt/venv/lib/python3.7/site-packages (from matplotlib>=2.2->seaborn==0.11.0) (2.8.1)\n",
      "Requirement already satisfied: pytz>=2017.2 in /opt/venv/lib/python3.7/site-packages (from pandas>=0.23->seaborn==0.11.0) (2020.4)\n",
      "Requirement already satisfied: numpy>=1.15 in /opt/venv/lib/python3.7/site-packages (from seaborn==0.11.0) (1.19.4)\n",
      "Requirement already satisfied: six in /opt/venv/lib/python3.7/site-packages (from cycler>=0.10->matplotlib>=2.2->seaborn==0.11.0) (1.15.0)\n",
      "Requirement already satisfied: numpy>=1.15 in /opt/venv/lib/python3.7/site-packages (from seaborn==0.11.0) (1.19.4)\n"
     ]
    }
   ],
   "source": [
    "!pip install seaborn==0.11.0"
   ]
  },
  {
   "cell_type": "code",
   "execution_count": 12,
   "metadata": {
    "cell_id": "00001-5d9f67b6-e803-47f7-a297-242ad3f904c6",
    "deepnote_cell_type": "code",
    "execution_millis": 1655,
    "execution_start": 1607205239784,
    "output_cleared": false,
    "source_hash": "abbc619",
    "tags": []
   },
   "outputs": [
    {
     "name": "stdout",
     "output_type": "stream",
     "text": [
      "Requirement already satisfied: pycountry_convert==0.7.2 in /opt/venv/lib/python3.7/site-packages (0.7.2)\n",
      "Requirement already satisfied: pprintpp>=0.3.0 in /opt/venv/lib/python3.7/site-packages (from pycountry_convert==0.7.2) (0.4.0)\n",
      "Requirement already satisfied: pytest-mock>=1.6.3 in /opt/venv/lib/python3.7/site-packages (from pycountry_convert==0.7.2) (3.3.1)\n",
      "Requirement already satisfied: pytest>=3.4.0 in /opt/venv/lib/python3.7/site-packages (from pycountry_convert==0.7.2) (6.1.2)\n",
      "Requirement already satisfied: repoze.lru>=0.7 in /opt/venv/lib/python3.7/site-packages (from pycountry_convert==0.7.2) (0.7)\n",
      "Requirement already satisfied: pytest-cov>=2.5.1 in /opt/venv/lib/python3.7/site-packages (from pycountry_convert==0.7.2) (2.10.1)\n",
      "Requirement already satisfied: pycountry>=16.11.27.1 in /opt/venv/lib/python3.7/site-packages (from pycountry_convert==0.7.2) (20.7.3)\n",
      "Requirement already satisfied: wheel>=0.30.0 in /opt/venv/lib/python3.7/site-packages (from pycountry_convert==0.7.2) (0.35.1)\n",
      "Requirement already satisfied: pluggy<1.0,>=0.12 in /opt/venv/lib/python3.7/site-packages (from pytest>=3.4.0->pycountry_convert==0.7.2) (0.13.1)\n",
      "Requirement already satisfied: importlib-metadata>=0.12 in /opt/venv/lib/python3.7/site-packages (from pytest>=3.4.0->pycountry_convert==0.7.2) (2.0.0)\n",
      "Requirement already satisfied: py>=1.8.2 in /opt/venv/lib/python3.7/site-packages (from pytest>=3.4.0->pycountry_convert==0.7.2) (1.9.0)\n",
      "Requirement already satisfied: toml in /opt/venv/lib/python3.7/site-packages (from pytest>=3.4.0->pycountry_convert==0.7.2) (0.10.2)\n",
      "Requirement already satisfied: iniconfig in /opt/venv/lib/python3.7/site-packages (from pytest>=3.4.0->pycountry_convert==0.7.2) (1.1.1)\n",
      "Requirement already satisfied: attrs>=17.4.0 in /opt/venv/lib/python3.7/site-packages (from pytest>=3.4.0->pycountry_convert==0.7.2) (20.3.0)\n",
      "Requirement already satisfied: packaging in /opt/venv/lib/python3.7/site-packages (from pytest>=3.4.0->pycountry_convert==0.7.2) (20.4)\n",
      "Requirement already satisfied: zipp>=0.5 in /opt/venv/lib/python3.7/site-packages (from importlib-metadata>=0.12->pytest>=3.4.0->pycountry_convert==0.7.2) (3.4.0)\n",
      "Requirement already satisfied: six in /opt/venv/lib/python3.7/site-packages (from packaging->pytest>=3.4.0->pycountry_convert==0.7.2) (1.15.0)\n",
      "Requirement already satisfied: pyparsing>=2.0.2 in /opt/venv/lib/python3.7/site-packages (from packaging->pytest>=3.4.0->pycountry_convert==0.7.2) (2.4.7)\n",
      "Requirement already satisfied: importlib-metadata>=0.12 in /opt/venv/lib/python3.7/site-packages (from pytest>=3.4.0->pycountry_convert==0.7.2) (2.0.0)\n",
      "Requirement already satisfied: coverage>=4.4 in /opt/venv/lib/python3.7/site-packages (from pytest-cov>=2.5.1->pycountry_convert==0.7.2) (5.3)\n",
      "Requirement already satisfied: pytest>=3.4.0 in /opt/venv/lib/python3.7/site-packages (from pycountry_convert==0.7.2) (6.1.2)\n",
      "Requirement already satisfied: pytest>=3.4.0 in /opt/venv/lib/python3.7/site-packages (from pycountry_convert==0.7.2) (6.1.2)\n"
     ]
    }
   ],
   "source": [
    "!pip install pycountry_convert==0.7.2"
   ]
  },
  {
   "cell_type": "code",
   "execution_count": 14,
   "metadata": {
    "cell_id": "00000-7d14accc-4c5b-495b-806e-4bf766dc7f14",
    "deepnote_cell_type": "code",
    "execution_millis": 6109,
    "execution_start": 1607205262446,
    "output_cleared": false,
    "source_hash": "a3a2ae23",
    "tags": []
   },
   "outputs": [
    {
     "name": "stdout",
     "output_type": "stream",
     "text": [
      "Requirement already satisfied: plotly in /opt/venv/lib/python3.7/site-packages (4.13.0)\n",
      "Requirement already satisfied: retrying>=1.3.3 in /opt/venv/lib/python3.7/site-packages (from plotly) (1.3.3)\n",
      "Requirement already satisfied: six in /opt/venv/lib/python3.7/site-packages (from plotly) (1.15.0)\n",
      "Requirement already satisfied: six in /opt/venv/lib/python3.7/site-packages (from plotly) (1.15.0)\n",
      "Requirement already satisfied: pip in /opt/venv/lib/python3.7/site-packages (20.3.1)\n",
      "Requirement already satisfied: geopy in /opt/venv/lib/python3.7/site-packages (2.0.0)\n",
      "Requirement already satisfied: geographiclib<2,>=1.49 in /opt/venv/lib/python3.7/site-packages (from geopy) (1.50)\n"
     ]
    }
   ],
   "source": [
    "import numpy as np\n",
    "import pandas as pd\n",
    "import matplotlib.pyplot as plt\n",
    "import seaborn as sns\n",
    "import math\n",
    "import re\n",
    "from sklearn import  linear_model, metrics\n",
    "from sklearn.model_selection import train_test_split\n",
    "import pycountry_convert as pc\n",
    "\n",
    "# installing an importing the necessary tools for nice visualizations.\n",
    "!pip install plotly\n",
    "import plotly.express as px\n",
    "\n",
    "!pip install --upgrade pip\n",
    "!pip install geopy\n",
    "from geopy.geocoders import Nominatim"
   ]
  },
  {
   "cell_type": "code",
   "execution_count": 15,
   "metadata": {
    "cell_id": "00001-b66c627f-ee3d-42a1-9833-5513d2205d5f",
    "deepnote_cell_type": "code",
    "execution_millis": 4,
    "execution_start": 1607205273444,
    "output_cleared": false,
    "source_hash": "ae9d7d9e",
    "tags": []
   },
   "outputs": [
    {
     "data": {
      "text/html": [
       "        <script type=\"text/javascript\">\n",
       "        window.PlotlyConfig = {MathJaxConfig: 'local'};\n",
       "        if (window.MathJax) {MathJax.Hub.Config({SVG: {font: \"STIX-Web\"}});}\n",
       "        if (typeof require !== 'undefined') {\n",
       "        require.undef(\"plotly\");\n",
       "        requirejs.config({\n",
       "            paths: {\n",
       "                'plotly': ['https://cdn.plot.ly/plotly-latest.min']\n",
       "            }\n",
       "        });\n",
       "        require(['plotly'], function(Plotly) {\n",
       "            window._Plotly = Plotly;\n",
       "        });\n",
       "        }\n",
       "        </script>\n",
       "        "
      ]
     },
     "metadata": {},
     "output_type": "display_data"
    }
   ],
   "source": [
    "import pandas as pd\n",
    "import numpy as np \n",
    "import plotly\n",
    "import plotly.graph_objs as go\n",
    "plotly.offline.init_notebook_mode(connected=True)\n",
    "import matplotlib.pyplot as plt\n",
    "import seaborn as sns"
   ]
  },
  {
   "cell_type": "code",
   "execution_count": 56,
   "metadata": {
    "cell_id": "00004-c17cbb4d-d4a3-4732-9da3-3fd4c38c7a34",
    "deepnote_cell_type": "code",
    "execution_millis": 320,
    "execution_start": 1607205925138,
    "output_cleared": false,
    "source_hash": "9fc2d47f",
    "tags": []
   },
   "outputs": [],
   "source": [
    "df=pd.read_excel(\"/home/jovyan/work/FINAL-COMBINED-DATASET.xlsx\")\n",
    "fuel=pd.read_csv(\"/home/jovyan/work/fossil-fuels-per-capita.csv\")"
   ]
  },
  {
   "cell_type": "code",
   "execution_count": 57,
   "metadata": {
    "cell_id": "00006-c582e1d7-ec65-41ca-a72b-043b043039fc",
    "deepnote_cell_type": "code",
    "execution_millis": 235,
    "execution_start": 1607205925469,
    "output_cleared": false,
    "source_hash": "6cd8acfd",
    "tags": []
   },
   "outputs": [
    {
     "data": {
      "application/vnd.deepnote.dataframe.v2+json": {
       "column_count": 78,
       "columns": [
        {
         "dtype": "object",
         "name": "City",
         "stats": {
          "categories": [
           {
            "count": 1,
            "name": "Kabul"
           },
           {
            "count": 1,
            "name": "Algiers"
           }
          ],
          "nan_count": 0,
          "unique_count": 2
         }
        },
        {
         "dtype": "int64",
         "name": "cityID",
         "stats": {
          "histogram": [
           {
            "bin_end": 1.1,
            "bin_start": 1,
            "count": 1
           },
           {
            "bin_end": 1.2,
            "bin_start": 1.1,
            "count": 0
           },
           {
            "bin_end": 1.3,
            "bin_start": 1.2,
            "count": 0
           },
           {
            "bin_end": 1.4,
            "bin_start": 1.3,
            "count": 0
           },
           {
            "bin_end": 1.5,
            "bin_start": 1.4,
            "count": 0
           },
           {
            "bin_end": 1.6,
            "bin_start": 1.5,
            "count": 0
           },
           {
            "bin_end": 1.7000000000000002,
            "bin_start": 1.6,
            "count": 0
           },
           {
            "bin_end": 1.8,
            "bin_start": 1.7000000000000002,
            "count": 0
           },
           {
            "bin_end": 1.9,
            "bin_start": 1.8,
            "count": 0
           },
           {
            "bin_end": 2,
            "bin_start": 1.9,
            "count": 1
           }
          ],
          "max": 2,
          "min": 1,
          "nan_count": 0,
          "unique_count": 2
         }
        },
        {
         "dtype": "int64",
         "name": "clusterID",
         "stats": {
          "histogram": [
           {
            "bin_end": 0.6,
            "bin_start": 0.5,
            "count": 0
           },
           {
            "bin_end": 0.7,
            "bin_start": 0.6,
            "count": 0
           },
           {
            "bin_end": 0.8,
            "bin_start": 0.7,
            "count": 0
           },
           {
            "bin_end": 0.9,
            "bin_start": 0.8,
            "count": 0
           },
           {
            "bin_end": 1,
            "bin_start": 0.9,
            "count": 0
           },
           {
            "bin_end": 1.1,
            "bin_start": 1,
            "count": 2
           },
           {
            "bin_end": 1.2000000000000002,
            "bin_start": 1.1,
            "count": 0
           },
           {
            "bin_end": 1.3,
            "bin_start": 1.2000000000000002,
            "count": 0
           },
           {
            "bin_end": 1.4,
            "bin_start": 1.3,
            "count": 0
           },
           {
            "bin_end": 1.5,
            "bin_start": 1.4,
            "count": 0
           }
          ],
          "max": 1,
          "min": 1,
          "nan_count": 0,
          "unique_count": 1
         }
        },
        {
         "dtype": "object",
         "name": "Typology",
         "stats": {
          "categories": [
           {
            "count": 2,
            "name": "Congested Emerging"
           }
          ],
          "nan_count": 0,
          "unique_count": 1
         }
        },
        {
         "dtype": "object",
         "name": "Country",
         "stats": {
          "categories": [
           {
            "count": 1,
            "name": "Afghanistan"
           },
           {
            "count": 1,
            "name": "Algeria"
           }
          ],
          "nan_count": 0,
          "unique_count": 2
         }
        },
        {
         "dtype": "float64",
         "name": "Car Modeshare (%)",
         "stats": {
          "histogram": [
           {
            "bin_end": 13.290000000000001,
            "bin_start": 12.8,
            "count": 1
           },
           {
            "bin_end": 13.780000000000001,
            "bin_start": 13.290000000000001,
            "count": 0
           },
           {
            "bin_end": 14.27,
            "bin_start": 13.780000000000001,
            "count": 0
           },
           {
            "bin_end": 14.76,
            "bin_start": 14.27,
            "count": 0
           },
           {
            "bin_end": 15.25,
            "bin_start": 14.76,
            "count": 0
           },
           {
            "bin_end": 15.74,
            "bin_start": 15.25,
            "count": 0
           },
           {
            "bin_end": 16.23,
            "bin_start": 15.74,
            "count": 0
           },
           {
            "bin_end": 16.72,
            "bin_start": 16.23,
            "count": 0
           },
           {
            "bin_end": 17.21,
            "bin_start": 16.72,
            "count": 0
           },
           {
            "bin_end": 17.7,
            "bin_start": 17.21,
            "count": 1
           }
          ],
          "max": 17.7,
          "min": 12.8,
          "nan_count": 0,
          "unique_count": 2
         }
        },
        {
         "dtype": "float64",
         "name": "Public Transit Modeshare (%)",
         "stats": {
          "histogram": [
           {
            "bin_end": 30.79,
            "bin_start": 28.7,
            "count": 1
           },
           {
            "bin_end": 32.88,
            "bin_start": 30.79,
            "count": 0
           },
           {
            "bin_end": 34.97,
            "bin_start": 32.88,
            "count": 0
           },
           {
            "bin_end": 37.06,
            "bin_start": 34.97,
            "count": 0
           },
           {
            "bin_end": 39.15,
            "bin_start": 37.06,
            "count": 0
           },
           {
            "bin_end": 41.24,
            "bin_start": 39.15,
            "count": 0
           },
           {
            "bin_end": 43.33,
            "bin_start": 41.24,
            "count": 0
           },
           {
            "bin_end": 45.42,
            "bin_start": 43.33,
            "count": 0
           },
           {
            "bin_end": 47.510000000000005,
            "bin_start": 45.42,
            "count": 0
           },
           {
            "bin_end": 49.6,
            "bin_start": 47.510000000000005,
            "count": 1
           }
          ],
          "max": 49.6,
          "min": 28.7,
          "nan_count": 0,
          "unique_count": 2
         }
        },
        {
         "dtype": "object",
         "name": "Bicycle Modeshare (%)",
         "stats": {
          "categories": [
           {
            "count": 1,
            "name": "0.0"
           },
           {
            "count": 1,
            "name": "Missing"
           }
          ],
          "nan_count": 1,
          "unique_count": 1
         }
        },
        {
         "dtype": "float64",
         "name": "Walking Modeshare (%)",
         "stats": {
          "histogram": [
           {
            "bin_end": 35.010000000000005,
            "bin_start": 32.7,
            "count": 1
           },
           {
            "bin_end": 37.32,
            "bin_start": 35.010000000000005,
            "count": 0
           },
           {
            "bin_end": 39.63,
            "bin_start": 37.32,
            "count": 0
           },
           {
            "bin_end": 41.94,
            "bin_start": 39.63,
            "count": 0
           },
           {
            "bin_end": 44.25,
            "bin_start": 41.94,
            "count": 0
           },
           {
            "bin_end": 46.56,
            "bin_start": 44.25,
            "count": 0
           },
           {
            "bin_end": 48.870000000000005,
            "bin_start": 46.56,
            "count": 0
           },
           {
            "bin_end": 51.18,
            "bin_start": 48.870000000000005,
            "count": 0
           },
           {
            "bin_end": 53.489999999999995,
            "bin_start": 51.18,
            "count": 0
           },
           {
            "bin_end": 55.8,
            "bin_start": 53.489999999999995,
            "count": 1
           }
          ],
          "max": 55.8,
          "min": 32.7,
          "nan_count": 0,
          "unique_count": 2
         }
        },
        {
         "dtype": "float64",
         "name": "Gasoline Pump Price (USD/liter)",
         "stats": {
          "histogram": [
           {
            "bin_end": 0.398,
            "bin_start": 0.37,
            "count": 1
           },
           {
            "bin_end": 0.426,
            "bin_start": 0.398,
            "count": 0
           },
           {
            "bin_end": 0.454,
            "bin_start": 0.426,
            "count": 0
           },
           {
            "bin_end": 0.482,
            "bin_start": 0.454,
            "count": 0
           },
           {
            "bin_end": 0.51,
            "bin_start": 0.482,
            "count": 0
           },
           {
            "bin_end": 0.538,
            "bin_start": 0.51,
            "count": 0
           },
           {
            "bin_end": 0.5660000000000001,
            "bin_start": 0.538,
            "count": 0
           },
           {
            "bin_end": 0.5940000000000001,
            "bin_start": 0.5660000000000001,
            "count": 0
           },
           {
            "bin_end": 0.6220000000000001,
            "bin_start": 0.5940000000000001,
            "count": 0
           },
           {
            "bin_end": 0.65,
            "bin_start": 0.6220000000000001,
            "count": 1
           }
          ],
          "max": 0.65,
          "min": 0.37,
          "nan_count": 0,
          "unique_count": 2
         }
        },
        {
         "dtype": "float64",
         "name": "Road Deaths Rate (per 1000)",
         "stats": {
          "histogram": [
           {
            "bin_end": 16.33,
            "bin_start": 15.5,
            "count": 1
           },
           {
            "bin_end": 17.16,
            "bin_start": 16.33,
            "count": 0
           },
           {
            "bin_end": 17.990000000000002,
            "bin_start": 17.16,
            "count": 0
           },
           {
            "bin_end": 18.82,
            "bin_start": 17.990000000000002,
            "count": 0
           },
           {
            "bin_end": 19.65,
            "bin_start": 18.82,
            "count": 0
           },
           {
            "bin_end": 20.48,
            "bin_start": 19.65,
            "count": 0
           },
           {
            "bin_end": 21.310000000000002,
            "bin_start": 20.48,
            "count": 0
           },
           {
            "bin_end": 22.14,
            "bin_start": 21.310000000000002,
            "count": 0
           },
           {
            "bin_end": 22.97,
            "bin_start": 22.14,
            "count": 0
           },
           {
            "bin_end": 23.8,
            "bin_start": 22.97,
            "count": 1
           }
          ],
          "max": 23.8,
          "min": 15.5,
          "nan_count": 0,
          "unique_count": 2
         }
        },
        {
         "dtype": "float64",
         "name": "Subway Length (km)",
         "stats": {
          "histogram": [
           {
            "bin_end": 1.35,
            "bin_start": 0,
            "count": 1
           },
           {
            "bin_end": 2.7,
            "bin_start": 1.35,
            "count": 0
           },
           {
            "bin_end": 4.050000000000001,
            "bin_start": 2.7,
            "count": 0
           },
           {
            "bin_end": 5.4,
            "bin_start": 4.050000000000001,
            "count": 0
           },
           {
            "bin_end": 6.75,
            "bin_start": 5.4,
            "count": 0
           },
           {
            "bin_end": 8.100000000000001,
            "bin_start": 6.75,
            "count": 0
           },
           {
            "bin_end": 9.450000000000001,
            "bin_start": 8.100000000000001,
            "count": 0
           },
           {
            "bin_end": 10.8,
            "bin_start": 9.450000000000001,
            "count": 0
           },
           {
            "bin_end": 12.15,
            "bin_start": 10.8,
            "count": 0
           },
           {
            "bin_end": 13.5,
            "bin_start": 12.15,
            "count": 1
           }
          ],
          "max": 13.5,
          "min": 0,
          "nan_count": 0,
          "unique_count": 2
         }
        },
        {
         "dtype": "float64",
         "name": "Subway Length Density (per km)",
         "stats": {
          "histogram": [
           {
            "bin_end": 0.0030681818,
            "bin_start": 0,
            "count": 1
           },
           {
            "bin_end": 0.0061363636,
            "bin_start": 0.0030681818,
            "count": 0
           },
           {
            "bin_end": 0.0092045454,
            "bin_start": 0.0061363636,
            "count": 0
           },
           {
            "bin_end": 0.0122727272,
            "bin_start": 0.0092045454,
            "count": 0
           },
           {
            "bin_end": 0.015340909,
            "bin_start": 0.0122727272,
            "count": 0
           },
           {
            "bin_end": 0.0184090908,
            "bin_start": 0.015340909,
            "count": 0
           },
           {
            "bin_end": 0.0214772726,
            "bin_start": 0.0184090908,
            "count": 0
           },
           {
            "bin_end": 0.0245454544,
            "bin_start": 0.0214772726,
            "count": 0
           },
           {
            "bin_end": 0.0276136362,
            "bin_start": 0.0245454544,
            "count": 0
           },
           {
            "bin_end": 0.030681818,
            "bin_start": 0.0276136362,
            "count": 1
           }
          ],
          "max": 0.030681818,
          "min": 0,
          "nan_count": 0,
          "unique_count": 2
         }
        },
        {
         "dtype": "float64",
         "name": "Subway Stations per Hundred Thousand",
         "stats": {
          "histogram": [
           {
            "bin_end": 0.0380952381,
            "bin_start": 0,
            "count": 1
           },
           {
            "bin_end": 0.0761904762,
            "bin_start": 0.0380952381,
            "count": 0
           },
           {
            "bin_end": 0.1142857143,
            "bin_start": 0.0761904762,
            "count": 0
           },
           {
            "bin_end": 0.1523809524,
            "bin_start": 0.1142857143,
            "count": 0
           },
           {
            "bin_end": 0.19047619049999998,
            "bin_start": 0.1523809524,
            "count": 0
           },
           {
            "bin_end": 0.2285714286,
            "bin_start": 0.19047619049999998,
            "count": 0
           },
           {
            "bin_end": 0.2666666667,
            "bin_start": 0.2285714286,
            "count": 0
           },
           {
            "bin_end": 0.3047619048,
            "bin_start": 0.2666666667,
            "count": 0
           },
           {
            "bin_end": 0.34285714289999997,
            "bin_start": 0.3047619048,
            "count": 0
           },
           {
            "bin_end": 0.380952381,
            "bin_start": 0.34285714289999997,
            "count": 1
           }
          ],
          "max": 0.380952381,
          "min": 0,
          "nan_count": 0,
          "unique_count": 2
         }
        },
        {
         "dtype": "float64",
         "name": "Subway Ridership per Capita",
         "stats": {
          "histogram": [
           {
            "bin_end": 0.4353741497,
            "bin_start": 0,
            "count": 1
           },
           {
            "bin_end": 0.8707482994,
            "bin_start": 0.4353741497,
            "count": 0
           },
           {
            "bin_end": 1.3061224491,
            "bin_start": 0.8707482994,
            "count": 0
           },
           {
            "bin_end": 1.7414965988,
            "bin_start": 1.3061224491,
            "count": 0
           },
           {
            "bin_end": 2.1768707485,
            "bin_start": 1.7414965988,
            "count": 0
           },
           {
            "bin_end": 2.6122448982,
            "bin_start": 2.1768707485,
            "count": 0
           },
           {
            "bin_end": 3.0476190479,
            "bin_start": 2.6122448982,
            "count": 0
           },
           {
            "bin_end": 3.4829931976,
            "bin_start": 3.0476190479,
            "count": 0
           },
           {
            "bin_end": 3.9183673473,
            "bin_start": 3.4829931976,
            "count": 0
           },
           {
            "bin_end": 4.353741497,
            "bin_start": 3.9183673473,
            "count": 1
           }
          ],
          "max": 4.353741497,
          "min": 0,
          "nan_count": 0,
          "unique_count": 2
         }
        },
        {
         "dtype": "int64",
         "name": "Subway Age (years)",
         "stats": {
          "histogram": [
           {
            "bin_end": 0.6,
            "bin_start": 0,
            "count": 1
           },
           {
            "bin_end": 1.2,
            "bin_start": 0.6,
            "count": 0
           },
           {
            "bin_end": 1.7999999999999998,
            "bin_start": 1.2,
            "count": 0
           },
           {
            "bin_end": 2.4,
            "bin_start": 1.7999999999999998,
            "count": 0
           },
           {
            "bin_end": 3,
            "bin_start": 2.4,
            "count": 0
           },
           {
            "bin_end": 3.5999999999999996,
            "bin_start": 3,
            "count": 0
           },
           {
            "bin_end": 4.2,
            "bin_start": 3.5999999999999996,
            "count": 0
           },
           {
            "bin_end": 4.8,
            "bin_start": 4.2,
            "count": 0
           },
           {
            "bin_end": 5.3999999999999995,
            "bin_start": 4.8,
            "count": 0
           },
           {
            "bin_end": 6,
            "bin_start": 5.3999999999999995,
            "count": 1
           }
          ],
          "max": 6,
          "min": 0,
          "nan_count": 0,
          "unique_count": 2
         }
        },
        {
         "dtype": "float64",
         "name": "BRT Length (km)",
         "stats": {
          "histogram": [
           {
            "bin_end": -0.4,
            "bin_start": -0.5,
            "count": 0
           },
           {
            "bin_end": -0.3,
            "bin_start": -0.4,
            "count": 0
           },
           {
            "bin_end": -0.19999999999999996,
            "bin_start": -0.3,
            "count": 0
           },
           {
            "bin_end": -0.09999999999999998,
            "bin_start": -0.19999999999999996,
            "count": 0
           },
           {
            "bin_end": 0,
            "bin_start": -0.09999999999999998,
            "count": 0
           },
           {
            "bin_end": 0.10000000000000009,
            "bin_start": 0,
            "count": 2
           },
           {
            "bin_end": 0.20000000000000007,
            "bin_start": 0.10000000000000009,
            "count": 0
           },
           {
            "bin_end": 0.30000000000000004,
            "bin_start": 0.20000000000000007,
            "count": 0
           },
           {
            "bin_end": 0.4,
            "bin_start": 0.30000000000000004,
            "count": 0
           },
           {
            "bin_end": 0.5,
            "bin_start": 0.4,
            "count": 0
           }
          ],
          "max": 0,
          "min": 0,
          "nan_count": 0,
          "unique_count": 1
         }
        },
        {
         "dtype": "float64",
         "name": "BRT System Length Density (per km)",
         "stats": {
          "histogram": [
           {
            "bin_end": -0.4,
            "bin_start": -0.5,
            "count": 0
           },
           {
            "bin_end": -0.3,
            "bin_start": -0.4,
            "count": 0
           },
           {
            "bin_end": -0.19999999999999996,
            "bin_start": -0.3,
            "count": 0
           },
           {
            "bin_end": -0.09999999999999998,
            "bin_start": -0.19999999999999996,
            "count": 0
           },
           {
            "bin_end": 0,
            "bin_start": -0.09999999999999998,
            "count": 0
           },
           {
            "bin_end": 0.10000000000000009,
            "bin_start": 0,
            "count": 2
           },
           {
            "bin_end": 0.20000000000000007,
            "bin_start": 0.10000000000000009,
            "count": 0
           },
           {
            "bin_end": 0.30000000000000004,
            "bin_start": 0.20000000000000007,
            "count": 0
           },
           {
            "bin_end": 0.4,
            "bin_start": 0.30000000000000004,
            "count": 0
           },
           {
            "bin_end": 0.5,
            "bin_start": 0.4,
            "count": 0
           }
          ],
          "max": 0,
          "min": 0,
          "nan_count": 0,
          "unique_count": 1
         }
        },
        {
         "dtype": "float64",
         "name": "BRT Stations per Hundred Thousand Persons",
         "stats": {
          "histogram": [
           {
            "bin_end": -0.4,
            "bin_start": -0.5,
            "count": 0
           },
           {
            "bin_end": -0.3,
            "bin_start": -0.4,
            "count": 0
           },
           {
            "bin_end": -0.19999999999999996,
            "bin_start": -0.3,
            "count": 0
           },
           {
            "bin_end": -0.09999999999999998,
            "bin_start": -0.19999999999999996,
            "count": 0
           },
           {
            "bin_end": 0,
            "bin_start": -0.09999999999999998,
            "count": 0
           },
           {
            "bin_end": 0.10000000000000009,
            "bin_start": 0,
            "count": 2
           },
           {
            "bin_end": 0.20000000000000007,
            "bin_start": 0.10000000000000009,
            "count": 0
           },
           {
            "bin_end": 0.30000000000000004,
            "bin_start": 0.20000000000000007,
            "count": 0
           },
           {
            "bin_end": 0.4,
            "bin_start": 0.30000000000000004,
            "count": 0
           },
           {
            "bin_end": 0.5,
            "bin_start": 0.4,
            "count": 0
           }
          ],
          "max": 0,
          "min": 0,
          "nan_count": 0,
          "unique_count": 1
         }
        },
        {
         "dtype": "float64",
         "name": "BRT Fleet per Hundred Thousand Persons",
         "stats": {
          "histogram": [
           {
            "bin_end": -0.4,
            "bin_start": -0.5,
            "count": 0
           },
           {
            "bin_end": -0.3,
            "bin_start": -0.4,
            "count": 0
           },
           {
            "bin_end": -0.19999999999999996,
            "bin_start": -0.3,
            "count": 0
           },
           {
            "bin_end": -0.09999999999999998,
            "bin_start": -0.19999999999999996,
            "count": 0
           },
           {
            "bin_end": 0,
            "bin_start": -0.09999999999999998,
            "count": 0
           },
           {
            "bin_end": 0.10000000000000009,
            "bin_start": 0,
            "count": 2
           },
           {
            "bin_end": 0.20000000000000007,
            "bin_start": 0.10000000000000009,
            "count": 0
           },
           {
            "bin_end": 0.30000000000000004,
            "bin_start": 0.20000000000000007,
            "count": 0
           },
           {
            "bin_end": 0.4,
            "bin_start": 0.30000000000000004,
            "count": 0
           },
           {
            "bin_end": 0.5,
            "bin_start": 0.4,
            "count": 0
           }
          ],
          "max": 0,
          "min": 0,
          "nan_count": 0,
          "unique_count": 1
         }
        },
        {
         "dtype": "float64",
         "name": "BRT Annual Ridership per Capita",
         "stats": {
          "histogram": [
           {
            "bin_end": -0.4,
            "bin_start": -0.5,
            "count": 0
           },
           {
            "bin_end": -0.3,
            "bin_start": -0.4,
            "count": 0
           },
           {
            "bin_end": -0.19999999999999996,
            "bin_start": -0.3,
            "count": 0
           },
           {
            "bin_end": -0.09999999999999998,
            "bin_start": -0.19999999999999996,
            "count": 0
           },
           {
            "bin_end": 0,
            "bin_start": -0.09999999999999998,
            "count": 0
           },
           {
            "bin_end": 0.10000000000000009,
            "bin_start": 0,
            "count": 2
           },
           {
            "bin_end": 0.20000000000000007,
            "bin_start": 0.10000000000000009,
            "count": 0
           },
           {
            "bin_end": 0.30000000000000004,
            "bin_start": 0.20000000000000007,
            "count": 0
           },
           {
            "bin_end": 0.4,
            "bin_start": 0.30000000000000004,
            "count": 0
           },
           {
            "bin_end": 0.5,
            "bin_start": 0.4,
            "count": 0
           }
          ],
          "max": 0,
          "min": 0,
          "nan_count": 0,
          "unique_count": 1
         }
        },
        {
         "dtype": "float64",
         "name": "BRT Age (years)",
         "stats": {
          "histogram": [
           {
            "bin_end": -0.4,
            "bin_start": -0.5,
            "count": 0
           },
           {
            "bin_end": -0.3,
            "bin_start": -0.4,
            "count": 0
           },
           {
            "bin_end": -0.19999999999999996,
            "bin_start": -0.3,
            "count": 0
           },
           {
            "bin_end": -0.09999999999999998,
            "bin_start": -0.19999999999999996,
            "count": 0
           },
           {
            "bin_end": 0,
            "bin_start": -0.09999999999999998,
            "count": 0
           },
           {
            "bin_end": 0.10000000000000009,
            "bin_start": 0,
            "count": 2
           },
           {
            "bin_end": 0.20000000000000007,
            "bin_start": 0.10000000000000009,
            "count": 0
           },
           {
            "bin_end": 0.30000000000000004,
            "bin_start": 0.20000000000000007,
            "count": 0
           },
           {
            "bin_end": 0.4,
            "bin_start": 0.30000000000000004,
            "count": 0
           },
           {
            "bin_end": 0.5,
            "bin_start": 0.4,
            "count": 0
           }
          ],
          "max": 0,
          "min": 0,
          "nan_count": 0,
          "unique_count": 1
         }
        },
        {
         "dtype": "object",
         "name": "Bikeshare Stations",
         "stats": {
          "categories": [
           {
            "count": 2,
            "name": "0"
           }
          ],
          "nan_count": 0,
          "unique_count": 1
         }
        },
        {
         "dtype": "float64",
         "name": "Bikeshare Stations per Hundred Thousand Persons",
         "stats": {
          "histogram": [
           {
            "bin_end": -0.4,
            "bin_start": -0.5,
            "count": 0
           },
           {
            "bin_end": -0.3,
            "bin_start": -0.4,
            "count": 0
           },
           {
            "bin_end": -0.19999999999999996,
            "bin_start": -0.3,
            "count": 0
           },
           {
            "bin_end": -0.09999999999999998,
            "bin_start": -0.19999999999999996,
            "count": 0
           },
           {
            "bin_end": 0,
            "bin_start": -0.09999999999999998,
            "count": 0
           },
           {
            "bin_end": 0.10000000000000009,
            "bin_start": 0,
            "count": 2
           },
           {
            "bin_end": 0.20000000000000007,
            "bin_start": 0.10000000000000009,
            "count": 0
           },
           {
            "bin_end": 0.30000000000000004,
            "bin_start": 0.20000000000000007,
            "count": 0
           },
           {
            "bin_end": 0.4,
            "bin_start": 0.30000000000000004,
            "count": 0
           },
           {
            "bin_end": 0.5,
            "bin_start": 0.4,
            "count": 0
           }
          ],
          "max": 0,
          "min": 0,
          "nan_count": 0,
          "unique_count": 1
         }
        },
        {
         "dtype": "float64",
         "name": "Bikeshare Number of Bikes",
         "stats": {
          "histogram": [
           {
            "bin_end": -0.4,
            "bin_start": -0.5,
            "count": 0
           },
           {
            "bin_end": -0.3,
            "bin_start": -0.4,
            "count": 0
           },
           {
            "bin_end": -0.19999999999999996,
            "bin_start": -0.3,
            "count": 0
           },
           {
            "bin_end": -0.09999999999999998,
            "bin_start": -0.19999999999999996,
            "count": 0
           },
           {
            "bin_end": 0,
            "bin_start": -0.09999999999999998,
            "count": 0
           },
           {
            "bin_end": 0.10000000000000009,
            "bin_start": 0,
            "count": 2
           },
           {
            "bin_end": 0.20000000000000007,
            "bin_start": 0.10000000000000009,
            "count": 0
           },
           {
            "bin_end": 0.30000000000000004,
            "bin_start": 0.20000000000000007,
            "count": 0
           },
           {
            "bin_end": 0.4,
            "bin_start": 0.30000000000000004,
            "count": 0
           },
           {
            "bin_end": 0.5,
            "bin_start": 0.4,
            "count": 0
           }
          ],
          "max": 0,
          "min": 0,
          "nan_count": 0,
          "unique_count": 1
         }
        },
        {
         "dtype": "float64",
         "name": "Bikeshare Bicycles per Hundred Thousand Persons",
         "stats": {
          "histogram": [
           {
            "bin_end": -0.4,
            "bin_start": -0.5,
            "count": 0
           },
           {
            "bin_end": -0.3,
            "bin_start": -0.4,
            "count": 0
           },
           {
            "bin_end": -0.19999999999999996,
            "bin_start": -0.3,
            "count": 0
           },
           {
            "bin_end": -0.09999999999999998,
            "bin_start": -0.19999999999999996,
            "count": 0
           },
           {
            "bin_end": 0,
            "bin_start": -0.09999999999999998,
            "count": 0
           },
           {
            "bin_end": 0.10000000000000009,
            "bin_start": 0,
            "count": 2
           },
           {
            "bin_end": 0.20000000000000007,
            "bin_start": 0.10000000000000009,
            "count": 0
           },
           {
            "bin_end": 0.30000000000000004,
            "bin_start": 0.20000000000000007,
            "count": 0
           },
           {
            "bin_end": 0.4,
            "bin_start": 0.30000000000000004,
            "count": 0
           },
           {
            "bin_end": 0.5,
            "bin_start": 0.4,
            "count": 0
           }
          ],
          "max": 0,
          "min": 0,
          "nan_count": 0,
          "unique_count": 1
         }
        },
        {
         "dtype": "float64",
         "name": "Bikeshare Age (years)",
         "stats": {
          "histogram": [
           {
            "bin_end": -0.4,
            "bin_start": -0.5,
            "count": 0
           },
           {
            "bin_end": -0.3,
            "bin_start": -0.4,
            "count": 0
           },
           {
            "bin_end": -0.19999999999999996,
            "bin_start": -0.3,
            "count": 0
           },
           {
            "bin_end": -0.09999999999999998,
            "bin_start": -0.19999999999999996,
            "count": 0
           },
           {
            "bin_end": 0,
            "bin_start": -0.09999999999999998,
            "count": 0
           },
           {
            "bin_end": 0.10000000000000009,
            "bin_start": 0,
            "count": 2
           },
           {
            "bin_end": 0.20000000000000007,
            "bin_start": 0.10000000000000009,
            "count": 0
           },
           {
            "bin_end": 0.30000000000000004,
            "bin_start": 0.20000000000000007,
            "count": 0
           },
           {
            "bin_end": 0.4,
            "bin_start": 0.30000000000000004,
            "count": 0
           },
           {
            "bin_end": 0.5,
            "bin_start": 0.4,
            "count": 0
           }
          ],
          "max": 0,
          "min": 0,
          "nan_count": 0,
          "unique_count": 1
         }
        },
        {
         "dtype": "float64",
         "name": "Congestion (%)",
         "stats": {
          "histogram": [
           {
            "bin_end": 0.1,
            "bin_start": 0,
            "count": 0
           },
           {
            "bin_end": 0.2,
            "bin_start": 0.1,
            "count": 0
           },
           {
            "bin_end": 0.30000000000000004,
            "bin_start": 0.2,
            "count": 0
           },
           {
            "bin_end": 0.4,
            "bin_start": 0.30000000000000004,
            "count": 0
           },
           {
            "bin_end": 0.5,
            "bin_start": 0.4,
            "count": 0
           },
           {
            "bin_end": 0.6000000000000001,
            "bin_start": 0.5,
            "count": 0
           },
           {
            "bin_end": 0.7000000000000001,
            "bin_start": 0.6000000000000001,
            "count": 0
           },
           {
            "bin_end": 0.8,
            "bin_start": 0.7000000000000001,
            "count": 0
           },
           {
            "bin_end": 0.9,
            "bin_start": 0.8,
            "count": 0
           },
           {
            "bin_end": 1,
            "bin_start": 0.9,
            "count": 0
           }
          ],
          "max": null,
          "min": null,
          "nan_count": 2,
          "unique_count": 0
         }
        },
        {
         "dtype": "float64",
         "name": "Congestion AM Peak (%)",
         "stats": {
          "histogram": [
           {
            "bin_end": 0.1,
            "bin_start": 0,
            "count": 0
           },
           {
            "bin_end": 0.2,
            "bin_start": 0.1,
            "count": 0
           },
           {
            "bin_end": 0.30000000000000004,
            "bin_start": 0.2,
            "count": 0
           },
           {
            "bin_end": 0.4,
            "bin_start": 0.30000000000000004,
            "count": 0
           },
           {
            "bin_end": 0.5,
            "bin_start": 0.4,
            "count": 0
           },
           {
            "bin_end": 0.6000000000000001,
            "bin_start": 0.5,
            "count": 0
           },
           {
            "bin_end": 0.7000000000000001,
            "bin_start": 0.6000000000000001,
            "count": 0
           },
           {
            "bin_end": 0.8,
            "bin_start": 0.7000000000000001,
            "count": 0
           },
           {
            "bin_end": 0.9,
            "bin_start": 0.8,
            "count": 0
           },
           {
            "bin_end": 1,
            "bin_start": 0.9,
            "count": 0
           }
          ],
          "max": null,
          "min": null,
          "nan_count": 2,
          "unique_count": 0
         }
        },
        {
         "dtype": "float64",
         "name": "Congestion PM Peak (%)",
         "stats": {
          "histogram": [
           {
            "bin_end": 0.1,
            "bin_start": 0,
            "count": 0
           },
           {
            "bin_end": 0.2,
            "bin_start": 0.1,
            "count": 0
           },
           {
            "bin_end": 0.30000000000000004,
            "bin_start": 0.2,
            "count": 0
           },
           {
            "bin_end": 0.4,
            "bin_start": 0.30000000000000004,
            "count": 0
           },
           {
            "bin_end": 0.5,
            "bin_start": 0.4,
            "count": 0
           },
           {
            "bin_end": 0.6000000000000001,
            "bin_start": 0.5,
            "count": 0
           },
           {
            "bin_end": 0.7000000000000001,
            "bin_start": 0.6000000000000001,
            "count": 0
           },
           {
            "bin_end": 0.8,
            "bin_start": 0.7000000000000001,
            "count": 0
           },
           {
            "bin_end": 0.9,
            "bin_start": 0.8,
            "count": 0
           },
           {
            "bin_end": 1,
            "bin_start": 0.9,
            "count": 0
           }
          ],
          "max": null,
          "min": null,
          "nan_count": 2,
          "unique_count": 0
         }
        },
        {
         "dtype": "float64",
         "name": "Traffic Index",
         "stats": {
          "histogram": [
           {
            "bin_end": 0.1,
            "bin_start": 0,
            "count": 0
           },
           {
            "bin_end": 0.2,
            "bin_start": 0.1,
            "count": 0
           },
           {
            "bin_end": 0.30000000000000004,
            "bin_start": 0.2,
            "count": 0
           },
           {
            "bin_end": 0.4,
            "bin_start": 0.30000000000000004,
            "count": 0
           },
           {
            "bin_end": 0.5,
            "bin_start": 0.4,
            "count": 0
           },
           {
            "bin_end": 0.6000000000000001,
            "bin_start": 0.5,
            "count": 0
           },
           {
            "bin_end": 0.7000000000000001,
            "bin_start": 0.6000000000000001,
            "count": 0
           },
           {
            "bin_end": 0.8,
            "bin_start": 0.7000000000000001,
            "count": 0
           },
           {
            "bin_end": 0.9,
            "bin_start": 0.8,
            "count": 0
           },
           {
            "bin_end": 1,
            "bin_start": 0.9,
            "count": 0
           }
          ],
          "max": null,
          "min": null,
          "nan_count": 2,
          "unique_count": 0
         }
        },
        {
         "dtype": "float64",
         "name": "Travel Time Index",
         "stats": {
          "histogram": [
           {
            "bin_end": 0.1,
            "bin_start": 0,
            "count": 0
           },
           {
            "bin_end": 0.2,
            "bin_start": 0.1,
            "count": 0
           },
           {
            "bin_end": 0.30000000000000004,
            "bin_start": 0.2,
            "count": 0
           },
           {
            "bin_end": 0.4,
            "bin_start": 0.30000000000000004,
            "count": 0
           },
           {
            "bin_end": 0.5,
            "bin_start": 0.4,
            "count": 0
           },
           {
            "bin_end": 0.6000000000000001,
            "bin_start": 0.5,
            "count": 0
           },
           {
            "bin_end": 0.7000000000000001,
            "bin_start": 0.6000000000000001,
            "count": 0
           },
           {
            "bin_end": 0.8,
            "bin_start": 0.7000000000000001,
            "count": 0
           },
           {
            "bin_end": 0.9,
            "bin_start": 0.8,
            "count": 0
           },
           {
            "bin_end": 1,
            "bin_start": 0.9,
            "count": 0
           }
          ],
          "max": null,
          "min": null,
          "nan_count": 2,
          "unique_count": 0
         }
        },
        {
         "dtype": "float64",
         "name": "Inefficiency Index",
         "stats": {
          "histogram": [
           {
            "bin_end": 0.1,
            "bin_start": 0,
            "count": 0
           },
           {
            "bin_end": 0.2,
            "bin_start": 0.1,
            "count": 0
           },
           {
            "bin_end": 0.30000000000000004,
            "bin_start": 0.2,
            "count": 0
           },
           {
            "bin_end": 0.4,
            "bin_start": 0.30000000000000004,
            "count": 0
           },
           {
            "bin_end": 0.5,
            "bin_start": 0.4,
            "count": 0
           },
           {
            "bin_end": 0.6000000000000001,
            "bin_start": 0.5,
            "count": 0
           },
           {
            "bin_end": 0.7000000000000001,
            "bin_start": 0.6000000000000001,
            "count": 0
           },
           {
            "bin_end": 0.8,
            "bin_start": 0.7000000000000001,
            "count": 0
           },
           {
            "bin_end": 0.9,
            "bin_start": 0.8,
            "count": 0
           },
           {
            "bin_end": 1,
            "bin_start": 0.9,
            "count": 0
           }
          ],
          "max": null,
          "min": null,
          "nan_count": 2,
          "unique_count": 0
         }
        },
        {
         "dtype": "int64",
         "name": "Population",
         "stats": {
          "histogram": [
           {
            "bin_end": 3652500,
            "bin_start": 3650000,
            "count": 1
           },
           {
            "bin_end": 3655000,
            "bin_start": 3652500,
            "count": 0
           },
           {
            "bin_end": 3657500,
            "bin_start": 3655000,
            "count": 0
           },
           {
            "bin_end": 3660000,
            "bin_start": 3657500,
            "count": 0
           },
           {
            "bin_end": 3662500,
            "bin_start": 3660000,
            "count": 0
           },
           {
            "bin_end": 3665000,
            "bin_start": 3662500,
            "count": 0
           },
           {
            "bin_end": 3667500,
            "bin_start": 3665000,
            "count": 0
           },
           {
            "bin_end": 3670000,
            "bin_start": 3667500,
            "count": 0
           },
           {
            "bin_end": 3672500,
            "bin_start": 3670000,
            "count": 0
           },
           {
            "bin_end": 3675000,
            "bin_start": 3672500,
            "count": 1
           }
          ],
          "max": 3675000,
          "min": 3650000,
          "nan_count": 0,
          "unique_count": 2
         }
        },
        {
         "dtype": "int64",
         "name": "Land Area (sq. km)",
         "stats": {
          "histogram": [
           {
            "bin_end": 277.1,
            "bin_start": 259,
            "count": 1
           },
           {
            "bin_end": 295.2,
            "bin_start": 277.1,
            "count": 0
           },
           {
            "bin_end": 313.3,
            "bin_start": 295.2,
            "count": 0
           },
           {
            "bin_end": 331.4,
            "bin_start": 313.3,
            "count": 0
           },
           {
            "bin_end": 349.5,
            "bin_start": 331.4,
            "count": 0
           },
           {
            "bin_end": 367.6,
            "bin_start": 349.5,
            "count": 0
           },
           {
            "bin_end": 385.70000000000005,
            "bin_start": 367.6,
            "count": 0
           },
           {
            "bin_end": 403.8,
            "bin_start": 385.70000000000005,
            "count": 0
           },
           {
            "bin_end": 421.9,
            "bin_start": 403.8,
            "count": 0
           },
           {
            "bin_end": 440,
            "bin_start": 421.9,
            "count": 1
           }
          ],
          "max": 440,
          "min": 259,
          "nan_count": 0,
          "unique_count": 2
         }
        },
        {
         "dtype": "int64",
         "name": "Population Density (per sq. km)",
         "stats": {
          "histogram": [
           {
            "bin_end": 8880,
            "bin_start": 8300,
            "count": 1
           },
           {
            "bin_end": 9460,
            "bin_start": 8880,
            "count": 0
           },
           {
            "bin_end": 10040,
            "bin_start": 9460,
            "count": 0
           },
           {
            "bin_end": 10620,
            "bin_start": 10040,
            "count": 0
           },
           {
            "bin_end": 11200,
            "bin_start": 10620,
            "count": 0
           },
           {
            "bin_end": 11780,
            "bin_start": 11200,
            "count": 0
           },
           {
            "bin_end": 12360,
            "bin_start": 11780,
            "count": 0
           },
           {
            "bin_end": 12940,
            "bin_start": 12360,
            "count": 0
           },
           {
            "bin_end": 13520,
            "bin_start": 12940,
            "count": 0
           },
           {
            "bin_end": 14100,
            "bin_start": 13520,
            "count": 1
           }
          ],
          "max": 14100,
          "min": 8300,
          "nan_count": 0,
          "unique_count": 2
         }
        },
        {
         "dtype": "int64",
         "name": "Population Change 1990 – 2000",
         "stats": {
          "histogram": [
           {
            "bin_end": 475418,
            "bin_start": 458131,
            "count": 1
           },
           {
            "bin_end": 492705,
            "bin_start": 475418,
            "count": 0
           },
           {
            "bin_end": 509992,
            "bin_start": 492705,
            "count": 0
           },
           {
            "bin_end": 527279,
            "bin_start": 509992,
            "count": 0
           },
           {
            "bin_end": 544566,
            "bin_start": 527279,
            "count": 0
           },
           {
            "bin_end": 561853,
            "bin_start": 544566,
            "count": 0
           },
           {
            "bin_end": 579140,
            "bin_start": 561853,
            "count": 0
           },
           {
            "bin_end": 596427,
            "bin_start": 579140,
            "count": 0
           },
           {
            "bin_end": 613714,
            "bin_start": 596427,
            "count": 0
           },
           {
            "bin_end": 631001,
            "bin_start": 613714,
            "count": 1
           }
          ],
          "max": 631001,
          "min": 458131,
          "nan_count": 0,
          "unique_count": 2
         }
        },
        {
         "dtype": "int64",
         "name": "Population Change 2000 – 2010",
         "stats": {
          "histogram": [
           {
            "bin_end": 624836.7,
            "bin_start": 573311,
            "count": 1
           },
           {
            "bin_end": 676362.4,
            "bin_start": 624836.7,
            "count": 0
           },
           {
            "bin_end": 727888.1,
            "bin_start": 676362.4,
            "count": 0
           },
           {
            "bin_end": 779413.8,
            "bin_start": 727888.1,
            "count": 0
           },
           {
            "bin_end": 830939.5,
            "bin_start": 779413.8,
            "count": 0
           },
           {
            "bin_end": 882465.2,
            "bin_start": 830939.5,
            "count": 0
           },
           {
            "bin_end": 933990.8999999999,
            "bin_start": 882465.2,
            "count": 0
           },
           {
            "bin_end": 985516.6,
            "bin_start": 933990.8999999999,
            "count": 0
           },
           {
            "bin_end": 1037042.3,
            "bin_start": 985516.6,
            "count": 0
           },
           {
            "bin_end": 1088568,
            "bin_start": 1037042.3,
            "count": 1
           }
          ],
          "max": 1088568,
          "min": 573311,
          "nan_count": 0,
          "unique_count": 2
         }
        },
        {
         "dtype": "int64",
         "name": "Population Change 2010 – 2020",
         "stats": {
          "histogram": [
           {
            "bin_end": 789591.1,
            "bin_start": 756928,
            "count": 1
           },
           {
            "bin_end": 822254.2,
            "bin_start": 789591.1,
            "count": 0
           },
           {
            "bin_end": 854917.3,
            "bin_start": 822254.2,
            "count": 0
           },
           {
            "bin_end": 887580.4,
            "bin_start": 854917.3,
            "count": 0
           },
           {
            "bin_end": 920243.5,
            "bin_start": 887580.4,
            "count": 0
           },
           {
            "bin_end": 952906.6,
            "bin_start": 920243.5,
            "count": 0
           },
           {
            "bin_end": 985569.7,
            "bin_start": 952906.6,
            "count": 0
           },
           {
            "bin_end": 1018232.8,
            "bin_start": 985569.7,
            "count": 0
           },
           {
            "bin_end": 1050895.9,
            "bin_start": 1018232.8,
            "count": 0
           },
           {
            "bin_end": 1083559,
            "bin_start": 1050895.9,
            "count": 1
           }
          ],
          "max": 1083559,
          "min": 756928,
          "nan_count": 0,
          "unique_count": 2
         }
        },
        {
         "dtype": "int64",
         "name": "Population Change 2020 – 2025",
         "stats": {
          "histogram": [
           {
            "bin_end": 431043,
            "bin_start": 368897,
            "count": 1
           },
           {
            "bin_end": 493189,
            "bin_start": 431043,
            "count": 0
           },
           {
            "bin_end": 555335,
            "bin_start": 493189,
            "count": 0
           },
           {
            "bin_end": 617481,
            "bin_start": 555335,
            "count": 0
           },
           {
            "bin_end": 679627,
            "bin_start": 617481,
            "count": 0
           },
           {
            "bin_end": 741773,
            "bin_start": 679627,
            "count": 0
           },
           {
            "bin_end": 803919,
            "bin_start": 741773,
            "count": 0
           },
           {
            "bin_end": 866065,
            "bin_start": 803919,
            "count": 0
           },
           {
            "bin_end": 928211,
            "bin_start": 866065,
            "count": 0
           },
           {
            "bin_end": 990357,
            "bin_start": 928211,
            "count": 1
           }
          ],
          "max": 990357,
          "min": 368897,
          "nan_count": 0,
          "unique_count": 2
         }
        },
        {
         "dtype": "float64",
         "name": "Urbanization Rate 2015 (%)",
         "stats": {
          "histogram": [
           {
            "bin_end": 31.1,
            "bin_start": 26.7,
            "count": 1
           },
           {
            "bin_end": 35.5,
            "bin_start": 31.1,
            "count": 0
           },
           {
            "bin_end": 39.9,
            "bin_start": 35.5,
            "count": 0
           },
           {
            "bin_end": 44.3,
            "bin_start": 39.9,
            "count": 0
           },
           {
            "bin_end": 48.7,
            "bin_start": 44.3,
            "count": 0
           },
           {
            "bin_end": 53.1,
            "bin_start": 48.7,
            "count": 0
           },
           {
            "bin_end": 57.5,
            "bin_start": 53.1,
            "count": 0
           },
           {
            "bin_end": 61.900000000000006,
            "bin_start": 57.5,
            "count": 0
           },
           {
            "bin_end": 66.3,
            "bin_start": 61.900000000000006,
            "count": 0
           },
           {
            "bin_end": 70.7,
            "bin_start": 66.3,
            "count": 1
           }
          ],
          "max": 70.7,
          "min": 26.7,
          "nan_count": 0,
          "unique_count": 2
         }
        },
        {
         "dtype": "float64",
         "name": "Urbanization Rate Change 2015 – 2025 (pp)",
         "stats": {
          "histogram": [
           {
            "bin_end": 4.720000000000001,
            "bin_start": 4.7,
            "count": 1
           },
           {
            "bin_end": 4.74,
            "bin_start": 4.720000000000001,
            "count": 0
           },
           {
            "bin_end": 4.76,
            "bin_start": 4.74,
            "count": 0
           },
           {
            "bin_end": 4.78,
            "bin_start": 4.76,
            "count": 0
           },
           {
            "bin_end": 4.800000000000001,
            "bin_start": 4.78,
            "count": 0
           },
           {
            "bin_end": 4.82,
            "bin_start": 4.800000000000001,
            "count": 0
           },
           {
            "bin_end": 4.84,
            "bin_start": 4.82,
            "count": 0
           },
           {
            "bin_end": 4.86,
            "bin_start": 4.84,
            "count": 0
           },
           {
            "bin_end": 4.880000000000001,
            "bin_start": 4.86,
            "count": 0
           },
           {
            "bin_end": 4.9,
            "bin_start": 4.880000000000001,
            "count": 1
           }
          ],
          "max": 4.9,
          "min": 4.7,
          "nan_count": 0,
          "unique_count": 2
         }
        },
        {
         "dtype": "float64",
         "name": "GDP per Capita (USD)",
         "stats": {
          "histogram": [
           {
            "bin_end": 1038.88,
            "bin_start": 617.9,
            "count": 1
           },
           {
            "bin_end": 1459.8600000000001,
            "bin_start": 1038.88,
            "count": 0
           },
           {
            "bin_end": 1880.8400000000001,
            "bin_start": 1459.8600000000001,
            "count": 0
           },
           {
            "bin_end": 2301.82,
            "bin_start": 1880.8400000000001,
            "count": 0
           },
           {
            "bin_end": 2722.8,
            "bin_start": 2301.82,
            "count": 0
           },
           {
            "bin_end": 3143.78,
            "bin_start": 2722.8,
            "count": 0
           },
           {
            "bin_end": 3564.76,
            "bin_start": 3143.78,
            "count": 0
           },
           {
            "bin_end": 3985.7400000000002,
            "bin_start": 3564.76,
            "count": 0
           },
           {
            "bin_end": 4406.72,
            "bin_start": 3985.7400000000002,
            "count": 0
           },
           {
            "bin_end": 4827.7,
            "bin_start": 4406.72,
            "count": 1
           }
          ],
          "max": 4827.7,
          "min": 617.9,
          "nan_count": 0,
          "unique_count": 2
         }
        },
        {
         "dtype": "float64",
         "name": "Unemployment Rate (%)",
         "stats": {
          "histogram": [
           {
            "bin_end": 12.8,
            "bin_start": 10,
            "count": 1
           },
           {
            "bin_end": 15.6,
            "bin_start": 12.8,
            "count": 0
           },
           {
            "bin_end": 18.4,
            "bin_start": 15.6,
            "count": 0
           },
           {
            "bin_end": 21.2,
            "bin_start": 18.4,
            "count": 0
           },
           {
            "bin_end": 24,
            "bin_start": 21.2,
            "count": 0
           },
           {
            "bin_end": 26.799999999999997,
            "bin_start": 24,
            "count": 0
           },
           {
            "bin_end": 29.599999999999998,
            "bin_start": 26.799999999999997,
            "count": 0
           },
           {
            "bin_end": 32.4,
            "bin_start": 29.599999999999998,
            "count": 0
           },
           {
            "bin_end": 35.2,
            "bin_start": 32.4,
            "count": 0
           },
           {
            "bin_end": 38,
            "bin_start": 35.2,
            "count": 1
           }
          ],
          "max": 38,
          "min": 10,
          "nan_count": 0,
          "unique_count": 2
         }
        },
        {
         "dtype": "float64",
         "name": "Cost of Living Index",
         "stats": {
          "histogram": [
           {
            "bin_end": 34.58,
            "bin_start": 34.48,
            "count": 0
           },
           {
            "bin_end": 34.68,
            "bin_start": 34.58,
            "count": 0
           },
           {
            "bin_end": 34.779999999999994,
            "bin_start": 34.68,
            "count": 0
           },
           {
            "bin_end": 34.879999999999995,
            "bin_start": 34.779999999999994,
            "count": 0
           },
           {
            "bin_end": 34.98,
            "bin_start": 34.879999999999995,
            "count": 0
           },
           {
            "bin_end": 35.08,
            "bin_start": 34.98,
            "count": 1
           },
           {
            "bin_end": 35.18,
            "bin_start": 35.08,
            "count": 0
           },
           {
            "bin_end": 35.279999999999994,
            "bin_start": 35.18,
            "count": 0
           },
           {
            "bin_end": 35.379999999999995,
            "bin_start": 35.279999999999994,
            "count": 0
           },
           {
            "bin_end": 35.48,
            "bin_start": 35.379999999999995,
            "count": 0
           }
          ],
          "max": 34.98,
          "min": 34.98,
          "nan_count": 1,
          "unique_count": 1
         }
        },
        {
         "dtype": "float64",
         "name": "Rent Index",
         "stats": {
          "histogram": [
           {
            "bin_end": 9.69,
            "bin_start": 9.59,
            "count": 0
           },
           {
            "bin_end": 9.79,
            "bin_start": 9.69,
            "count": 0
           },
           {
            "bin_end": 9.89,
            "bin_start": 9.79,
            "count": 0
           },
           {
            "bin_end": 9.99,
            "bin_start": 9.89,
            "count": 0
           },
           {
            "bin_end": 10.09,
            "bin_start": 9.99,
            "count": 0
           },
           {
            "bin_end": 10.19,
            "bin_start": 10.09,
            "count": 1
           },
           {
            "bin_end": 10.29,
            "bin_start": 10.19,
            "count": 0
           },
           {
            "bin_end": 10.39,
            "bin_start": 10.29,
            "count": 0
           },
           {
            "bin_end": 10.49,
            "bin_start": 10.39,
            "count": 0
           },
           {
            "bin_end": 10.59,
            "bin_start": 10.49,
            "count": 0
           }
          ],
          "max": 10.09,
          "min": 10.09,
          "nan_count": 1,
          "unique_count": 1
         }
        },
        {
         "dtype": "float64",
         "name": "Grocery Index",
         "stats": {
          "histogram": [
           {
            "bin_end": 34.56,
            "bin_start": 34.46,
            "count": 0
           },
           {
            "bin_end": 34.660000000000004,
            "bin_start": 34.56,
            "count": 0
           },
           {
            "bin_end": 34.76,
            "bin_start": 34.660000000000004,
            "count": 0
           },
           {
            "bin_end": 34.86,
            "bin_start": 34.76,
            "count": 0
           },
           {
            "bin_end": 34.96,
            "bin_start": 34.86,
            "count": 0
           },
           {
            "bin_end": 35.06,
            "bin_start": 34.96,
            "count": 1
           },
           {
            "bin_end": 35.160000000000004,
            "bin_start": 35.06,
            "count": 0
           },
           {
            "bin_end": 35.26,
            "bin_start": 35.160000000000004,
            "count": 0
           },
           {
            "bin_end": 35.36,
            "bin_start": 35.26,
            "count": 0
           },
           {
            "bin_end": 35.46,
            "bin_start": 35.36,
            "count": 0
           }
          ],
          "max": 34.96,
          "min": 34.96,
          "nan_count": 1,
          "unique_count": 1
         }
        },
        {
         "dtype": "float64",
         "name": "Restaurant Price Index",
         "stats": {
          "histogram": [
           {
            "bin_end": 26.03,
            "bin_start": 25.93,
            "count": 0
           },
           {
            "bin_end": 26.13,
            "bin_start": 26.03,
            "count": 0
           },
           {
            "bin_end": 26.23,
            "bin_start": 26.13,
            "count": 0
           },
           {
            "bin_end": 26.33,
            "bin_start": 26.23,
            "count": 0
           },
           {
            "bin_end": 26.43,
            "bin_start": 26.33,
            "count": 0
           },
           {
            "bin_end": 26.53,
            "bin_start": 26.43,
            "count": 1
           },
           {
            "bin_end": 26.63,
            "bin_start": 26.53,
            "count": 0
           },
           {
            "bin_end": 26.73,
            "bin_start": 26.63,
            "count": 0
           },
           {
            "bin_end": 26.83,
            "bin_start": 26.73,
            "count": 0
           },
           {
            "bin_end": 26.93,
            "bin_start": 26.83,
            "count": 0
           }
          ],
          "max": 26.43,
          "min": 26.43,
          "nan_count": 1,
          "unique_count": 1
         }
        },
        {
         "dtype": "float64",
         "name": "Local Purchasing Power Index",
         "stats": {
          "histogram": [
           {
            "bin_end": 39.17,
            "bin_start": 39.07,
            "count": 0
           },
           {
            "bin_end": 39.27,
            "bin_start": 39.17,
            "count": 0
           },
           {
            "bin_end": 39.37,
            "bin_start": 39.27,
            "count": 0
           },
           {
            "bin_end": 39.47,
            "bin_start": 39.37,
            "count": 0
           },
           {
            "bin_end": 39.57,
            "bin_start": 39.47,
            "count": 0
           },
           {
            "bin_end": 39.67,
            "bin_start": 39.57,
            "count": 1
           },
           {
            "bin_end": 39.77,
            "bin_start": 39.67,
            "count": 0
           },
           {
            "bin_end": 39.87,
            "bin_start": 39.77,
            "count": 0
           },
           {
            "bin_end": 39.97,
            "bin_start": 39.87,
            "count": 0
           },
           {
            "bin_end": 40.07,
            "bin_start": 39.97,
            "count": 0
           }
          ],
          "max": 39.57,
          "min": 39.57,
          "nan_count": 1,
          "unique_count": 1
         }
        },
        {
         "dtype": "float64",
         "name": "Gini Coefficient",
         "stats": {
          "histogram": [
           {
            "bin_end": 0.298,
            "bin_start": 0.29,
            "count": 1
           },
           {
            "bin_end": 0.306,
            "bin_start": 0.298,
            "count": 0
           },
           {
            "bin_end": 0.314,
            "bin_start": 0.306,
            "count": 0
           },
           {
            "bin_end": 0.322,
            "bin_start": 0.314,
            "count": 0
           },
           {
            "bin_end": 0.32999999999999996,
            "bin_start": 0.322,
            "count": 0
           },
           {
            "bin_end": 0.33799999999999997,
            "bin_start": 0.32999999999999996,
            "count": 0
           },
           {
            "bin_end": 0.346,
            "bin_start": 0.33799999999999997,
            "count": 0
           },
           {
            "bin_end": 0.354,
            "bin_start": 0.346,
            "count": 0
           },
           {
            "bin_end": 0.362,
            "bin_start": 0.354,
            "count": 0
           },
           {
            "bin_end": 0.37,
            "bin_start": 0.362,
            "count": 1
           }
          ],
          "max": 0.37,
          "min": 0.29,
          "nan_count": 0,
          "unique_count": 2
         }
        },
        {
         "dtype": "float64",
         "name": "Poverty Rate (%)",
         "stats": {
          "histogram": [
           {
            "bin_end": 27.200000000000003,
            "bin_start": 27.1,
            "count": 0
           },
           {
            "bin_end": 27.3,
            "bin_start": 27.200000000000003,
            "count": 0
           },
           {
            "bin_end": 27.400000000000002,
            "bin_start": 27.3,
            "count": 0
           },
           {
            "bin_end": 27.5,
            "bin_start": 27.400000000000002,
            "count": 0
           },
           {
            "bin_end": 27.6,
            "bin_start": 27.5,
            "count": 0
           },
           {
            "bin_end": 27.700000000000003,
            "bin_start": 27.6,
            "count": 1
           },
           {
            "bin_end": 27.8,
            "bin_start": 27.700000000000003,
            "count": 0
           },
           {
            "bin_end": 27.900000000000002,
            "bin_start": 27.8,
            "count": 0
           },
           {
            "bin_end": 28,
            "bin_start": 27.900000000000002,
            "count": 0
           },
           {
            "bin_end": 28.1,
            "bin_start": 28,
            "count": 0
           }
          ],
          "max": 27.6,
          "min": 27.6,
          "nan_count": 1,
          "unique_count": 1
         }
        },
        {
         "dtype": "float64",
         "name": "Life Expectancy (years)",
         "stats": {
          "histogram": [
           {
            "bin_end": 62.01,
            "bin_start": 60.5,
            "count": 1
           },
           {
            "bin_end": 63.519999999999996,
            "bin_start": 62.01,
            "count": 0
           },
           {
            "bin_end": 65.03,
            "bin_start": 63.519999999999996,
            "count": 0
           },
           {
            "bin_end": 66.53999999999999,
            "bin_start": 65.03,
            "count": 0
           },
           {
            "bin_end": 68.05,
            "bin_start": 66.53999999999999,
            "count": 0
           },
           {
            "bin_end": 69.56,
            "bin_start": 68.05,
            "count": 0
           },
           {
            "bin_end": 71.07,
            "bin_start": 69.56,
            "count": 0
           },
           {
            "bin_end": 72.58,
            "bin_start": 71.07,
            "count": 0
           },
           {
            "bin_end": 74.08999999999999,
            "bin_start": 72.58,
            "count": 0
           },
           {
            "bin_end": 75.6,
            "bin_start": 74.08999999999999,
            "count": 1
           }
          ],
          "max": 75.6,
          "min": 60.5,
          "nan_count": 0,
          "unique_count": 2
         }
        },
        {
         "dtype": "float64",
         "name": "Safety Index",
         "stats": {
          "histogram": [
           {
            "bin_end": 52.120000000000005,
            "bin_start": 52.02,
            "count": 0
           },
           {
            "bin_end": 52.220000000000006,
            "bin_start": 52.120000000000005,
            "count": 0
           },
           {
            "bin_end": 52.32,
            "bin_start": 52.220000000000006,
            "count": 0
           },
           {
            "bin_end": 52.42,
            "bin_start": 52.32,
            "count": 0
           },
           {
            "bin_end": 52.52,
            "bin_start": 52.42,
            "count": 0
           },
           {
            "bin_end": 52.620000000000005,
            "bin_start": 52.52,
            "count": 1
           },
           {
            "bin_end": 52.720000000000006,
            "bin_start": 52.620000000000005,
            "count": 0
           },
           {
            "bin_end": 52.82,
            "bin_start": 52.720000000000006,
            "count": 0
           },
           {
            "bin_end": 52.92,
            "bin_start": 52.82,
            "count": 0
           },
           {
            "bin_end": 53.02,
            "bin_start": 52.92,
            "count": 0
           }
          ],
          "max": 52.52,
          "min": 52.52,
          "nan_count": 1,
          "unique_count": 1
         }
        },
        {
         "dtype": "float64",
         "name": "Internet Penetration",
         "stats": {
          "histogram": [
           {
            "bin_end": 14.8,
            "bin_start": 12.3,
            "count": 1
           },
           {
            "bin_end": 17.3,
            "bin_start": 14.8,
            "count": 0
           },
           {
            "bin_end": 19.799999999999997,
            "bin_start": 17.3,
            "count": 0
           },
           {
            "bin_end": 22.299999999999997,
            "bin_start": 19.799999999999997,
            "count": 0
           },
           {
            "bin_end": 24.799999999999997,
            "bin_start": 22.299999999999997,
            "count": 0
           },
           {
            "bin_end": 27.299999999999997,
            "bin_start": 24.799999999999997,
            "count": 0
           },
           {
            "bin_end": 29.799999999999997,
            "bin_start": 27.299999999999997,
            "count": 0
           },
           {
            "bin_end": 32.3,
            "bin_start": 29.799999999999997,
            "count": 0
           },
           {
            "bin_end": 34.8,
            "bin_start": 32.3,
            "count": 0
           },
           {
            "bin_end": 37.3,
            "bin_start": 34.8,
            "count": 1
           }
          ],
          "max": 37.3,
          "min": 12.3,
          "nan_count": 0,
          "unique_count": 2
         }
        },
        {
         "dtype": "float64",
         "name": "Digital Penetration",
         "stats": {
          "histogram": [
           {
            "bin_end": -0.03,
            "bin_start": -0.13,
            "count": 0
           },
           {
            "bin_end": 0.07,
            "bin_start": -0.03,
            "count": 0
           },
           {
            "bin_end": 0.17000000000000004,
            "bin_start": 0.07,
            "count": 0
           },
           {
            "bin_end": 0.27,
            "bin_start": 0.17000000000000004,
            "count": 0
           },
           {
            "bin_end": 0.37,
            "bin_start": 0.27,
            "count": 0
           },
           {
            "bin_end": 0.4700000000000001,
            "bin_start": 0.37,
            "count": 1
           },
           {
            "bin_end": 0.5700000000000001,
            "bin_start": 0.4700000000000001,
            "count": 0
           },
           {
            "bin_end": 0.67,
            "bin_start": 0.5700000000000001,
            "count": 0
           },
           {
            "bin_end": 0.77,
            "bin_start": 0.67,
            "count": 0
           },
           {
            "bin_end": 0.87,
            "bin_start": 0.77,
            "count": 0
           }
          ],
          "max": 0.37,
          "min": 0.37,
          "nan_count": 1,
          "unique_count": 1
         }
        },
        {
         "dtype": "float64",
         "name": "Innovation Index",
         "stats": {
          "histogram": [
           {
            "bin_end": 27.6,
            "bin_start": 27.5,
            "count": 0
           },
           {
            "bin_end": 27.7,
            "bin_start": 27.6,
            "count": 0
           },
           {
            "bin_end": 27.8,
            "bin_start": 27.7,
            "count": 0
           },
           {
            "bin_end": 27.9,
            "bin_start": 27.8,
            "count": 0
           },
           {
            "bin_end": 28,
            "bin_start": 27.9,
            "count": 0
           },
           {
            "bin_end": 28.1,
            "bin_start": 28,
            "count": 1
           },
           {
            "bin_end": 28.2,
            "bin_start": 28.1,
            "count": 0
           },
           {
            "bin_end": 28.3,
            "bin_start": 28.2,
            "count": 0
           },
           {
            "bin_end": 28.4,
            "bin_start": 28.3,
            "count": 0
           },
           {
            "bin_end": 28.5,
            "bin_start": 28.4,
            "count": 0
           }
          ],
          "max": 28,
          "min": 28,
          "nan_count": 1,
          "unique_count": 1
         }
        },
        {
         "dtype": "float64",
         "name": "Smartphone Penetration (%)",
         "stats": {
          "histogram": [
           {
            "bin_end": 0.1,
            "bin_start": 0,
            "count": 0
           },
           {
            "bin_end": 0.2,
            "bin_start": 0.1,
            "count": 0
           },
           {
            "bin_end": 0.30000000000000004,
            "bin_start": 0.2,
            "count": 0
           },
           {
            "bin_end": 0.4,
            "bin_start": 0.30000000000000004,
            "count": 0
           },
           {
            "bin_end": 0.5,
            "bin_start": 0.4,
            "count": 0
           },
           {
            "bin_end": 0.6000000000000001,
            "bin_start": 0.5,
            "count": 0
           },
           {
            "bin_end": 0.7000000000000001,
            "bin_start": 0.6000000000000001,
            "count": 0
           },
           {
            "bin_end": 0.8,
            "bin_start": 0.7000000000000001,
            "count": 0
           },
           {
            "bin_end": 0.9,
            "bin_start": 0.8,
            "count": 0
           },
           {
            "bin_end": 1,
            "bin_start": 0.9,
            "count": 0
           }
          ],
          "max": null,
          "min": null,
          "nan_count": 2,
          "unique_count": 0
         }
        },
        {
         "dtype": "float64",
         "name": "CO2 Emissions per Capita (metric tonnes)",
         "stats": {
          "histogram": [
           {
            "bin_end": 0.9753430788999999,
            "bin_start": 0.693183411,
            "count": 1
           },
           {
            "bin_end": 1.2575027468,
            "bin_start": 0.9753430788999999,
            "count": 0
           },
           {
            "bin_end": 1.5396624147,
            "bin_start": 1.2575027468,
            "count": 0
           },
           {
            "bin_end": 1.8218220825999998,
            "bin_start": 1.5396624147,
            "count": 0
           },
           {
            "bin_end": 2.1039817505,
            "bin_start": 1.8218220825999998,
            "count": 0
           },
           {
            "bin_end": 2.3861414184,
            "bin_start": 2.1039817505,
            "count": 0
           },
           {
            "bin_end": 2.6683010862999996,
            "bin_start": 2.3861414184,
            "count": 0
           },
           {
            "bin_end": 2.9504607542,
            "bin_start": 2.6683010862999996,
            "count": 0
           },
           {
            "bin_end": 3.2326204220999997,
            "bin_start": 2.9504607542,
            "count": 0
           },
           {
            "bin_end": 3.51478009,
            "bin_start": 3.2326204220999997,
            "count": 1
           }
          ],
          "max": 3.51478009,
          "min": 0.693183411,
          "nan_count": 0,
          "unique_count": 2
         }
        },
        {
         "dtype": "float64",
         "name": "Pollution Index ",
         "stats": {
          "histogram": [
           {
            "bin_end": 77.182,
            "bin_start": 74.18,
            "count": 1
           },
           {
            "bin_end": 80.18400000000001,
            "bin_start": 77.182,
            "count": 0
           },
           {
            "bin_end": 83.186,
            "bin_start": 80.18400000000001,
            "count": 0
           },
           {
            "bin_end": 86.188,
            "bin_start": 83.186,
            "count": 0
           },
           {
            "bin_end": 89.19,
            "bin_start": 86.188,
            "count": 0
           },
           {
            "bin_end": 92.19200000000001,
            "bin_start": 89.19,
            "count": 0
           },
           {
            "bin_end": 95.194,
            "bin_start": 92.19200000000001,
            "count": 0
           },
           {
            "bin_end": 98.196,
            "bin_start": 95.194,
            "count": 0
           },
           {
            "bin_end": 101.19800000000001,
            "bin_start": 98.196,
            "count": 0
           },
           {
            "bin_end": 104.2,
            "bin_start": 101.19800000000001,
            "count": 1
           }
          ],
          "max": 104.2,
          "min": 74.18,
          "nan_count": 0,
          "unique_count": 2
         }
        },
        {
         "dtype": "float64",
         "name": "Street length total (m)",
         "stats": {
          "histogram": [
           {
            "bin_end": 4374731.418,
            "bin_start": 4374731.318,
            "count": 0
           },
           {
            "bin_end": 4374731.518,
            "bin_start": 4374731.418,
            "count": 0
           },
           {
            "bin_end": 4374731.618,
            "bin_start": 4374731.518,
            "count": 0
           },
           {
            "bin_end": 4374731.718,
            "bin_start": 4374731.618,
            "count": 0
           },
           {
            "bin_end": 4374731.818,
            "bin_start": 4374731.718,
            "count": 0
           },
           {
            "bin_end": 4374731.918,
            "bin_start": 4374731.818,
            "count": 1
           },
           {
            "bin_end": 4374732.018,
            "bin_start": 4374731.918,
            "count": 0
           },
           {
            "bin_end": 4374732.118,
            "bin_start": 4374732.018,
            "count": 0
           },
           {
            "bin_end": 4374732.218,
            "bin_start": 4374732.118,
            "count": 0
           },
           {
            "bin_end": 4374732.318,
            "bin_start": 4374732.218,
            "count": 0
           }
          ],
          "max": 4374731.818,
          "min": 4374731.818,
          "nan_count": 1,
          "unique_count": 1
         }
        },
        {
         "dtype": "float64",
         "name": "Street Length Density (m/sq. km)",
         "stats": {
          "histogram": [
           {
            "bin_end": 4185927859.6,
            "bin_start": 4185927859.5,
            "count": 0
           },
           {
            "bin_end": 4185927859.7,
            "bin_start": 4185927859.6,
            "count": 0
           },
           {
            "bin_end": 4185927859.8,
            "bin_start": 4185927859.7,
            "count": 0
           },
           {
            "bin_end": 4185927859.9,
            "bin_start": 4185927859.8,
            "count": 0
           },
           {
            "bin_end": 4185927860,
            "bin_start": 4185927859.9,
            "count": 0
           },
           {
            "bin_end": 4185927860.1,
            "bin_start": 4185927860,
            "count": 1
           },
           {
            "bin_end": 4185927860.2,
            "bin_start": 4185927860.1,
            "count": 0
           },
           {
            "bin_end": 4185927860.3,
            "bin_start": 4185927860.2,
            "count": 0
           },
           {
            "bin_end": 4185927860.4,
            "bin_start": 4185927860.3,
            "count": 0
           },
           {
            "bin_end": 4185927860.5,
            "bin_start": 4185927860.4,
            "count": 0
           }
          ],
          "max": 4185927860,
          "min": 4185927860,
          "nan_count": 1,
          "unique_count": 1
         }
        },
        {
         "dtype": "float64",
         "name": "Street Length Average (m)",
         "stats": {
          "histogram": [
           {
            "bin_end": 122.27208279999999,
            "bin_start": 122.1720828,
            "count": 0
           },
           {
            "bin_end": 122.3720828,
            "bin_start": 122.27208279999999,
            "count": 0
           },
           {
            "bin_end": 122.4720828,
            "bin_start": 122.3720828,
            "count": 0
           },
           {
            "bin_end": 122.5720828,
            "bin_start": 122.4720828,
            "count": 0
           },
           {
            "bin_end": 122.6720828,
            "bin_start": 122.5720828,
            "count": 0
           },
           {
            "bin_end": 122.77208279999999,
            "bin_start": 122.6720828,
            "count": 1
           },
           {
            "bin_end": 122.8720828,
            "bin_start": 122.77208279999999,
            "count": 0
           },
           {
            "bin_end": 122.9720828,
            "bin_start": 122.8720828,
            "count": 0
           },
           {
            "bin_end": 123.0720828,
            "bin_start": 122.9720828,
            "count": 0
           },
           {
            "bin_end": 123.1720828,
            "bin_start": 123.0720828,
            "count": 0
           }
          ],
          "max": 122.6720828,
          "min": 122.6720828,
          "nan_count": 1,
          "unique_count": 1
         }
        },
        {
         "dtype": "float64",
         "name": "Intersection Count",
         "stats": {
          "histogram": [
           {
            "bin_end": 20704.6,
            "bin_start": 20704.5,
            "count": 0
           },
           {
            "bin_end": 20704.7,
            "bin_start": 20704.6,
            "count": 0
           },
           {
            "bin_end": 20704.8,
            "bin_start": 20704.7,
            "count": 0
           },
           {
            "bin_end": 20704.9,
            "bin_start": 20704.8,
            "count": 0
           },
           {
            "bin_end": 20705,
            "bin_start": 20704.9,
            "count": 0
           },
           {
            "bin_end": 20705.1,
            "bin_start": 20705,
            "count": 1
           },
           {
            "bin_end": 20705.2,
            "bin_start": 20705.1,
            "count": 0
           },
           {
            "bin_end": 20705.3,
            "bin_start": 20705.2,
            "count": 0
           },
           {
            "bin_end": 20705.4,
            "bin_start": 20705.3,
            "count": 0
           },
           {
            "bin_end": 20705.5,
            "bin_start": 20705.4,
            "count": 0
           }
          ],
          "max": 20705,
          "min": 20705,
          "nan_count": 1,
          "unique_count": 1
         }
        },
        {
         "dtype": "float64",
         "name": "Intersection Density (per sq. km)",
         "stats": {
          "histogram": [
           {
            "bin_end": 956.4421641,
            "bin_start": 956.3421641,
            "count": 0
           },
           {
            "bin_end": 956.5421641,
            "bin_start": 956.4421641,
            "count": 0
           },
           {
            "bin_end": 956.6421641,
            "bin_start": 956.5421641,
            "count": 0
           },
           {
            "bin_end": 956.7421641,
            "bin_start": 956.6421641,
            "count": 0
           },
           {
            "bin_end": 956.8421641,
            "bin_start": 956.7421641,
            "count": 0
           },
           {
            "bin_end": 956.9421641,
            "bin_start": 956.8421641,
            "count": 1
           },
           {
            "bin_end": 957.0421641,
            "bin_start": 956.9421641,
            "count": 0
           },
           {
            "bin_end": 957.1421641,
            "bin_start": 957.0421641,
            "count": 0
           },
           {
            "bin_end": 957.2421641,
            "bin_start": 957.1421641,
            "count": 0
           },
           {
            "bin_end": 957.3421641,
            "bin_start": 957.2421641,
            "count": 0
           }
          ],
          "max": 956.8421641,
          "min": 956.8421641,
          "nan_count": 1,
          "unique_count": 1
         }
        },
        {
         "dtype": "float64",
         "name": "Degree Average",
         "stats": {
          "histogram": [
           {
            "bin_end": 4.83096638,
            "bin_start": 4.73096638,
            "count": 0
           },
           {
            "bin_end": 4.93096638,
            "bin_start": 4.83096638,
            "count": 0
           },
           {
            "bin_end": 5.03096638,
            "bin_start": 4.93096638,
            "count": 0
           },
           {
            "bin_end": 5.13096638,
            "bin_start": 5.03096638,
            "count": 0
           },
           {
            "bin_end": 5.23096638,
            "bin_start": 5.13096638,
            "count": 0
           },
           {
            "bin_end": 5.33096638,
            "bin_start": 5.23096638,
            "count": 1
           },
           {
            "bin_end": 5.43096638,
            "bin_start": 5.33096638,
            "count": 0
           },
           {
            "bin_end": 5.53096638,
            "bin_start": 5.43096638,
            "count": 0
           },
           {
            "bin_end": 5.63096638,
            "bin_start": 5.53096638,
            "count": 0
           },
           {
            "bin_end": 5.73096638,
            "bin_start": 5.63096638,
            "count": 0
           }
          ],
          "max": 5.23096638,
          "min": 5.23096638,
          "nan_count": 1,
          "unique_count": 1
         }
        },
        {
         "dtype": "float64",
         "name": "Streets per Node",
         "stats": {
          "histogram": [
           {
            "bin_end": 2.288828584,
            "bin_start": 2.188828584,
            "count": 0
           },
           {
            "bin_end": 2.388828584,
            "bin_start": 2.288828584,
            "count": 0
           },
           {
            "bin_end": 2.488828584,
            "bin_start": 2.388828584,
            "count": 0
           },
           {
            "bin_end": 2.588828584,
            "bin_start": 2.488828584,
            "count": 0
           },
           {
            "bin_end": 2.688828584,
            "bin_start": 2.588828584,
            "count": 0
           },
           {
            "bin_end": 2.788828584,
            "bin_start": 2.688828584,
            "count": 1
           },
           {
            "bin_end": 2.888828584,
            "bin_start": 2.788828584,
            "count": 0
           },
           {
            "bin_end": 2.988828584,
            "bin_start": 2.888828584,
            "count": 0
           },
           {
            "bin_end": 3.088828584,
            "bin_start": 2.988828584,
            "count": 0
           },
           {
            "bin_end": 3.188828584,
            "bin_start": 3.088828584,
            "count": 0
           }
          ],
          "max": 2.688828584,
          "min": 2.688828584,
          "nan_count": 1,
          "unique_count": 1
         }
        },
        {
         "dtype": "float64",
         "name": "Circuity",
         "stats": {
          "histogram": [
           {
            "bin_end": 0.6436630170000001,
            "bin_start": 0.5436630170000001,
            "count": 0
           },
           {
            "bin_end": 0.743663017,
            "bin_start": 0.6436630170000001,
            "count": 0
           },
           {
            "bin_end": 0.8436630170000001,
            "bin_start": 0.743663017,
            "count": 0
           },
           {
            "bin_end": 0.9436630170000001,
            "bin_start": 0.8436630170000001,
            "count": 0
           },
           {
            "bin_end": 1.043663017,
            "bin_start": 0.9436630170000001,
            "count": 0
           },
           {
            "bin_end": 1.1436630170000002,
            "bin_start": 1.043663017,
            "count": 1
           },
           {
            "bin_end": 1.2436630170000003,
            "bin_start": 1.1436630170000002,
            "count": 0
           },
           {
            "bin_end": 1.3436630170000001,
            "bin_start": 1.2436630170000003,
            "count": 0
           },
           {
            "bin_end": 1.443663017,
            "bin_start": 1.3436630170000001,
            "count": 0
           },
           {
            "bin_end": 1.543663017,
            "bin_start": 1.443663017,
            "count": 0
           }
          ],
          "max": 1.043663017,
          "min": 1.043663017,
          "nan_count": 1,
          "unique_count": 1
         }
        },
        {
         "dtype": "float64",
         "name": "Self-Loop Proportion",
         "stats": {
          "histogram": [
           {
            "bin_end": -0.39922183499999997,
            "bin_start": -0.499221835,
            "count": 0
           },
           {
            "bin_end": -0.299221835,
            "bin_start": -0.39922183499999997,
            "count": 0
           },
           {
            "bin_end": -0.19922183499999996,
            "bin_start": -0.299221835,
            "count": 0
           },
           {
            "bin_end": -0.09922183499999998,
            "bin_start": -0.19922183499999996,
            "count": 0
           },
           {
            "bin_end": 0.0007781649999999973,
            "bin_start": -0.09922183499999998,
            "count": 0
           },
           {
            "bin_end": 0.10077816500000009,
            "bin_start": 0.0007781649999999973,
            "count": 1
           },
           {
            "bin_end": 0.20077816500000006,
            "bin_start": 0.10077816500000009,
            "count": 0
           },
           {
            "bin_end": 0.30077816500000004,
            "bin_start": 0.20077816500000006,
            "count": 0
           },
           {
            "bin_end": 0.400778165,
            "bin_start": 0.30077816500000004,
            "count": 0
           },
           {
            "bin_end": 0.500778165,
            "bin_start": 0.400778165,
            "count": 0
           }
          ],
          "max": 0.000778165,
          "min": 0.000778165,
          "nan_count": 1,
          "unique_count": 1
         }
        },
        {
         "dtype": "float64",
         "name": "Highway Proportion",
         "stats": {
          "histogram": [
           {
            "bin_end": -0.4,
            "bin_start": -0.5,
            "count": 0
           },
           {
            "bin_end": -0.3,
            "bin_start": -0.4,
            "count": 0
           },
           {
            "bin_end": -0.19999999999999996,
            "bin_start": -0.3,
            "count": 0
           },
           {
            "bin_end": -0.09999999999999998,
            "bin_start": -0.19999999999999996,
            "count": 0
           },
           {
            "bin_end": 0,
            "bin_start": -0.09999999999999998,
            "count": 0
           },
           {
            "bin_end": 0.10000000000000009,
            "bin_start": 0,
            "count": 1
           },
           {
            "bin_end": 0.20000000000000007,
            "bin_start": 0.10000000000000009,
            "count": 0
           },
           {
            "bin_end": 0.30000000000000004,
            "bin_start": 0.20000000000000007,
            "count": 0
           },
           {
            "bin_end": 0.4,
            "bin_start": 0.30000000000000004,
            "count": 0
           },
           {
            "bin_end": 0.5,
            "bin_start": 0.4,
            "count": 0
           }
          ],
          "max": 0,
          "min": 0,
          "nan_count": 1,
          "unique_count": 1
         }
        },
        {
         "dtype": "float64",
         "name": "Metro Propensity Factor",
         "stats": {
          "histogram": [
           {
            "bin_end": 0.08419516015,
            "bin_start": 0.079424504,
            "count": 1
           },
           {
            "bin_end": 0.0889658163,
            "bin_start": 0.08419516015,
            "count": 0
           },
           {
            "bin_end": 0.09373647245,
            "bin_start": 0.0889658163,
            "count": 0
           },
           {
            "bin_end": 0.09850712860000001,
            "bin_start": 0.09373647245,
            "count": 0
           },
           {
            "bin_end": 0.10327778475,
            "bin_start": 0.09850712860000001,
            "count": 0
           },
           {
            "bin_end": 0.1080484409,
            "bin_start": 0.10327778475,
            "count": 0
           },
           {
            "bin_end": 0.11281909705000001,
            "bin_start": 0.1080484409,
            "count": 0
           },
           {
            "bin_end": 0.11758975320000001,
            "bin_start": 0.11281909705000001,
            "count": 0
           },
           {
            "bin_end": 0.12236040935,
            "bin_start": 0.11758975320000001,
            "count": 0
           },
           {
            "bin_end": 0.1271310655,
            "bin_start": 0.12236040935,
            "count": 1
           }
          ],
          "max": 0.1271310655,
          "min": 0.079424504,
          "nan_count": 0,
          "unique_count": 2
         }
        },
        {
         "dtype": "float64",
         "name": "BRT Propensity Factor",
         "stats": {
          "histogram": [
           {
            "bin_end": 0.01903854418,
            "bin_start": 0.0120674884,
            "count": 1
           },
           {
            "bin_end": 0.026009599959999997,
            "bin_start": 0.01903854418,
            "count": 0
           },
           {
            "bin_end": 0.032980655739999996,
            "bin_start": 0.026009599959999997,
            "count": 0
           },
           {
            "bin_end": 0.039951711519999995,
            "bin_start": 0.032980655739999996,
            "count": 0
           },
           {
            "bin_end": 0.046922767299999994,
            "bin_start": 0.039951711519999995,
            "count": 0
           },
           {
            "bin_end": 0.05389382307999999,
            "bin_start": 0.046922767299999994,
            "count": 0
           },
           {
            "bin_end": 0.06086487885999999,
            "bin_start": 0.05389382307999999,
            "count": 0
           },
           {
            "bin_end": 0.06783593463999998,
            "bin_start": 0.06086487885999999,
            "count": 0
           },
           {
            "bin_end": 0.07480699042,
            "bin_start": 0.06783593463999998,
            "count": 0
           },
           {
            "bin_end": 0.0817780462,
            "bin_start": 0.07480699042,
            "count": 1
           }
          ],
          "max": 0.0817780462,
          "min": 0.0120674884,
          "nan_count": 0,
          "unique_count": 2
         }
        },
        {
         "dtype": "float64",
         "name": "BikeShare Propensity Factor",
         "stats": {
          "histogram": [
           {
            "bin_end": 0.37379601464,
            "bin_start": 0.373602215,
            "count": 1
           },
           {
            "bin_end": 0.37398981428,
            "bin_start": 0.37379601464,
            "count": 0
           },
           {
            "bin_end": 0.37418361392,
            "bin_start": 0.37398981428,
            "count": 0
           },
           {
            "bin_end": 0.37437741356,
            "bin_start": 0.37418361392,
            "count": 0
           },
           {
            "bin_end": 0.3745712132,
            "bin_start": 0.37437741356,
            "count": 0
           },
           {
            "bin_end": 0.37476501284,
            "bin_start": 0.3745712132,
            "count": 0
           },
           {
            "bin_end": 0.37495881248,
            "bin_start": 0.37476501284,
            "count": 0
           },
           {
            "bin_end": 0.37515261212,
            "bin_start": 0.37495881248,
            "count": 0
           },
           {
            "bin_end": 0.37534641176,
            "bin_start": 0.37515261212,
            "count": 0
           },
           {
            "bin_end": 0.3755402114,
            "bin_start": 0.37534641176,
            "count": 1
           }
          ],
          "max": 0.3755402114,
          "min": 0.373602215,
          "nan_count": 0,
          "unique_count": 2
         }
        },
        {
         "dtype": "float64",
         "name": "Development Factor",
         "stats": {
          "histogram": [
           {
            "bin_end": 0.03844696568,
            "bin_start": 0.0295605759,
            "count": 1
           },
           {
            "bin_end": 0.047333355460000004,
            "bin_start": 0.03844696568,
            "count": 0
           },
           {
            "bin_end": 0.05621974524,
            "bin_start": 0.047333355460000004,
            "count": 0
           },
           {
            "bin_end": 0.06510613502,
            "bin_start": 0.05621974524,
            "count": 0
           },
           {
            "bin_end": 0.0739925248,
            "bin_start": 0.06510613502,
            "count": 0
           },
           {
            "bin_end": 0.08287891458,
            "bin_start": 0.0739925248,
            "count": 0
           },
           {
            "bin_end": 0.09176530436,
            "bin_start": 0.08287891458,
            "count": 0
           },
           {
            "bin_end": 0.10065169414,
            "bin_start": 0.09176530436,
            "count": 0
           },
           {
            "bin_end": 0.10953808392,
            "bin_start": 0.10065169414,
            "count": 0
           },
           {
            "bin_end": 0.1184244737,
            "bin_start": 0.10953808392,
            "count": 1
           }
          ],
          "max": 0.1184244737,
          "min": 0.0295605759,
          "nan_count": 0,
          "unique_count": 2
         }
        },
        {
         "dtype": "float64",
         "name": "Sustainability Factor",
         "stats": {
          "histogram": [
           {
            "bin_end": 0.23379740336,
            "bin_start": 0.2214708641,
            "count": 1
           },
           {
            "bin_end": 0.24612394262,
            "bin_start": 0.23379740336,
            "count": 0
           },
           {
            "bin_end": 0.25845048187999997,
            "bin_start": 0.24612394262,
            "count": 0
           },
           {
            "bin_end": 0.27077702114,
            "bin_start": 0.25845048187999997,
            "count": 0
           },
           {
            "bin_end": 0.2831035604,
            "bin_start": 0.27077702114,
            "count": 0
           },
           {
            "bin_end": 0.29543009966,
            "bin_start": 0.2831035604,
            "count": 0
           },
           {
            "bin_end": 0.30775663892,
            "bin_start": 0.29543009966,
            "count": 0
           },
           {
            "bin_end": 0.32008317818,
            "bin_start": 0.30775663892,
            "count": 0
           },
           {
            "bin_end": 0.33240971744000003,
            "bin_start": 0.32008317818,
            "count": 0
           },
           {
            "bin_end": 0.3447362567,
            "bin_start": 0.33240971744000003,
            "count": 1
           }
          ],
          "max": 0.3447362567,
          "min": 0.2214708641,
          "nan_count": 0,
          "unique_count": 2
         }
        },
        {
         "dtype": "float64",
         "name": "Population Factor",
         "stats": {
          "histogram": [
           {
            "bin_end": 0.18690799350999998,
            "bin_start": 0.1732013253,
            "count": 1
           },
           {
            "bin_end": 0.20061466171999998,
            "bin_start": 0.18690799350999998,
            "count": 0
           },
           {
            "bin_end": 0.21432132992999997,
            "bin_start": 0.20061466171999998,
            "count": 0
           },
           {
            "bin_end": 0.22802799814,
            "bin_start": 0.21432132992999997,
            "count": 0
           },
           {
            "bin_end": 0.24173466635,
            "bin_start": 0.22802799814,
            "count": 0
           },
           {
            "bin_end": 0.25544133455999996,
            "bin_start": 0.24173466635,
            "count": 0
           },
           {
            "bin_end": 0.26914800277,
            "bin_start": 0.25544133455999996,
            "count": 0
           },
           {
            "bin_end": 0.28285467098,
            "bin_start": 0.26914800277,
            "count": 0
           },
           {
            "bin_end": 0.29656133919,
            "bin_start": 0.28285467098,
            "count": 0
           },
           {
            "bin_end": 0.3102680074,
            "bin_start": 0.29656133919,
            "count": 1
           }
          ],
          "max": 0.3102680074,
          "min": 0.1732013253,
          "nan_count": 0,
          "unique_count": 2
         }
        },
        {
         "dtype": "float64",
         "name": "Congestion Factor",
         "stats": {
          "histogram": [
           {
            "bin_end": 0.6612760765,
            "bin_start": 0.6561638851,
            "count": 1
           },
           {
            "bin_end": 0.6663882679,
            "bin_start": 0.6612760765,
            "count": 0
           },
           {
            "bin_end": 0.6715004593,
            "bin_start": 0.6663882679,
            "count": 0
           },
           {
            "bin_end": 0.6766126507,
            "bin_start": 0.6715004593,
            "count": 0
           },
           {
            "bin_end": 0.6817248421,
            "bin_start": 0.6766126507,
            "count": 0
           },
           {
            "bin_end": 0.6868370335,
            "bin_start": 0.6817248421,
            "count": 0
           },
           {
            "bin_end": 0.6919492249,
            "bin_start": 0.6868370335,
            "count": 0
           },
           {
            "bin_end": 0.6970614163,
            "bin_start": 0.6919492249,
            "count": 0
           },
           {
            "bin_end": 0.7021736077,
            "bin_start": 0.6970614163,
            "count": 0
           },
           {
            "bin_end": 0.7072857991,
            "bin_start": 0.7021736077,
            "count": 1
           }
          ],
          "max": 0.7072857991,
          "min": 0.6561638851,
          "nan_count": 0,
          "unique_count": 2
         }
        },
        {
         "dtype": "float64",
         "name": "Sprawl Factor",
         "stats": {
          "histogram": [
           {
            "bin_end": 0.24662826721,
            "bin_start": 0.2118236355,
            "count": 1
           },
           {
            "bin_end": 0.28143289892,
            "bin_start": 0.24662826721,
            "count": 0
           },
           {
            "bin_end": 0.31623753063000004,
            "bin_start": 0.28143289892,
            "count": 0
           },
           {
            "bin_end": 0.35104216234,
            "bin_start": 0.31623753063000004,
            "count": 0
           },
           {
            "bin_end": 0.38584679405,
            "bin_start": 0.35104216234,
            "count": 0
           },
           {
            "bin_end": 0.42065142576000003,
            "bin_start": 0.38584679405,
            "count": 0
           },
           {
            "bin_end": 0.45545605747000006,
            "bin_start": 0.42065142576000003,
            "count": 0
           },
           {
            "bin_end": 0.49026068918000004,
            "bin_start": 0.45545605747000006,
            "count": 0
           },
           {
            "bin_end": 0.52506532089,
            "bin_start": 0.49026068918000004,
            "count": 0
           },
           {
            "bin_end": 0.5598699526,
            "bin_start": 0.52506532089,
            "count": 1
           }
          ],
          "max": 0.5598699526,
          "min": 0.2118236355,
          "nan_count": 0,
          "unique_count": 2
         }
        },
        {
         "dtype": "float64",
         "name": "Network Density Factor",
         "stats": {
          "histogram": [
           {
            "bin_end": 0.33560051335,
            "bin_start": 0.3305749841,
            "count": 1
           },
           {
            "bin_end": 0.3406260426,
            "bin_start": 0.33560051335,
            "count": 0
           },
           {
            "bin_end": 0.34565157185,
            "bin_start": 0.3406260426,
            "count": 0
           },
           {
            "bin_end": 0.3506771011,
            "bin_start": 0.34565157185,
            "count": 0
           },
           {
            "bin_end": 0.35570263035000005,
            "bin_start": 0.3506771011,
            "count": 0
           },
           {
            "bin_end": 0.36072815960000004,
            "bin_start": 0.35570263035000005,
            "count": 0
           },
           {
            "bin_end": 0.36575368885000004,
            "bin_start": 0.36072815960000004,
            "count": 0
           },
           {
            "bin_end": 0.37077921810000003,
            "bin_start": 0.36575368885000004,
            "count": 0
           },
           {
            "bin_end": 0.37580474735,
            "bin_start": 0.37077921810000003,
            "count": 0
           },
           {
            "bin_end": 0.3808302766,
            "bin_start": 0.37580474735,
            "count": 1
           }
          ],
          "max": 0.3808302766,
          "min": 0.3305749841,
          "nan_count": 0,
          "unique_count": 2
         }
        },
        {
         "dtype": "int64",
         "name": "_deepnote_index_column"
        }
       ],
       "row_count": 2,
       "rows_bottom": null,
       "rows_top": [
        {
         "BRT Age (years)": 0,
         "BRT Annual Ridership per Capita": 0,
         "BRT Fleet per Hundred Thousand Persons": 0,
         "BRT Length (km)": 0,
         "BRT Propensity Factor": 0.0120674884,
         "BRT Stations per Hundred Thousand Persons": 0,
         "BRT System Length Density (per km)": 0,
         "Bicycle Modeshare (%)": 0,
         "BikeShare Propensity Factor": 0.373602215,
         "Bikeshare Age (years)": 0,
         "Bikeshare Bicycles per Hundred Thousand Persons": 0,
         "Bikeshare Number of Bikes": 0,
         "Bikeshare Stations": 0,
         "Bikeshare Stations per Hundred Thousand Persons": 0,
         "CO2 Emissions per Capita (metric tonnes)": 0.693183411,
         "Car Modeshare (%)": 17.7,
         "Circuity": 1.043663017,
         "City": "Kabul",
         "Congestion (%)": "nan",
         "Congestion AM Peak (%)": "nan",
         "Congestion Factor": 0.7072857991,
         "Congestion PM Peak (%)": "nan",
         "Cost of Living Index": "nan",
         "Country": "Afghanistan",
         "Degree Average": 5.23096638,
         "Development Factor": 0.0295605759,
         "Digital Penetration": "nan",
         "GDP per Capita (USD)": 617.9,
         "Gasoline Pump Price (USD/liter)": 0.65,
         "Gini Coefficient": 0.29,
         "Grocery Index": "nan",
         "Highway Proportion": 0,
         "Inefficiency Index": "nan",
         "Innovation Index": "nan",
         "Internet Penetration": 12.3,
         "Intersection Count": 20705,
         "Intersection Density (per sq. km)": 956.8421641,
         "Land Area (sq. km)": 259,
         "Life Expectancy (years)": 60.5,
         "Local Purchasing Power Index": "nan",
         "Metro Propensity Factor": 0.079424504,
         "Network Density Factor": 0.3305749841,
         "Pollution Index ": 104.2,
         "Population": 3650000,
         "Population Change 1990 – 2000": 631001,
         "Population Change 2000 – 2010": 1088568,
         "Population Change 2010 – 2020": 1083559,
         "Population Change 2020 – 2025": 990357,
         "Population Density (per sq. km)": 14100,
         "Population Factor": 0.3102680074,
         "Poverty Rate (%)": 27.6,
         "Public Transit Modeshare (%)": 49.6,
         "Rent Index": "nan",
         "Restaurant Price Index": "nan",
         "Road Deaths Rate (per 1000)": 15.5,
         "Safety Index": "nan",
         "Self-Loop Proportion": 0.000778165,
         "Smartphone Penetration (%)": "nan",
         "Sprawl Factor": 0.2118236355,
         "Street Length Average (m)": 122.6720828,
         "Street Length Density (m/sq. km)": 4185927860,
         "Street length total (m)": 4374731.818,
         "Streets per Node": 2.688828584,
         "Subway Age (years)": 0,
         "Subway Length (km)": 0,
         "Subway Length Density (per km)": 0,
         "Subway Ridership per Capita": 0,
         "Subway Stations per Hundred Thousand": 0,
         "Sustainability Factor": 0.2214708641,
         "Traffic Index": "nan",
         "Travel Time Index": "nan",
         "Typology": "Congested Emerging",
         "Unemployment Rate (%)": 38,
         "Urbanization Rate 2015 (%)": 26.7,
         "Urbanization Rate Change 2015 – 2025 (pp)": 4.7,
         "Walking Modeshare (%)": 32.7,
         "_deepnote_index_column": 0,
         "cityID": 1,
         "clusterID": 1
        },
        {
         "BRT Age (years)": 0,
         "BRT Annual Ridership per Capita": 0,
         "BRT Fleet per Hundred Thousand Persons": 0,
         "BRT Length (km)": 0,
         "BRT Propensity Factor": 0.0817780462,
         "BRT Stations per Hundred Thousand Persons": 0,
         "BRT System Length Density (per km)": 0,
         "Bicycle Modeshare (%)": "nan",
         "BikeShare Propensity Factor": 0.3755402114,
         "Bikeshare Age (years)": 0,
         "Bikeshare Bicycles per Hundred Thousand Persons": 0,
         "Bikeshare Number of Bikes": 0,
         "Bikeshare Stations": 0,
         "Bikeshare Stations per Hundred Thousand Persons": 0,
         "CO2 Emissions per Capita (metric tonnes)": 3.51478009,
         "Car Modeshare (%)": 12.8,
         "Circuity": "nan",
         "City": "Algiers",
         "Congestion (%)": "nan",
         "Congestion AM Peak (%)": "nan",
         "Congestion Factor": 0.6561638851,
         "Congestion PM Peak (%)": "nan",
         "Cost of Living Index": 34.98,
         "Country": "Algeria",
         "Degree Average": "nan",
         "Development Factor": 0.1184244737,
         "Digital Penetration": 0.37,
         "GDP per Capita (USD)": 4827.7,
         "Gasoline Pump Price (USD/liter)": 0.37,
         "Gini Coefficient": 0.37,
         "Grocery Index": 34.96,
         "Highway Proportion": "nan",
         "Inefficiency Index": "nan",
         "Innovation Index": 28,
         "Internet Penetration": 37.3,
         "Intersection Count": "nan",
         "Intersection Density (per sq. km)": "nan",
         "Land Area (sq. km)": 440,
         "Life Expectancy (years)": 75.6,
         "Local Purchasing Power Index": 39.57,
         "Metro Propensity Factor": 0.1271310655,
         "Network Density Factor": 0.3808302766,
         "Pollution Index ": 74.18,
         "Population": 3675000,
         "Population Change 1990 – 2000": 458131,
         "Population Change 2000 – 2010": 573311,
         "Population Change 2010 – 2020": 756928,
         "Population Change 2020 – 2025": 368897,
         "Population Density (per sq. km)": 8300,
         "Population Factor": 0.1732013253,
         "Poverty Rate (%)": "nan",
         "Public Transit Modeshare (%)": 28.7,
         "Rent Index": 10.09,
         "Restaurant Price Index": 26.43,
         "Road Deaths Rate (per 1000)": 23.8,
         "Safety Index": 52.52,
         "Self-Loop Proportion": "nan",
         "Smartphone Penetration (%)": "nan",
         "Sprawl Factor": 0.5598699526,
         "Street Length Average (m)": "nan",
         "Street Length Density (m/sq. km)": "nan",
         "Street length total (m)": "nan",
         "Streets per Node": "nan",
         "Subway Age (years)": 6,
         "Subway Length (km)": 13.5,
         "Subway Length Density (per km)": 0.030681818,
         "Subway Ridership per Capita": 4.353741497,
         "Subway Stations per Hundred Thousand": 0.380952381,
         "Sustainability Factor": 0.3447362567,
         "Traffic Index": "nan",
         "Travel Time Index": "nan",
         "Typology": "Congested Emerging",
         "Unemployment Rate (%)": 10,
         "Urbanization Rate 2015 (%)": 70.7,
         "Urbanization Rate Change 2015 – 2025 (pp)": 4.9,
         "Walking Modeshare (%)": 55.8,
         "_deepnote_index_column": 1,
         "cityID": 2,
         "clusterID": 1
        }
       ]
      },
      "text/html": [
       "<div>\n",
       "<style scoped>\n",
       "    .dataframe tbody tr th:only-of-type {\n",
       "        vertical-align: middle;\n",
       "    }\n",
       "\n",
       "    .dataframe tbody tr th {\n",
       "        vertical-align: top;\n",
       "    }\n",
       "\n",
       "    .dataframe thead th {\n",
       "        text-align: right;\n",
       "    }\n",
       "</style>\n",
       "<table border=\"1\" class=\"dataframe\">\n",
       "  <thead>\n",
       "    <tr style=\"text-align: right;\">\n",
       "      <th></th>\n",
       "      <th>City</th>\n",
       "      <th>cityID</th>\n",
       "      <th>clusterID</th>\n",
       "      <th>Typology</th>\n",
       "      <th>Country</th>\n",
       "      <th>Car Modeshare (%)</th>\n",
       "      <th>Public Transit Modeshare (%)</th>\n",
       "      <th>Bicycle Modeshare (%)</th>\n",
       "      <th>Walking Modeshare (%)</th>\n",
       "      <th>Gasoline Pump Price (USD/liter)</th>\n",
       "      <th>...</th>\n",
       "      <th>Highway Proportion</th>\n",
       "      <th>Metro Propensity Factor</th>\n",
       "      <th>BRT Propensity Factor</th>\n",
       "      <th>BikeShare Propensity Factor</th>\n",
       "      <th>Development Factor</th>\n",
       "      <th>Sustainability Factor</th>\n",
       "      <th>Population Factor</th>\n",
       "      <th>Congestion Factor</th>\n",
       "      <th>Sprawl Factor</th>\n",
       "      <th>Network Density Factor</th>\n",
       "    </tr>\n",
       "  </thead>\n",
       "  <tbody>\n",
       "    <tr>\n",
       "      <th>0</th>\n",
       "      <td>Kabul</td>\n",
       "      <td>1</td>\n",
       "      <td>1</td>\n",
       "      <td>Congested Emerging</td>\n",
       "      <td>Afghanistan</td>\n",
       "      <td>17.7</td>\n",
       "      <td>49.6</td>\n",
       "      <td>0</td>\n",
       "      <td>32.7</td>\n",
       "      <td>0.65</td>\n",
       "      <td>...</td>\n",
       "      <td>0.0</td>\n",
       "      <td>0.079425</td>\n",
       "      <td>0.012067</td>\n",
       "      <td>0.373602</td>\n",
       "      <td>0.029561</td>\n",
       "      <td>0.221471</td>\n",
       "      <td>0.310268</td>\n",
       "      <td>0.707286</td>\n",
       "      <td>0.211824</td>\n",
       "      <td>0.330575</td>\n",
       "    </tr>\n",
       "    <tr>\n",
       "      <th>1</th>\n",
       "      <td>Algiers</td>\n",
       "      <td>2</td>\n",
       "      <td>1</td>\n",
       "      <td>Congested Emerging</td>\n",
       "      <td>Algeria</td>\n",
       "      <td>12.8</td>\n",
       "      <td>28.7</td>\n",
       "      <td>NaN</td>\n",
       "      <td>55.8</td>\n",
       "      <td>0.37</td>\n",
       "      <td>...</td>\n",
       "      <td>NaN</td>\n",
       "      <td>0.127131</td>\n",
       "      <td>0.081778</td>\n",
       "      <td>0.375540</td>\n",
       "      <td>0.118424</td>\n",
       "      <td>0.344736</td>\n",
       "      <td>0.173201</td>\n",
       "      <td>0.656164</td>\n",
       "      <td>0.559870</td>\n",
       "      <td>0.380830</td>\n",
       "    </tr>\n",
       "  </tbody>\n",
       "</table>\n",
       "<p>2 rows × 78 columns</p>\n",
       "</div>"
      ],
      "text/plain": [
       "      City  cityID  clusterID            Typology      Country  \\\n",
       "0    Kabul       1          1  Congested Emerging  Afghanistan   \n",
       "1  Algiers       2          1  Congested Emerging      Algeria   \n",
       "\n",
       "   Car Modeshare (%)  Public Transit Modeshare (%) Bicycle Modeshare (%)  \\\n",
       "0               17.7                          49.6                     0   \n",
       "1               12.8                          28.7                   NaN   \n",
       "\n",
       "   Walking Modeshare (%)  Gasoline Pump Price (USD/liter)  ...  \\\n",
       "0                   32.7                             0.65  ...   \n",
       "1                   55.8                             0.37  ...   \n",
       "\n",
       "   Highway Proportion  Metro Propensity Factor  BRT Propensity Factor  \\\n",
       "0                 0.0                 0.079425               0.012067   \n",
       "1                 NaN                 0.127131               0.081778   \n",
       "\n",
       "   BikeShare Propensity Factor  Development Factor  Sustainability Factor  \\\n",
       "0                     0.373602            0.029561               0.221471   \n",
       "1                     0.375540            0.118424               0.344736   \n",
       "\n",
       "   Population Factor  Congestion Factor  Sprawl Factor  Network Density Factor  \n",
       "0           0.310268           0.707286       0.211824                0.330575  \n",
       "1           0.173201           0.656164       0.559870                0.380830  \n",
       "\n",
       "[2 rows x 78 columns]"
      ]
     },
     "execution_count": 57,
     "metadata": {},
     "output_type": "execute_result"
    }
   ],
   "source": [
    "df.head(2)"
   ]
  },
  {
   "cell_type": "code",
   "execution_count": 58,
   "metadata": {
    "cell_id": "00006-ede462c3-e36e-4f0c-ba1c-ade45b97ca9e",
    "deepnote_cell_type": "code",
    "execution_millis": 2,
    "execution_start": 1607205925706,
    "output_cleared": false,
    "source_hash": "cfbcbbef",
    "tags": []
   },
   "outputs": [],
   "source": [
    "fuel=fuel.dropna(axis=0)\n",
    "fuel.head(5)\n",
    "Fuel=fuel[fuel.Year==2019]\n",
    "Fuel=Fuel.rename(columns={\"Entity\":\"Country\"})"
   ]
  },
  {
   "cell_type": "code",
   "execution_count": 59,
   "metadata": {
    "cell_id": "00007-fb5f83a5-afda-4aac-9025-eae008c0a277",
    "deepnote_cell_type": "code",
    "execution_millis": 3,
    "execution_start": 1607205925716,
    "output_cleared": false,
    "source_hash": "47f8499b",
    "tags": []
   },
   "outputs": [],
   "source": [
    "mergedDf=pd.merge(df, Fuel, how='left', on=\"Country\")"
   ]
  },
  {
   "cell_type": "code",
   "execution_count": 60,
   "metadata": {
    "cell_id": "00008-c40c9e20-be0f-4f43-b6ad-d1e2d2c87de8",
    "deepnote_cell_type": "code",
    "execution_millis": 199,
    "execution_start": 1607205925845,
    "output_cleared": false,
    "source_hash": "2c897a0",
    "tags": []
   },
   "outputs": [
    {
     "data": {
      "application/vnd.deepnote.dataframe.v2+json": {
       "column_count": 81,
       "columns": [
        {
         "dtype": "object",
         "name": "City",
         "stats": {
          "categories": [
           {
            "count": 1,
            "name": "Kabul"
           }
          ],
          "nan_count": 0,
          "unique_count": 1
         }
        },
        {
         "dtype": "int64",
         "name": "cityID",
         "stats": {
          "histogram": [
           {
            "bin_end": 0.6,
            "bin_start": 0.5,
            "count": 0
           },
           {
            "bin_end": 0.7,
            "bin_start": 0.6,
            "count": 0
           },
           {
            "bin_end": 0.8,
            "bin_start": 0.7,
            "count": 0
           },
           {
            "bin_end": 0.9,
            "bin_start": 0.8,
            "count": 0
           },
           {
            "bin_end": 1,
            "bin_start": 0.9,
            "count": 0
           },
           {
            "bin_end": 1.1,
            "bin_start": 1,
            "count": 1
           },
           {
            "bin_end": 1.2000000000000002,
            "bin_start": 1.1,
            "count": 0
           },
           {
            "bin_end": 1.3,
            "bin_start": 1.2000000000000002,
            "count": 0
           },
           {
            "bin_end": 1.4,
            "bin_start": 1.3,
            "count": 0
           },
           {
            "bin_end": 1.5,
            "bin_start": 1.4,
            "count": 0
           }
          ],
          "max": 1,
          "min": 1,
          "nan_count": 0,
          "unique_count": 1
         }
        },
        {
         "dtype": "int64",
         "name": "clusterID",
         "stats": {
          "histogram": [
           {
            "bin_end": 0.6,
            "bin_start": 0.5,
            "count": 0
           },
           {
            "bin_end": 0.7,
            "bin_start": 0.6,
            "count": 0
           },
           {
            "bin_end": 0.8,
            "bin_start": 0.7,
            "count": 0
           },
           {
            "bin_end": 0.9,
            "bin_start": 0.8,
            "count": 0
           },
           {
            "bin_end": 1,
            "bin_start": 0.9,
            "count": 0
           },
           {
            "bin_end": 1.1,
            "bin_start": 1,
            "count": 1
           },
           {
            "bin_end": 1.2000000000000002,
            "bin_start": 1.1,
            "count": 0
           },
           {
            "bin_end": 1.3,
            "bin_start": 1.2000000000000002,
            "count": 0
           },
           {
            "bin_end": 1.4,
            "bin_start": 1.3,
            "count": 0
           },
           {
            "bin_end": 1.5,
            "bin_start": 1.4,
            "count": 0
           }
          ],
          "max": 1,
          "min": 1,
          "nan_count": 0,
          "unique_count": 1
         }
        },
        {
         "dtype": "object",
         "name": "Typology",
         "stats": {
          "categories": [
           {
            "count": 1,
            "name": "Congested Emerging"
           }
          ],
          "nan_count": 0,
          "unique_count": 1
         }
        },
        {
         "dtype": "object",
         "name": "Country",
         "stats": {
          "categories": [
           {
            "count": 1,
            "name": "Afghanistan"
           }
          ],
          "nan_count": 0,
          "unique_count": 1
         }
        },
        {
         "dtype": "float64",
         "name": "Car Modeshare (%)",
         "stats": {
          "histogram": [
           {
            "bin_end": 17.3,
            "bin_start": 17.2,
            "count": 0
           },
           {
            "bin_end": 17.4,
            "bin_start": 17.3,
            "count": 0
           },
           {
            "bin_end": 17.5,
            "bin_start": 17.4,
            "count": 0
           },
           {
            "bin_end": 17.599999999999998,
            "bin_start": 17.5,
            "count": 0
           },
           {
            "bin_end": 17.7,
            "bin_start": 17.599999999999998,
            "count": 0
           },
           {
            "bin_end": 17.8,
            "bin_start": 17.7,
            "count": 1
           },
           {
            "bin_end": 17.9,
            "bin_start": 17.8,
            "count": 0
           },
           {
            "bin_end": 18,
            "bin_start": 17.9,
            "count": 0
           },
           {
            "bin_end": 18.099999999999998,
            "bin_start": 18,
            "count": 0
           },
           {
            "bin_end": 18.2,
            "bin_start": 18.099999999999998,
            "count": 0
           }
          ],
          "max": 17.7,
          "min": 17.7,
          "nan_count": 0,
          "unique_count": 1
         }
        },
        {
         "dtype": "float64",
         "name": "Public Transit Modeshare (%)",
         "stats": {
          "histogram": [
           {
            "bin_end": 49.2,
            "bin_start": 49.1,
            "count": 0
           },
           {
            "bin_end": 49.300000000000004,
            "bin_start": 49.2,
            "count": 0
           },
           {
            "bin_end": 49.4,
            "bin_start": 49.300000000000004,
            "count": 0
           },
           {
            "bin_end": 49.5,
            "bin_start": 49.4,
            "count": 0
           },
           {
            "bin_end": 49.6,
            "bin_start": 49.5,
            "count": 0
           },
           {
            "bin_end": 49.7,
            "bin_start": 49.6,
            "count": 1
           },
           {
            "bin_end": 49.800000000000004,
            "bin_start": 49.7,
            "count": 0
           },
           {
            "bin_end": 49.9,
            "bin_start": 49.800000000000004,
            "count": 0
           },
           {
            "bin_end": 50,
            "bin_start": 49.9,
            "count": 0
           },
           {
            "bin_end": 50.1,
            "bin_start": 50,
            "count": 0
           }
          ],
          "max": 49.6,
          "min": 49.6,
          "nan_count": 0,
          "unique_count": 1
         }
        },
        {
         "dtype": "object",
         "name": "Bicycle Modeshare (%)",
         "stats": {
          "categories": [
           {
            "count": 1,
            "name": "0"
           }
          ],
          "nan_count": 0,
          "unique_count": 1
         }
        },
        {
         "dtype": "float64",
         "name": "Walking Modeshare (%)",
         "stats": {
          "histogram": [
           {
            "bin_end": 32.300000000000004,
            "bin_start": 32.2,
            "count": 0
           },
           {
            "bin_end": 32.400000000000006,
            "bin_start": 32.300000000000004,
            "count": 0
           },
           {
            "bin_end": 32.5,
            "bin_start": 32.400000000000006,
            "count": 0
           },
           {
            "bin_end": 32.6,
            "bin_start": 32.5,
            "count": 0
           },
           {
            "bin_end": 32.7,
            "bin_start": 32.6,
            "count": 0
           },
           {
            "bin_end": 32.800000000000004,
            "bin_start": 32.7,
            "count": 1
           },
           {
            "bin_end": 32.900000000000006,
            "bin_start": 32.800000000000004,
            "count": 0
           },
           {
            "bin_end": 33,
            "bin_start": 32.900000000000006,
            "count": 0
           },
           {
            "bin_end": 33.1,
            "bin_start": 33,
            "count": 0
           },
           {
            "bin_end": 33.2,
            "bin_start": 33.1,
            "count": 0
           }
          ],
          "max": 32.7,
          "min": 32.7,
          "nan_count": 0,
          "unique_count": 1
         }
        },
        {
         "dtype": "float64",
         "name": "Gasoline Pump Price (USD/liter)",
         "stats": {
          "histogram": [
           {
            "bin_end": 0.25,
            "bin_start": 0.15000000000000002,
            "count": 0
           },
           {
            "bin_end": 0.35,
            "bin_start": 0.25,
            "count": 0
           },
           {
            "bin_end": 0.45,
            "bin_start": 0.35,
            "count": 0
           },
           {
            "bin_end": 0.55,
            "bin_start": 0.45,
            "count": 0
           },
           {
            "bin_end": 0.6499999999999999,
            "bin_start": 0.55,
            "count": 0
           },
           {
            "bin_end": 0.75,
            "bin_start": 0.6499999999999999,
            "count": 1
           },
           {
            "bin_end": 0.85,
            "bin_start": 0.75,
            "count": 0
           },
           {
            "bin_end": 0.95,
            "bin_start": 0.85,
            "count": 0
           },
           {
            "bin_end": 1.0499999999999998,
            "bin_start": 0.95,
            "count": 0
           },
           {
            "bin_end": 1.15,
            "bin_start": 1.0499999999999998,
            "count": 0
           }
          ],
          "max": 0.65,
          "min": 0.65,
          "nan_count": 0,
          "unique_count": 1
         }
        },
        {
         "dtype": "float64",
         "name": "Road Deaths Rate (per 1000)",
         "stats": {
          "histogram": [
           {
            "bin_end": 15.1,
            "bin_start": 15,
            "count": 0
           },
           {
            "bin_end": 15.2,
            "bin_start": 15.1,
            "count": 0
           },
           {
            "bin_end": 15.3,
            "bin_start": 15.2,
            "count": 0
           },
           {
            "bin_end": 15.4,
            "bin_start": 15.3,
            "count": 0
           },
           {
            "bin_end": 15.5,
            "bin_start": 15.4,
            "count": 0
           },
           {
            "bin_end": 15.6,
            "bin_start": 15.5,
            "count": 1
           },
           {
            "bin_end": 15.7,
            "bin_start": 15.6,
            "count": 0
           },
           {
            "bin_end": 15.8,
            "bin_start": 15.7,
            "count": 0
           },
           {
            "bin_end": 15.9,
            "bin_start": 15.8,
            "count": 0
           },
           {
            "bin_end": 16,
            "bin_start": 15.9,
            "count": 0
           }
          ],
          "max": 15.5,
          "min": 15.5,
          "nan_count": 0,
          "unique_count": 1
         }
        },
        {
         "dtype": "float64",
         "name": "Subway Length (km)",
         "stats": {
          "histogram": [
           {
            "bin_end": -0.4,
            "bin_start": -0.5,
            "count": 0
           },
           {
            "bin_end": -0.3,
            "bin_start": -0.4,
            "count": 0
           },
           {
            "bin_end": -0.19999999999999996,
            "bin_start": -0.3,
            "count": 0
           },
           {
            "bin_end": -0.09999999999999998,
            "bin_start": -0.19999999999999996,
            "count": 0
           },
           {
            "bin_end": 0,
            "bin_start": -0.09999999999999998,
            "count": 0
           },
           {
            "bin_end": 0.10000000000000009,
            "bin_start": 0,
            "count": 1
           },
           {
            "bin_end": 0.20000000000000007,
            "bin_start": 0.10000000000000009,
            "count": 0
           },
           {
            "bin_end": 0.30000000000000004,
            "bin_start": 0.20000000000000007,
            "count": 0
           },
           {
            "bin_end": 0.4,
            "bin_start": 0.30000000000000004,
            "count": 0
           },
           {
            "bin_end": 0.5,
            "bin_start": 0.4,
            "count": 0
           }
          ],
          "max": 0,
          "min": 0,
          "nan_count": 0,
          "unique_count": 1
         }
        },
        {
         "dtype": "float64",
         "name": "Subway Length Density (per km)",
         "stats": {
          "histogram": [
           {
            "bin_end": -0.4,
            "bin_start": -0.5,
            "count": 0
           },
           {
            "bin_end": -0.3,
            "bin_start": -0.4,
            "count": 0
           },
           {
            "bin_end": -0.19999999999999996,
            "bin_start": -0.3,
            "count": 0
           },
           {
            "bin_end": -0.09999999999999998,
            "bin_start": -0.19999999999999996,
            "count": 0
           },
           {
            "bin_end": 0,
            "bin_start": -0.09999999999999998,
            "count": 0
           },
           {
            "bin_end": 0.10000000000000009,
            "bin_start": 0,
            "count": 1
           },
           {
            "bin_end": 0.20000000000000007,
            "bin_start": 0.10000000000000009,
            "count": 0
           },
           {
            "bin_end": 0.30000000000000004,
            "bin_start": 0.20000000000000007,
            "count": 0
           },
           {
            "bin_end": 0.4,
            "bin_start": 0.30000000000000004,
            "count": 0
           },
           {
            "bin_end": 0.5,
            "bin_start": 0.4,
            "count": 0
           }
          ],
          "max": 0,
          "min": 0,
          "nan_count": 0,
          "unique_count": 1
         }
        },
        {
         "dtype": "float64",
         "name": "Subway Stations per Hundred Thousand",
         "stats": {
          "histogram": [
           {
            "bin_end": -0.4,
            "bin_start": -0.5,
            "count": 0
           },
           {
            "bin_end": -0.3,
            "bin_start": -0.4,
            "count": 0
           },
           {
            "bin_end": -0.19999999999999996,
            "bin_start": -0.3,
            "count": 0
           },
           {
            "bin_end": -0.09999999999999998,
            "bin_start": -0.19999999999999996,
            "count": 0
           },
           {
            "bin_end": 0,
            "bin_start": -0.09999999999999998,
            "count": 0
           },
           {
            "bin_end": 0.10000000000000009,
            "bin_start": 0,
            "count": 1
           },
           {
            "bin_end": 0.20000000000000007,
            "bin_start": 0.10000000000000009,
            "count": 0
           },
           {
            "bin_end": 0.30000000000000004,
            "bin_start": 0.20000000000000007,
            "count": 0
           },
           {
            "bin_end": 0.4,
            "bin_start": 0.30000000000000004,
            "count": 0
           },
           {
            "bin_end": 0.5,
            "bin_start": 0.4,
            "count": 0
           }
          ],
          "max": 0,
          "min": 0,
          "nan_count": 0,
          "unique_count": 1
         }
        },
        {
         "dtype": "float64",
         "name": "Subway Ridership per Capita",
         "stats": {
          "histogram": [
           {
            "bin_end": -0.4,
            "bin_start": -0.5,
            "count": 0
           },
           {
            "bin_end": -0.3,
            "bin_start": -0.4,
            "count": 0
           },
           {
            "bin_end": -0.19999999999999996,
            "bin_start": -0.3,
            "count": 0
           },
           {
            "bin_end": -0.09999999999999998,
            "bin_start": -0.19999999999999996,
            "count": 0
           },
           {
            "bin_end": 0,
            "bin_start": -0.09999999999999998,
            "count": 0
           },
           {
            "bin_end": 0.10000000000000009,
            "bin_start": 0,
            "count": 1
           },
           {
            "bin_end": 0.20000000000000007,
            "bin_start": 0.10000000000000009,
            "count": 0
           },
           {
            "bin_end": 0.30000000000000004,
            "bin_start": 0.20000000000000007,
            "count": 0
           },
           {
            "bin_end": 0.4,
            "bin_start": 0.30000000000000004,
            "count": 0
           },
           {
            "bin_end": 0.5,
            "bin_start": 0.4,
            "count": 0
           }
          ],
          "max": 0,
          "min": 0,
          "nan_count": 0,
          "unique_count": 1
         }
        },
        {
         "dtype": "int64",
         "name": "Subway Age (years)",
         "stats": {
          "histogram": [
           {
            "bin_end": -0.4,
            "bin_start": -0.5,
            "count": 0
           },
           {
            "bin_end": -0.3,
            "bin_start": -0.4,
            "count": 0
           },
           {
            "bin_end": -0.19999999999999996,
            "bin_start": -0.3,
            "count": 0
           },
           {
            "bin_end": -0.09999999999999998,
            "bin_start": -0.19999999999999996,
            "count": 0
           },
           {
            "bin_end": 0,
            "bin_start": -0.09999999999999998,
            "count": 0
           },
           {
            "bin_end": 0.10000000000000009,
            "bin_start": 0,
            "count": 1
           },
           {
            "bin_end": 0.20000000000000007,
            "bin_start": 0.10000000000000009,
            "count": 0
           },
           {
            "bin_end": 0.30000000000000004,
            "bin_start": 0.20000000000000007,
            "count": 0
           },
           {
            "bin_end": 0.4,
            "bin_start": 0.30000000000000004,
            "count": 0
           },
           {
            "bin_end": 0.5,
            "bin_start": 0.4,
            "count": 0
           }
          ],
          "max": 0,
          "min": 0,
          "nan_count": 0,
          "unique_count": 1
         }
        },
        {
         "dtype": "float64",
         "name": "BRT Length (km)",
         "stats": {
          "histogram": [
           {
            "bin_end": -0.4,
            "bin_start": -0.5,
            "count": 0
           },
           {
            "bin_end": -0.3,
            "bin_start": -0.4,
            "count": 0
           },
           {
            "bin_end": -0.19999999999999996,
            "bin_start": -0.3,
            "count": 0
           },
           {
            "bin_end": -0.09999999999999998,
            "bin_start": -0.19999999999999996,
            "count": 0
           },
           {
            "bin_end": 0,
            "bin_start": -0.09999999999999998,
            "count": 0
           },
           {
            "bin_end": 0.10000000000000009,
            "bin_start": 0,
            "count": 1
           },
           {
            "bin_end": 0.20000000000000007,
            "bin_start": 0.10000000000000009,
            "count": 0
           },
           {
            "bin_end": 0.30000000000000004,
            "bin_start": 0.20000000000000007,
            "count": 0
           },
           {
            "bin_end": 0.4,
            "bin_start": 0.30000000000000004,
            "count": 0
           },
           {
            "bin_end": 0.5,
            "bin_start": 0.4,
            "count": 0
           }
          ],
          "max": 0,
          "min": 0,
          "nan_count": 0,
          "unique_count": 1
         }
        },
        {
         "dtype": "float64",
         "name": "BRT System Length Density (per km)",
         "stats": {
          "histogram": [
           {
            "bin_end": -0.4,
            "bin_start": -0.5,
            "count": 0
           },
           {
            "bin_end": -0.3,
            "bin_start": -0.4,
            "count": 0
           },
           {
            "bin_end": -0.19999999999999996,
            "bin_start": -0.3,
            "count": 0
           },
           {
            "bin_end": -0.09999999999999998,
            "bin_start": -0.19999999999999996,
            "count": 0
           },
           {
            "bin_end": 0,
            "bin_start": -0.09999999999999998,
            "count": 0
           },
           {
            "bin_end": 0.10000000000000009,
            "bin_start": 0,
            "count": 1
           },
           {
            "bin_end": 0.20000000000000007,
            "bin_start": 0.10000000000000009,
            "count": 0
           },
           {
            "bin_end": 0.30000000000000004,
            "bin_start": 0.20000000000000007,
            "count": 0
           },
           {
            "bin_end": 0.4,
            "bin_start": 0.30000000000000004,
            "count": 0
           },
           {
            "bin_end": 0.5,
            "bin_start": 0.4,
            "count": 0
           }
          ],
          "max": 0,
          "min": 0,
          "nan_count": 0,
          "unique_count": 1
         }
        },
        {
         "dtype": "float64",
         "name": "BRT Stations per Hundred Thousand Persons",
         "stats": {
          "histogram": [
           {
            "bin_end": -0.4,
            "bin_start": -0.5,
            "count": 0
           },
           {
            "bin_end": -0.3,
            "bin_start": -0.4,
            "count": 0
           },
           {
            "bin_end": -0.19999999999999996,
            "bin_start": -0.3,
            "count": 0
           },
           {
            "bin_end": -0.09999999999999998,
            "bin_start": -0.19999999999999996,
            "count": 0
           },
           {
            "bin_end": 0,
            "bin_start": -0.09999999999999998,
            "count": 0
           },
           {
            "bin_end": 0.10000000000000009,
            "bin_start": 0,
            "count": 1
           },
           {
            "bin_end": 0.20000000000000007,
            "bin_start": 0.10000000000000009,
            "count": 0
           },
           {
            "bin_end": 0.30000000000000004,
            "bin_start": 0.20000000000000007,
            "count": 0
           },
           {
            "bin_end": 0.4,
            "bin_start": 0.30000000000000004,
            "count": 0
           },
           {
            "bin_end": 0.5,
            "bin_start": 0.4,
            "count": 0
           }
          ],
          "max": 0,
          "min": 0,
          "nan_count": 0,
          "unique_count": 1
         }
        },
        {
         "dtype": "float64",
         "name": "BRT Fleet per Hundred Thousand Persons",
         "stats": {
          "histogram": [
           {
            "bin_end": -0.4,
            "bin_start": -0.5,
            "count": 0
           },
           {
            "bin_end": -0.3,
            "bin_start": -0.4,
            "count": 0
           },
           {
            "bin_end": -0.19999999999999996,
            "bin_start": -0.3,
            "count": 0
           },
           {
            "bin_end": -0.09999999999999998,
            "bin_start": -0.19999999999999996,
            "count": 0
           },
           {
            "bin_end": 0,
            "bin_start": -0.09999999999999998,
            "count": 0
           },
           {
            "bin_end": 0.10000000000000009,
            "bin_start": 0,
            "count": 1
           },
           {
            "bin_end": 0.20000000000000007,
            "bin_start": 0.10000000000000009,
            "count": 0
           },
           {
            "bin_end": 0.30000000000000004,
            "bin_start": 0.20000000000000007,
            "count": 0
           },
           {
            "bin_end": 0.4,
            "bin_start": 0.30000000000000004,
            "count": 0
           },
           {
            "bin_end": 0.5,
            "bin_start": 0.4,
            "count": 0
           }
          ],
          "max": 0,
          "min": 0,
          "nan_count": 0,
          "unique_count": 1
         }
        },
        {
         "dtype": "float64",
         "name": "BRT Annual Ridership per Capita",
         "stats": {
          "histogram": [
           {
            "bin_end": -0.4,
            "bin_start": -0.5,
            "count": 0
           },
           {
            "bin_end": -0.3,
            "bin_start": -0.4,
            "count": 0
           },
           {
            "bin_end": -0.19999999999999996,
            "bin_start": -0.3,
            "count": 0
           },
           {
            "bin_end": -0.09999999999999998,
            "bin_start": -0.19999999999999996,
            "count": 0
           },
           {
            "bin_end": 0,
            "bin_start": -0.09999999999999998,
            "count": 0
           },
           {
            "bin_end": 0.10000000000000009,
            "bin_start": 0,
            "count": 1
           },
           {
            "bin_end": 0.20000000000000007,
            "bin_start": 0.10000000000000009,
            "count": 0
           },
           {
            "bin_end": 0.30000000000000004,
            "bin_start": 0.20000000000000007,
            "count": 0
           },
           {
            "bin_end": 0.4,
            "bin_start": 0.30000000000000004,
            "count": 0
           },
           {
            "bin_end": 0.5,
            "bin_start": 0.4,
            "count": 0
           }
          ],
          "max": 0,
          "min": 0,
          "nan_count": 0,
          "unique_count": 1
         }
        },
        {
         "dtype": "float64",
         "name": "BRT Age (years)",
         "stats": {
          "histogram": [
           {
            "bin_end": -0.4,
            "bin_start": -0.5,
            "count": 0
           },
           {
            "bin_end": -0.3,
            "bin_start": -0.4,
            "count": 0
           },
           {
            "bin_end": -0.19999999999999996,
            "bin_start": -0.3,
            "count": 0
           },
           {
            "bin_end": -0.09999999999999998,
            "bin_start": -0.19999999999999996,
            "count": 0
           },
           {
            "bin_end": 0,
            "bin_start": -0.09999999999999998,
            "count": 0
           },
           {
            "bin_end": 0.10000000000000009,
            "bin_start": 0,
            "count": 1
           },
           {
            "bin_end": 0.20000000000000007,
            "bin_start": 0.10000000000000009,
            "count": 0
           },
           {
            "bin_end": 0.30000000000000004,
            "bin_start": 0.20000000000000007,
            "count": 0
           },
           {
            "bin_end": 0.4,
            "bin_start": 0.30000000000000004,
            "count": 0
           },
           {
            "bin_end": 0.5,
            "bin_start": 0.4,
            "count": 0
           }
          ],
          "max": 0,
          "min": 0,
          "nan_count": 0,
          "unique_count": 1
         }
        },
        {
         "dtype": "object",
         "name": "Bikeshare Stations",
         "stats": {
          "categories": [
           {
            "count": 1,
            "name": "0"
           }
          ],
          "nan_count": 0,
          "unique_count": 1
         }
        },
        {
         "dtype": "float64",
         "name": "Bikeshare Stations per Hundred Thousand Persons",
         "stats": {
          "histogram": [
           {
            "bin_end": -0.4,
            "bin_start": -0.5,
            "count": 0
           },
           {
            "bin_end": -0.3,
            "bin_start": -0.4,
            "count": 0
           },
           {
            "bin_end": -0.19999999999999996,
            "bin_start": -0.3,
            "count": 0
           },
           {
            "bin_end": -0.09999999999999998,
            "bin_start": -0.19999999999999996,
            "count": 0
           },
           {
            "bin_end": 0,
            "bin_start": -0.09999999999999998,
            "count": 0
           },
           {
            "bin_end": 0.10000000000000009,
            "bin_start": 0,
            "count": 1
           },
           {
            "bin_end": 0.20000000000000007,
            "bin_start": 0.10000000000000009,
            "count": 0
           },
           {
            "bin_end": 0.30000000000000004,
            "bin_start": 0.20000000000000007,
            "count": 0
           },
           {
            "bin_end": 0.4,
            "bin_start": 0.30000000000000004,
            "count": 0
           },
           {
            "bin_end": 0.5,
            "bin_start": 0.4,
            "count": 0
           }
          ],
          "max": 0,
          "min": 0,
          "nan_count": 0,
          "unique_count": 1
         }
        },
        {
         "dtype": "float64",
         "name": "Bikeshare Number of Bikes",
         "stats": {
          "histogram": [
           {
            "bin_end": -0.4,
            "bin_start": -0.5,
            "count": 0
           },
           {
            "bin_end": -0.3,
            "bin_start": -0.4,
            "count": 0
           },
           {
            "bin_end": -0.19999999999999996,
            "bin_start": -0.3,
            "count": 0
           },
           {
            "bin_end": -0.09999999999999998,
            "bin_start": -0.19999999999999996,
            "count": 0
           },
           {
            "bin_end": 0,
            "bin_start": -0.09999999999999998,
            "count": 0
           },
           {
            "bin_end": 0.10000000000000009,
            "bin_start": 0,
            "count": 1
           },
           {
            "bin_end": 0.20000000000000007,
            "bin_start": 0.10000000000000009,
            "count": 0
           },
           {
            "bin_end": 0.30000000000000004,
            "bin_start": 0.20000000000000007,
            "count": 0
           },
           {
            "bin_end": 0.4,
            "bin_start": 0.30000000000000004,
            "count": 0
           },
           {
            "bin_end": 0.5,
            "bin_start": 0.4,
            "count": 0
           }
          ],
          "max": 0,
          "min": 0,
          "nan_count": 0,
          "unique_count": 1
         }
        },
        {
         "dtype": "float64",
         "name": "Bikeshare Bicycles per Hundred Thousand Persons",
         "stats": {
          "histogram": [
           {
            "bin_end": -0.4,
            "bin_start": -0.5,
            "count": 0
           },
           {
            "bin_end": -0.3,
            "bin_start": -0.4,
            "count": 0
           },
           {
            "bin_end": -0.19999999999999996,
            "bin_start": -0.3,
            "count": 0
           },
           {
            "bin_end": -0.09999999999999998,
            "bin_start": -0.19999999999999996,
            "count": 0
           },
           {
            "bin_end": 0,
            "bin_start": -0.09999999999999998,
            "count": 0
           },
           {
            "bin_end": 0.10000000000000009,
            "bin_start": 0,
            "count": 1
           },
           {
            "bin_end": 0.20000000000000007,
            "bin_start": 0.10000000000000009,
            "count": 0
           },
           {
            "bin_end": 0.30000000000000004,
            "bin_start": 0.20000000000000007,
            "count": 0
           },
           {
            "bin_end": 0.4,
            "bin_start": 0.30000000000000004,
            "count": 0
           },
           {
            "bin_end": 0.5,
            "bin_start": 0.4,
            "count": 0
           }
          ],
          "max": 0,
          "min": 0,
          "nan_count": 0,
          "unique_count": 1
         }
        },
        {
         "dtype": "float64",
         "name": "Bikeshare Age (years)",
         "stats": {
          "histogram": [
           {
            "bin_end": -0.4,
            "bin_start": -0.5,
            "count": 0
           },
           {
            "bin_end": -0.3,
            "bin_start": -0.4,
            "count": 0
           },
           {
            "bin_end": -0.19999999999999996,
            "bin_start": -0.3,
            "count": 0
           },
           {
            "bin_end": -0.09999999999999998,
            "bin_start": -0.19999999999999996,
            "count": 0
           },
           {
            "bin_end": 0,
            "bin_start": -0.09999999999999998,
            "count": 0
           },
           {
            "bin_end": 0.10000000000000009,
            "bin_start": 0,
            "count": 1
           },
           {
            "bin_end": 0.20000000000000007,
            "bin_start": 0.10000000000000009,
            "count": 0
           },
           {
            "bin_end": 0.30000000000000004,
            "bin_start": 0.20000000000000007,
            "count": 0
           },
           {
            "bin_end": 0.4,
            "bin_start": 0.30000000000000004,
            "count": 0
           },
           {
            "bin_end": 0.5,
            "bin_start": 0.4,
            "count": 0
           }
          ],
          "max": 0,
          "min": 0,
          "nan_count": 0,
          "unique_count": 1
         }
        },
        {
         "dtype": "float64",
         "name": "Congestion (%)",
         "stats": {
          "histogram": [
           {
            "bin_end": 0.1,
            "bin_start": 0,
            "count": 0
           },
           {
            "bin_end": 0.2,
            "bin_start": 0.1,
            "count": 0
           },
           {
            "bin_end": 0.30000000000000004,
            "bin_start": 0.2,
            "count": 0
           },
           {
            "bin_end": 0.4,
            "bin_start": 0.30000000000000004,
            "count": 0
           },
           {
            "bin_end": 0.5,
            "bin_start": 0.4,
            "count": 0
           },
           {
            "bin_end": 0.6000000000000001,
            "bin_start": 0.5,
            "count": 0
           },
           {
            "bin_end": 0.7000000000000001,
            "bin_start": 0.6000000000000001,
            "count": 0
           },
           {
            "bin_end": 0.8,
            "bin_start": 0.7000000000000001,
            "count": 0
           },
           {
            "bin_end": 0.9,
            "bin_start": 0.8,
            "count": 0
           },
           {
            "bin_end": 1,
            "bin_start": 0.9,
            "count": 0
           }
          ],
          "max": null,
          "min": null,
          "nan_count": 1,
          "unique_count": 0
         }
        },
        {
         "dtype": "float64",
         "name": "Congestion AM Peak (%)",
         "stats": {
          "histogram": [
           {
            "bin_end": 0.1,
            "bin_start": 0,
            "count": 0
           },
           {
            "bin_end": 0.2,
            "bin_start": 0.1,
            "count": 0
           },
           {
            "bin_end": 0.30000000000000004,
            "bin_start": 0.2,
            "count": 0
           },
           {
            "bin_end": 0.4,
            "bin_start": 0.30000000000000004,
            "count": 0
           },
           {
            "bin_end": 0.5,
            "bin_start": 0.4,
            "count": 0
           },
           {
            "bin_end": 0.6000000000000001,
            "bin_start": 0.5,
            "count": 0
           },
           {
            "bin_end": 0.7000000000000001,
            "bin_start": 0.6000000000000001,
            "count": 0
           },
           {
            "bin_end": 0.8,
            "bin_start": 0.7000000000000001,
            "count": 0
           },
           {
            "bin_end": 0.9,
            "bin_start": 0.8,
            "count": 0
           },
           {
            "bin_end": 1,
            "bin_start": 0.9,
            "count": 0
           }
          ],
          "max": null,
          "min": null,
          "nan_count": 1,
          "unique_count": 0
         }
        },
        {
         "dtype": "float64",
         "name": "Congestion PM Peak (%)",
         "stats": {
          "histogram": [
           {
            "bin_end": 0.1,
            "bin_start": 0,
            "count": 0
           },
           {
            "bin_end": 0.2,
            "bin_start": 0.1,
            "count": 0
           },
           {
            "bin_end": 0.30000000000000004,
            "bin_start": 0.2,
            "count": 0
           },
           {
            "bin_end": 0.4,
            "bin_start": 0.30000000000000004,
            "count": 0
           },
           {
            "bin_end": 0.5,
            "bin_start": 0.4,
            "count": 0
           },
           {
            "bin_end": 0.6000000000000001,
            "bin_start": 0.5,
            "count": 0
           },
           {
            "bin_end": 0.7000000000000001,
            "bin_start": 0.6000000000000001,
            "count": 0
           },
           {
            "bin_end": 0.8,
            "bin_start": 0.7000000000000001,
            "count": 0
           },
           {
            "bin_end": 0.9,
            "bin_start": 0.8,
            "count": 0
           },
           {
            "bin_end": 1,
            "bin_start": 0.9,
            "count": 0
           }
          ],
          "max": null,
          "min": null,
          "nan_count": 1,
          "unique_count": 0
         }
        },
        {
         "dtype": "float64",
         "name": "Traffic Index",
         "stats": {
          "histogram": [
           {
            "bin_end": 0.1,
            "bin_start": 0,
            "count": 0
           },
           {
            "bin_end": 0.2,
            "bin_start": 0.1,
            "count": 0
           },
           {
            "bin_end": 0.30000000000000004,
            "bin_start": 0.2,
            "count": 0
           },
           {
            "bin_end": 0.4,
            "bin_start": 0.30000000000000004,
            "count": 0
           },
           {
            "bin_end": 0.5,
            "bin_start": 0.4,
            "count": 0
           },
           {
            "bin_end": 0.6000000000000001,
            "bin_start": 0.5,
            "count": 0
           },
           {
            "bin_end": 0.7000000000000001,
            "bin_start": 0.6000000000000001,
            "count": 0
           },
           {
            "bin_end": 0.8,
            "bin_start": 0.7000000000000001,
            "count": 0
           },
           {
            "bin_end": 0.9,
            "bin_start": 0.8,
            "count": 0
           },
           {
            "bin_end": 1,
            "bin_start": 0.9,
            "count": 0
           }
          ],
          "max": null,
          "min": null,
          "nan_count": 1,
          "unique_count": 0
         }
        },
        {
         "dtype": "float64",
         "name": "Travel Time Index",
         "stats": {
          "histogram": [
           {
            "bin_end": 0.1,
            "bin_start": 0,
            "count": 0
           },
           {
            "bin_end": 0.2,
            "bin_start": 0.1,
            "count": 0
           },
           {
            "bin_end": 0.30000000000000004,
            "bin_start": 0.2,
            "count": 0
           },
           {
            "bin_end": 0.4,
            "bin_start": 0.30000000000000004,
            "count": 0
           },
           {
            "bin_end": 0.5,
            "bin_start": 0.4,
            "count": 0
           },
           {
            "bin_end": 0.6000000000000001,
            "bin_start": 0.5,
            "count": 0
           },
           {
            "bin_end": 0.7000000000000001,
            "bin_start": 0.6000000000000001,
            "count": 0
           },
           {
            "bin_end": 0.8,
            "bin_start": 0.7000000000000001,
            "count": 0
           },
           {
            "bin_end": 0.9,
            "bin_start": 0.8,
            "count": 0
           },
           {
            "bin_end": 1,
            "bin_start": 0.9,
            "count": 0
           }
          ],
          "max": null,
          "min": null,
          "nan_count": 1,
          "unique_count": 0
         }
        },
        {
         "dtype": "float64",
         "name": "Inefficiency Index",
         "stats": {
          "histogram": [
           {
            "bin_end": 0.1,
            "bin_start": 0,
            "count": 0
           },
           {
            "bin_end": 0.2,
            "bin_start": 0.1,
            "count": 0
           },
           {
            "bin_end": 0.30000000000000004,
            "bin_start": 0.2,
            "count": 0
           },
           {
            "bin_end": 0.4,
            "bin_start": 0.30000000000000004,
            "count": 0
           },
           {
            "bin_end": 0.5,
            "bin_start": 0.4,
            "count": 0
           },
           {
            "bin_end": 0.6000000000000001,
            "bin_start": 0.5,
            "count": 0
           },
           {
            "bin_end": 0.7000000000000001,
            "bin_start": 0.6000000000000001,
            "count": 0
           },
           {
            "bin_end": 0.8,
            "bin_start": 0.7000000000000001,
            "count": 0
           },
           {
            "bin_end": 0.9,
            "bin_start": 0.8,
            "count": 0
           },
           {
            "bin_end": 1,
            "bin_start": 0.9,
            "count": 0
           }
          ],
          "max": null,
          "min": null,
          "nan_count": 1,
          "unique_count": 0
         }
        },
        {
         "dtype": "int64",
         "name": "Population",
         "stats": {
          "histogram": [
           {
            "bin_end": 3649999.6,
            "bin_start": 3649999.5,
            "count": 0
           },
           {
            "bin_end": 3649999.7,
            "bin_start": 3649999.6,
            "count": 0
           },
           {
            "bin_end": 3649999.8,
            "bin_start": 3649999.7,
            "count": 0
           },
           {
            "bin_end": 3649999.9,
            "bin_start": 3649999.8,
            "count": 0
           },
           {
            "bin_end": 3650000,
            "bin_start": 3649999.9,
            "count": 0
           },
           {
            "bin_end": 3650000.1,
            "bin_start": 3650000,
            "count": 1
           },
           {
            "bin_end": 3650000.2,
            "bin_start": 3650000.1,
            "count": 0
           },
           {
            "bin_end": 3650000.3,
            "bin_start": 3650000.2,
            "count": 0
           },
           {
            "bin_end": 3650000.4,
            "bin_start": 3650000.3,
            "count": 0
           },
           {
            "bin_end": 3650000.5,
            "bin_start": 3650000.4,
            "count": 0
           }
          ],
          "max": 3650000,
          "min": 3650000,
          "nan_count": 0,
          "unique_count": 1
         }
        },
        {
         "dtype": "int64",
         "name": "Land Area (sq. km)",
         "stats": {
          "histogram": [
           {
            "bin_end": 258.6,
            "bin_start": 258.5,
            "count": 0
           },
           {
            "bin_end": 258.7,
            "bin_start": 258.6,
            "count": 0
           },
           {
            "bin_end": 258.8,
            "bin_start": 258.7,
            "count": 0
           },
           {
            "bin_end": 258.9,
            "bin_start": 258.8,
            "count": 0
           },
           {
            "bin_end": 259,
            "bin_start": 258.9,
            "count": 0
           },
           {
            "bin_end": 259.1,
            "bin_start": 259,
            "count": 1
           },
           {
            "bin_end": 259.2,
            "bin_start": 259.1,
            "count": 0
           },
           {
            "bin_end": 259.3,
            "bin_start": 259.2,
            "count": 0
           },
           {
            "bin_end": 259.4,
            "bin_start": 259.3,
            "count": 0
           },
           {
            "bin_end": 259.5,
            "bin_start": 259.4,
            "count": 0
           }
          ],
          "max": 259,
          "min": 259,
          "nan_count": 0,
          "unique_count": 1
         }
        },
        {
         "dtype": "int64",
         "name": "Population Density (per sq. km)",
         "stats": {
          "histogram": [
           {
            "bin_end": 14099.6,
            "bin_start": 14099.5,
            "count": 0
           },
           {
            "bin_end": 14099.7,
            "bin_start": 14099.6,
            "count": 0
           },
           {
            "bin_end": 14099.8,
            "bin_start": 14099.7,
            "count": 0
           },
           {
            "bin_end": 14099.9,
            "bin_start": 14099.8,
            "count": 0
           },
           {
            "bin_end": 14100,
            "bin_start": 14099.9,
            "count": 0
           },
           {
            "bin_end": 14100.1,
            "bin_start": 14100,
            "count": 1
           },
           {
            "bin_end": 14100.2,
            "bin_start": 14100.1,
            "count": 0
           },
           {
            "bin_end": 14100.3,
            "bin_start": 14100.2,
            "count": 0
           },
           {
            "bin_end": 14100.4,
            "bin_start": 14100.3,
            "count": 0
           },
           {
            "bin_end": 14100.5,
            "bin_start": 14100.4,
            "count": 0
           }
          ],
          "max": 14100,
          "min": 14100,
          "nan_count": 0,
          "unique_count": 1
         }
        },
        {
         "dtype": "int64",
         "name": "Population Change 1990 – 2000",
         "stats": {
          "histogram": [
           {
            "bin_end": 631000.6,
            "bin_start": 631000.5,
            "count": 0
           },
           {
            "bin_end": 631000.7,
            "bin_start": 631000.6,
            "count": 0
           },
           {
            "bin_end": 631000.8,
            "bin_start": 631000.7,
            "count": 0
           },
           {
            "bin_end": 631000.9,
            "bin_start": 631000.8,
            "count": 0
           },
           {
            "bin_end": 631001,
            "bin_start": 631000.9,
            "count": 0
           },
           {
            "bin_end": 631001.1,
            "bin_start": 631001,
            "count": 1
           },
           {
            "bin_end": 631001.2,
            "bin_start": 631001.1,
            "count": 0
           },
           {
            "bin_end": 631001.3,
            "bin_start": 631001.2,
            "count": 0
           },
           {
            "bin_end": 631001.4,
            "bin_start": 631001.3,
            "count": 0
           },
           {
            "bin_end": 631001.5,
            "bin_start": 631001.4,
            "count": 0
           }
          ],
          "max": 631001,
          "min": 631001,
          "nan_count": 0,
          "unique_count": 1
         }
        },
        {
         "dtype": "int64",
         "name": "Population Change 2000 – 2010",
         "stats": {
          "histogram": [
           {
            "bin_end": 1088567.6,
            "bin_start": 1088567.5,
            "count": 0
           },
           {
            "bin_end": 1088567.7,
            "bin_start": 1088567.6,
            "count": 0
           },
           {
            "bin_end": 1088567.8,
            "bin_start": 1088567.7,
            "count": 0
           },
           {
            "bin_end": 1088567.9,
            "bin_start": 1088567.8,
            "count": 0
           },
           {
            "bin_end": 1088568,
            "bin_start": 1088567.9,
            "count": 0
           },
           {
            "bin_end": 1088568.1,
            "bin_start": 1088568,
            "count": 1
           },
           {
            "bin_end": 1088568.2,
            "bin_start": 1088568.1,
            "count": 0
           },
           {
            "bin_end": 1088568.3,
            "bin_start": 1088568.2,
            "count": 0
           },
           {
            "bin_end": 1088568.4,
            "bin_start": 1088568.3,
            "count": 0
           },
           {
            "bin_end": 1088568.5,
            "bin_start": 1088568.4,
            "count": 0
           }
          ],
          "max": 1088568,
          "min": 1088568,
          "nan_count": 0,
          "unique_count": 1
         }
        },
        {
         "dtype": "int64",
         "name": "Population Change 2010 – 2020",
         "stats": {
          "histogram": [
           {
            "bin_end": 1083558.6,
            "bin_start": 1083558.5,
            "count": 0
           },
           {
            "bin_end": 1083558.7,
            "bin_start": 1083558.6,
            "count": 0
           },
           {
            "bin_end": 1083558.8,
            "bin_start": 1083558.7,
            "count": 0
           },
           {
            "bin_end": 1083558.9,
            "bin_start": 1083558.8,
            "count": 0
           },
           {
            "bin_end": 1083559,
            "bin_start": 1083558.9,
            "count": 0
           },
           {
            "bin_end": 1083559.1,
            "bin_start": 1083559,
            "count": 1
           },
           {
            "bin_end": 1083559.2,
            "bin_start": 1083559.1,
            "count": 0
           },
           {
            "bin_end": 1083559.3,
            "bin_start": 1083559.2,
            "count": 0
           },
           {
            "bin_end": 1083559.4,
            "bin_start": 1083559.3,
            "count": 0
           },
           {
            "bin_end": 1083559.5,
            "bin_start": 1083559.4,
            "count": 0
           }
          ],
          "max": 1083559,
          "min": 1083559,
          "nan_count": 0,
          "unique_count": 1
         }
        },
        {
         "dtype": "int64",
         "name": "Population Change 2020 – 2025",
         "stats": {
          "histogram": [
           {
            "bin_end": 990356.6,
            "bin_start": 990356.5,
            "count": 0
           },
           {
            "bin_end": 990356.7,
            "bin_start": 990356.6,
            "count": 0
           },
           {
            "bin_end": 990356.8,
            "bin_start": 990356.7,
            "count": 0
           },
           {
            "bin_end": 990356.9,
            "bin_start": 990356.8,
            "count": 0
           },
           {
            "bin_end": 990357,
            "bin_start": 990356.9,
            "count": 0
           },
           {
            "bin_end": 990357.1,
            "bin_start": 990357,
            "count": 1
           },
           {
            "bin_end": 990357.2,
            "bin_start": 990357.1,
            "count": 0
           },
           {
            "bin_end": 990357.3,
            "bin_start": 990357.2,
            "count": 0
           },
           {
            "bin_end": 990357.4,
            "bin_start": 990357.3,
            "count": 0
           },
           {
            "bin_end": 990357.5,
            "bin_start": 990357.4,
            "count": 0
           }
          ],
          "max": 990357,
          "min": 990357,
          "nan_count": 0,
          "unique_count": 1
         }
        },
        {
         "dtype": "float64",
         "name": "Urbanization Rate 2015 (%)",
         "stats": {
          "histogram": [
           {
            "bin_end": 26.3,
            "bin_start": 26.2,
            "count": 0
           },
           {
            "bin_end": 26.4,
            "bin_start": 26.3,
            "count": 0
           },
           {
            "bin_end": 26.5,
            "bin_start": 26.4,
            "count": 0
           },
           {
            "bin_end": 26.599999999999998,
            "bin_start": 26.5,
            "count": 0
           },
           {
            "bin_end": 26.7,
            "bin_start": 26.599999999999998,
            "count": 0
           },
           {
            "bin_end": 26.8,
            "bin_start": 26.7,
            "count": 1
           },
           {
            "bin_end": 26.9,
            "bin_start": 26.8,
            "count": 0
           },
           {
            "bin_end": 27,
            "bin_start": 26.9,
            "count": 0
           },
           {
            "bin_end": 27.099999999999998,
            "bin_start": 27,
            "count": 0
           },
           {
            "bin_end": 27.2,
            "bin_start": 27.099999999999998,
            "count": 0
           }
          ],
          "max": 26.7,
          "min": 26.7,
          "nan_count": 0,
          "unique_count": 1
         }
        },
        {
         "dtype": "float64",
         "name": "Urbanization Rate Change 2015 – 2025 (pp)",
         "stats": {
          "histogram": [
           {
            "bin_end": 4.3,
            "bin_start": 4.2,
            "count": 0
           },
           {
            "bin_end": 4.4,
            "bin_start": 4.3,
            "count": 0
           },
           {
            "bin_end": 4.5,
            "bin_start": 4.4,
            "count": 0
           },
           {
            "bin_end": 4.6000000000000005,
            "bin_start": 4.5,
            "count": 0
           },
           {
            "bin_end": 4.7,
            "bin_start": 4.6000000000000005,
            "count": 0
           },
           {
            "bin_end": 4.800000000000001,
            "bin_start": 4.7,
            "count": 1
           },
           {
            "bin_end": 4.9,
            "bin_start": 4.800000000000001,
            "count": 0
           },
           {
            "bin_end": 5,
            "bin_start": 4.9,
            "count": 0
           },
           {
            "bin_end": 5.1000000000000005,
            "bin_start": 5,
            "count": 0
           },
           {
            "bin_end": 5.2,
            "bin_start": 5.1000000000000005,
            "count": 0
           }
          ],
          "max": 4.7,
          "min": 4.7,
          "nan_count": 0,
          "unique_count": 1
         }
        },
        {
         "dtype": "float64",
         "name": "GDP per Capita (USD)",
         "stats": {
          "histogram": [
           {
            "bin_end": 617.5,
            "bin_start": 617.4,
            "count": 0
           },
           {
            "bin_end": 617.6,
            "bin_start": 617.5,
            "count": 0
           },
           {
            "bin_end": 617.6999999999999,
            "bin_start": 617.6,
            "count": 0
           },
           {
            "bin_end": 617.8,
            "bin_start": 617.6999999999999,
            "count": 0
           },
           {
            "bin_end": 617.9,
            "bin_start": 617.8,
            "count": 0
           },
           {
            "bin_end": 618,
            "bin_start": 617.9,
            "count": 1
           },
           {
            "bin_end": 618.1,
            "bin_start": 618,
            "count": 0
           },
           {
            "bin_end": 618.1999999999999,
            "bin_start": 618.1,
            "count": 0
           },
           {
            "bin_end": 618.3,
            "bin_start": 618.1999999999999,
            "count": 0
           },
           {
            "bin_end": 618.4,
            "bin_start": 618.3,
            "count": 0
           }
          ],
          "max": 617.9,
          "min": 617.9,
          "nan_count": 0,
          "unique_count": 1
         }
        },
        {
         "dtype": "float64",
         "name": "Unemployment Rate (%)",
         "stats": {
          "histogram": [
           {
            "bin_end": 37.6,
            "bin_start": 37.5,
            "count": 0
           },
           {
            "bin_end": 37.7,
            "bin_start": 37.6,
            "count": 0
           },
           {
            "bin_end": 37.8,
            "bin_start": 37.7,
            "count": 0
           },
           {
            "bin_end": 37.9,
            "bin_start": 37.8,
            "count": 0
           },
           {
            "bin_end": 38,
            "bin_start": 37.9,
            "count": 0
           },
           {
            "bin_end": 38.1,
            "bin_start": 38,
            "count": 1
           },
           {
            "bin_end": 38.2,
            "bin_start": 38.1,
            "count": 0
           },
           {
            "bin_end": 38.3,
            "bin_start": 38.2,
            "count": 0
           },
           {
            "bin_end": 38.4,
            "bin_start": 38.3,
            "count": 0
           },
           {
            "bin_end": 38.5,
            "bin_start": 38.4,
            "count": 0
           }
          ],
          "max": 38,
          "min": 38,
          "nan_count": 0,
          "unique_count": 1
         }
        },
        {
         "dtype": "float64",
         "name": "Cost of Living Index",
         "stats": {
          "histogram": [
           {
            "bin_end": 0.1,
            "bin_start": 0,
            "count": 0
           },
           {
            "bin_end": 0.2,
            "bin_start": 0.1,
            "count": 0
           },
           {
            "bin_end": 0.30000000000000004,
            "bin_start": 0.2,
            "count": 0
           },
           {
            "bin_end": 0.4,
            "bin_start": 0.30000000000000004,
            "count": 0
           },
           {
            "bin_end": 0.5,
            "bin_start": 0.4,
            "count": 0
           },
           {
            "bin_end": 0.6000000000000001,
            "bin_start": 0.5,
            "count": 0
           },
           {
            "bin_end": 0.7000000000000001,
            "bin_start": 0.6000000000000001,
            "count": 0
           },
           {
            "bin_end": 0.8,
            "bin_start": 0.7000000000000001,
            "count": 0
           },
           {
            "bin_end": 0.9,
            "bin_start": 0.8,
            "count": 0
           },
           {
            "bin_end": 1,
            "bin_start": 0.9,
            "count": 0
           }
          ],
          "max": null,
          "min": null,
          "nan_count": 1,
          "unique_count": 0
         }
        },
        {
         "dtype": "float64",
         "name": "Rent Index",
         "stats": {
          "histogram": [
           {
            "bin_end": 0.1,
            "bin_start": 0,
            "count": 0
           },
           {
            "bin_end": 0.2,
            "bin_start": 0.1,
            "count": 0
           },
           {
            "bin_end": 0.30000000000000004,
            "bin_start": 0.2,
            "count": 0
           },
           {
            "bin_end": 0.4,
            "bin_start": 0.30000000000000004,
            "count": 0
           },
           {
            "bin_end": 0.5,
            "bin_start": 0.4,
            "count": 0
           },
           {
            "bin_end": 0.6000000000000001,
            "bin_start": 0.5,
            "count": 0
           },
           {
            "bin_end": 0.7000000000000001,
            "bin_start": 0.6000000000000001,
            "count": 0
           },
           {
            "bin_end": 0.8,
            "bin_start": 0.7000000000000001,
            "count": 0
           },
           {
            "bin_end": 0.9,
            "bin_start": 0.8,
            "count": 0
           },
           {
            "bin_end": 1,
            "bin_start": 0.9,
            "count": 0
           }
          ],
          "max": null,
          "min": null,
          "nan_count": 1,
          "unique_count": 0
         }
        },
        {
         "dtype": "float64",
         "name": "Grocery Index",
         "stats": {
          "histogram": [
           {
            "bin_end": 0.1,
            "bin_start": 0,
            "count": 0
           },
           {
            "bin_end": 0.2,
            "bin_start": 0.1,
            "count": 0
           },
           {
            "bin_end": 0.30000000000000004,
            "bin_start": 0.2,
            "count": 0
           },
           {
            "bin_end": 0.4,
            "bin_start": 0.30000000000000004,
            "count": 0
           },
           {
            "bin_end": 0.5,
            "bin_start": 0.4,
            "count": 0
           },
           {
            "bin_end": 0.6000000000000001,
            "bin_start": 0.5,
            "count": 0
           },
           {
            "bin_end": 0.7000000000000001,
            "bin_start": 0.6000000000000001,
            "count": 0
           },
           {
            "bin_end": 0.8,
            "bin_start": 0.7000000000000001,
            "count": 0
           },
           {
            "bin_end": 0.9,
            "bin_start": 0.8,
            "count": 0
           },
           {
            "bin_end": 1,
            "bin_start": 0.9,
            "count": 0
           }
          ],
          "max": null,
          "min": null,
          "nan_count": 1,
          "unique_count": 0
         }
        },
        {
         "dtype": "float64",
         "name": "Restaurant Price Index",
         "stats": {
          "histogram": [
           {
            "bin_end": 0.1,
            "bin_start": 0,
            "count": 0
           },
           {
            "bin_end": 0.2,
            "bin_start": 0.1,
            "count": 0
           },
           {
            "bin_end": 0.30000000000000004,
            "bin_start": 0.2,
            "count": 0
           },
           {
            "bin_end": 0.4,
            "bin_start": 0.30000000000000004,
            "count": 0
           },
           {
            "bin_end": 0.5,
            "bin_start": 0.4,
            "count": 0
           },
           {
            "bin_end": 0.6000000000000001,
            "bin_start": 0.5,
            "count": 0
           },
           {
            "bin_end": 0.7000000000000001,
            "bin_start": 0.6000000000000001,
            "count": 0
           },
           {
            "bin_end": 0.8,
            "bin_start": 0.7000000000000001,
            "count": 0
           },
           {
            "bin_end": 0.9,
            "bin_start": 0.8,
            "count": 0
           },
           {
            "bin_end": 1,
            "bin_start": 0.9,
            "count": 0
           }
          ],
          "max": null,
          "min": null,
          "nan_count": 1,
          "unique_count": 0
         }
        },
        {
         "dtype": "float64",
         "name": "Local Purchasing Power Index",
         "stats": {
          "histogram": [
           {
            "bin_end": 0.1,
            "bin_start": 0,
            "count": 0
           },
           {
            "bin_end": 0.2,
            "bin_start": 0.1,
            "count": 0
           },
           {
            "bin_end": 0.30000000000000004,
            "bin_start": 0.2,
            "count": 0
           },
           {
            "bin_end": 0.4,
            "bin_start": 0.30000000000000004,
            "count": 0
           },
           {
            "bin_end": 0.5,
            "bin_start": 0.4,
            "count": 0
           },
           {
            "bin_end": 0.6000000000000001,
            "bin_start": 0.5,
            "count": 0
           },
           {
            "bin_end": 0.7000000000000001,
            "bin_start": 0.6000000000000001,
            "count": 0
           },
           {
            "bin_end": 0.8,
            "bin_start": 0.7000000000000001,
            "count": 0
           },
           {
            "bin_end": 0.9,
            "bin_start": 0.8,
            "count": 0
           },
           {
            "bin_end": 1,
            "bin_start": 0.9,
            "count": 0
           }
          ],
          "max": null,
          "min": null,
          "nan_count": 1,
          "unique_count": 0
         }
        },
        {
         "dtype": "float64",
         "name": "Gini Coefficient",
         "stats": {
          "histogram": [
           {
            "bin_end": -0.11000000000000001,
            "bin_start": -0.21000000000000002,
            "count": 0
           },
           {
            "bin_end": -0.010000000000000009,
            "bin_start": -0.11000000000000001,
            "count": 0
           },
           {
            "bin_end": 0.09000000000000002,
            "bin_start": -0.010000000000000009,
            "count": 0
           },
           {
            "bin_end": 0.19,
            "bin_start": 0.09000000000000002,
            "count": 0
           },
           {
            "bin_end": 0.29,
            "bin_start": 0.19,
            "count": 0
           },
           {
            "bin_end": 0.39000000000000007,
            "bin_start": 0.29,
            "count": 1
           },
           {
            "bin_end": 0.49000000000000005,
            "bin_start": 0.39000000000000007,
            "count": 0
           },
           {
            "bin_end": 0.5900000000000001,
            "bin_start": 0.49000000000000005,
            "count": 0
           },
           {
            "bin_end": 0.69,
            "bin_start": 0.5900000000000001,
            "count": 0
           },
           {
            "bin_end": 0.79,
            "bin_start": 0.69,
            "count": 0
           }
          ],
          "max": 0.29,
          "min": 0.29,
          "nan_count": 0,
          "unique_count": 1
         }
        },
        {
         "dtype": "float64",
         "name": "Poverty Rate (%)",
         "stats": {
          "histogram": [
           {
            "bin_end": 27.200000000000003,
            "bin_start": 27.1,
            "count": 0
           },
           {
            "bin_end": 27.3,
            "bin_start": 27.200000000000003,
            "count": 0
           },
           {
            "bin_end": 27.400000000000002,
            "bin_start": 27.3,
            "count": 0
           },
           {
            "bin_end": 27.5,
            "bin_start": 27.400000000000002,
            "count": 0
           },
           {
            "bin_end": 27.6,
            "bin_start": 27.5,
            "count": 0
           },
           {
            "bin_end": 27.700000000000003,
            "bin_start": 27.6,
            "count": 1
           },
           {
            "bin_end": 27.8,
            "bin_start": 27.700000000000003,
            "count": 0
           },
           {
            "bin_end": 27.900000000000002,
            "bin_start": 27.8,
            "count": 0
           },
           {
            "bin_end": 28,
            "bin_start": 27.900000000000002,
            "count": 0
           },
           {
            "bin_end": 28.1,
            "bin_start": 28,
            "count": 0
           }
          ],
          "max": 27.6,
          "min": 27.6,
          "nan_count": 0,
          "unique_count": 1
         }
        },
        {
         "dtype": "float64",
         "name": "Life Expectancy (years)",
         "stats": {
          "histogram": [
           {
            "bin_end": 60.1,
            "bin_start": 60,
            "count": 0
           },
           {
            "bin_end": 60.2,
            "bin_start": 60.1,
            "count": 0
           },
           {
            "bin_end": 60.3,
            "bin_start": 60.2,
            "count": 0
           },
           {
            "bin_end": 60.4,
            "bin_start": 60.3,
            "count": 0
           },
           {
            "bin_end": 60.5,
            "bin_start": 60.4,
            "count": 0
           },
           {
            "bin_end": 60.6,
            "bin_start": 60.5,
            "count": 1
           },
           {
            "bin_end": 60.7,
            "bin_start": 60.6,
            "count": 0
           },
           {
            "bin_end": 60.8,
            "bin_start": 60.7,
            "count": 0
           },
           {
            "bin_end": 60.9,
            "bin_start": 60.8,
            "count": 0
           },
           {
            "bin_end": 61,
            "bin_start": 60.9,
            "count": 0
           }
          ],
          "max": 60.5,
          "min": 60.5,
          "nan_count": 0,
          "unique_count": 1
         }
        },
        {
         "dtype": "float64",
         "name": "Safety Index",
         "stats": {
          "histogram": [
           {
            "bin_end": 0.1,
            "bin_start": 0,
            "count": 0
           },
           {
            "bin_end": 0.2,
            "bin_start": 0.1,
            "count": 0
           },
           {
            "bin_end": 0.30000000000000004,
            "bin_start": 0.2,
            "count": 0
           },
           {
            "bin_end": 0.4,
            "bin_start": 0.30000000000000004,
            "count": 0
           },
           {
            "bin_end": 0.5,
            "bin_start": 0.4,
            "count": 0
           },
           {
            "bin_end": 0.6000000000000001,
            "bin_start": 0.5,
            "count": 0
           },
           {
            "bin_end": 0.7000000000000001,
            "bin_start": 0.6000000000000001,
            "count": 0
           },
           {
            "bin_end": 0.8,
            "bin_start": 0.7000000000000001,
            "count": 0
           },
           {
            "bin_end": 0.9,
            "bin_start": 0.8,
            "count": 0
           },
           {
            "bin_end": 1,
            "bin_start": 0.9,
            "count": 0
           }
          ],
          "max": null,
          "min": null,
          "nan_count": 1,
          "unique_count": 0
         }
        },
        {
         "dtype": "float64",
         "name": "Internet Penetration",
         "stats": {
          "histogram": [
           {
            "bin_end": 11.9,
            "bin_start": 11.8,
            "count": 0
           },
           {
            "bin_end": 12,
            "bin_start": 11.9,
            "count": 0
           },
           {
            "bin_end": 12.100000000000001,
            "bin_start": 12,
            "count": 0
           },
           {
            "bin_end": 12.200000000000001,
            "bin_start": 12.100000000000001,
            "count": 0
           },
           {
            "bin_end": 12.3,
            "bin_start": 12.200000000000001,
            "count": 0
           },
           {
            "bin_end": 12.4,
            "bin_start": 12.3,
            "count": 1
           },
           {
            "bin_end": 12.5,
            "bin_start": 12.4,
            "count": 0
           },
           {
            "bin_end": 12.600000000000001,
            "bin_start": 12.5,
            "count": 0
           },
           {
            "bin_end": 12.700000000000001,
            "bin_start": 12.600000000000001,
            "count": 0
           },
           {
            "bin_end": 12.8,
            "bin_start": 12.700000000000001,
            "count": 0
           }
          ],
          "max": 12.3,
          "min": 12.3,
          "nan_count": 0,
          "unique_count": 1
         }
        },
        {
         "dtype": "float64",
         "name": "Digital Penetration",
         "stats": {
          "histogram": [
           {
            "bin_end": 0.1,
            "bin_start": 0,
            "count": 0
           },
           {
            "bin_end": 0.2,
            "bin_start": 0.1,
            "count": 0
           },
           {
            "bin_end": 0.30000000000000004,
            "bin_start": 0.2,
            "count": 0
           },
           {
            "bin_end": 0.4,
            "bin_start": 0.30000000000000004,
            "count": 0
           },
           {
            "bin_end": 0.5,
            "bin_start": 0.4,
            "count": 0
           },
           {
            "bin_end": 0.6000000000000001,
            "bin_start": 0.5,
            "count": 0
           },
           {
            "bin_end": 0.7000000000000001,
            "bin_start": 0.6000000000000001,
            "count": 0
           },
           {
            "bin_end": 0.8,
            "bin_start": 0.7000000000000001,
            "count": 0
           },
           {
            "bin_end": 0.9,
            "bin_start": 0.8,
            "count": 0
           },
           {
            "bin_end": 1,
            "bin_start": 0.9,
            "count": 0
           }
          ],
          "max": null,
          "min": null,
          "nan_count": 1,
          "unique_count": 0
         }
        },
        {
         "dtype": "float64",
         "name": "Innovation Index",
         "stats": {
          "histogram": [
           {
            "bin_end": 0.1,
            "bin_start": 0,
            "count": 0
           },
           {
            "bin_end": 0.2,
            "bin_start": 0.1,
            "count": 0
           },
           {
            "bin_end": 0.30000000000000004,
            "bin_start": 0.2,
            "count": 0
           },
           {
            "bin_end": 0.4,
            "bin_start": 0.30000000000000004,
            "count": 0
           },
           {
            "bin_end": 0.5,
            "bin_start": 0.4,
            "count": 0
           },
           {
            "bin_end": 0.6000000000000001,
            "bin_start": 0.5,
            "count": 0
           },
           {
            "bin_end": 0.7000000000000001,
            "bin_start": 0.6000000000000001,
            "count": 0
           },
           {
            "bin_end": 0.8,
            "bin_start": 0.7000000000000001,
            "count": 0
           },
           {
            "bin_end": 0.9,
            "bin_start": 0.8,
            "count": 0
           },
           {
            "bin_end": 1,
            "bin_start": 0.9,
            "count": 0
           }
          ],
          "max": null,
          "min": null,
          "nan_count": 1,
          "unique_count": 0
         }
        },
        {
         "dtype": "float64",
         "name": "Smartphone Penetration (%)",
         "stats": {
          "histogram": [
           {
            "bin_end": 0.1,
            "bin_start": 0,
            "count": 0
           },
           {
            "bin_end": 0.2,
            "bin_start": 0.1,
            "count": 0
           },
           {
            "bin_end": 0.30000000000000004,
            "bin_start": 0.2,
            "count": 0
           },
           {
            "bin_end": 0.4,
            "bin_start": 0.30000000000000004,
            "count": 0
           },
           {
            "bin_end": 0.5,
            "bin_start": 0.4,
            "count": 0
           },
           {
            "bin_end": 0.6000000000000001,
            "bin_start": 0.5,
            "count": 0
           },
           {
            "bin_end": 0.7000000000000001,
            "bin_start": 0.6000000000000001,
            "count": 0
           },
           {
            "bin_end": 0.8,
            "bin_start": 0.7000000000000001,
            "count": 0
           },
           {
            "bin_end": 0.9,
            "bin_start": 0.8,
            "count": 0
           },
           {
            "bin_end": 1,
            "bin_start": 0.9,
            "count": 0
           }
          ],
          "max": null,
          "min": null,
          "nan_count": 1,
          "unique_count": 0
         }
        },
        {
         "dtype": "float64",
         "name": "CO2 Emissions per Capita (metric tonnes)",
         "stats": {
          "histogram": [
           {
            "bin_end": 0.293183411,
            "bin_start": 0.19318341100000003,
            "count": 0
           },
           {
            "bin_end": 0.39318341100000004,
            "bin_start": 0.293183411,
            "count": 0
           },
           {
            "bin_end": 0.49318341100000007,
            "bin_start": 0.39318341100000004,
            "count": 0
           },
           {
            "bin_end": 0.593183411,
            "bin_start": 0.49318341100000007,
            "count": 0
           },
           {
            "bin_end": 0.693183411,
            "bin_start": 0.593183411,
            "count": 0
           },
           {
            "bin_end": 0.7931834110000001,
            "bin_start": 0.693183411,
            "count": 1
           },
           {
            "bin_end": 0.8931834110000001,
            "bin_start": 0.7931834110000001,
            "count": 0
           },
           {
            "bin_end": 0.9931834110000001,
            "bin_start": 0.8931834110000001,
            "count": 0
           },
           {
            "bin_end": 1.093183411,
            "bin_start": 0.9931834110000001,
            "count": 0
           },
           {
            "bin_end": 1.1931834110000001,
            "bin_start": 1.093183411,
            "count": 0
           }
          ],
          "max": 0.693183411,
          "min": 0.693183411,
          "nan_count": 0,
          "unique_count": 1
         }
        },
        {
         "dtype": "float64",
         "name": "Pollution Index ",
         "stats": {
          "histogram": [
           {
            "bin_end": 103.8,
            "bin_start": 103.7,
            "count": 0
           },
           {
            "bin_end": 103.9,
            "bin_start": 103.8,
            "count": 0
           },
           {
            "bin_end": 104,
            "bin_start": 103.9,
            "count": 0
           },
           {
            "bin_end": 104.10000000000001,
            "bin_start": 104,
            "count": 0
           },
           {
            "bin_end": 104.2,
            "bin_start": 104.10000000000001,
            "count": 0
           },
           {
            "bin_end": 104.3,
            "bin_start": 104.2,
            "count": 1
           },
           {
            "bin_end": 104.4,
            "bin_start": 104.3,
            "count": 0
           },
           {
            "bin_end": 104.5,
            "bin_start": 104.4,
            "count": 0
           },
           {
            "bin_end": 104.60000000000001,
            "bin_start": 104.5,
            "count": 0
           },
           {
            "bin_end": 104.7,
            "bin_start": 104.60000000000001,
            "count": 0
           }
          ],
          "max": 104.2,
          "min": 104.2,
          "nan_count": 0,
          "unique_count": 1
         }
        },
        {
         "dtype": "float64",
         "name": "Street length total (m)",
         "stats": {
          "histogram": [
           {
            "bin_end": 4374731.418,
            "bin_start": 4374731.318,
            "count": 0
           },
           {
            "bin_end": 4374731.518,
            "bin_start": 4374731.418,
            "count": 0
           },
           {
            "bin_end": 4374731.618,
            "bin_start": 4374731.518,
            "count": 0
           },
           {
            "bin_end": 4374731.718,
            "bin_start": 4374731.618,
            "count": 0
           },
           {
            "bin_end": 4374731.818,
            "bin_start": 4374731.718,
            "count": 0
           },
           {
            "bin_end": 4374731.918,
            "bin_start": 4374731.818,
            "count": 1
           },
           {
            "bin_end": 4374732.018,
            "bin_start": 4374731.918,
            "count": 0
           },
           {
            "bin_end": 4374732.118,
            "bin_start": 4374732.018,
            "count": 0
           },
           {
            "bin_end": 4374732.218,
            "bin_start": 4374732.118,
            "count": 0
           },
           {
            "bin_end": 4374732.318,
            "bin_start": 4374732.218,
            "count": 0
           }
          ],
          "max": 4374731.818,
          "min": 4374731.818,
          "nan_count": 0,
          "unique_count": 1
         }
        },
        {
         "dtype": "float64",
         "name": "Street Length Density (m/sq. km)",
         "stats": {
          "histogram": [
           {
            "bin_end": 4185927859.6,
            "bin_start": 4185927859.5,
            "count": 0
           },
           {
            "bin_end": 4185927859.7,
            "bin_start": 4185927859.6,
            "count": 0
           },
           {
            "bin_end": 4185927859.8,
            "bin_start": 4185927859.7,
            "count": 0
           },
           {
            "bin_end": 4185927859.9,
            "bin_start": 4185927859.8,
            "count": 0
           },
           {
            "bin_end": 4185927860,
            "bin_start": 4185927859.9,
            "count": 0
           },
           {
            "bin_end": 4185927860.1,
            "bin_start": 4185927860,
            "count": 1
           },
           {
            "bin_end": 4185927860.2,
            "bin_start": 4185927860.1,
            "count": 0
           },
           {
            "bin_end": 4185927860.3,
            "bin_start": 4185927860.2,
            "count": 0
           },
           {
            "bin_end": 4185927860.4,
            "bin_start": 4185927860.3,
            "count": 0
           },
           {
            "bin_end": 4185927860.5,
            "bin_start": 4185927860.4,
            "count": 0
           }
          ],
          "max": 4185927860,
          "min": 4185927860,
          "nan_count": 0,
          "unique_count": 1
         }
        },
        {
         "dtype": "float64",
         "name": "Street Length Average (m)",
         "stats": {
          "histogram": [
           {
            "bin_end": 122.27208279999999,
            "bin_start": 122.1720828,
            "count": 0
           },
           {
            "bin_end": 122.3720828,
            "bin_start": 122.27208279999999,
            "count": 0
           },
           {
            "bin_end": 122.4720828,
            "bin_start": 122.3720828,
            "count": 0
           },
           {
            "bin_end": 122.5720828,
            "bin_start": 122.4720828,
            "count": 0
           },
           {
            "bin_end": 122.6720828,
            "bin_start": 122.5720828,
            "count": 0
           },
           {
            "bin_end": 122.77208279999999,
            "bin_start": 122.6720828,
            "count": 1
           },
           {
            "bin_end": 122.8720828,
            "bin_start": 122.77208279999999,
            "count": 0
           },
           {
            "bin_end": 122.9720828,
            "bin_start": 122.8720828,
            "count": 0
           },
           {
            "bin_end": 123.0720828,
            "bin_start": 122.9720828,
            "count": 0
           },
           {
            "bin_end": 123.1720828,
            "bin_start": 123.0720828,
            "count": 0
           }
          ],
          "max": 122.6720828,
          "min": 122.6720828,
          "nan_count": 0,
          "unique_count": 1
         }
        },
        {
         "dtype": "float64",
         "name": "Intersection Count",
         "stats": {
          "histogram": [
           {
            "bin_end": 20704.6,
            "bin_start": 20704.5,
            "count": 0
           },
           {
            "bin_end": 20704.7,
            "bin_start": 20704.6,
            "count": 0
           },
           {
            "bin_end": 20704.8,
            "bin_start": 20704.7,
            "count": 0
           },
           {
            "bin_end": 20704.9,
            "bin_start": 20704.8,
            "count": 0
           },
           {
            "bin_end": 20705,
            "bin_start": 20704.9,
            "count": 0
           },
           {
            "bin_end": 20705.1,
            "bin_start": 20705,
            "count": 1
           },
           {
            "bin_end": 20705.2,
            "bin_start": 20705.1,
            "count": 0
           },
           {
            "bin_end": 20705.3,
            "bin_start": 20705.2,
            "count": 0
           },
           {
            "bin_end": 20705.4,
            "bin_start": 20705.3,
            "count": 0
           },
           {
            "bin_end": 20705.5,
            "bin_start": 20705.4,
            "count": 0
           }
          ],
          "max": 20705,
          "min": 20705,
          "nan_count": 0,
          "unique_count": 1
         }
        },
        {
         "dtype": "float64",
         "name": "Intersection Density (per sq. km)",
         "stats": {
          "histogram": [
           {
            "bin_end": 956.4421641,
            "bin_start": 956.3421641,
            "count": 0
           },
           {
            "bin_end": 956.5421641,
            "bin_start": 956.4421641,
            "count": 0
           },
           {
            "bin_end": 956.6421641,
            "bin_start": 956.5421641,
            "count": 0
           },
           {
            "bin_end": 956.7421641,
            "bin_start": 956.6421641,
            "count": 0
           },
           {
            "bin_end": 956.8421641,
            "bin_start": 956.7421641,
            "count": 0
           },
           {
            "bin_end": 956.9421641,
            "bin_start": 956.8421641,
            "count": 1
           },
           {
            "bin_end": 957.0421641,
            "bin_start": 956.9421641,
            "count": 0
           },
           {
            "bin_end": 957.1421641,
            "bin_start": 957.0421641,
            "count": 0
           },
           {
            "bin_end": 957.2421641,
            "bin_start": 957.1421641,
            "count": 0
           },
           {
            "bin_end": 957.3421641,
            "bin_start": 957.2421641,
            "count": 0
           }
          ],
          "max": 956.8421641,
          "min": 956.8421641,
          "nan_count": 0,
          "unique_count": 1
         }
        },
        {
         "dtype": "float64",
         "name": "Degree Average",
         "stats": {
          "histogram": [
           {
            "bin_end": 4.83096638,
            "bin_start": 4.73096638,
            "count": 0
           },
           {
            "bin_end": 4.93096638,
            "bin_start": 4.83096638,
            "count": 0
           },
           {
            "bin_end": 5.03096638,
            "bin_start": 4.93096638,
            "count": 0
           },
           {
            "bin_end": 5.13096638,
            "bin_start": 5.03096638,
            "count": 0
           },
           {
            "bin_end": 5.23096638,
            "bin_start": 5.13096638,
            "count": 0
           },
           {
            "bin_end": 5.33096638,
            "bin_start": 5.23096638,
            "count": 1
           },
           {
            "bin_end": 5.43096638,
            "bin_start": 5.33096638,
            "count": 0
           },
           {
            "bin_end": 5.53096638,
            "bin_start": 5.43096638,
            "count": 0
           },
           {
            "bin_end": 5.63096638,
            "bin_start": 5.53096638,
            "count": 0
           },
           {
            "bin_end": 5.73096638,
            "bin_start": 5.63096638,
            "count": 0
           }
          ],
          "max": 5.23096638,
          "min": 5.23096638,
          "nan_count": 0,
          "unique_count": 1
         }
        },
        {
         "dtype": "float64",
         "name": "Streets per Node",
         "stats": {
          "histogram": [
           {
            "bin_end": 2.288828584,
            "bin_start": 2.188828584,
            "count": 0
           },
           {
            "bin_end": 2.388828584,
            "bin_start": 2.288828584,
            "count": 0
           },
           {
            "bin_end": 2.488828584,
            "bin_start": 2.388828584,
            "count": 0
           },
           {
            "bin_end": 2.588828584,
            "bin_start": 2.488828584,
            "count": 0
           },
           {
            "bin_end": 2.688828584,
            "bin_start": 2.588828584,
            "count": 0
           },
           {
            "bin_end": 2.788828584,
            "bin_start": 2.688828584,
            "count": 1
           },
           {
            "bin_end": 2.888828584,
            "bin_start": 2.788828584,
            "count": 0
           },
           {
            "bin_end": 2.988828584,
            "bin_start": 2.888828584,
            "count": 0
           },
           {
            "bin_end": 3.088828584,
            "bin_start": 2.988828584,
            "count": 0
           },
           {
            "bin_end": 3.188828584,
            "bin_start": 3.088828584,
            "count": 0
           }
          ],
          "max": 2.688828584,
          "min": 2.688828584,
          "nan_count": 0,
          "unique_count": 1
         }
        },
        {
         "dtype": "float64",
         "name": "Circuity",
         "stats": {
          "histogram": [
           {
            "bin_end": 0.6436630170000001,
            "bin_start": 0.5436630170000001,
            "count": 0
           },
           {
            "bin_end": 0.743663017,
            "bin_start": 0.6436630170000001,
            "count": 0
           },
           {
            "bin_end": 0.8436630170000001,
            "bin_start": 0.743663017,
            "count": 0
           },
           {
            "bin_end": 0.9436630170000001,
            "bin_start": 0.8436630170000001,
            "count": 0
           },
           {
            "bin_end": 1.043663017,
            "bin_start": 0.9436630170000001,
            "count": 0
           },
           {
            "bin_end": 1.1436630170000002,
            "bin_start": 1.043663017,
            "count": 1
           },
           {
            "bin_end": 1.2436630170000003,
            "bin_start": 1.1436630170000002,
            "count": 0
           },
           {
            "bin_end": 1.3436630170000001,
            "bin_start": 1.2436630170000003,
            "count": 0
           },
           {
            "bin_end": 1.443663017,
            "bin_start": 1.3436630170000001,
            "count": 0
           },
           {
            "bin_end": 1.543663017,
            "bin_start": 1.443663017,
            "count": 0
           }
          ],
          "max": 1.043663017,
          "min": 1.043663017,
          "nan_count": 0,
          "unique_count": 1
         }
        },
        {
         "dtype": "float64",
         "name": "Self-Loop Proportion",
         "stats": {
          "histogram": [
           {
            "bin_end": -0.39922183499999997,
            "bin_start": -0.499221835,
            "count": 0
           },
           {
            "bin_end": -0.299221835,
            "bin_start": -0.39922183499999997,
            "count": 0
           },
           {
            "bin_end": -0.19922183499999996,
            "bin_start": -0.299221835,
            "count": 0
           },
           {
            "bin_end": -0.09922183499999998,
            "bin_start": -0.19922183499999996,
            "count": 0
           },
           {
            "bin_end": 0.0007781649999999973,
            "bin_start": -0.09922183499999998,
            "count": 0
           },
           {
            "bin_end": 0.10077816500000009,
            "bin_start": 0.0007781649999999973,
            "count": 1
           },
           {
            "bin_end": 0.20077816500000006,
            "bin_start": 0.10077816500000009,
            "count": 0
           },
           {
            "bin_end": 0.30077816500000004,
            "bin_start": 0.20077816500000006,
            "count": 0
           },
           {
            "bin_end": 0.400778165,
            "bin_start": 0.30077816500000004,
            "count": 0
           },
           {
            "bin_end": 0.500778165,
            "bin_start": 0.400778165,
            "count": 0
           }
          ],
          "max": 0.000778165,
          "min": 0.000778165,
          "nan_count": 0,
          "unique_count": 1
         }
        },
        {
         "dtype": "float64",
         "name": "Highway Proportion",
         "stats": {
          "histogram": [
           {
            "bin_end": -0.4,
            "bin_start": -0.5,
            "count": 0
           },
           {
            "bin_end": -0.3,
            "bin_start": -0.4,
            "count": 0
           },
           {
            "bin_end": -0.19999999999999996,
            "bin_start": -0.3,
            "count": 0
           },
           {
            "bin_end": -0.09999999999999998,
            "bin_start": -0.19999999999999996,
            "count": 0
           },
           {
            "bin_end": 0,
            "bin_start": -0.09999999999999998,
            "count": 0
           },
           {
            "bin_end": 0.10000000000000009,
            "bin_start": 0,
            "count": 1
           },
           {
            "bin_end": 0.20000000000000007,
            "bin_start": 0.10000000000000009,
            "count": 0
           },
           {
            "bin_end": 0.30000000000000004,
            "bin_start": 0.20000000000000007,
            "count": 0
           },
           {
            "bin_end": 0.4,
            "bin_start": 0.30000000000000004,
            "count": 0
           },
           {
            "bin_end": 0.5,
            "bin_start": 0.4,
            "count": 0
           }
          ],
          "max": 0,
          "min": 0,
          "nan_count": 0,
          "unique_count": 1
         }
        },
        {
         "dtype": "float64",
         "name": "Metro Propensity Factor",
         "stats": {
          "histogram": [
           {
            "bin_end": -0.320575496,
            "bin_start": -0.420575496,
            "count": 0
           },
           {
            "bin_end": -0.22057549599999998,
            "bin_start": -0.320575496,
            "count": 0
           },
           {
            "bin_end": -0.12057549599999995,
            "bin_start": -0.22057549599999998,
            "count": 0
           },
           {
            "bin_end": -0.02057549599999997,
            "bin_start": -0.12057549599999995,
            "count": 0
           },
           {
            "bin_end": 0.079424504,
            "bin_start": -0.02057549599999997,
            "count": 0
           },
           {
            "bin_end": 0.1794245040000001,
            "bin_start": 0.079424504,
            "count": 1
           },
           {
            "bin_end": 0.2794245040000001,
            "bin_start": 0.1794245040000001,
            "count": 0
           },
           {
            "bin_end": 0.37942450400000005,
            "bin_start": 0.2794245040000001,
            "count": 0
           },
           {
            "bin_end": 0.47942450400000003,
            "bin_start": 0.37942450400000005,
            "count": 0
           },
           {
            "bin_end": 0.579424504,
            "bin_start": 0.47942450400000003,
            "count": 0
           }
          ],
          "max": 0.079424504,
          "min": 0.079424504,
          "nan_count": 0,
          "unique_count": 1
         }
        },
        {
         "dtype": "float64",
         "name": "BRT Propensity Factor",
         "stats": {
          "histogram": [
           {
            "bin_end": -0.3879325116,
            "bin_start": -0.4879325116,
            "count": 0
           },
           {
            "bin_end": -0.2879325116,
            "bin_start": -0.3879325116,
            "count": 0
           },
           {
            "bin_end": -0.18793251159999996,
            "bin_start": -0.2879325116,
            "count": 0
           },
           {
            "bin_end": -0.08793251159999999,
            "bin_start": -0.18793251159999996,
            "count": 0
           },
           {
            "bin_end": 0.012067488399999993,
            "bin_start": -0.08793251159999999,
            "count": 0
           },
           {
            "bin_end": 0.11206748840000008,
            "bin_start": 0.012067488399999993,
            "count": 1
           },
           {
            "bin_end": 0.21206748840000006,
            "bin_start": 0.11206748840000008,
            "count": 0
           },
           {
            "bin_end": 0.31206748840000004,
            "bin_start": 0.21206748840000006,
            "count": 0
           },
           {
            "bin_end": 0.4120674884,
            "bin_start": 0.31206748840000004,
            "count": 0
           },
           {
            "bin_end": 0.5120674884,
            "bin_start": 0.4120674884,
            "count": 0
           }
          ],
          "max": 0.0120674884,
          "min": 0.0120674884,
          "nan_count": 0,
          "unique_count": 1
         }
        },
        {
         "dtype": "float64",
         "name": "BikeShare Propensity Factor",
         "stats": {
          "histogram": [
           {
            "bin_end": -0.02639778499999998,
            "bin_start": -0.12639778499999998,
            "count": 0
           },
           {
            "bin_end": 0.07360221500000003,
            "bin_start": -0.02639778499999998,
            "count": 0
           },
           {
            "bin_end": 0.17360221500000006,
            "bin_start": 0.07360221500000003,
            "count": 0
           },
           {
            "bin_end": 0.27360221500000004,
            "bin_start": 0.17360221500000006,
            "count": 0
           },
           {
            "bin_end": 0.373602215,
            "bin_start": 0.27360221500000004,
            "count": 0
           },
           {
            "bin_end": 0.4736022150000001,
            "bin_start": 0.373602215,
            "count": 1
           },
           {
            "bin_end": 0.5736022150000001,
            "bin_start": 0.4736022150000001,
            "count": 0
           },
           {
            "bin_end": 0.6736022150000001,
            "bin_start": 0.5736022150000001,
            "count": 0
           },
           {
            "bin_end": 0.773602215,
            "bin_start": 0.6736022150000001,
            "count": 0
           },
           {
            "bin_end": 0.873602215,
            "bin_start": 0.773602215,
            "count": 0
           }
          ],
          "max": 0.373602215,
          "min": 0.373602215,
          "nan_count": 0,
          "unique_count": 1
         }
        },
        {
         "dtype": "float64",
         "name": "Development Factor",
         "stats": {
          "histogram": [
           {
            "bin_end": -0.37043942409999997,
            "bin_start": -0.4704394241,
            "count": 0
           },
           {
            "bin_end": -0.2704394241,
            "bin_start": -0.37043942409999997,
            "count": 0
           },
           {
            "bin_end": -0.17043942409999996,
            "bin_start": -0.2704394241,
            "count": 0
           },
           {
            "bin_end": -0.07043942409999998,
            "bin_start": -0.17043942409999996,
            "count": 0
           },
           {
            "bin_end": 0.029560575899999997,
            "bin_start": -0.07043942409999998,
            "count": 0
           },
           {
            "bin_end": 0.12956057590000009,
            "bin_start": 0.029560575899999997,
            "count": 1
           },
           {
            "bin_end": 0.22956057590000006,
            "bin_start": 0.12956057590000009,
            "count": 0
           },
           {
            "bin_end": 0.32956057590000004,
            "bin_start": 0.22956057590000006,
            "count": 0
           },
           {
            "bin_end": 0.4295605759,
            "bin_start": 0.32956057590000004,
            "count": 0
           },
           {
            "bin_end": 0.5295605759,
            "bin_start": 0.4295605759,
            "count": 0
           }
          ],
          "max": 0.0295605759,
          "min": 0.0295605759,
          "nan_count": 0,
          "unique_count": 1
         }
        },
        {
         "dtype": "float64",
         "name": "Sustainability Factor",
         "stats": {
          "histogram": [
           {
            "bin_end": -0.1785291359,
            "bin_start": -0.2785291359,
            "count": 0
           },
           {
            "bin_end": -0.07852913589999999,
            "bin_start": -0.1785291359,
            "count": 0
           },
           {
            "bin_end": 0.021470864100000042,
            "bin_start": -0.07852913589999999,
            "count": 0
           },
           {
            "bin_end": 0.12147086410000002,
            "bin_start": 0.021470864100000042,
            "count": 0
           },
           {
            "bin_end": 0.2214708641,
            "bin_start": 0.12147086410000002,
            "count": 0
           },
           {
            "bin_end": 0.3214708641000001,
            "bin_start": 0.2214708641,
            "count": 1
           },
           {
            "bin_end": 0.42147086410000006,
            "bin_start": 0.3214708641000001,
            "count": 0
           },
           {
            "bin_end": 0.5214708641000001,
            "bin_start": 0.42147086410000006,
            "count": 0
           },
           {
            "bin_end": 0.6214708641,
            "bin_start": 0.5214708641000001,
            "count": 0
           },
           {
            "bin_end": 0.7214708641,
            "bin_start": 0.6214708641,
            "count": 0
           }
          ],
          "max": 0.2214708641,
          "min": 0.2214708641,
          "nan_count": 0,
          "unique_count": 1
         }
        },
        {
         "dtype": "float64",
         "name": "Population Factor",
         "stats": {
          "histogram": [
           {
            "bin_end": -0.0897319926,
            "bin_start": -0.1897319926,
            "count": 0
           },
           {
            "bin_end": 0.010268007400000001,
            "bin_start": -0.0897319926,
            "count": 0
           },
           {
            "bin_end": 0.11026800740000003,
            "bin_start": 0.010268007400000001,
            "count": 0
           },
           {
            "bin_end": 0.2102680074,
            "bin_start": 0.11026800740000003,
            "count": 0
           },
           {
            "bin_end": 0.3102680074,
            "bin_start": 0.2102680074,
            "count": 0
           },
           {
            "bin_end": 0.4102680074000001,
            "bin_start": 0.3102680074,
            "count": 1
           },
           {
            "bin_end": 0.5102680074000001,
            "bin_start": 0.4102680074000001,
            "count": 0
           },
           {
            "bin_end": 0.6102680074,
            "bin_start": 0.5102680074000001,
            "count": 0
           },
           {
            "bin_end": 0.7102680074000001,
            "bin_start": 0.6102680074,
            "count": 0
           },
           {
            "bin_end": 0.8102680073999999,
            "bin_start": 0.7102680074000001,
            "count": 0
           }
          ],
          "max": 0.3102680074,
          "min": 0.3102680074,
          "nan_count": 0,
          "unique_count": 1
         }
        },
        {
         "dtype": "float64",
         "name": "Congestion Factor",
         "stats": {
          "histogram": [
           {
            "bin_end": 0.3072857991,
            "bin_start": 0.2072857991,
            "count": 0
           },
           {
            "bin_end": 0.4072857991,
            "bin_start": 0.3072857991,
            "count": 0
           },
           {
            "bin_end": 0.5072857991,
            "bin_start": 0.4072857991,
            "count": 0
           },
           {
            "bin_end": 0.6072857991,
            "bin_start": 0.5072857991,
            "count": 0
           },
           {
            "bin_end": 0.7072857991,
            "bin_start": 0.6072857991,
            "count": 0
           },
           {
            "bin_end": 0.8072857991000001,
            "bin_start": 0.7072857991,
            "count": 1
           },
           {
            "bin_end": 0.9072857991000001,
            "bin_start": 0.8072857991000001,
            "count": 0
           },
           {
            "bin_end": 1.0072857991,
            "bin_start": 0.9072857991000001,
            "count": 0
           },
           {
            "bin_end": 1.1072857991,
            "bin_start": 1.0072857991,
            "count": 0
           },
           {
            "bin_end": 1.2072857991000001,
            "bin_start": 1.1072857991,
            "count": 0
           }
          ],
          "max": 0.7072857991,
          "min": 0.7072857991,
          "nan_count": 0,
          "unique_count": 1
         }
        },
        {
         "dtype": "float64",
         "name": "Sprawl Factor",
         "stats": {
          "histogram": [
           {
            "bin_end": -0.1881763645,
            "bin_start": -0.2881763645,
            "count": 0
           },
           {
            "bin_end": -0.08817636449999999,
            "bin_start": -0.1881763645,
            "count": 0
           },
           {
            "bin_end": 0.01182363550000004,
            "bin_start": -0.08817636449999999,
            "count": 0
           },
           {
            "bin_end": 0.11182363550000002,
            "bin_start": 0.01182363550000004,
            "count": 0
           },
           {
            "bin_end": 0.2118236355,
            "bin_start": 0.11182363550000002,
            "count": 0
           },
           {
            "bin_end": 0.3118236355000001,
            "bin_start": 0.2118236355,
            "count": 1
           },
           {
            "bin_end": 0.41182363550000006,
            "bin_start": 0.3118236355000001,
            "count": 0
           },
           {
            "bin_end": 0.5118236355000001,
            "bin_start": 0.41182363550000006,
            "count": 0
           },
           {
            "bin_end": 0.6118236355,
            "bin_start": 0.5118236355000001,
            "count": 0
           },
           {
            "bin_end": 0.7118236355,
            "bin_start": 0.6118236355,
            "count": 0
           }
          ],
          "max": 0.2118236355,
          "min": 0.2118236355,
          "nan_count": 0,
          "unique_count": 1
         }
        },
        {
         "dtype": "float64",
         "name": "Network Density Factor",
         "stats": {
          "histogram": [
           {
            "bin_end": -0.06942501589999997,
            "bin_start": -0.16942501589999998,
            "count": 0
           },
           {
            "bin_end": 0.030574984100000036,
            "bin_start": -0.06942501589999997,
            "count": 0
           },
           {
            "bin_end": 0.13057498410000007,
            "bin_start": 0.030574984100000036,
            "count": 0
           },
           {
            "bin_end": 0.23057498410000005,
            "bin_start": 0.13057498410000007,
            "count": 0
           },
           {
            "bin_end": 0.3305749841,
            "bin_start": 0.23057498410000005,
            "count": 0
           },
           {
            "bin_end": 0.4305749841000001,
            "bin_start": 0.3305749841,
            "count": 1
           },
           {
            "bin_end": 0.5305749841,
            "bin_start": 0.4305749841000001,
            "count": 0
           },
           {
            "bin_end": 0.6305749841000001,
            "bin_start": 0.5305749841,
            "count": 0
           },
           {
            "bin_end": 0.7305749841,
            "bin_start": 0.6305749841000001,
            "count": 0
           },
           {
            "bin_end": 0.8305749841000001,
            "bin_start": 0.7305749841,
            "count": 0
           }
          ],
          "max": 0.3305749841,
          "min": 0.3305749841,
          "nan_count": 0,
          "unique_count": 1
         }
        },
        {
         "dtype": "object",
         "name": "Code",
         "stats": {
          "categories": [
           {
            "count": 1,
            "name": "Missing"
           }
          ],
          "nan_count": 1,
          "unique_count": 0
         }
        },
        {
         "dtype": "float64",
         "name": "Year",
         "stats": {
          "histogram": [
           {
            "bin_end": 0.1,
            "bin_start": 0,
            "count": 0
           },
           {
            "bin_end": 0.2,
            "bin_start": 0.1,
            "count": 0
           },
           {
            "bin_end": 0.30000000000000004,
            "bin_start": 0.2,
            "count": 0
           },
           {
            "bin_end": 0.4,
            "bin_start": 0.30000000000000004,
            "count": 0
           },
           {
            "bin_end": 0.5,
            "bin_start": 0.4,
            "count": 0
           },
           {
            "bin_end": 0.6000000000000001,
            "bin_start": 0.5,
            "count": 0
           },
           {
            "bin_end": 0.7000000000000001,
            "bin_start": 0.6000000000000001,
            "count": 0
           },
           {
            "bin_end": 0.8,
            "bin_start": 0.7000000000000001,
            "count": 0
           },
           {
            "bin_end": 0.9,
            "bin_start": 0.8,
            "count": 0
           },
           {
            "bin_end": 1,
            "bin_start": 0.9,
            "count": 0
           }
          ],
          "max": null,
          "min": null,
          "nan_count": 1,
          "unique_count": 0
         }
        },
        {
         "dtype": "float64",
         "name": "Fossil fuels per capita (kWh)",
         "stats": {
          "histogram": [
           {
            "bin_end": 0.1,
            "bin_start": 0,
            "count": 0
           },
           {
            "bin_end": 0.2,
            "bin_start": 0.1,
            "count": 0
           },
           {
            "bin_end": 0.30000000000000004,
            "bin_start": 0.2,
            "count": 0
           },
           {
            "bin_end": 0.4,
            "bin_start": 0.30000000000000004,
            "count": 0
           },
           {
            "bin_end": 0.5,
            "bin_start": 0.4,
            "count": 0
           },
           {
            "bin_end": 0.6000000000000001,
            "bin_start": 0.5,
            "count": 0
           },
           {
            "bin_end": 0.7000000000000001,
            "bin_start": 0.6000000000000001,
            "count": 0
           },
           {
            "bin_end": 0.8,
            "bin_start": 0.7000000000000001,
            "count": 0
           },
           {
            "bin_end": 0.9,
            "bin_start": 0.8,
            "count": 0
           },
           {
            "bin_end": 1,
            "bin_start": 0.9,
            "count": 0
           }
          ],
          "max": null,
          "min": null,
          "nan_count": 1,
          "unique_count": 0
         }
        },
        {
         "dtype": "int64",
         "name": "_deepnote_index_column"
        }
       ],
       "row_count": 1,
       "rows_bottom": null,
       "rows_top": [
        {
         "BRT Age (years)": 0,
         "BRT Annual Ridership per Capita": 0,
         "BRT Fleet per Hundred Thousand Persons": 0,
         "BRT Length (km)": 0,
         "BRT Propensity Factor": 0.0120674884,
         "BRT Stations per Hundred Thousand Persons": 0,
         "BRT System Length Density (per km)": 0,
         "Bicycle Modeshare (%)": 0,
         "BikeShare Propensity Factor": 0.373602215,
         "Bikeshare Age (years)": 0,
         "Bikeshare Bicycles per Hundred Thousand Persons": 0,
         "Bikeshare Number of Bikes": 0,
         "Bikeshare Stations": 0,
         "Bikeshare Stations per Hundred Thousand Persons": 0,
         "CO2 Emissions per Capita (metric tonnes)": 0.693183411,
         "Car Modeshare (%)": 17.7,
         "Circuity": 1.043663017,
         "City": "Kabul",
         "Code": "nan",
         "Congestion (%)": "nan",
         "Congestion AM Peak (%)": "nan",
         "Congestion Factor": 0.7072857991,
         "Congestion PM Peak (%)": "nan",
         "Cost of Living Index": "nan",
         "Country": "Afghanistan",
         "Degree Average": 5.23096638,
         "Development Factor": 0.0295605759,
         "Digital Penetration": "nan",
         "Fossil fuels per capita (kWh)": "nan",
         "GDP per Capita (USD)": 617.9,
         "Gasoline Pump Price (USD/liter)": 0.65,
         "Gini Coefficient": 0.29,
         "Grocery Index": "nan",
         "Highway Proportion": 0,
         "Inefficiency Index": "nan",
         "Innovation Index": "nan",
         "Internet Penetration": 12.3,
         "Intersection Count": 20705,
         "Intersection Density (per sq. km)": 956.8421641,
         "Land Area (sq. km)": 259,
         "Life Expectancy (years)": 60.5,
         "Local Purchasing Power Index": "nan",
         "Metro Propensity Factor": 0.079424504,
         "Network Density Factor": 0.3305749841,
         "Pollution Index ": 104.2,
         "Population": 3650000,
         "Population Change 1990 – 2000": 631001,
         "Population Change 2000 – 2010": 1088568,
         "Population Change 2010 – 2020": 1083559,
         "Population Change 2020 – 2025": 990357,
         "Population Density (per sq. km)": 14100,
         "Population Factor": 0.3102680074,
         "Poverty Rate (%)": 27.6,
         "Public Transit Modeshare (%)": 49.6,
         "Rent Index": "nan",
         "Restaurant Price Index": "nan",
         "Road Deaths Rate (per 1000)": 15.5,
         "Safety Index": "nan",
         "Self-Loop Proportion": 0.000778165,
         "Smartphone Penetration (%)": "nan",
         "Sprawl Factor": 0.2118236355,
         "Street Length Average (m)": 122.6720828,
         "Street Length Density (m/sq. km)": 4185927860,
         "Street length total (m)": 4374731.818,
         "Streets per Node": 2.688828584,
         "Subway Age (years)": 0,
         "Subway Length (km)": 0,
         "Subway Length Density (per km)": 0,
         "Subway Ridership per Capita": 0,
         "Subway Stations per Hundred Thousand": 0,
         "Sustainability Factor": 0.2214708641,
         "Traffic Index": "nan",
         "Travel Time Index": "nan",
         "Typology": "Congested Emerging",
         "Unemployment Rate (%)": 38,
         "Urbanization Rate 2015 (%)": 26.7,
         "Urbanization Rate Change 2015 – 2025 (pp)": 4.7,
         "Walking Modeshare (%)": 32.7,
         "Year": "nan",
         "_deepnote_index_column": 0,
         "cityID": 1,
         "clusterID": 1
        }
       ]
      },
      "text/html": [
       "<div>\n",
       "<style scoped>\n",
       "    .dataframe tbody tr th:only-of-type {\n",
       "        vertical-align: middle;\n",
       "    }\n",
       "\n",
       "    .dataframe tbody tr th {\n",
       "        vertical-align: top;\n",
       "    }\n",
       "\n",
       "    .dataframe thead th {\n",
       "        text-align: right;\n",
       "    }\n",
       "</style>\n",
       "<table border=\"1\" class=\"dataframe\">\n",
       "  <thead>\n",
       "    <tr style=\"text-align: right;\">\n",
       "      <th></th>\n",
       "      <th>City</th>\n",
       "      <th>cityID</th>\n",
       "      <th>clusterID</th>\n",
       "      <th>Typology</th>\n",
       "      <th>Country</th>\n",
       "      <th>Car Modeshare (%)</th>\n",
       "      <th>Public Transit Modeshare (%)</th>\n",
       "      <th>Bicycle Modeshare (%)</th>\n",
       "      <th>Walking Modeshare (%)</th>\n",
       "      <th>Gasoline Pump Price (USD/liter)</th>\n",
       "      <th>...</th>\n",
       "      <th>BikeShare Propensity Factor</th>\n",
       "      <th>Development Factor</th>\n",
       "      <th>Sustainability Factor</th>\n",
       "      <th>Population Factor</th>\n",
       "      <th>Congestion Factor</th>\n",
       "      <th>Sprawl Factor</th>\n",
       "      <th>Network Density Factor</th>\n",
       "      <th>Code</th>\n",
       "      <th>Year</th>\n",
       "      <th>Fossil fuels per capita (kWh)</th>\n",
       "    </tr>\n",
       "  </thead>\n",
       "  <tbody>\n",
       "    <tr>\n",
       "      <th>0</th>\n",
       "      <td>Kabul</td>\n",
       "      <td>1</td>\n",
       "      <td>1</td>\n",
       "      <td>Congested Emerging</td>\n",
       "      <td>Afghanistan</td>\n",
       "      <td>17.7</td>\n",
       "      <td>49.6</td>\n",
       "      <td>0</td>\n",
       "      <td>32.7</td>\n",
       "      <td>0.65</td>\n",
       "      <td>...</td>\n",
       "      <td>0.373602</td>\n",
       "      <td>0.029561</td>\n",
       "      <td>0.221471</td>\n",
       "      <td>0.310268</td>\n",
       "      <td>0.707286</td>\n",
       "      <td>0.211824</td>\n",
       "      <td>0.330575</td>\n",
       "      <td>NaN</td>\n",
       "      <td>NaN</td>\n",
       "      <td>NaN</td>\n",
       "    </tr>\n",
       "  </tbody>\n",
       "</table>\n",
       "<p>1 rows × 81 columns</p>\n",
       "</div>"
      ],
      "text/plain": [
       "    City  cityID  clusterID            Typology      Country  \\\n",
       "0  Kabul       1          1  Congested Emerging  Afghanistan   \n",
       "\n",
       "   Car Modeshare (%)  Public Transit Modeshare (%) Bicycle Modeshare (%)  \\\n",
       "0               17.7                          49.6                     0   \n",
       "\n",
       "   Walking Modeshare (%)  Gasoline Pump Price (USD/liter)  ...  \\\n",
       "0                   32.7                             0.65  ...   \n",
       "\n",
       "   BikeShare Propensity Factor  Development Factor  Sustainability Factor  \\\n",
       "0                     0.373602            0.029561               0.221471   \n",
       "\n",
       "   Population Factor  Congestion Factor  Sprawl Factor  \\\n",
       "0           0.310268           0.707286       0.211824   \n",
       "\n",
       "   Network Density Factor  Code  Year  Fossil fuels per capita (kWh)  \n",
       "0                0.330575   NaN   NaN                            NaN  \n",
       "\n",
       "[1 rows x 81 columns]"
      ]
     },
     "execution_count": 60,
     "metadata": {},
     "output_type": "execute_result"
    }
   ],
   "source": [
    "mergedDf.head(1)"
   ]
  },
  {
   "cell_type": "code",
   "execution_count": 61,
   "metadata": {
    "cell_id": "00009-3fe29057-4218-43a2-b82c-4fd3eee2c602",
    "deepnote_cell_type": "code",
    "execution_millis": 2,
    "execution_start": 1607205926049,
    "output_cleared": false,
    "source_hash": "dce4d7f1",
    "tags": []
   },
   "outputs": [
    {
     "data": {
      "text/plain": [
       "Index(['City', 'cityID', 'clusterID', 'Typology', 'Country',\n",
       "       'Car Modeshare (%)', 'Public Transit Modeshare (%)',\n",
       "       'Bicycle Modeshare (%)', 'Walking Modeshare (%)',\n",
       "       'Gasoline Pump Price (USD/liter)', 'Road Deaths Rate (per 1000)',\n",
       "       'Subway Length (km)', 'Subway Length Density (per km)',\n",
       "       'Subway Stations per Hundred Thousand', 'Subway Ridership per Capita',\n",
       "       'Subway Age (years)', 'BRT Length (km)',\n",
       "       'BRT System Length Density (per km)',\n",
       "       'BRT Stations per Hundred Thousand Persons',\n",
       "       'BRT Fleet per Hundred Thousand Persons',\n",
       "       'BRT Annual Ridership per Capita', 'BRT Age (years)',\n",
       "       'Bikeshare Stations', 'Bikeshare Stations per Hundred Thousand Persons',\n",
       "       'Bikeshare Number of Bikes',\n",
       "       'Bikeshare Bicycles per Hundred Thousand Persons',\n",
       "       'Bikeshare Age (years)', 'Congestion (%)', 'Congestion AM Peak (%)',\n",
       "       'Congestion PM Peak (%)', 'Traffic Index', 'Travel Time Index',\n",
       "       'Inefficiency Index', 'Population', 'Land Area (sq. km)',\n",
       "       'Population Density (per sq. km)', 'Population Change 1990 – 2000',\n",
       "       'Population Change 2000 – 2010', 'Population Change 2010 – 2020',\n",
       "       'Population Change 2020 – 2025', 'Urbanization Rate 2015 (%)',\n",
       "       'Urbanization Rate Change 2015 – 2025 (pp)', 'GDP per Capita (USD)',\n",
       "       'Unemployment Rate (%)', 'Cost of Living Index', 'Rent Index',\n",
       "       'Grocery Index', 'Restaurant Price Index',\n",
       "       'Local Purchasing Power Index', 'Gini Coefficient', 'Poverty Rate (%)',\n",
       "       'Life Expectancy (years)', 'Safety Index', 'Internet Penetration',\n",
       "       'Digital Penetration', 'Innovation Index', 'Smartphone Penetration (%)',\n",
       "       'CO2 Emissions per Capita (metric tonnes)', 'Pollution Index ',\n",
       "       'Street length total (m)', 'Street Length Density (m/sq. km)',\n",
       "       'Street Length Average (m)', 'Intersection Count',\n",
       "       'Intersection Density (per sq. km)', 'Degree Average',\n",
       "       'Streets per Node', 'Circuity', 'Self-Loop Proportion',\n",
       "       'Highway Proportion', 'Metro Propensity Factor',\n",
       "       'BRT Propensity Factor', 'BikeShare Propensity Factor',\n",
       "       'Development Factor', 'Sustainability Factor', 'Population Factor',\n",
       "       'Congestion Factor', 'Sprawl Factor', 'Network Density Factor', 'Code',\n",
       "       'Year', 'Fossil fuels per capita (kWh)'],\n",
       "      dtype='object')"
      ]
     },
     "execution_count": 61,
     "metadata": {},
     "output_type": "execute_result"
    }
   ],
   "source": [
    "mergedDf.columns"
   ]
  },
  {
   "cell_type": "code",
   "execution_count": 62,
   "metadata": {
    "cell_id": "00009-9de1ddde-7696-4f05-a430-83bffc6d6498",
    "deepnote_cell_type": "code",
    "execution_millis": 0,
    "execution_start": 1607205926150,
    "output_cleared": false,
    "source_hash": "3ca24540",
    "tags": []
   },
   "outputs": [
    {
     "data": {
      "text/plain": [
       "263"
      ]
     },
     "execution_count": 62,
     "metadata": {},
     "output_type": "execute_result"
    }
   ],
   "source": [
    "\n",
    "PlotDf=mergedDf[['City','Fossil fuels per capita (kWh)','CO2 Emissions per Capita (metric tonnes)']]\n",
    "PlotDf=PlotDf.dropna(axis=0)\n",
    "len(PlotDf)"
   ]
  },
  {
   "cell_type": "code",
   "execution_count": 63,
   "metadata": {
    "cell_id": "00010-c3d930c5-5a86-4c84-a73b-c17dea333340",
    "deepnote_cell_type": "code",
    "execution_millis": 3,
    "execution_start": 1607205927961,
    "output_cleared": false,
    "source_hash": "838f9a9e",
    "tags": []
   },
   "outputs": [],
   "source": [
    "PlotDf.head(1)\n",
    "PlotDf['CO2_due_to_fuel']=PlotDf['Fossil fuels per capita (kWh)']*1e-3\n",
    "PlotDf=PlotDf.drop('Fossil fuels per capita (kWh)',axis=1)\n"
   ]
  },
  {
   "cell_type": "code",
   "execution_count": 80,
   "metadata": {
    "cell_id": "00011-eee427f5-1c55-4804-a3c9-b057d59a7319",
    "deepnote_cell_type": "code",
    "execution_millis": 2,
    "execution_start": 1607206352006,
    "output_cleared": false,
    "source_hash": "b0fdcb0c",
    "tags": []
   },
   "outputs": [],
   "source": [
    "AmountOfCity=5 #change that to change the nb displayed in the bar chart"
   ]
  },
  {
   "cell_type": "code",
   "execution_count": 81,
   "metadata": {
    "cell_id": "00012-611ffa45-5880-4c36-b233-300767fba445",
    "deepnote_cell_type": "code",
    "execution_millis": 2,
    "execution_start": 1607206352172,
    "output_cleared": false,
    "source_hash": "2a78dd3f",
    "tags": []
   },
   "outputs": [],
   "source": [
    "A=PlotDf.sort_values(by=['CO2_due_to_fuel'], ascending=False).head(AmountOfCity)\n",
    "B=PlotDf.sort_values(by=['CO2 Emissions per Capita (metric tonnes)'], ascending=False).head(AmountOfCity)"
   ]
  },
  {
   "cell_type": "code",
   "execution_count": 82,
   "metadata": {
    "cell_id": "00015-e9754a06-81d7-418c-a955-81f6f6170c93",
    "deepnote_cell_type": "code",
    "execution_millis": 153,
    "execution_start": 1607206352628,
    "output_cleared": false,
    "source_hash": "82ccac10",
    "tags": []
   },
   "outputs": [
    {
     "data": {
      "image/png": "[encoded data removed]",
      "text/plain": [
       "<Figure size 432x288 with 1 Axes>"
      ]
     },
     "metadata": {
      "needs_background": "light"
     },
     "output_type": "display_data"
    }
   ],
   "source": [
    "A=A.set_index('City')\n",
    "ax = A.plot.bar(rot=0)"
   ]
  },
  {
   "cell_type": "code",
   "execution_count": 83,
   "metadata": {
    "cell_id": "00016-3b39383b-7f95-4b8c-8d7a-a18f0ac969e6",
    "deepnote_cell_type": "code",
    "execution_millis": 144,
    "execution_start": 1607206352789,
    "output_cleared": false,
    "source_hash": "679fc9d2",
    "tags": []
   },
   "outputs": [
    {
     "data": {
      "image/png": "[encoded data removed]",
      "text/plain": [
       "<Figure size 432x288 with 1 Axes>"
      ]
     },
     "metadata": {
      "needs_background": "light"
     },
     "output_type": "display_data"
    }
   ],
   "source": [
    "B=B.set_index('City')\n",
    "ax = B.plot.bar(rot=0)"
   ]
  },
  {
   "cell_type": "code",
   "execution_count": 83,
   "metadata": {
    "cell_id": "00016-98bbc000-5c41-4e04-99e9-74550d43378b",
    "deepnote_cell_type": "code",
    "execution_millis": 2,
    "execution_start": 1607206353312,
    "output_cleared": false,
    "source_hash": "b623e53d",
    "tags": []
   },
   "outputs": [],
   "source": []
  },
  {
   "cell_type": "code",
   "execution_count": null,
   "metadata": {
    "cell_id": "00017-38ac1b21-9d13-4909-9779-e57badafa931",
    "deepnote_cell_type": "code",
    "tags": []
   },
   "outputs": [],
   "source": []
  }
 ],
 "metadata": {
  "deepnote_execution_queue": [],
  "deepnote_notebook_id": "18bb1ae4-857e-4fcc-9d95-132bb795b84d",
  "kernelspec": {
   "display_name": "Python 3",
   "language": "python",
   "name": "python3"
  },
  "language_info": {
   "codemirror_mode": {
    "name": "ipython",
    "version": 3
   },
   "file_extension": ".py",
   "mimetype": "text/x-python",
   "name": "python",
   "nbconvert_exporter": "python",
   "pygments_lexer": "ipython3",
   "version": "3.7.6"
  }
 },
 "nbformat": 4,
 "nbformat_minor": 2
}
