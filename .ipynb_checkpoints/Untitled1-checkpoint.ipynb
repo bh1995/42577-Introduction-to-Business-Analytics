{
 "cells": [
  {
   "cell_type": "markdown",
   "metadata": {},
   "source": [
    "## Exploratory Component"
   ]
  },
  {
   "cell_type": "markdown",
   "metadata": {},
   "source": [
    "In the explorartory part we will attempt to answer a few questions about cities using the same previous cities dataset. We will be investigating the following:\n",
    "- Is the CO2 emmission of cities generally dependent on the cities themselves or are they dependent on the country where the city is located in.\n",
    "- Based on various social/ economic parameters, is it possible to predict the location (coordinates) of the city.\n",
    "- Invesstigate what effects the modesharing of a city."
   ]
  },
  {
   "cell_type": "code",
   "execution_count": 1,
   "metadata": {},
   "outputs": [],
   "source": [
    "import pandas as pd\n",
    "import numpy as np \n",
    "import matplotlib.pyplot as plt\n"
   ]
  },
  {
   "cell_type": "markdown",
   "metadata": {},
   "source": [
    " #### CO2 emmission of cities VS fossil fuel consumption of countries"
   ]
  },
  {
   "cell_type": "markdown",
   "metadata": {},
   "source": [
    "In the prediction part of the project we attempted to merely predict the CO2 emmision per capita of a city. We are however curious about what impacts this CO2 emmission. We have found data which shows the total fossil fuel consumption per capita of every country over the last 50 years. We take the average of each country over the last three years and see if the highest fossil fuel consuming countries also have cities with high CO2 emmision. In other words we want to find out, is it the city itself which contributes to its own CO2 emission or is it the country which the city lies within which is contributing to how much the city emmites. "
   ]
  },
  {
   "cell_type": "code",
   "execution_count": 42,
   "metadata": {},
   "outputs": [
    {
     "data": {
      "text/html": [
       "<div>\n",
       "<style scoped>\n",
       "    .dataframe tbody tr th:only-of-type {\n",
       "        vertical-align: middle;\n",
       "    }\n",
       "\n",
       "    .dataframe tbody tr th {\n",
       "        vertical-align: top;\n",
       "    }\n",
       "\n",
       "    .dataframe thead th {\n",
       "        text-align: right;\n",
       "    }\n",
       "</style>\n",
       "<table border=\"1\" class=\"dataframe\">\n",
       "  <thead>\n",
       "    <tr style=\"text-align: right;\">\n",
       "      <th></th>\n",
       "      <th>Country</th>\n",
       "      <th>Fossil fuel per capita (10MWh)</th>\n",
       "    </tr>\n",
       "  </thead>\n",
       "  <tbody>\n",
       "    <tr>\n",
       "      <th>57</th>\n",
       "      <td>Qatar</td>\n",
       "      <td>20.039897</td>\n",
       "    </tr>\n",
       "    <tr>\n",
       "      <th>61</th>\n",
       "      <td>Singapore</td>\n",
       "      <td>17.193791</td>\n",
       "    </tr>\n",
       "    <tr>\n",
       "      <th>72</th>\n",
       "      <td>Trinidad and Tobago</td>\n",
       "      <td>14.475155</td>\n",
       "    </tr>\n",
       "    <tr>\n",
       "      <th>76</th>\n",
       "      <td>United Arab Emirates</td>\n",
       "      <td>13.759359</td>\n",
       "    </tr>\n",
       "    <tr>\n",
       "      <th>39</th>\n",
       "      <td>Kuwait</td>\n",
       "      <td>10.995292</td>\n",
       "    </tr>\n",
       "  </tbody>\n",
       "</table>\n",
       "</div>"
      ],
      "text/plain": [
       "                 Country  Fossil fuel per capita (10MWh)\n",
       "57                 Qatar                       20.039897\n",
       "61             Singapore                       17.193791\n",
       "72   Trinidad and Tobago                       14.475155\n",
       "76  United Arab Emirates                       13.759359\n",
       "39                Kuwait                       10.995292"
      ]
     },
     "execution_count": 42,
     "metadata": {},
     "output_type": "execute_result"
    }
   ],
   "source": [
    "column_names = [\"Country\", \"Fossil fuel per capita (10MWh)\"]\n",
    "df = pd.DataFrame(columns=column_names) \n",
    "df['Country'] = fossil_fuels['Entity'].unique()\n",
    "\n",
    "fossil_fuels=pd.read_csv(\"fossil-fuels-per-capita.csv\")\n",
    "g = fossil_fuels[fossil_fuels['Year']>2015].groupby(fossil_fuels.Entity).mean()\n",
    "consumption = list(g['Fossil fuels per capita (kWh)'])\n",
    "\n",
    "df['Fossil fuel per capita (10MWh)'] = list(np.array(consumption)*1e-4)\n",
    "df = df.sort_values(by=['Fossil fuel per capita (10MWh)'], ascending=False).head(10)\n",
    "df.head()"
   ]
  },
  {
   "cell_type": "code",
   "execution_count": 43,
   "metadata": {},
   "outputs": [
    {
     "data": {
      "text/html": [
       "<div>\n",
       "<style scoped>\n",
       "    .dataframe tbody tr th:only-of-type {\n",
       "        vertical-align: middle;\n",
       "    }\n",
       "\n",
       "    .dataframe tbody tr th {\n",
       "        vertical-align: top;\n",
       "    }\n",
       "\n",
       "    .dataframe thead th {\n",
       "        text-align: right;\n",
       "    }\n",
       "</style>\n",
       "<table border=\"1\" class=\"dataframe\">\n",
       "  <thead>\n",
       "    <tr style=\"text-align: right;\">\n",
       "      <th></th>\n",
       "      <th>City</th>\n",
       "      <th>CO2 Emissions per Capita (metric tonnes)</th>\n",
       "    </tr>\n",
       "  </thead>\n",
       "  <tbody>\n",
       "    <tr>\n",
       "      <th>36</th>\n",
       "      <td>Edmonton</td>\n",
       "      <td>44.100000</td>\n",
       "    </tr>\n",
       "    <tr>\n",
       "      <th>232</th>\n",
       "      <td>Ulsan</td>\n",
       "      <td>33.900000</td>\n",
       "    </tr>\n",
       "    <tr>\n",
       "      <th>310</th>\n",
       "      <td>New Orleans(LA)</td>\n",
       "      <td>32.400000</td>\n",
       "    </tr>\n",
       "    <tr>\n",
       "      <th>100</th>\n",
       "      <td>Cologne-Bonn</td>\n",
       "      <td>27.600000</td>\n",
       "    </tr>\n",
       "    <tr>\n",
       "      <th>153</th>\n",
       "      <td>Kuwait City</td>\n",
       "      <td>27.258964</td>\n",
       "    </tr>\n",
       "  </tbody>\n",
       "</table>\n",
       "</div>"
      ],
      "text/plain": [
       "                City  CO2 Emissions per Capita (metric tonnes)\n",
       "36          Edmonton                                 44.100000\n",
       "232            Ulsan                                 33.900000\n",
       "310  New Orleans(LA)                                 32.400000\n",
       "100     Cologne-Bonn                                 27.600000\n",
       "153      Kuwait City                                 27.258964"
      ]
     },
     "execution_count": 43,
     "metadata": {},
     "output_type": "execute_result"
    }
   ],
   "source": [
    "df2 = pd.read_excel(\"FINAL-COMBINED-DATASET.xlsx\")\n",
    "df2 = df2[['City', 'CO2 Emissions per Capita (metric tonnes)']]\n",
    "df2 = df2.sort_values(by=['CO2 Emissions per Capita (metric tonnes)'], ascending=False).head(10)\n",
    "df2.head()"
   ]
  },
  {
   "cell_type": "code",
   "execution_count": 56,
   "metadata": {},
   "outputs": [
    {
     "data": {
      "text/plain": [
       "<BarContainer object of 10 artists>"
      ]
     },
     "execution_count": 56,
     "metadata": {},
     "output_type": "execute_result"
    },
    {
     "data": {
      "image/png": "[encoded data removed]",
      "text/plain": [
       "<Figure size 864x576 with 2 Axes>"
      ]
     },
     "metadata": {
      "needs_background": "light"
     },
     "output_type": "display_data"
    }
   ],
   "source": [
    "# plot both\n",
    "# df = df.set_index('Country')\n",
    "# df2 = df2.set_index('City')\n",
    "x1 = df2['City']\n",
    "y1 = df2['CO2 Emissions per Capita (metric tonnes)']\n",
    "x2 = df['Country']\n",
    "y2 = df['Fossil fuel per capita (10MWh)']\n",
    "fig, axs = plt.subplots(1,2, figsize=(12,8))\n",
    "fig.autofmt_xdate(rotation=45)\n",
    "fig.suptitle('Comparing city CO2 emission/ capita (left) and country fuel consumption (right)')\n",
    "axs[0].bar(x1, y1)\n",
    "axs[1].bar(x2,y2)"
   ]
  },
  {
   "cell_type": "markdown",
   "metadata": {},
   "source": [
    "The plot to the left are most polluting cities (CO2 emmission) per capita and on the right are the countries with the highest fossil fuel consuming countries per capita. There are a few of the highest polluting cities in the highest fuel consuming coutries which would indicate that there is a connection between the city and country. However if you look at the top four cities closly to see why they emmite so much CO2, you will find some interesting facts such as, Edmonton has some of the largest petrochemical and metal/ machinary industries in Canada. Ulsan is home to Korea's Hyundai motor manufacturing plant. New Orleans has some of the largest oil/ gas producers in the USA. Cologne-Bonn is one of euope's largest automotive industry. \n",
    "\n",
    "So when acessing the CO2 emission of a city, the largest parameter which impacts emission is probably the unique activites/ industries which are located in the city itself and not solely the country which the city is located."
   ]
  },
  {
   "cell_type": "markdown",
   "metadata": {},
   "source": [
    " #### Predicting city location"
   ]
  },
  {
   "cell_type": "code",
   "execution_count": null,
   "metadata": {},
   "outputs": [],
   "source": []
  }
 ],
 "metadata": {
  "kernelspec": {
   "display_name": "Python 3",
   "language": "python",
   "name": "python3"
  },
  "language_info": {
   "codemirror_mode": {
    "name": "ipython",
    "version": 3
   },
   "file_extension": ".py",
   "mimetype": "text/x-python",
   "name": "python",
   "nbconvert_exporter": "python",
   "pygments_lexer": "ipython3",
   "version": "3.7.6"
  }
 },
 "nbformat": 4,
 "nbformat_minor": 4
}
