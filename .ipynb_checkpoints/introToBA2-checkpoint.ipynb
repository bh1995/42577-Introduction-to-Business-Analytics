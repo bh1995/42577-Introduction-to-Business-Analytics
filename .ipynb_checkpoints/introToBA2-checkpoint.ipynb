{
 "cells": [
  {
   "cell_type": "code",
   "execution_count": 104,
   "metadata": {},
   "outputs": [],
   "source": [
    "# df.head()"
   ]
  },
  {
   "cell_type": "code",
   "execution_count": 84,
   "metadata": {},
   "outputs": [],
   "source": [
    "import pandas as pd\n",
    "import numpy as np\n",
    "import matplotlib.pyplot as plt\n",
    "%matplotlib inline\n",
    "\n",
    "pd.set_option('display.max_columns', None)\n",
    "pd.set_option('display.max_rows', None)\n",
    "\n",
    "\n",
    "df = pd.read_excel('Cities.xls', index_col=0, skipinitialspace=True) # Read with excel index. \n",
    "# Skip all white-spaces.\n",
    "\n",
    "df = df.set_index('cityID') # Remove the indices and use cityID as index.\n",
    "\n",
    "# Drop unnecessary columns (that explicitly imply each other)\n",
    "# cityID implies City\n",
    "# clusterID implies Typology\n",
    "# Pollution Index is restricted to be used in prediction.\n",
    "col2drop = ['City', 'Typology', 'Pollution Index ']\n",
    "# col2drop = ['City', 'Typology']\n",
    "\n",
    "\n",
    "\n",
    "df.drop(col2drop, inplace=True, axis=1) # Typology <=> clusterID, City <=> cityID, \n",
    "# df.drop(\"Pollution Index\", axis=1)\n",
    "# df.info()\n",
    "# df[\"Pollution Index\"] "
   ]
  },
  {
   "cell_type": "code",
   "execution_count": 85,
   "metadata": {},
   "outputs": [],
   "source": [
    "def replace_missing_val_rescale(df):\n",
    "    \n",
    "    df = df.replace(r'^\\s*$', np.NaN, regex=True)\n",
    "    # print(\"Initial dataframe shape [rows, columns]:\", df.shape)\n",
    "    n_NaN = df.isna().sum().sum()\n",
    "    # print(n_NaN) # As you can see the total number of NaNs in the database 3199, so we need to impute.\n",
    "\n",
    "    # Impute all NaNs over the database.\n",
    "\n",
    "    df_int = df.select_dtypes(include='integer')\n",
    "    df_float = df.select_dtypes(include='float')\n",
    "\n",
    "    df_int = df_int.fillna(df.mode().iloc[0]) # Try using mean/mod for different columns.\n",
    "    df_float = df_float.fillna(df.mean().iloc[0]) # Try using mean/mod for different columns.\n",
    "\n",
    "    df[df_int.columns.values.tolist()] = df_int # Use mod for integers,\n",
    "    df[df_float.columns.values.tolist()] = df_float # Use mean for floats\n",
    "\n",
    "    # Drop taget variable\n",
    "    df_targets = df['CO2 Emissions per Capita (metric tonnes)']\n",
    "    df_inputs = df.drop(columns=['CO2 Emissions per Capita (metric tonnes)'])\n",
    "\n",
    "    # Normalize data\n",
    "    from sklearn import preprocessing\n",
    "    x = df_inputs.values #returns a numpy array\n",
    "    min_max_scaler = preprocessing.MinMaxScaler()\n",
    "    x_scaled = min_max_scaler.fit_transform(x)\n",
    "    x_unscaled =  min_max_scaler.inverse_transform(x_scaled)\n",
    "    df_inputs = pd.DataFrame(x_scaled)\n",
    "\n",
    "#     df_in_mean = df_inputs.mean()\n",
    "#     df_in_min = df_inputs.min()\n",
    "#     df_in_max = df_inputs.max()\n",
    "    \n",
    "#     df_in = (df_inputs - df_in_mean)/(df_in_max - df_in_min)\n",
    "    \n",
    "    assert df_inputs.isna().sum().sum() == 0, \"ERROR!, There still contains NaN values in the df_inputs DataFrame\"\n",
    "    \n",
    "    return df_inputs, df_targets\n"
   ]
  },
  {
   "cell_type": "code",
   "execution_count": 86,
   "metadata": {},
   "outputs": [],
   "source": [
    "# Get DataFrame for only South/ North America\n",
    "country_list = [\"United States\", \"Canada\", \"Mexico\", \"Argentina\", \"Bolivia\", \"Brazil\", \"Chile\", \"Colombia\", \"Ecuador\", \"Guyana\", \"Paraguay\", \"Peru\", \"Paraguay\", \"Suriname\", \"Uruguay\", \"Venezuela\"] \n",
    "north_south_america = df[df.Country.isin(country_list)]\n",
    "# print(north_south_america.head(5))\n",
    "df2 = df.drop([\"Country\"], axis=1)\n",
    "north_south_america = north_south_america.drop([\"Country\"], axis=1)"
   ]
  },
  {
   "cell_type": "code",
   "execution_count": 87,
   "metadata": {},
   "outputs": [],
   "source": [
    "df_inputs, df_targets = replace_missing_val_rescale(df2)\n",
    "# North and South America\n",
    "df_inputs_nsa, df_targets_nsa = replace_missing_val_rescale(north_south_america)\n"
   ]
  },
  {
   "cell_type": "code",
   "execution_count": 88,
   "metadata": {},
   "outputs": [],
   "source": [
    "# Drop columns with low variance. Low variance mean they dont change much and should not contribute much to the model.\n",
    "\n",
    "from sklearn.feature_selection import VarianceThreshold\n",
    "\n",
    "def variance_threshold_selector(data, threshold=0.5):\n",
    "    selector = VarianceThreshold(threshold)\n",
    "    selector.fit(data)\n",
    "    return data[data.columns[selector.get_support(indices=True)]]\n",
    "\n",
    "# selector = VarianceThreshold(threshold=0.04)\n",
    "# df_inputs = selector.fit_transform(df_inputs)\n",
    "# # print(df_inputs.columns)\n",
    "# df_inputs = pd.DataFrame(df_inputs)\n",
    "# df_inputs.shape"
   ]
  },
  {
   "cell_type": "code",
   "execution_count": 90,
   "metadata": {},
   "outputs": [
    {
     "name": "stdout",
     "output_type": "stream",
     "text": [
      "(331, 30)\n",
      "(95, 30)\n"
     ]
    }
   ],
   "source": [
    "# Perform the variance thresholding to drop low variance columns\n",
    "df_inputs = variance_threshold_selector(data=df_inputs, threshold=0.04)\n",
    "print(df_inputs.shape)\n",
    "# Make sure same columns are slected for North and South America data frame\n",
    "df_inputs_nsa = df_inputs_nsa[list(df_inputs.columns)]\n",
    "print(df_inputs_nsa.shape)"
   ]
  },
  {
   "cell_type": "code",
   "execution_count": 91,
   "metadata": {},
   "outputs": [],
   "source": [
    "train_perc = 0.75\n",
    "tr_slice_ind = int(len(df)*0.75)+1\n",
    "\n",
    "tr_target = df_targets.head(tr_slice_ind)\n",
    "tr_inputs = df_inputs.head(tr_slice_ind)\n",
    "\n",
    "ts_target = df_targets.tail(df_inputs.shape[0]-tr_slice_ind)\n",
    "ts_inputs = df_inputs.tail(df_inputs.shape[0]-tr_slice_ind)"
   ]
  },
  {
   "cell_type": "code",
   "execution_count": 29,
   "metadata": {},
   "outputs": [
    {
     "name": "stdout",
     "output_type": "stream",
     "text": [
      "input shape before PCA:  (249, 72) \n",
      " input shape after PCA: (249, 10)\n"
     ]
    },
    {
     "data": {
      "image/png": "[encoded data removed]",
      "text/plain": [
       "<Figure size 432x288 with 1 Axes>"
      ]
     },
     "metadata": {
      "needs_background": "light"
     },
     "output_type": "display_data"
    }
   ],
   "source": [
    "# # Perform PCA\n",
    "# from sklearn.decomposition import PCA\n",
    "\n",
    "# pca = PCA()\n",
    "# # print(p_df.head())\n",
    "# # len(pca.components_)\n",
    "# shape_before = tr_inputs.shape\n",
    "# pca.fit(tr_inputs)\n",
    "# expl=pca.explained_variance_ratio_\n",
    "# cdf=[sum(expl[:i+1]) for i in range(len(expl))]\n",
    "# plt.plot(range(len(expl)), cdf);\n",
    "# # print(cdf[:15]) # 15 most explaining components\n",
    "# pca = PCA(n_components=10) # Looks to about how many components explains 95% of the total variance.\n",
    "# tr_inputs = pca.fit_transform(tr_inputs) \n",
    "# tr_inputs = pd.DataFrame(tr_inputs)\n",
    "# ts_inputs = pca.fit_transform(ts_inputs)\n",
    "# ts_inputs = pd.DataFrame(ts_inputs)\n",
    "# shape_after = tr_inputs.shape\n",
    "# print(\"input shape before PCA: \", shape_before, \"\\n\", \"input shape after PCA:\", shape_after)"
   ]
  },
  {
   "cell_type": "code",
   "execution_count": 93,
   "metadata": {},
   "outputs": [],
   "source": [
    "# print(tr_inputs.shape)\n",
    "# comps.head()\n",
    "# tr_inputs.head(40)"
   ]
  },
  {
   "cell_type": "code",
   "execution_count": 111,
   "metadata": {},
   "outputs": [],
   "source": [
    "# # Make sure all inputs have the same columns\n",
    "# ts_in = ts_inputs[list(comps.columns)]\n",
    "# df_inputs_nsa = df_inputs_nsa[list(tr_inputs.columns)]\n",
    "# print(tr_inputs.shape, ts_inputs.shape, df_inputs_nsa.shape) # All should have same nr. columns"
   ]
  },
  {
   "cell_type": "code",
   "execution_count": 94,
   "metadata": {},
   "outputs": [],
   "source": [
    "# Perform predictions\n",
    "\n",
    "from sklearn.ensemble import RandomForestRegressor\n",
    "from sklearn.model_selection import RandomizedSearchCV\n",
    "from sklearn.metrics import r2_score\n",
    "\n",
    "\n",
    "# Number of trees in random forest\n",
    "n_estimators = [int(x) for x in np.linspace(start = 200, stop = 2000, num = 10)]\n",
    "# Number of features to consider at every split\n",
    "max_features = ['auto', 'sqrt']\n",
    "# Maximum number of levels in tree\n",
    "max_depth = [int(x) for x in np.linspace(10, 100, num = 20)]\n",
    "max_depth.append(None)\n",
    "# Minimum number of samples required to split a node\n",
    "min_samples_split = [3, 5, 8]\n",
    "# Minimum number of samples required at each leaf node\n",
    "min_samples_leaf = [1, 2, 4]\n",
    "# Method of selecting samples for training each tree\n",
    "bootstrap = [True, False]\n",
    "\n",
    "\n",
    "regr = RandomForestRegressor()\n",
    "\n",
    "# Create the random grid\n",
    "random_grid = {'n_estimators': n_estimators,\n",
    "               'max_features': max_features,\n",
    "               'max_depth': max_depth,\n",
    "               'min_samples_split': min_samples_split,\n",
    "               'min_samples_leaf': min_samples_leaf,\n",
    "               'bootstrap': bootstrap}\n",
    "\n",
    "regr = RandomizedSearchCV(estimator = regr, \n",
    "                               param_distributions = random_grid, \n",
    "                               n_iter = 100, cv = 3, verbose=2)\n",
    "\n",
    "from sklearn.neural_network import MLPRegressor\n",
    "\n",
    "clf = MLPRegressor(hidden_layer_sizes=(8, 32, 16), \n",
    "                   activation='relu',\n",
    "                   solver = 'adam',\n",
    "                   alpha = 1e-1,\n",
    "                   learning_rate='adaptive',\n",
    "                   learning_rate_init=2.25e-5,\n",
    "                   max_iter=35000,\n",
    "                   random_state = 42,\n",
    "                   shuffle=False).fit(tr_inputs, tr_target)\n",
    "\n",
    "est_out = clf.predict(ts_inputs)\n"
   ]
  },
  {
   "cell_type": "code",
   "execution_count": 95,
   "metadata": {},
   "outputs": [
    {
     "name": "stdout",
     "output_type": "stream",
     "text": [
      "0.5892578895180711 0.34764488335223065\n"
     ]
    }
   ],
   "source": [
    "# Calculate R2 score.\n",
    "\n",
    "def adjusted_r2(r_2, y, X):\n",
    "    adj_r2 = 1 - (1-r_2)*(len(y)-1)/(len(y)-X.shape[1]-1)\n",
    "    return adj_r2\n",
    "\n",
    "R_2 = r2_score(ts_target, est_out)\n",
    "R_2_adj = adjusted_r2(R_2, ts_target, tr_inputs)\n",
    "print(R_2, R_2_adj)"
   ]
  },
  {
   "cell_type": "code",
   "execution_count": 96,
   "metadata": {},
   "outputs": [
    {
     "name": "stdout",
     "output_type": "stream",
     "text": [
      "0.6857650828908364 0.538467465495916\n"
     ]
    }
   ],
   "source": [
    "# Perform predictions for North and South America\n",
    "# df_inputs_nsa, df_targets_nsa\n",
    "est_out = clf.predict(df_inputs_nsa)\n",
    "\n",
    "R_2 = r2_score(df_targets_nsa, est_out)\n",
    "R_2_adj = adjusted_r2(R_2, df_targets_nsa, df_inputs_nsa)\n",
    "print(R_2, R_2_adj)\n"
   ]
  }
 ],
 "metadata": {
  "kernelspec": {
   "display_name": "Python 3",
   "language": "python",
   "name": "python3"
  },
  "language_info": {
   "codemirror_mode": {
    "name": "ipython",
    "version": 3
   },
   "file_extension": ".py",
   "mimetype": "text/x-python",
   "name": "python",
   "nbconvert_exporter": "python",
   "pygments_lexer": "ipython3",
   "version": "3.7.6"
  }
 },
 "nbformat": 4,
 "nbformat_minor": 4
}
