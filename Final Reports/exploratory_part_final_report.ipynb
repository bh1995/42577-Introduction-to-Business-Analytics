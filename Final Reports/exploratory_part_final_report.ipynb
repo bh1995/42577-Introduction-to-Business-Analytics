{
 "cells": [
  {
   "cell_type": "markdown",
   "metadata": {},
   "source": [
    "## Exploratory Component"
   ]
  },
  {
   "cell_type": "markdown",
   "metadata": {},
   "source": [
    "In the explorartory part we will attempt to answer a few questions about cities using the same previous cities dataset. We will be investigating the following:\n",
    "- Is the CO2 emmission of cities generally dependent on the cities themselves or are they dependent on the country where the city is located in.\n",
    "- Based on various social/ economic parameters, is it possible to predict the location (coordinates) of the city.\n",
    "- Invesstigate what effects the modesharing of a city."
   ]
  },
  {
   "cell_type": "markdown",
   "metadata": {},
   "source": [
    "To start we will look at modesharing in a city."
   ]
  },
  {
   "cell_type": "code",
   "execution_count": 2,
   "metadata": {},
   "outputs": [],
   "source": [
    "import pandas as pd\n",
    "import numpy as np \n",
    "import matplotlib.pyplot as plt\n"
   ]
  },
  {
   "cell_type": "markdown",
   "metadata": {},
   "source": [
    " #### CO2 emmission of cities VS fossil fuel consumption of countries"
   ]
  },
  {
   "cell_type": "markdown",
   "metadata": {},
   "source": [
    "In the prediction part of the project we attempted to merely predict the CO2 emmision per capita of a city. We are however curious about what impacts this CO2 emmission. We have found data which shows the total fossil fuel consumption per capita of every country over the last 50 years. We take the average of each country over the last three years and see if the highest fossil fuel consuming countries also have cities with high CO2 emmision. In other words we want to find out, is it the city itself which contributes to its own CO2 emission or is it the country which the city lies within which is contributing to how much the city emmites. We found the data for how much fossil fuel each country consumes per capita at the following link: https://ourworldindata.org/fossil-fuels."
   ]
  },
  {
   "cell_type": "code",
   "execution_count": 5,
   "metadata": {},
   "outputs": [
    {
     "data": {
      "text/html": [
       "<div>\n",
       "<style scoped>\n",
       "    .dataframe tbody tr th:only-of-type {\n",
       "        vertical-align: middle;\n",
       "    }\n",
       "\n",
       "    .dataframe tbody tr th {\n",
       "        vertical-align: top;\n",
       "    }\n",
       "\n",
       "    .dataframe thead th {\n",
       "        text-align: right;\n",
       "    }\n",
       "</style>\n",
       "<table border=\"1\" class=\"dataframe\">\n",
       "  <thead>\n",
       "    <tr style=\"text-align: right;\">\n",
       "      <th></th>\n",
       "      <th>Country</th>\n",
       "      <th>Fossil fuel per capita (10MWh)</th>\n",
       "    </tr>\n",
       "  </thead>\n",
       "  <tbody>\n",
       "    <tr>\n",
       "      <th>57</th>\n",
       "      <td>Qatar</td>\n",
       "      <td>20.039897</td>\n",
       "    </tr>\n",
       "    <tr>\n",
       "      <th>61</th>\n",
       "      <td>Singapore</td>\n",
       "      <td>17.193791</td>\n",
       "    </tr>\n",
       "    <tr>\n",
       "      <th>72</th>\n",
       "      <td>Trinidad and Tobago</td>\n",
       "      <td>14.475155</td>\n",
       "    </tr>\n",
       "    <tr>\n",
       "      <th>76</th>\n",
       "      <td>United Arab Emirates</td>\n",
       "      <td>13.759359</td>\n",
       "    </tr>\n",
       "    <tr>\n",
       "      <th>39</th>\n",
       "      <td>Kuwait</td>\n",
       "      <td>10.995292</td>\n",
       "    </tr>\n",
       "  </tbody>\n",
       "</table>\n",
       "</div>"
      ],
      "text/plain": [
       "                 Country  Fossil fuel per capita (10MWh)\n",
       "57                 Qatar                       20.039897\n",
       "61             Singapore                       17.193791\n",
       "72   Trinidad and Tobago                       14.475155\n",
       "76  United Arab Emirates                       13.759359\n",
       "39                Kuwait                       10.995292"
      ]
     },
     "execution_count": 5,
     "metadata": {},
     "output_type": "execute_result"
    }
   ],
   "source": [
    "\n",
    "fossil_fuels=pd.read_csv(\"fossil-fuels-per-capita.csv\")\n",
    "g = fossil_fuels[fossil_fuels['Year']>2015].groupby(fossil_fuels.Entity).mean()\n",
    "consumption = list(g['Fossil fuels per capita (kWh)'])\n",
    "column_names = [\"Country\", \"Fossil fuel per capita (10MWh)\"]\n",
    "\n",
    "df = pd.DataFrame(columns=column_names) \n",
    "df['Country'] = fossil_fuels['Entity'].unique()\n",
    "df['Fossil fuel per capita (10MWh)'] = list(np.array(consumption)*1e-4)\n",
    "df = df.sort_values(by=['Fossil fuel per capita (10MWh)'], ascending=False).head(10)\n",
    "df.head()"
   ]
  },
  {
   "cell_type": "code",
   "execution_count": 6,
   "metadata": {},
   "outputs": [
    {
     "data": {
      "text/html": [
       "<div>\n",
       "<style scoped>\n",
       "    .dataframe tbody tr th:only-of-type {\n",
       "        vertical-align: middle;\n",
       "    }\n",
       "\n",
       "    .dataframe tbody tr th {\n",
       "        vertical-align: top;\n",
       "    }\n",
       "\n",
       "    .dataframe thead th {\n",
       "        text-align: right;\n",
       "    }\n",
       "</style>\n",
       "<table border=\"1\" class=\"dataframe\">\n",
       "  <thead>\n",
       "    <tr style=\"text-align: right;\">\n",
       "      <th></th>\n",
       "      <th>City</th>\n",
       "      <th>CO2 Emissions per Capita (metric tonnes)</th>\n",
       "    </tr>\n",
       "  </thead>\n",
       "  <tbody>\n",
       "    <tr>\n",
       "      <th>36</th>\n",
       "      <td>Edmonton</td>\n",
       "      <td>44.100000</td>\n",
       "    </tr>\n",
       "    <tr>\n",
       "      <th>232</th>\n",
       "      <td>Ulsan</td>\n",
       "      <td>33.900000</td>\n",
       "    </tr>\n",
       "    <tr>\n",
       "      <th>310</th>\n",
       "      <td>New Orleans(LA)</td>\n",
       "      <td>32.400000</td>\n",
       "    </tr>\n",
       "    <tr>\n",
       "      <th>100</th>\n",
       "      <td>Cologne-Bonn</td>\n",
       "      <td>27.600000</td>\n",
       "    </tr>\n",
       "    <tr>\n",
       "      <th>153</th>\n",
       "      <td>Kuwait City</td>\n",
       "      <td>27.258964</td>\n",
       "    </tr>\n",
       "  </tbody>\n",
       "</table>\n",
       "</div>"
      ],
      "text/plain": [
       "                City  CO2 Emissions per Capita (metric tonnes)\n",
       "36          Edmonton                                 44.100000\n",
       "232            Ulsan                                 33.900000\n",
       "310  New Orleans(LA)                                 32.400000\n",
       "100     Cologne-Bonn                                 27.600000\n",
       "153      Kuwait City                                 27.258964"
      ]
     },
     "execution_count": 6,
     "metadata": {},
     "output_type": "execute_result"
    }
   ],
   "source": [
    "df2 = pd.read_excel(\"FINAL-COMBINED-DATASET.xlsx\")\n",
    "df2 = df2[['City', 'CO2 Emissions per Capita (metric tonnes)']]\n",
    "df2 = df2.sort_values(by=['CO2 Emissions per Capita (metric tonnes)'], ascending=False).head(10)\n",
    "df2.head()"
   ]
  },
  {
   "cell_type": "code",
   "execution_count": 7,
   "metadata": {},
   "outputs": [
    {
     "data": {
      "text/plain": [
       "<BarContainer object of 10 artists>"
      ]
     },
     "execution_count": 7,
     "metadata": {},
     "output_type": "execute_result"
    },
    {
     "data": {
      "image/png": "[encoded data removed]",
      "text/plain": [
       "<Figure size 864x576 with 2 Axes>"
      ]
     },
     "metadata": {
      "needs_background": "light"
     },
     "output_type": "display_data"
    }
   ],
   "source": [
    "# plot both\n",
    "# df = df.set_index('Country')\n",
    "# df2 = df2.set_index('City')\n",
    "x1 = df2['City']\n",
    "y1 = df2['CO2 Emissions per Capita (metric tonnes)']\n",
    "x2 = df['Country']\n",
    "y2 = df['Fossil fuel per capita (10MWh)']\n",
    "fig, axs = plt.subplots(1,2, figsize=(12,8))\n",
    "fig.autofmt_xdate(rotation=45)\n",
    "fig.suptitle('Comparing city CO2 emission/ capita (left) and country fuel consumption (right)')\n",
    "axs[0].bar(x1, y1)\n",
    "axs[1].bar(x2,y2)"
   ]
  },
  {
   "cell_type": "markdown",
   "metadata": {},
   "source": [
    "The plot to the left are most polluting cities (CO2 emmission) per capita and on the right are the countries with the highest fossil fuel consuming countries per capita. There are a few of the highest polluting cities in the highest fuel consuming coutries which would indicate that there is a connection between the city and country. However if you look at the top four cities closly to see why they emmite so much CO2, you will find some interesting facts such as, Edmonton has some of the largest petrochemical and metal/ machinary industries in Canada. Ulsan is home to Korea's Hyundai motor manufacturing plant. New Orleans has some of the largest oil/ gas producers in the USA. Cologne-Bonn is one of euope's largest automotive industry. \n",
    "\n",
    "So when acessing the CO2 emission of a city, the largest parameter which impacts emission is probably the unique activites/ industries which are located in the city itself and not solely the country which the city is located in."
   ]
  },
  {
   "cell_type": "markdown",
   "metadata": {},
   "source": [
    " #### Predicting city location"
   ]
  },
  {
   "cell_type": "markdown",
   "metadata": {},
   "source": [
    "In this section we will attempt to find out if a cities coordinates impact various social parameters of a given city. We will also fit a model to some the social parameters and see if it is possible to predict with a certain accuracy the location of the city. We will start by finding the coordinates of all cities and then showing some parameter visualizations."
   ]
  },
  {
   "cell_type": "code",
   "execution_count": 27,
   "metadata": {},
   "outputs": [],
   "source": [
    "from geopy.geocoders import Nominatim\n",
    "import seaborn as sns\n",
    "from  matplotlib import pyplot\n",
    "from matplotlib.pyplot import figure\n",
    "from ast import literal_eval\n",
    "import plotly.graph_objects as go"
   ]
  },
  {
   "cell_type": "code",
   "execution_count": 25,
   "metadata": {},
   "outputs": [],
   "source": [
    "df = pd.read_excel('Cities.xls', index_col=0, skipinitialspace=True) # Read with excel index. \n",
    "\n",
    "# Function to get coordinates\n",
    "def add_coordinates(city):\n",
    "    \"\"\"\n",
    "    This functon will add long. / lat. coordinates as tuple for a city\n",
    "    \"\"\"\n",
    "\n",
    "    if city != str:\n",
    "        city = str(city)\n",
    "    if city == \"Baltimore(MD)\":\n",
    "        city = \"Baltimore\"\n",
    "    if city == \"Birmingham(AL)\":\n",
    "        city = \"Birmingham\"\n",
    "    if city == \"Valencia(VZL)\":\n",
    "        city = \"Valencia\"\n",
    "    if city == \"Tampa-St. Petersburg(FL)\":\n",
    "        city = \"St. Petersburg, Florida\"\n",
    "    if city == \"Denver-Aurora(CO)\":\n",
    "        city = \"Aurora, Colorado\"\n",
    "    if city == \"Minneapolis-St. Paul(MN)\":\n",
    "        city = \"Saint Paul, MN\"\n",
    "    geolocator = Nominatim(user_agent=\"user_agent\")\n",
    "#     print(city)\n",
    "    location = geolocator.geocode(city)\n",
    "    lat_long = (location.latitude, location.longitude)\n",
    "    return lat_long\n",
    "    # print(location.address)\n",
    "    \n",
    "# df[\"coordinates\"] = df[\"City\"].apply(add_coordinates)   \n",
    "# The function above takes a long time to run so we run it once \n",
    "# and save the full set with coordinates as a csv for fast loading later\n",
    "\n",
    "df = pd.read_csv('location_from_pickle.csv') # Previous saved dataset  "
   ]
  },
  {
   "cell_type": "markdown",
   "metadata": {},
   "source": [
    "Now that we have the coordinates for all cities. We will proceed to try with predicting location, to start with we will see if we can predict the distance a city is from the equator using some social and economic parameters. "
   ]
  },
  {
   "cell_type": "code",
   "execution_count": 26,
   "metadata": {},
   "outputs": [
    {
     "data": {
      "text/html": [
       "<div>\n",
       "<style scoped>\n",
       "    .dataframe tbody tr th:only-of-type {\n",
       "        vertical-align: middle;\n",
       "    }\n",
       "\n",
       "    .dataframe tbody tr th {\n",
       "        vertical-align: top;\n",
       "    }\n",
       "\n",
       "    .dataframe thead th {\n",
       "        text-align: right;\n",
       "    }\n",
       "</style>\n",
       "<table border=\"1\" class=\"dataframe\">\n",
       "  <thead>\n",
       "    <tr style=\"text-align: right;\">\n",
       "      <th></th>\n",
       "      <th>City</th>\n",
       "      <th>cityID</th>\n",
       "      <th>Country</th>\n",
       "      <th>coordinates</th>\n",
       "      <th>eq_dist[km]</th>\n",
       "    </tr>\n",
       "  </thead>\n",
       "  <tbody>\n",
       "    <tr>\n",
       "      <th>0</th>\n",
       "      <td>Baltimore(MD)</td>\n",
       "      <td>285.0</td>\n",
       "      <td>United States</td>\n",
       "      <td>(39.2908816, -76.610759)</td>\n",
       "      <td>4363</td>\n",
       "    </tr>\n",
       "    <tr>\n",
       "      <th>1</th>\n",
       "      <td>Melbourne</td>\n",
       "      <td>10.0</td>\n",
       "      <td>Australia</td>\n",
       "      <td>(-37.8142176, 144.9631608)</td>\n",
       "      <td>4199</td>\n",
       "    </tr>\n",
       "    <tr>\n",
       "      <th>2</th>\n",
       "      <td>Niamey</td>\n",
       "      <td>186.0</td>\n",
       "      <td>Niger</td>\n",
       "      <td>(13.524834, 2.109823)</td>\n",
       "      <td>1501</td>\n",
       "    </tr>\n",
       "    <tr>\n",
       "      <th>3</th>\n",
       "      <td>Hanoi</td>\n",
       "      <td>328.0</td>\n",
       "      <td>Vietnam</td>\n",
       "      <td>(21.0294498, 105.8544441)</td>\n",
       "      <td>2335</td>\n",
       "    </tr>\n",
       "    <tr>\n",
       "      <th>4</th>\n",
       "      <td>Urumqi</td>\n",
       "      <td>67.0</td>\n",
       "      <td>China</td>\n",
       "      <td>(43.419754, 87.319461)</td>\n",
       "      <td>4821</td>\n",
       "    </tr>\n",
       "  </tbody>\n",
       "</table>\n",
       "</div>"
      ],
      "text/plain": [
       "            City  cityID        Country                 coordinates  \\\n",
       "0  Baltimore(MD)   285.0  United States    (39.2908816, -76.610759)   \n",
       "1      Melbourne    10.0      Australia  (-37.8142176, 144.9631608)   \n",
       "2         Niamey   186.0          Niger       (13.524834, 2.109823)   \n",
       "3          Hanoi   328.0        Vietnam   (21.0294498, 105.8544441)   \n",
       "4         Urumqi    67.0          China      (43.419754, 87.319461)   \n",
       "\n",
       "   eq_dist[km]  \n",
       "0         4363  \n",
       "1         4199  \n",
       "2         1501  \n",
       "3         2335  \n",
       "4         4821  "
      ]
     },
     "execution_count": 26,
     "metadata": {},
     "output_type": "execute_result"
    }
   ],
   "source": [
    "# Function to define distance in km from equater\n",
    "def eq_dist(coord):\n",
    "    # 1 degree is about 111.045 km\n",
    "    dist = literal_eval(coord)[0]*111.045\n",
    "    return int(abs(dist)) # Make distances south of equater positive.\n",
    "\n",
    "df[\"eq_dist[km]\"] = df[\"coordinates\"].apply(eq_dist)\n",
    "# Make sure everything looks ok.\n",
    "df[['City', 'cityID', 'Country', 'coordinates', 'eq_dist[km]']].head()"
   ]
  },
  {
   "cell_type": "markdown",
   "metadata": {},
   "source": [
    "Before making any models, lets visualize a much discussed parameter for each city, namely GDP/ capita. "
   ]
  },
  {
   "cell_type": "code",
   "execution_count": 29,
   "metadata": {},
   "outputs": [
    {
     "data": {
      "application/vnd.plotly.v1+json": {
       "config": {
        "plotlyServerURL": "https://plot.ly"
       },
       "data": [
        {
         "marker": {
          "color": [
           58789,
           39358,
           427.4,
           3425,
           12189,
           56697,
           71671,
           14010,
           16843,
           11279.6,
           1861.5,
           2753.3,
           1552.8,
           61183,
           1495.4,
           12747,
           11809,
           24866,
           59810,
           17879,
           8660,
           2905.9,
           1946.4,
           685.1,
           972.88,
           6000,
           41561,
           3582.6,
           2457.6,
           37835,
           5695.7,
           3204.9,
           10516,
           58372,
           4827.7,
           5051,
           935,
           35445,
           69271,
           11031.8,
           55300,
           11279.6,
           45771,
           65438,
           21507,
           66477,
           75090,
           7638,
           450,
           11279.6,
           15530,
           54605,
           3974.1,
           32070,
           12020,
           6601.6,
           59546,
           44810,
           14506,
           388.3,
           77502,
           1408.1,
           24867,
           46021,
           41646,
           15019.6,
           1178.8,
           58639,
           63246,
           19705,
           51166,
           54711,
           34822,
           416,
           38867,
           52084,
           1495.4,
           17015,
           18688,
           20134,
           7005,
           47022,
           2753.3,
           13859,
           22859,
           26071,
           16370,
           20960,
           23664,
           22218,
           3925.6,
           61009,
           58763,
           41631,
           70758,
           6733.9,
           17979,
           859.6,
           48405,
           42614,
           35702,
           44149,
           13709,
           35902,
           56464,
           28910,
           58670,
           14835,
           27578,
           47438,
           40144,
           31766,
           47819,
           5695.7,
           7843,
           10154,
           78834,
           78834,
           4827.7,
           54348,
           662.4,
           1821,
           25650,
           21395.4,
           50061,
           12865,
           23938,
           44782,
           1861.5,
           1408.1,
           14105,
           20813,
           6469,
           61268,
           45783,
           78145,
           18204,
           44337,
           663.9,
           1861.5,
           5191.1,
           62606,
           21497,
           515.4,
           4265.4,
           2455.9,
           455.6,
           35689,
           14606,
           52600.6,
           17139,
           30143,
           12524,
           6221.4,
           62817,
           10216,
           41609,
           69826,
           41877,
           56911,
           43226,
           679.7,
           57002,
           55697,
           1821,
           38151,
           1861.5,
           12405,
           69091,
           46650,
           388.3,
           11925,
           1627.3,
           15890,
           13709,
           21395.4,
           4084,
           1092.3,
           47115,
           2798.1,
           43602,
           21395.4,
           21395.4,
           18153,
           73270,
           352.6,
           46260,
           12140,
           77273,
           36900,
           56082,
           40864,
           10070,
           54076,
           16506,
           36571,
           1038.9,
           837.3,
           61900,
           6769,
           1081,
           66279,
           55171,
           2457.6,
           56277,
           1861.5,
           22380,
           745.9,
           53609,
           22377,
           40534,
           12583,
           23464,
           13418,
           86830,
           1861.5,
           1642.7,
           5063,
           40746,
           15732,
           44422,
           4036,
           17506,
           6733.9,
           1079.1,
           45589,
           28929,
           4730,
           9984,
           50129,
           10509,
           23361,
           29764,
           695.9,
           5861.5,
           33765,
           42824,
           28076,
           27270.7,
           1961.5,
           9614,
           35906,
           6089.4,
           44381,
           33677.5,
           56666,
           69623,
           738.6,
           9714.1,
           10982,
           11655,
           3258.5,
           43664,
           2667,
           66971,
           46102,
           22513,
           57465,
           14882,
           65154,
           49703,
           31403,
           2137.8,
           735.7,
           14222,
           7144,
           39445,
           28999,
           617.9,
           14117,
           14506,
           11279.6,
           18996,
           21988,
           62832,
           43672,
           729.3,
           558.1,
           24215,
           40203,
           20361,
           7100,
           23176,
           6733.9,
           2905.9,
           10359,
           9274,
           5191.1,
           1707.7,
           32446,
           36776.2,
           3802.9,
           45803,
           10812,
           3974.1,
           6733.9,
           31572,
           972.88,
           60248,
           16524,
           6000,
           15019.6,
           42316,
           35298,
           12076,
           83492,
           8668,
           6909.1,
           11466,
           1296,
           3906.1,
           16468,
           45006,
           3100.2,
           29932,
           69523,
           65599,
           11279.6,
           6733.9,
           65332,
           53245,
           4333,
           21040,
           917.6,
           25237,
           3932.6,
           34669,
           8221,
           1707.7,
           19886,
           21076,
           14086
          ],
          "showscale": true
         },
         "mode": "markers",
         "type": "scatter",
         "uid": "356ff56c-783a-4f48-b0c8-f7cac97541fd",
         "x": [
          -76.610759,
          144.9631608,
          2.109823,
          105.8544441,
          87.319461,
          -87.922497,
          2.3514616,
          -56.1913569,
          19.9368564,
          60.60825,
          73.8544541,
          123.84,
          -4.016107,
          -97.7436995,
          11.5213344,
          77.2219388,
          117.2218033,
          55.2707065,
          -87.6244212,
          121.6282945,
          106.7017555,
          36.2303893,
          -86.2746665,
          85.3205817,
          91.8412863,
          67.0311286,
          -4.2488787,
          15.7411039,
          -16.2540884,
          3.0635282,
          44.3787992,
          -6.834543,
          106.5478767,
          7.1632697,
          2.9999825,
          77.5912997,
          39.667169,
          2.1774322,
          129.3119136,
          103.7550839,
          -84.1693827,
          50.113987,
          -79.3839347,
          24.9425769,
          29.0677305,
          -118.2427666,
          -6.2602732,
          -99.8940182,
          45.3419183,
          44.003506,
          -77.0365256,
          151.5012,
          112.7378266,
          -110.9748477,
          104.0633219,
          13.1777923,
          10.000654,
          -115.1485163,
          -106.0000001,
          27.4826264,
          -71.0582912,
          96.082375,
          28.9651646,
          12.4829321,
          13.3888599,
          -73.0502399,
          74.3141829,
          -86.7743531,
          -104.8319196,
          100.4930399,
          -85.759407,
          4.439270829036536,
          130.8749015,
          47.5255809,
          -73.6103642,
          -83.0466403,
          9.706203,
          114.2999353,
          112.9335861,
          -43.9450948,
          72.8353355,
          17.1093063,
          125.6083647,
          117.1140042,
          19.14607278448202,
          114.0543297,
          28.049722,
          -99.1331785,
          14.2487826,
          113.2592945,
          -57.6343814,
          54.3705762,
          9.1905,
          -0.5800364,
          -74.0060152,
          46.2961952,
          22.9352716,
          15.0502758,
          -86.8024326,
          34.7805274,
          -1.6131572,
          -75.690308,
          -8.2186296,
          135.51566283471678,
          4.8320114,
          21.0067249,
          -86.05267778244621,
          -116.9646629,
          -0.3763353,
          -80.1936589,
          136.8998438,
          174.7631803,
          -97.5170536,
          43.099715597302286,
          31.243666,
          -4.7760138,
          11.5753822,
          11.5753822,
          -0.6492976,
          -94.5781416,
          32.5813539,
          37.1637253,
          -46.6333824,
          46.7160104,
          1.4442469,
          126.5303997,
          129.0752365,
          -77.615214,
          80.9346001,
          96.1609916,
          123.4582891,
          -8.6107884,
          80.2838331,
          -93.2212015,
          -81.3790304,
          12.5700724,
          20.4568974,
          -123.1139529,
          -1.5270944,
          3.2553,
          -79.887726,
          -122.6741949,
          -74.0760439,
          32.56745,
          9.400138,
          -0.3698915,
          -13.26795,
          -53.2,
          118.0853479,
          103.83039182212079,
          116.718583,
          -106.4646348,
          113.6524076,
          27.5618791,
          -75.1635262,
          112.5452739,
          -82.6695085,
          -114.0625892,
          120.6478282,
          -80.843083,
          7.2683912,
          44.2058841,
          -157.8556764,
          -81.6934446,
          36.3095814,
          -2.2451148,
          85.1235252,
          114.5088385,
          10.7389701,
          -121.4943996,
          15.3125974,
          28.1879444,
          28.2821535,
          -66.9146017,
          -71.6396282,
          -99.1126826,
          44.8014495,
          -17.447938,
          -75.9774183,
          15.2712256,
          -111.6526441150196,
          39.826869,
          39.1653612,
          120.2052342,
          -76.98788325388196,
          -10.797788,
          -90.0516285,
          116.3530413,
          -122.3300624,
          132.4518156,
          -83.0007065,
          55.4210633,
          -88.9140683,
          -79.9900861,
          120.3781372,
          34.9983856,
          74.6070079,
          2.4252507,
          -111.8867975,
          13.2439512,
          36.8172449,
          -72.0243982,
          47.9735629,
          -68.1336229,
          16.3725042,
          75.8189817,
          128.6018,
          -8.000337,
          -84.5124602,
          -82.3589631,
          120.3120375,
          -5.971415104539984,
          26.1027202,
          102.8324209,
          -122.3558473,
          72.5797068,
          102.6133707,
          78.46106473453146,
          -3.7035825,
          48.2562163,
          -78.8783922,
          88.35769124388872,
          117.1951073,
          51.6650002,
          104.9224426,
          -75.390595,
          -83.7980749,
          32.53565,
          106.827183,
          -90.24111656024635,
          -99.6569007,
          30.316229,
          23.7283052,
          125.753388,
          49.8326748,
          140.8691498,
          151.2164539,
          101.6942371,
          -66.116666,
          69.2787079,
          -98,
          -58.4370894,
          -71.5369607,
          -84.1916069,
          35.2250786,
          8.5423328,
          -0.1276474,
          30.061507,
          -121.8905833,
          -79.5341802,
          125.3171216,
          35.9239625,
          139.7594549,
          39.2803583,
          4.351697,
          121.5636796,
          126.8515089,
          -117.1627714,
          -103.3383962,
          -97.3451271,
          -78.6390989,
          126.73540046158966,
          -87.204676,
          -13.6998434,
          120.9809674,
          35.47843,
          7.6824892,
          14.4212535,
          69.1776838,
          35.3258349,
          -106.4555818,
          82.9234509,
          118.7916458,
          120.5810725,
          -113.507996,
          -2.6642358,
          -72.3395928,
          1.215829,
          127.3848,
          5.3699525,
          -98.230082,
          29.894378,
          -43.2093727,
          52.5378041,
          30.7392776,
          -34.8848193,
          -7.618756606822727,
          -78.5123274,
          -0.2057437,
          141.3542924,
          114.1628131,
          -89.1914249,
          37.6174943,
          116.8101625,
          107.6049539,
          51.4013785,
          -1.9026911,
          90.4126466,
          4.3997081,
          121.4692071,
          38.7612525,
          -71.6196749,
          -81.655651,
          76.91835188749678,
          113.7465512,
          18.0710935,
          30.5241361,
          -69.942111,
          -75.573553,
          -15.9780071,
          106.9177016,
          121.6203873,
          -98.4951405,
          -90.5185188,
          -9.1365919,
          8.6820917,
          4.8936041,
          49.1242266,
          59.6059232,
          -95.3676974,
          -90.0701156,
          3.3941795,
          120.3074357,
          31.045686,
          -100.3152586,
          44.5125849,
          -2.991665,
          31.009909,
          -1.6230404,
          27.1434119,
          32.8540093,
          18.417396
         ],
         "y": [
          39.2908816,
          -37.8142176,
          13.524834,
          21.0294498,
          43.419754,
          43.0349931,
          48.8566969,
          -34.9059039,
          50.0619474,
          56.839104,
          18.521428,
          10.45,
          5.320357,
          30.2711286,
          3.8689867,
          28.6517178,
          31.8228094,
          25.2047397,
          41.8755616,
          38.9181714,
          10.7758439,
          49.9902794,
          12.1459907,
          27.708317,
          22.3307998,
          24.8667795,
          55.8609825,
          -12.6076318,
          28.469648,
          50.6365654,
          33.3024309,
          34.022405,
          29.5647398,
          50.7149265,
          28.0000272,
          12.9791198,
          -4.05052,
          41.3828939,
          35.5391697,
          1.4953041,
          33.6238152,
          53.198627,
          43.6534817,
          60.1674098,
          40.1827657,
          34.0536909,
          53.3497645,
          16.8680495,
          2.0349312,
          56.328571,
          -12.0621065,
          -32.8652,
          -7.2459717,
          32.2228765,
          30.6624205,
          32.896672,
          53.550341,
          36.1672559,
          28.5000001,
          -11.6642316,
          42.3602534,
          21.9812746,
          41.0096334,
          41.8933203,
          52.5170365,
          -36.8270795,
          31.5656822,
          36.1622296,
          39.729432,
          13.7544238,
          38.2542376,
          51.95612425,
          33.8829996,
          -18.9100122,
          45.4972159,
          42.3315509,
          4.0429408,
          30.5951051,
          28.2302056,
          -19.9227318,
          18.9387711,
          48.1516988,
          7.0644576,
          36.6507007,
          47.48138955,
          22.555454,
          -26.205,
          19.4326296,
          40.8359336,
          23.1301964,
          -25.2800459,
          24.4747961,
          45.4668,
          44.841225,
          40.7127281,
          38.0739964,
          40.6403167,
          12.1191543,
          33.5206824,
          32.0804808,
          54.9738474,
          45.421106,
          43.4895549,
          34.80386944999999,
          45.7578137,
          52.2319581,
          39.9162861,
          32.5010188,
          39.4697065,
          25.7742658,
          35.1851045,
          -36.852095,
          35.4729886,
          36.343694049999996,
          30.048819,
          37.8845813,
          48.1371079,
          48.1371079,
          35.7032751,
          39.100105,
          0.3177137,
          36.19924,
          -23.5506507,
          24.638916,
          43.6044622,
          45.7988273,
          35.1799528,
          43.157285,
          26.8381,
          16.7967129,
          41.6744574,
          41.1494512,
          13.0801721,
          44.8621325,
          28.5421109,
          55.6867243,
          44.8178131,
          49.2608724,
          12.3681873,
          45.9383,
          -2.1899066,
          45.5202471,
          4.59808,
          -25.966213,
          33.8439408,
          49.1810037,
          8.479004,
          -10.3333333,
          24.4801069,
          1.3408630000000001,
          39.9020668,
          31.7754152,
          34.7591877,
          53.902334,
          39.9527237,
          37.870009,
          27.7703796,
          51.0534234,
          24.163162,
          35.2272,
          43.7009358,
          15.3538569,
          21.304547,
          41.5051613,
          33.5130695,
          53.4794892,
          25.6093239,
          38.0429742,
          59.9133301,
          38.5815719,
          -4.3217055,
          -25.7459374,
          -15.4164488,
          10.506098,
          10.6499149,
          29.2836281,
          41.6934591,
          14.693425,
          36.8529841,
          -4.2694407,
          33.30591455,
          21.420847,
          21.5810088,
          30.2489634,
          38.893661249999994,
          6.328034,
          35.1490215,
          27.9511188,
          47.6038321,
          34.3916058,
          39.9622601,
          25.3461498,
          13.8000382,
          40.4416941,
          36.0638034,
          32.8191218,
          42.8765615,
          6.3676953,
          40.7596198,
          -8.8272699,
          -1.2832533,
          41.3403944,
          29.3797091,
          -16.4955455,
          48.2083537,
          26.9154576,
          35.8713,
          12.649319,
          39.1014537,
          23.135305,
          22.6203348,
          42.63414505,
          44.4361414,
          24.8843019,
          37.7884969,
          23.0216238,
          17.9640988,
          17.38878595,
          40.4167047,
          -15.2538402,
          42.8867166,
          22.5414185,
          39.0856735,
          32.6707877,
          11.568271,
          40.6290531,
          9.8694792,
          15.593325,
          -6.1753942,
          38.6529545,
          19.292545,
          59.938732,
          37.9839412,
          39.0194741,
          40.3754434,
          38.2677554,
          -33.8548157,
          3.1516964,
          18.465299,
          41.3123363,
          18.833333,
          -34.6075682,
          -16.3988667,
          39.7589478,
          31.778345,
          47.3723941,
          51.5073219,
          -1.950851,
          37.3361905,
          8.9714493,
          43.8130735,
          31.9515694,
          35.6828387,
          -6.8160837,
          50.8465573,
          25.0375198,
          35.1595775,
          32.7174209,
          20.6720375,
          32.7408759,
          35.7803977,
          37.44032425,
          14.1056861,
          9.5170602,
          14.5907332,
          33.8959203,
          45.0677551,
          50.0874654,
          34.5260109,
          36.9936175,
          31.7097961,
          55.0282171,
          32.0609736,
          31.3016935,
          53.535411,
          51.4325409,
          18.547327,
          6.130419,
          36.3496,
          43.2961743,
          26.2043691,
          31.199004,
          -22.9110137,
          29.6060218,
          46.4873195,
          -8.0584933,
          33.5675527,
          -0.2201641,
          5.5600141,
          43.061936,
          22.2793278,
          13.6989939,
          55.7504461,
          39.6884036,
          -6.9344694,
          35.7006177,
          52.4796992,
          23.810651,
          51.2211097,
          31.2322758,
          9.0107934,
          -33.0458456,
          30.3321838,
          43.219842549999996,
          23.0444712,
          59.3251172,
          50.4500336,
          18.4801972,
          6.2443382,
          18.0792379,
          47.9184676,
          29.8622194,
          29.4246002,
          14.6222328,
          38.7077507,
          50.1106444,
          52.3727598,
          55.7823547,
          36.2974945,
          29.7589382,
          29.9499323,
          6.4550575,
          31.4933074,
          -17.831773,
          25.6802019,
          40.1776121,
          53.407154,
          -29.861825,
          6.698081,
          38.4147331,
          39.9207486,
          -33.928992
         ]
        }
       ],
       "layout": {
        "template": {
         "data": {
          "bar": [
           {
            "error_x": {
             "color": "#2a3f5f"
            },
            "error_y": {
             "color": "#2a3f5f"
            },
            "marker": {
             "line": {
              "color": "#E5ECF6",
              "width": 0.5
             }
            },
            "type": "bar"
           }
          ],
          "barpolar": [
           {
            "marker": {
             "line": {
              "color": "#E5ECF6",
              "width": 0.5
             }
            },
            "type": "barpolar"
           }
          ],
          "carpet": [
           {
            "aaxis": {
             "endlinecolor": "#2a3f5f",
             "gridcolor": "white",
             "linecolor": "white",
             "minorgridcolor": "white",
             "startlinecolor": "#2a3f5f"
            },
            "baxis": {
             "endlinecolor": "#2a3f5f",
             "gridcolor": "white",
             "linecolor": "white",
             "minorgridcolor": "white",
             "startlinecolor": "#2a3f5f"
            },
            "type": "carpet"
           }
          ],
          "choropleth": [
           {
            "colorbar": {
             "outlinewidth": 0,
             "ticks": ""
            },
            "type": "choropleth"
           }
          ],
          "contour": [
           {
            "colorbar": {
             "outlinewidth": 0,
             "ticks": ""
            },
            "colorscale": [
             [
              0,
              "#0d0887"
             ],
             [
              0.1111111111111111,
              "#46039f"
             ],
             [
              0.2222222222222222,
              "#7201a8"
             ],
             [
              0.3333333333333333,
              "#9c179e"
             ],
             [
              0.4444444444444444,
              "#bd3786"
             ],
             [
              0.5555555555555556,
              "#d8576b"
             ],
             [
              0.6666666666666666,
              "#ed7953"
             ],
             [
              0.7777777777777778,
              "#fb9f3a"
             ],
             [
              0.8888888888888888,
              "#fdca26"
             ],
             [
              1,
              "#f0f921"
             ]
            ],
            "type": "contour"
           }
          ],
          "contourcarpet": [
           {
            "colorbar": {
             "outlinewidth": 0,
             "ticks": ""
            },
            "type": "contourcarpet"
           }
          ],
          "heatmap": [
           {
            "colorbar": {
             "outlinewidth": 0,
             "ticks": ""
            },
            "colorscale": [
             [
              0,
              "#0d0887"
             ],
             [
              0.1111111111111111,
              "#46039f"
             ],
             [
              0.2222222222222222,
              "#7201a8"
             ],
             [
              0.3333333333333333,
              "#9c179e"
             ],
             [
              0.4444444444444444,
              "#bd3786"
             ],
             [
              0.5555555555555556,
              "#d8576b"
             ],
             [
              0.6666666666666666,
              "#ed7953"
             ],
             [
              0.7777777777777778,
              "#fb9f3a"
             ],
             [
              0.8888888888888888,
              "#fdca26"
             ],
             [
              1,
              "#f0f921"
             ]
            ],
            "type": "heatmap"
           }
          ],
          "heatmapgl": [
           {
            "colorbar": {
             "outlinewidth": 0,
             "ticks": ""
            },
            "colorscale": [
             [
              0,
              "#0d0887"
             ],
             [
              0.1111111111111111,
              "#46039f"
             ],
             [
              0.2222222222222222,
              "#7201a8"
             ],
             [
              0.3333333333333333,
              "#9c179e"
             ],
             [
              0.4444444444444444,
              "#bd3786"
             ],
             [
              0.5555555555555556,
              "#d8576b"
             ],
             [
              0.6666666666666666,
              "#ed7953"
             ],
             [
              0.7777777777777778,
              "#fb9f3a"
             ],
             [
              0.8888888888888888,
              "#fdca26"
             ],
             [
              1,
              "#f0f921"
             ]
            ],
            "type": "heatmapgl"
           }
          ],
          "histogram": [
           {
            "marker": {
             "colorbar": {
              "outlinewidth": 0,
              "ticks": ""
             }
            },
            "type": "histogram"
           }
          ],
          "histogram2d": [
           {
            "colorbar": {
             "outlinewidth": 0,
             "ticks": ""
            },
            "colorscale": [
             [
              0,
              "#0d0887"
             ],
             [
              0.1111111111111111,
              "#46039f"
             ],
             [
              0.2222222222222222,
              "#7201a8"
             ],
             [
              0.3333333333333333,
              "#9c179e"
             ],
             [
              0.4444444444444444,
              "#bd3786"
             ],
             [
              0.5555555555555556,
              "#d8576b"
             ],
             [
              0.6666666666666666,
              "#ed7953"
             ],
             [
              0.7777777777777778,
              "#fb9f3a"
             ],
             [
              0.8888888888888888,
              "#fdca26"
             ],
             [
              1,
              "#f0f921"
             ]
            ],
            "type": "histogram2d"
           }
          ],
          "histogram2dcontour": [
           {
            "colorbar": {
             "outlinewidth": 0,
             "ticks": ""
            },
            "colorscale": [
             [
              0,
              "#0d0887"
             ],
             [
              0.1111111111111111,
              "#46039f"
             ],
             [
              0.2222222222222222,
              "#7201a8"
             ],
             [
              0.3333333333333333,
              "#9c179e"
             ],
             [
              0.4444444444444444,
              "#bd3786"
             ],
             [
              0.5555555555555556,
              "#d8576b"
             ],
             [
              0.6666666666666666,
              "#ed7953"
             ],
             [
              0.7777777777777778,
              "#fb9f3a"
             ],
             [
              0.8888888888888888,
              "#fdca26"
             ],
             [
              1,
              "#f0f921"
             ]
            ],
            "type": "histogram2dcontour"
           }
          ],
          "mesh3d": [
           {
            "colorbar": {
             "outlinewidth": 0,
             "ticks": ""
            },
            "type": "mesh3d"
           }
          ],
          "parcoords": [
           {
            "line": {
             "colorbar": {
              "outlinewidth": 0,
              "ticks": ""
             }
            },
            "type": "parcoords"
           }
          ],
          "pie": [
           {
            "automargin": true,
            "type": "pie"
           }
          ],
          "scatter": [
           {
            "marker": {
             "colorbar": {
              "outlinewidth": 0,
              "ticks": ""
             }
            },
            "type": "scatter"
           }
          ],
          "scatter3d": [
           {
            "line": {
             "colorbar": {
              "outlinewidth": 0,
              "ticks": ""
             }
            },
            "marker": {
             "colorbar": {
              "outlinewidth": 0,
              "ticks": ""
             }
            },
            "type": "scatter3d"
           }
          ],
          "scattercarpet": [
           {
            "marker": {
             "colorbar": {
              "outlinewidth": 0,
              "ticks": ""
             }
            },
            "type": "scattercarpet"
           }
          ],
          "scattergeo": [
           {
            "marker": {
             "colorbar": {
              "outlinewidth": 0,
              "ticks": ""
             }
            },
            "type": "scattergeo"
           }
          ],
          "scattergl": [
           {
            "marker": {
             "colorbar": {
              "outlinewidth": 0,
              "ticks": ""
             }
            },
            "type": "scattergl"
           }
          ],
          "scattermapbox": [
           {
            "marker": {
             "colorbar": {
              "outlinewidth": 0,
              "ticks": ""
             }
            },
            "type": "scattermapbox"
           }
          ],
          "scatterpolar": [
           {
            "marker": {
             "colorbar": {
              "outlinewidth": 0,
              "ticks": ""
             }
            },
            "type": "scatterpolar"
           }
          ],
          "scatterpolargl": [
           {
            "marker": {
             "colorbar": {
              "outlinewidth": 0,
              "ticks": ""
             }
            },
            "type": "scatterpolargl"
           }
          ],
          "scatterternary": [
           {
            "marker": {
             "colorbar": {
              "outlinewidth": 0,
              "ticks": ""
             }
            },
            "type": "scatterternary"
           }
          ],
          "surface": [
           {
            "colorbar": {
             "outlinewidth": 0,
             "ticks": ""
            },
            "colorscale": [
             [
              0,
              "#0d0887"
             ],
             [
              0.1111111111111111,
              "#46039f"
             ],
             [
              0.2222222222222222,
              "#7201a8"
             ],
             [
              0.3333333333333333,
              "#9c179e"
             ],
             [
              0.4444444444444444,
              "#bd3786"
             ],
             [
              0.5555555555555556,
              "#d8576b"
             ],
             [
              0.6666666666666666,
              "#ed7953"
             ],
             [
              0.7777777777777778,
              "#fb9f3a"
             ],
             [
              0.8888888888888888,
              "#fdca26"
             ],
             [
              1,
              "#f0f921"
             ]
            ],
            "type": "surface"
           }
          ],
          "table": [
           {
            "cells": {
             "fill": {
              "color": "#EBF0F8"
             },
             "line": {
              "color": "white"
             }
            },
            "header": {
             "fill": {
              "color": "#C8D4E3"
             },
             "line": {
              "color": "white"
             }
            },
            "type": "table"
           }
          ]
         },
         "layout": {
          "annotationdefaults": {
           "arrowcolor": "#2a3f5f",
           "arrowhead": 0,
           "arrowwidth": 1
          },
          "coloraxis": {
           "colorbar": {
            "outlinewidth": 0,
            "ticks": ""
           }
          },
          "colorscale": {
           "diverging": [
            [
             0,
             "#8e0152"
            ],
            [
             0.1,
             "#c51b7d"
            ],
            [
             0.2,
             "#de77ae"
            ],
            [
             0.3,
             "#f1b6da"
            ],
            [
             0.4,
             "#fde0ef"
            ],
            [
             0.5,
             "#f7f7f7"
            ],
            [
             0.6,
             "#e6f5d0"
            ],
            [
             0.7,
             "#b8e186"
            ],
            [
             0.8,
             "#7fbc41"
            ],
            [
             0.9,
             "#4d9221"
            ],
            [
             1,
             "#276419"
            ]
           ],
           "sequential": [
            [
             0,
             "#0d0887"
            ],
            [
             0.1111111111111111,
             "#46039f"
            ],
            [
             0.2222222222222222,
             "#7201a8"
            ],
            [
             0.3333333333333333,
             "#9c179e"
            ],
            [
             0.4444444444444444,
             "#bd3786"
            ],
            [
             0.5555555555555556,
             "#d8576b"
            ],
            [
             0.6666666666666666,
             "#ed7953"
            ],
            [
             0.7777777777777778,
             "#fb9f3a"
            ],
            [
             0.8888888888888888,
             "#fdca26"
            ],
            [
             1,
             "#f0f921"
            ]
           ],
           "sequentialminus": [
            [
             0,
             "#0d0887"
            ],
            [
             0.1111111111111111,
             "#46039f"
            ],
            [
             0.2222222222222222,
             "#7201a8"
            ],
            [
             0.3333333333333333,
             "#9c179e"
            ],
            [
             0.4444444444444444,
             "#bd3786"
            ],
            [
             0.5555555555555556,
             "#d8576b"
            ],
            [
             0.6666666666666666,
             "#ed7953"
            ],
            [
             0.7777777777777778,
             "#fb9f3a"
            ],
            [
             0.8888888888888888,
             "#fdca26"
            ],
            [
             1,
             "#f0f921"
            ]
           ]
          },
          "colorway": [
           "#636efa",
           "#EF553B",
           "#00cc96",
           "#ab63fa",
           "#FFA15A",
           "#19d3f3",
           "#FF6692",
           "#B6E880",
           "#FF97FF",
           "#FECB52"
          ],
          "font": {
           "color": "#2a3f5f"
          },
          "geo": {
           "bgcolor": "white",
           "lakecolor": "white",
           "landcolor": "#E5ECF6",
           "showlakes": true,
           "showland": true,
           "subunitcolor": "white"
          },
          "hoverlabel": {
           "align": "left"
          },
          "hovermode": "closest",
          "mapbox": {
           "style": "light"
          },
          "paper_bgcolor": "white",
          "plot_bgcolor": "#E5ECF6",
          "polar": {
           "angularaxis": {
            "gridcolor": "white",
            "linecolor": "white",
            "ticks": ""
           },
           "bgcolor": "#E5ECF6",
           "radialaxis": {
            "gridcolor": "white",
            "linecolor": "white",
            "ticks": ""
           }
          },
          "scene": {
           "xaxis": {
            "backgroundcolor": "#E5ECF6",
            "gridcolor": "white",
            "gridwidth": 2,
            "linecolor": "white",
            "showbackground": true,
            "ticks": "",
            "zerolinecolor": "white"
           },
           "yaxis": {
            "backgroundcolor": "#E5ECF6",
            "gridcolor": "white",
            "gridwidth": 2,
            "linecolor": "white",
            "showbackground": true,
            "ticks": "",
            "zerolinecolor": "white"
           },
           "zaxis": {
            "backgroundcolor": "#E5ECF6",
            "gridcolor": "white",
            "gridwidth": 2,
            "linecolor": "white",
            "showbackground": true,
            "ticks": "",
            "zerolinecolor": "white"
           }
          },
          "shapedefaults": {
           "line": {
            "color": "#2a3f5f"
           }
          },
          "ternary": {
           "aaxis": {
            "gridcolor": "white",
            "linecolor": "white",
            "ticks": ""
           },
           "baxis": {
            "gridcolor": "white",
            "linecolor": "white",
            "ticks": ""
           },
           "bgcolor": "#E5ECF6",
           "caxis": {
            "gridcolor": "white",
            "linecolor": "white",
            "ticks": ""
           }
          },
          "title": {
           "x": 0.05
          },
          "xaxis": {
           "automargin": true,
           "gridcolor": "white",
           "linecolor": "white",
           "ticks": "",
           "title": {
            "standoff": 15
           },
           "zerolinecolor": "white",
           "zerolinewidth": 2
          },
          "yaxis": {
           "automargin": true,
           "gridcolor": "white",
           "linecolor": "white",
           "ticks": "",
           "title": {
            "standoff": 15
           },
           "zerolinecolor": "white",
           "zerolinewidth": 2
          }
         }
        },
        "xaxis": {
         "title": {
          "text": "longitude"
         }
        },
        "yaxis": {
         "title": {
          "text": "latitude"
         }
        }
       }
      },
      "text/html": [
       "<div>                            <div id=\"f7717472-856e-4d9d-9c18-ee0e0e899fde\" class=\"plotly-graph-div\" style=\"height:525px; width:100%;\"></div>            <script type=\"text/javascript\">                require([\"plotly\"], function(Plotly) {                    window.PLOTLYENV=window.PLOTLYENV || {};                                    if (document.getElementById(\"f7717472-856e-4d9d-9c18-ee0e0e899fde\")) {                    Plotly.newPlot(                        \"f7717472-856e-4d9d-9c18-ee0e0e899fde\",                        [{\"marker\": {\"color\": [58789.0, 39358.0, 427.4, 3425.0, 12189.0, 56697.0, 71671.0, 14010.0, 16843.0, 11279.6, 1861.5, 2753.3, 1552.8, 61183.0, 1495.4, 12747.0, 11809.0, 24866.0, 59810.0, 17879.0, 8660.0, 2905.9, 1946.4, 685.1, 972.88, 6000.0, 41561.0, 3582.6, 2457.6, 37835.0, 5695.7, 3204.9, 10516.0, 58372.0, 4827.7, 5051.0, 935.0, 35445.0, 69271.0, 11031.8, 55300.0, 11279.6, 45771.0, 65438.0, 21507.0, 66477.0, 75090.0, 7638.0, 450.0, 11279.6, 15530.0, 54605.0, 3974.1, 32070.0, 12020.0, 6601.6, 59546.0, 44810.0, 14506.0, 388.3, 77502.0, 1408.1, 24867.0, 46021.0, 41646.0, 15019.6, 1178.8, 58639.0, 63246.0, 19705.0, 51166.0, 54711.0, 34822.0, 416.0, 38867.0, 52084.0, 1495.4, 17015.0, 18688.0, 20134.0, 7005.0, 47022.0, 2753.3, 13859.0, 22859.0, 26071.0, 16370.0, 20960.0, 23664.0, 22218.0, 3925.6, 61009.0, 58763.0, 41631.0, 70758.0, 6733.9, 17979.0, 859.6, 48405.0, 42614.0, 35702.0, 44149.0, 13709.0, 35902.0, 56464.0, 28910.0, 58670.0, 14835.0, 27578.0, 47438.0, 40144.0, 31766.0, 47819.0, 5695.7, 7843.0, 10154.0, 78834.0, 78834.0, 4827.7, 54348.0, 662.4, 1821.0, 25650.0, 21395.4, 50061.0, 12865.0, 23938.0, 44782.0, 1861.5, 1408.1, 14105.0, 20813.0, 6469.0, 61268.0, 45783.0, 78145.0, 18204.0, 44337.0, 663.9, 1861.5, 5191.1, 62606.0, 21497.0, 515.4, 4265.4, 2455.9, 455.6, 35689.0, 14606.0, 52600.6, 17139.0, 30143.0, 12524.0, 6221.4, 62817.0, 10216.0, 41609.0, 69826.0, 41877.0, 56911.0, 43226.0, 679.7, 57002.0, 55697.0, 1821.0, 38151.0, 1861.5, 12405.0, 69091.0, 46650.0, 388.3, 11925.0, 1627.3, 15890.0, 13709.0, 21395.4, 4084.0, 1092.3, 47115.0, 2798.1, 43602.0, 21395.4, 21395.4, 18153.0, 73270.0, 352.6, 46260.0, 12140.0, 77273.0, 36900.0, 56082.0, 40864.0, 10070.0, 54076.0, 16506.0, 36571.0, 1038.9, 837.3, 61900.0, 6769.0, 1081.0, 66279.0, 55171.0, 2457.6, 56277.0, 1861.5, 22380.0, 745.9, 53609.0, 22377.0, 40534.0, 12583.0, 23464.0, 13418.0, 86830.0, 1861.5, 1642.7, 5063.0, 40746.0, 15732.0, 44422.0, 4036.0, 17506.0, 6733.9, 1079.1, 45589.0, 28929.0, 4730.0, 9984.0, 50129.0, 10509.0, 23361.0, 29764.0, 695.9, 5861.5, 33765.0, 42824.0, 28076.0, 27270.7, 1961.5, 9614.0, 35906.0, 6089.4, 44381.0, 33677.5, 56666.0, 69623.0, 738.6, 9714.1, 10982.0, 11655.0, 3258.5, 43664.0, 2667.0, 66971.0, 46102.0, 22513.0, 57465.0, 14882.0, 65154.0, 49703.0, 31403.0, 2137.8, 735.7, 14222.0, 7144.0, 39445.0, 28999.0, 617.9, 14117.0, 14506.0, 11279.6, 18996.0, 21988.0, 62832.0, 43672.0, 729.3, 558.1, 24215.0, 40203.0, 20361.0, 7100.0, 23176.0, 6733.9, 2905.9, 10359.0, 9274.0, 5191.1, 1707.7, 32446.0, 36776.2, 3802.9, 45803.0, 10812.0, 3974.1, 6733.9, 31572.0, 972.88, 60248.0, 16524.0, 6000.0, 15019.6, 42316.0, 35298.0, 12076.0, 83492.0, 8668.0, 6909.1, 11466.0, 1296.0, 3906.1, 16468.0, 45006.0, 3100.2, 29932.0, 69523.0, 65599.0, 11279.6, 6733.9, 65332.0, 53245.0, 4333.0, 21040.0, 917.6, 25237.0, 3932.6, 34669.0, 8221.0, 1707.7, 19886.0, 21076.0, 14086.0], \"showscale\": true}, \"mode\": \"markers\", \"type\": \"scatter\", \"uid\": \"356ff56c-783a-4f48-b0c8-f7cac97541fd\", \"x\": [-76.610759, 144.9631608, 2.109823, 105.8544441, 87.319461, -87.922497, 2.3514616, -56.1913569, 19.9368564, 60.60825, 73.8544541, 123.84, -4.016107, -97.7436995, 11.5213344, 77.2219388, 117.2218033, 55.2707065, -87.6244212, 121.6282945, 106.7017555, 36.2303893, -86.2746665, 85.3205817, 91.8412863, 67.0311286, -4.2488787, 15.7411039, -16.2540884, 3.0635282, 44.3787992, -6.834543, 106.5478767, 7.1632697, 2.9999825, 77.5912997, 39.667169, 2.1774322, 129.3119136, 103.7550839, -84.1693827, 50.113987, -79.3839347, 24.9425769, 29.0677305, -118.2427666, -6.2602732, -99.8940182, 45.3419183, 44.003506, -77.0365256, 151.5012, 112.7378266, -110.9748477, 104.0633219, 13.1777923, 10.000654, -115.1485163, -106.0000001, 27.4826264, -71.0582912, 96.082375, 28.9651646, 12.4829321, 13.3888599, -73.0502399, 74.3141829, -86.7743531, -104.8319196, 100.4930399, -85.759407, 4.439270829036536, 130.8749015, 47.5255809, -73.6103642, -83.0466403, 9.706203, 114.2999353, 112.9335861, -43.9450948, 72.8353355, 17.1093063, 125.6083647, 117.1140042, 19.14607278448202, 114.0543297, 28.049722, -99.1331785, 14.2487826, 113.2592945, -57.6343814, 54.3705762, 9.1905, -0.5800364, -74.0060152, 46.2961952, 22.9352716, 15.0502758, -86.8024326, 34.7805274, -1.6131572, -75.690308, -8.2186296, 135.51566283471678, 4.8320114, 21.0067249, -86.05267778244621, -116.9646629, -0.3763353, -80.1936589, 136.8998438, 174.7631803, -97.5170536, 43.099715597302286, 31.243666, -4.7760138, 11.5753822, 11.5753822, -0.6492976, -94.5781416, 32.5813539, 37.1637253, -46.6333824, 46.7160104, 1.4442469, 126.5303997, 129.0752365, -77.615214, 80.9346001, 96.1609916, 123.4582891, -8.6107884, 80.2838331, -93.2212015, -81.3790304, 12.5700724, 20.4568974, -123.1139529, -1.5270944, 3.2553, -79.887726, -122.6741949, -74.0760439, 32.56745, 9.400138, -0.3698915, -13.26795, -53.2, 118.0853479, 103.83039182212079, 116.718583, -106.4646348, 113.6524076, 27.5618791, -75.1635262, 112.5452739, -82.6695085, -114.0625892, 120.6478282, -80.843083, 7.2683912, 44.2058841, -157.8556764, -81.6934446, 36.3095814, -2.2451148, 85.1235252, 114.5088385, 10.7389701, -121.4943996, 15.3125974, 28.1879444, 28.2821535, -66.9146017, -71.6396282, -99.1126826, 44.8014495, -17.447938, -75.9774183, 15.2712256, -111.6526441150196, 39.826869, 39.1653612, 120.2052342, -76.98788325388196, -10.797788, -90.0516285, 116.3530413, -122.3300624, 132.4518156, -83.0007065, 55.4210633, -88.9140683, -79.9900861, 120.3781372, 34.9983856, 74.6070079, 2.4252507, -111.8867975, 13.2439512, 36.8172449, -72.0243982, 47.9735629, -68.1336229, 16.3725042, 75.8189817, 128.6018, -8.000337, -84.5124602, -82.3589631, 120.3120375, -5.971415104539984, 26.1027202, 102.8324209, -122.3558473, 72.5797068, 102.6133707, 78.46106473453146, -3.7035825, 48.2562163, -78.8783922, 88.35769124388872, 117.1951073, 51.6650002, 104.9224426, -75.390595, -83.7980749, 32.53565, 106.827183, -90.24111656024635, -99.6569007, 30.316229, 23.7283052, 125.753388, 49.8326748, 140.8691498, 151.2164539, 101.6942371, -66.116666, 69.2787079, -98.0, -58.4370894, -71.5369607, -84.1916069, 35.2250786, 8.5423328, -0.1276474, 30.061507, -121.8905833, -79.5341802, 125.3171216, 35.9239625, 139.7594549, 39.2803583, 4.351697, 121.5636796, 126.8515089, -117.1627714, -103.3383962, -97.3451271, -78.6390989, 126.73540046158966, -87.204676, -13.6998434, 120.9809674, 35.47843, 7.6824892, 14.4212535, 69.1776838, 35.3258349, -106.4555818, 82.9234509, 118.7916458, 120.5810725, -113.507996, -2.6642358, -72.3395928, 1.215829, 127.3848, 5.3699525, -98.230082, 29.894378, -43.2093727, 52.5378041, 30.7392776, -34.8848193, -7.618756606822727, -78.5123274, -0.2057437, 141.3542924, 114.1628131, -89.1914249, 37.6174943, 116.8101625, 107.6049539, 51.4013785, -1.9026911, 90.4126466, 4.3997081, 121.4692071, 38.7612525, -71.6196749, -81.655651, 76.91835188749678, 113.7465512, 18.0710935, 30.5241361, -69.942111, -75.573553, -15.9780071, 106.9177016, 121.6203873, -98.4951405, -90.5185188, -9.1365919, 8.6820917, 4.8936041, 49.1242266, 59.6059232, -95.3676974, -90.0701156, 3.3941795, 120.3074357, 31.045686, -100.3152586, 44.5125849, -2.991665, 31.009909, -1.6230404, 27.1434119, 32.8540093, 18.417396], \"y\": [39.2908816, -37.8142176, 13.524834, 21.0294498, 43.419754, 43.0349931, 48.8566969, -34.9059039, 50.0619474, 56.839104, 18.521428, 10.45, 5.320357, 30.2711286, 3.8689867, 28.6517178, 31.8228094, 25.2047397, 41.8755616, 38.9181714, 10.7758439, 49.9902794, 12.1459907, 27.708317, 22.3307998, 24.8667795, 55.8609825, -12.6076318, 28.469648, 50.6365654, 33.3024309, 34.022405, 29.5647398, 50.7149265, 28.0000272, 12.9791198, -4.05052, 41.3828939, 35.5391697, 1.4953041, 33.6238152, 53.198627, 43.6534817, 60.1674098, 40.1827657, 34.0536909, 53.3497645, 16.8680495, 2.0349312, 56.328571, -12.0621065, -32.8652, -7.2459717, 32.2228765, 30.6624205, 32.896672, 53.550341, 36.1672559, 28.5000001, -11.6642316, 42.3602534, 21.9812746, 41.0096334, 41.8933203, 52.5170365, -36.8270795, 31.5656822, 36.1622296, 39.729432, 13.7544238, 38.2542376, 51.95612425, 33.8829996, -18.9100122, 45.4972159, 42.3315509, 4.0429408, 30.5951051, 28.2302056, -19.9227318, 18.9387711, 48.1516988, 7.0644576, 36.6507007, 47.48138955, 22.555454, -26.205, 19.4326296, 40.8359336, 23.1301964, -25.2800459, 24.4747961, 45.4668, 44.841225, 40.7127281, 38.0739964, 40.6403167, 12.1191543, 33.5206824, 32.0804808, 54.9738474, 45.421106, 43.4895549, 34.80386944999999, 45.7578137, 52.2319581, 39.9162861, 32.5010188, 39.4697065, 25.7742658, 35.1851045, -36.852095, 35.4729886, 36.343694049999996, 30.048819, 37.8845813, 48.1371079, 48.1371079, 35.7032751, 39.100105, 0.3177137, 36.19924, -23.5506507, 24.638916, 43.6044622, 45.7988273, 35.1799528, 43.157285, 26.8381, 16.7967129, 41.6744574, 41.1494512, 13.0801721, 44.8621325, 28.5421109, 55.6867243, 44.8178131, 49.2608724, 12.3681873, 45.9383, -2.1899066, 45.5202471, 4.59808, -25.966213, 33.8439408, 49.1810037, 8.479004, -10.3333333, 24.4801069, 1.3408630000000001, 39.9020668, 31.7754152, 34.7591877, 53.902334, 39.9527237, 37.870009, 27.7703796, 51.0534234, 24.163162, 35.2272, 43.7009358, 15.3538569, 21.304547, 41.5051613, 33.5130695, 53.4794892, 25.6093239, 38.0429742, 59.9133301, 38.5815719, -4.3217055, -25.7459374, -15.4164488, 10.506098, 10.6499149, 29.2836281, 41.6934591, 14.693425, 36.8529841, -4.2694407, 33.30591455, 21.420847, 21.5810088, 30.2489634, 38.893661249999994, 6.328034, 35.1490215, 27.9511188, 47.6038321, 34.3916058, 39.9622601, 25.3461498, 13.8000382, 40.4416941, 36.0638034, 32.8191218, 42.8765615, 6.3676953, 40.7596198, -8.8272699, -1.2832533, 41.3403944, 29.3797091, -16.4955455, 48.2083537, 26.9154576, 35.8713, 12.649319, 39.1014537, 23.135305, 22.6203348, 42.63414505, 44.4361414, 24.8843019, 37.7884969, 23.0216238, 17.9640988, 17.38878595, 40.4167047, -15.2538402, 42.8867166, 22.5414185, 39.0856735, 32.6707877, 11.568271, 40.6290531, 9.8694792, 15.593325, -6.1753942, 38.6529545, 19.292545, 59.938732, 37.9839412, 39.0194741, 40.3754434, 38.2677554, -33.8548157, 3.1516964, 18.465299, 41.3123363, 18.833333, -34.6075682, -16.3988667, 39.7589478, 31.778345, 47.3723941, 51.5073219, -1.950851, 37.3361905, 8.9714493, 43.8130735, 31.9515694, 35.6828387, -6.8160837, 50.8465573, 25.0375198, 35.1595775, 32.7174209, 20.6720375, 32.7408759, 35.7803977, 37.44032425, 14.1056861, 9.5170602, 14.5907332, 33.8959203, 45.0677551, 50.0874654, 34.5260109, 36.9936175, 31.7097961, 55.0282171, 32.0609736, 31.3016935, 53.535411, 51.4325409, 18.547327, 6.130419, 36.3496, 43.2961743, 26.2043691, 31.199004, -22.9110137, 29.6060218, 46.4873195, -8.0584933, 33.5675527, -0.2201641, 5.5600141, 43.061936, 22.2793278, 13.6989939, 55.7504461, 39.6884036, -6.9344694, 35.7006177, 52.4796992, 23.810651, 51.2211097, 31.2322758, 9.0107934, -33.0458456, 30.3321838, 43.219842549999996, 23.0444712, 59.3251172, 50.4500336, 18.4801972, 6.2443382, 18.0792379, 47.9184676, 29.8622194, 29.4246002, 14.6222328, 38.7077507, 50.1106444, 52.3727598, 55.7823547, 36.2974945, 29.7589382, 29.9499323, 6.4550575, 31.4933074, -17.831773, 25.6802019, 40.1776121, 53.407154, -29.861825, 6.698081, 38.4147331, 39.9207486, -33.928992]}],                        {\"template\": {\"data\": {\"bar\": [{\"error_x\": {\"color\": \"#2a3f5f\"}, \"error_y\": {\"color\": \"#2a3f5f\"}, \"marker\": {\"line\": {\"color\": \"#E5ECF6\", \"width\": 0.5}}, \"type\": \"bar\"}], \"barpolar\": [{\"marker\": {\"line\": {\"color\": \"#E5ECF6\", \"width\": 0.5}}, \"type\": \"barpolar\"}], \"carpet\": [{\"aaxis\": {\"endlinecolor\": \"#2a3f5f\", \"gridcolor\": \"white\", \"linecolor\": \"white\", \"minorgridcolor\": \"white\", \"startlinecolor\": \"#2a3f5f\"}, \"baxis\": {\"endlinecolor\": \"#2a3f5f\", \"gridcolor\": \"white\", \"linecolor\": \"white\", \"minorgridcolor\": \"white\", \"startlinecolor\": \"#2a3f5f\"}, \"type\": \"carpet\"}], \"choropleth\": [{\"colorbar\": {\"outlinewidth\": 0, \"ticks\": \"\"}, \"type\": \"choropleth\"}], \"contour\": [{\"colorbar\": {\"outlinewidth\": 0, \"ticks\": \"\"}, \"colorscale\": [[0.0, \"#0d0887\"], [0.1111111111111111, \"#46039f\"], [0.2222222222222222, \"#7201a8\"], [0.3333333333333333, \"#9c179e\"], [0.4444444444444444, \"#bd3786\"], [0.5555555555555556, \"#d8576b\"], [0.6666666666666666, \"#ed7953\"], [0.7777777777777778, \"#fb9f3a\"], [0.8888888888888888, \"#fdca26\"], [1.0, \"#f0f921\"]], \"type\": \"contour\"}], \"contourcarpet\": [{\"colorbar\": {\"outlinewidth\": 0, \"ticks\": \"\"}, \"type\": \"contourcarpet\"}], \"heatmap\": [{\"colorbar\": {\"outlinewidth\": 0, \"ticks\": \"\"}, \"colorscale\": [[0.0, \"#0d0887\"], [0.1111111111111111, \"#46039f\"], [0.2222222222222222, \"#7201a8\"], [0.3333333333333333, \"#9c179e\"], [0.4444444444444444, \"#bd3786\"], [0.5555555555555556, \"#d8576b\"], [0.6666666666666666, \"#ed7953\"], [0.7777777777777778, \"#fb9f3a\"], [0.8888888888888888, \"#fdca26\"], [1.0, \"#f0f921\"]], \"type\": \"heatmap\"}], \"heatmapgl\": [{\"colorbar\": {\"outlinewidth\": 0, \"ticks\": \"\"}, \"colorscale\": [[0.0, \"#0d0887\"], [0.1111111111111111, \"#46039f\"], [0.2222222222222222, \"#7201a8\"], [0.3333333333333333, \"#9c179e\"], [0.4444444444444444, \"#bd3786\"], [0.5555555555555556, \"#d8576b\"], [0.6666666666666666, \"#ed7953\"], [0.7777777777777778, \"#fb9f3a\"], [0.8888888888888888, \"#fdca26\"], [1.0, \"#f0f921\"]], \"type\": \"heatmapgl\"}], \"histogram\": [{\"marker\": {\"colorbar\": {\"outlinewidth\": 0, \"ticks\": \"\"}}, \"type\": \"histogram\"}], \"histogram2d\": [{\"colorbar\": {\"outlinewidth\": 0, \"ticks\": \"\"}, \"colorscale\": [[0.0, \"#0d0887\"], [0.1111111111111111, \"#46039f\"], [0.2222222222222222, \"#7201a8\"], [0.3333333333333333, \"#9c179e\"], [0.4444444444444444, \"#bd3786\"], [0.5555555555555556, \"#d8576b\"], [0.6666666666666666, \"#ed7953\"], [0.7777777777777778, \"#fb9f3a\"], [0.8888888888888888, \"#fdca26\"], [1.0, \"#f0f921\"]], \"type\": \"histogram2d\"}], \"histogram2dcontour\": [{\"colorbar\": {\"outlinewidth\": 0, \"ticks\": \"\"}, \"colorscale\": [[0.0, \"#0d0887\"], [0.1111111111111111, \"#46039f\"], [0.2222222222222222, \"#7201a8\"], [0.3333333333333333, \"#9c179e\"], [0.4444444444444444, \"#bd3786\"], [0.5555555555555556, \"#d8576b\"], [0.6666666666666666, \"#ed7953\"], [0.7777777777777778, \"#fb9f3a\"], [0.8888888888888888, \"#fdca26\"], [1.0, \"#f0f921\"]], \"type\": \"histogram2dcontour\"}], \"mesh3d\": [{\"colorbar\": {\"outlinewidth\": 0, \"ticks\": \"\"}, \"type\": \"mesh3d\"}], \"parcoords\": [{\"line\": {\"colorbar\": {\"outlinewidth\": 0, \"ticks\": \"\"}}, \"type\": \"parcoords\"}], \"pie\": [{\"automargin\": true, \"type\": \"pie\"}], \"scatter\": [{\"marker\": {\"colorbar\": {\"outlinewidth\": 0, \"ticks\": \"\"}}, \"type\": \"scatter\"}], \"scatter3d\": [{\"line\": {\"colorbar\": {\"outlinewidth\": 0, \"ticks\": \"\"}}, \"marker\": {\"colorbar\": {\"outlinewidth\": 0, \"ticks\": \"\"}}, \"type\": \"scatter3d\"}], \"scattercarpet\": [{\"marker\": {\"colorbar\": {\"outlinewidth\": 0, \"ticks\": \"\"}}, \"type\": \"scattercarpet\"}], \"scattergeo\": [{\"marker\": {\"colorbar\": {\"outlinewidth\": 0, \"ticks\": \"\"}}, \"type\": \"scattergeo\"}], \"scattergl\": [{\"marker\": {\"colorbar\": {\"outlinewidth\": 0, \"ticks\": \"\"}}, \"type\": \"scattergl\"}], \"scattermapbox\": [{\"marker\": {\"colorbar\": {\"outlinewidth\": 0, \"ticks\": \"\"}}, \"type\": \"scattermapbox\"}], \"scatterpolar\": [{\"marker\": {\"colorbar\": {\"outlinewidth\": 0, \"ticks\": \"\"}}, \"type\": \"scatterpolar\"}], \"scatterpolargl\": [{\"marker\": {\"colorbar\": {\"outlinewidth\": 0, \"ticks\": \"\"}}, \"type\": \"scatterpolargl\"}], \"scatterternary\": [{\"marker\": {\"colorbar\": {\"outlinewidth\": 0, \"ticks\": \"\"}}, \"type\": \"scatterternary\"}], \"surface\": [{\"colorbar\": {\"outlinewidth\": 0, \"ticks\": \"\"}, \"colorscale\": [[0.0, \"#0d0887\"], [0.1111111111111111, \"#46039f\"], [0.2222222222222222, \"#7201a8\"], [0.3333333333333333, \"#9c179e\"], [0.4444444444444444, \"#bd3786\"], [0.5555555555555556, \"#d8576b\"], [0.6666666666666666, \"#ed7953\"], [0.7777777777777778, \"#fb9f3a\"], [0.8888888888888888, \"#fdca26\"], [1.0, \"#f0f921\"]], \"type\": \"surface\"}], \"table\": [{\"cells\": {\"fill\": {\"color\": \"#EBF0F8\"}, \"line\": {\"color\": \"white\"}}, \"header\": {\"fill\": {\"color\": \"#C8D4E3\"}, \"line\": {\"color\": \"white\"}}, \"type\": \"table\"}]}, \"layout\": {\"annotationdefaults\": {\"arrowcolor\": \"#2a3f5f\", \"arrowhead\": 0, \"arrowwidth\": 1}, \"coloraxis\": {\"colorbar\": {\"outlinewidth\": 0, \"ticks\": \"\"}}, \"colorscale\": {\"diverging\": [[0, \"#8e0152\"], [0.1, \"#c51b7d\"], [0.2, \"#de77ae\"], [0.3, \"#f1b6da\"], [0.4, \"#fde0ef\"], [0.5, \"#f7f7f7\"], [0.6, \"#e6f5d0\"], [0.7, \"#b8e186\"], [0.8, \"#7fbc41\"], [0.9, \"#4d9221\"], [1, \"#276419\"]], \"sequential\": [[0.0, \"#0d0887\"], [0.1111111111111111, \"#46039f\"], [0.2222222222222222, \"#7201a8\"], [0.3333333333333333, \"#9c179e\"], [0.4444444444444444, \"#bd3786\"], [0.5555555555555556, \"#d8576b\"], [0.6666666666666666, \"#ed7953\"], [0.7777777777777778, \"#fb9f3a\"], [0.8888888888888888, \"#fdca26\"], [1.0, \"#f0f921\"]], \"sequentialminus\": [[0.0, \"#0d0887\"], [0.1111111111111111, \"#46039f\"], [0.2222222222222222, \"#7201a8\"], [0.3333333333333333, \"#9c179e\"], [0.4444444444444444, \"#bd3786\"], [0.5555555555555556, \"#d8576b\"], [0.6666666666666666, \"#ed7953\"], [0.7777777777777778, \"#fb9f3a\"], [0.8888888888888888, \"#fdca26\"], [1.0, \"#f0f921\"]]}, \"colorway\": [\"#636efa\", \"#EF553B\", \"#00cc96\", \"#ab63fa\", \"#FFA15A\", \"#19d3f3\", \"#FF6692\", \"#B6E880\", \"#FF97FF\", \"#FECB52\"], \"font\": {\"color\": \"#2a3f5f\"}, \"geo\": {\"bgcolor\": \"white\", \"lakecolor\": \"white\", \"landcolor\": \"#E5ECF6\", \"showlakes\": true, \"showland\": true, \"subunitcolor\": \"white\"}, \"hoverlabel\": {\"align\": \"left\"}, \"hovermode\": \"closest\", \"mapbox\": {\"style\": \"light\"}, \"paper_bgcolor\": \"white\", \"plot_bgcolor\": \"#E5ECF6\", \"polar\": {\"angularaxis\": {\"gridcolor\": \"white\", \"linecolor\": \"white\", \"ticks\": \"\"}, \"bgcolor\": \"#E5ECF6\", \"radialaxis\": {\"gridcolor\": \"white\", \"linecolor\": \"white\", \"ticks\": \"\"}}, \"scene\": {\"xaxis\": {\"backgroundcolor\": \"#E5ECF6\", \"gridcolor\": \"white\", \"gridwidth\": 2, \"linecolor\": \"white\", \"showbackground\": true, \"ticks\": \"\", \"zerolinecolor\": \"white\"}, \"yaxis\": {\"backgroundcolor\": \"#E5ECF6\", \"gridcolor\": \"white\", \"gridwidth\": 2, \"linecolor\": \"white\", \"showbackground\": true, \"ticks\": \"\", \"zerolinecolor\": \"white\"}, \"zaxis\": {\"backgroundcolor\": \"#E5ECF6\", \"gridcolor\": \"white\", \"gridwidth\": 2, \"linecolor\": \"white\", \"showbackground\": true, \"ticks\": \"\", \"zerolinecolor\": \"white\"}}, \"shapedefaults\": {\"line\": {\"color\": \"#2a3f5f\"}}, \"ternary\": {\"aaxis\": {\"gridcolor\": \"white\", \"linecolor\": \"white\", \"ticks\": \"\"}, \"baxis\": {\"gridcolor\": \"white\", \"linecolor\": \"white\", \"ticks\": \"\"}, \"bgcolor\": \"#E5ECF6\", \"caxis\": {\"gridcolor\": \"white\", \"linecolor\": \"white\", \"ticks\": \"\"}}, \"title\": {\"x\": 0.05}, \"xaxis\": {\"automargin\": true, \"gridcolor\": \"white\", \"linecolor\": \"white\", \"ticks\": \"\", \"title\": {\"standoff\": 15}, \"zerolinecolor\": \"white\", \"zerolinewidth\": 2}, \"yaxis\": {\"automargin\": true, \"gridcolor\": \"white\", \"linecolor\": \"white\", \"ticks\": \"\", \"title\": {\"standoff\": 15}, \"zerolinecolor\": \"white\", \"zerolinewidth\": 2}}}, \"xaxis\": {\"title\": {\"text\": \"longitude\"}}, \"yaxis\": {\"title\": {\"text\": \"latitude\"}}},                        {\"responsive\": true}                    ).then(function(){\n",
       "                            \n",
       "var gd = document.getElementById('f7717472-856e-4d9d-9c18-ee0e0e899fde');\n",
       "var x = new MutationObserver(function (mutations, observer) {{\n",
       "        var display = window.getComputedStyle(gd).display;\n",
       "        if (!display || display === 'none') {{\n",
       "            console.log([gd, 'removed!']);\n",
       "            Plotly.purge(gd);\n",
       "            observer.disconnect();\n",
       "        }}\n",
       "}});\n",
       "\n",
       "// Listen for the removal of the full notebook cells\n",
       "var notebookContainer = gd.closest('#notebook-container');\n",
       "if (notebookContainer) {{\n",
       "    x.observe(notebookContainer, {childList: true});\n",
       "}}\n",
       "\n",
       "// Listen for the clearing of the current output cell\n",
       "var outputEl = gd.closest('.output');\n",
       "if (outputEl) {{\n",
       "    x.observe(outputEl, {childList: true});\n",
       "}}\n",
       "\n",
       "                        })                };                });            </script>        </div>"
      ]
     },
     "metadata": {},
     "output_type": "display_data"
    }
   ],
   "source": [
    "# apply lat/ long to lists to further plot \n",
    "lat_list = []\n",
    "long_list = []\n",
    "for i in df['coordinates']:\n",
    "    lat_list.append(literal_eval(i)[0])\n",
    "    long_list.append(literal_eval(i)[1])\n",
    "# long_list\n",
    "z = df['GDP per Capita (USD)']\n",
    "\n",
    "# Make plot\n",
    "import chart_studio.plotly as py\n",
    "import plotly.graph_objects as go\n",
    "\n",
    "scatter = go.Scatter(x=np.array(long_list).flatten(),\n",
    "                     y=np.array(lat_list).flatten(),\n",
    "                     marker={'color': np.array(z).flatten(),\n",
    "                             'showscale': True},\n",
    "                     mode='markers')\n",
    "fig = go.FigureWidget(data=[scatter],\n",
    "                      layout={'xaxis': {'title': 'longitude'},\n",
    "                              'yaxis': {'title': 'latitude'}})\n",
    "go.Figure(fig)"
   ]
  },
  {
   "cell_type": "markdown",
   "metadata": {},
   "source": [
    "From the plot above showing the coordinates ploted with intensity being GDP per capita, it looks like northern cities have a higher GDP (along with Oceania regions). This is somewhat expected but lets investigate this further and see if the relationship between location and along with other parameters can be modeled. "
   ]
  },
  {
   "cell_type": "code",
   "execution_count": 31,
   "metadata": {},
   "outputs": [
    {
     "name": "stdout",
     "output_type": "stream",
     "text": [
      "WARNING:tensorflow:From C:\\Users\\bjorn\\anaconda3\\lib\\site-packages\\keras\\backend\\tensorflow_backend.py:422: The name tf.global_variables is deprecated. Please use tf.compat.v1.global_variables instead.\n",
      "\n",
      "Train on 222 samples, validate on 110 samples\n",
      "Epoch 1/100\n",
      "222/222 [==============================] - 1s 2ms/step - loss: 15175926.2252 - val_loss: 13604297.0000\n",
      "Epoch 2/100\n",
      "222/222 [==============================] - 0s 54us/step - loss: 15171811.3153 - val_loss: 13600352.0909\n",
      "Epoch 3/100\n",
      "222/222 [==============================] - 0s 58us/step - loss: 15167362.7297 - val_loss: 13595812.9091\n",
      "Epoch 4/100\n",
      "222/222 [==============================] - 0s 58us/step - loss: 15161859.0000 - val_loss: 13590251.0000\n",
      "Epoch 5/100\n",
      "222/222 [==============================] - 0s 58us/step - loss: 15155104.2883 - val_loss: 13583399.4545\n",
      "Epoch 6/100\n",
      "222/222 [==============================] - 0s 54us/step - loss: 15146393.3874 - val_loss: 13575048.9091\n",
      "Epoch 7/100\n",
      "222/222 [==============================] - 0s 49us/step - loss: 15137754.2523 - val_loss: 13564860.4545\n",
      "Epoch 8/100\n",
      "222/222 [==============================] - 0s 49us/step - loss: 15126097.0631 - val_loss: 13552543.4545\n",
      "Epoch 9/100\n",
      "222/222 [==============================] - 0s 54us/step - loss: 15111087.7748 - val_loss: 13537731.7273\n",
      "Epoch 10/100\n",
      "222/222 [==============================] - 0s 54us/step - loss: 15095557.4955 - val_loss: 13520039.9091\n",
      "Epoch 11/100\n",
      "222/222 [==============================] - 0s 49us/step - loss: 15074677.4054 - val_loss: 13499160.5455\n",
      "Epoch 12/100\n",
      "222/222 [==============================] - 0s 49us/step - loss: 15050430.4505 - val_loss: 13474430.0000\n",
      "Epoch 13/100\n",
      "222/222 [==============================] - 0s 54us/step - loss: 15023931.9279 - val_loss: 13445483.0909\n",
      "Epoch 14/100\n",
      "222/222 [==============================] - 0s 67us/step - loss: 14988262.7027 - val_loss: 13411641.7273\n",
      "Epoch 15/100\n",
      "222/222 [==============================] - 0s 54us/step - loss: 14952630.0180 - val_loss: 13372438.0909\n",
      "Epoch 16/100\n",
      "222/222 [==============================] - 0s 49us/step - loss: 14906326.3604 - val_loss: 13327438.3636\n",
      "Epoch 17/100\n",
      "222/222 [==============================] - 0s 58us/step - loss: 14853186.9189 - val_loss: 13276285.0000\n",
      "Epoch 18/100\n",
      "222/222 [==============================] - 0s 49us/step - loss: 14800046.2973 - val_loss: 13218105.7273\n",
      "Epoch 19/100\n",
      "222/222 [==============================] - 0s 54us/step - loss: 14732652.6036 - val_loss: 13152681.4545\n",
      "Epoch 20/100\n",
      "222/222 [==============================] - 0s 49us/step - loss: 14658459.2613 - val_loss: 13078790.2727\n",
      "Epoch 21/100\n",
      "222/222 [==============================] - 0s 58us/step - loss: 14580614.0901 - val_loss: 12996617.6364\n",
      "Epoch 22/100\n",
      "222/222 [==============================] - 0s 54us/step - loss: 14470370.8468 - val_loss: 12905144.1818\n",
      "Epoch 23/100\n",
      "222/222 [==============================] - 0s 54us/step - loss: 14376806.1712 - val_loss: 12804628.0000\n",
      "Epoch 24/100\n",
      "222/222 [==============================] - 0s 49us/step - loss: 14261713.7928 - val_loss: 12694531.0909\n",
      "Epoch 25/100\n",
      "222/222 [==============================] - 0s 58us/step - loss: 14139224.5225 - val_loss: 12574029.0000\n",
      "Epoch 26/100\n",
      "222/222 [==============================] - 0s 54us/step - loss: 14002397.3694 - val_loss: 12441987.6364\n",
      "Epoch 27/100\n",
      "222/222 [==============================] - 0s 58us/step - loss: 13841821.7207 - val_loss: 12298799.5455\n",
      "Epoch 28/100\n",
      "222/222 [==============================] - 0s 54us/step - loss: 13663862.6937 - val_loss: 12143053.0909\n",
      "Epoch 29/100\n",
      "222/222 [==============================] - 0s 58us/step - loss: 13545700.7748 - val_loss: 11975309.0909\n",
      "Epoch 30/100\n",
      "222/222 [==============================] - 0s 54us/step - loss: 13357845.8559 - val_loss: 11796793.8182\n",
      "Epoch 31/100\n",
      "222/222 [==============================] - 0s 49us/step - loss: 13125760.5495 - val_loss: 11605961.8182\n",
      "Epoch 32/100\n",
      "222/222 [==============================] - 0s 49us/step - loss: 12951870.6937 - val_loss: 11404923.0000\n",
      "Epoch 33/100\n",
      "222/222 [==============================] - 0s 54us/step - loss: 12705868.9099 - val_loss: 11188548.0000\n",
      "Epoch 34/100\n",
      "222/222 [==============================] - 0s 54us/step - loss: 12462485.3784 - val_loss: 10959870.2727\n",
      "Epoch 35/100\n",
      "222/222 [==============================] - 0s 54us/step - loss: 12159793.6306 - val_loss: 10721611.4545\n",
      "Epoch 36/100\n",
      "222/222 [==============================] - 0s 54us/step - loss: 12007693.1216 - val_loss: 10472717.6364\n",
      "Epoch 37/100\n",
      "222/222 [==============================] - 0s 54us/step - loss: 11656996.5045 - val_loss: 10212257.6364\n",
      "Epoch 38/100\n",
      "222/222 [==============================] - 0s 49us/step - loss: 11371706.0631 - val_loss: 9937651.3636\n",
      "Epoch 39/100\n",
      "222/222 [==============================] - 0s 54us/step - loss: 10946493.6847 - val_loss: 9650553.0909\n",
      "Epoch 40/100\n",
      "222/222 [==============================] - 0s 54us/step - loss: 10687212.4595 - val_loss: 9356996.6364\n",
      "Epoch 41/100\n",
      "222/222 [==============================] - 0s 54us/step - loss: 10411166.1261 - val_loss: 9052755.1818\n",
      "Epoch 42/100\n",
      "222/222 [==============================] - 0s 54us/step - loss: 10073124.6486 - val_loss: 8743025.9091\n",
      "Epoch 43/100\n",
      "222/222 [==============================] - 0s 54us/step - loss: 9680466.8018 - val_loss: 8427505.8182\n",
      "Epoch 44/100\n",
      "222/222 [==============================] - 0s 54us/step - loss: 9347326.6757 - val_loss: 8110701.1818\n",
      "Epoch 45/100\n",
      "222/222 [==============================] - 0s 63us/step - loss: 8950620.5586 - val_loss: 7789204.5455\n",
      "Epoch 46/100\n",
      "222/222 [==============================] - 0s 49us/step - loss: 8568520.9955 - val_loss: 7467221.6364\n",
      "Epoch 47/100\n",
      "222/222 [==============================] - 0s 54us/step - loss: 8202863.8829 - val_loss: 7149735.0909\n",
      "Epoch 48/100\n",
      "222/222 [==============================] - 0s 49us/step - loss: 7842363.9685 - val_loss: 6831233.0909\n",
      "Epoch 49/100\n",
      "222/222 [==============================] - 0s 54us/step - loss: 7564371.9054 - val_loss: 6519307.6364\n",
      "Epoch 50/100\n",
      "222/222 [==============================] - 0s 54us/step - loss: 7109825.3423 - val_loss: 6216697.6364\n",
      "Epoch 51/100\n",
      "222/222 [==============================] - 0s 58us/step - loss: 6835491.7432 - val_loss: 5917831.5455\n",
      "Epoch 52/100\n",
      "222/222 [==============================] - 0s 54us/step - loss: 6450323.7207 - val_loss: 5627412.7273\n",
      "Epoch 53/100\n",
      "222/222 [==============================] - 0s 54us/step - loss: 6096294.3153 - val_loss: 5350263.1364\n",
      "Epoch 54/100\n",
      "222/222 [==============================] - 0s 58us/step - loss: 5850125.2297 - val_loss: 5089172.5909\n",
      "Epoch 55/100\n",
      "222/222 [==============================] - 0s 54us/step - loss: 5590958.1216 - val_loss: 4842649.0909\n",
      "Epoch 56/100\n",
      "222/222 [==============================] - 0s 54us/step - loss: 5209962.7027 - val_loss: 4614010.3182\n",
      "Epoch 57/100\n",
      "222/222 [==============================] - 0s 58us/step - loss: 4956490.1892 - val_loss: 4403355.6818\n",
      "Epoch 58/100\n",
      "222/222 [==============================] - 0s 49us/step - loss: 4838695.8243 - val_loss: 4209611.0000\n",
      "Epoch 59/100\n",
      "222/222 [==============================] - 0s 54us/step - loss: 4522739.7770 - val_loss: 4037603.8636\n",
      "Epoch 60/100\n",
      "222/222 [==============================] - 0s 54us/step - loss: 4426869.3986 - val_loss: 3886496.5455\n",
      "Epoch 61/100\n",
      "222/222 [==============================] - 0s 54us/step - loss: 4226386.9077 - val_loss: 3754533.5909\n",
      "Epoch 62/100\n",
      "222/222 [==============================] - 0s 54us/step - loss: 4034079.2365 - val_loss: 3640961.6364\n",
      "Epoch 63/100\n",
      "222/222 [==============================] - 0s 58us/step - loss: 3856509.0766 - val_loss: 3540222.1818\n",
      "Epoch 64/100\n",
      "222/222 [==============================] - 0s 49us/step - loss: 3750236.7140 - val_loss: 3449157.0455\n",
      "Epoch 65/100\n",
      "222/222 [==============================] - 0s 58us/step - loss: 3582241.9685 - val_loss: 3371247.1818\n",
      "Epoch 66/100\n",
      "222/222 [==============================] - 0s 54us/step - loss: 3490634.6599 - val_loss: 3302772.9091\n",
      "Epoch 67/100\n",
      "222/222 [==============================] - 0s 49us/step - loss: 3459008.9595 - val_loss: 3244892.6364\n",
      "Epoch 68/100\n",
      "222/222 [==============================] - 0s 54us/step - loss: 3349855.1532 - val_loss: 3196043.5909\n",
      "Epoch 69/100\n"
     ]
    },
    {
     "name": "stdout",
     "output_type": "stream",
     "text": [
      "222/222 [==============================] - 0s 49us/step - loss: 3285126.5360 - val_loss: 3152365.4091\n",
      "Epoch 70/100\n",
      "222/222 [==============================] - 0s 54us/step - loss: 3174306.8401 - val_loss: 3114962.3636\n",
      "Epoch 71/100\n",
      "222/222 [==============================] - 0s 58us/step - loss: 3104331.9707 - val_loss: 3080847.1364\n",
      "Epoch 72/100\n",
      "222/222 [==============================] - 0s 49us/step - loss: 3072636.3604 - val_loss: 3048114.5455\n",
      "Epoch 73/100\n",
      "222/222 [==============================] - 0s 49us/step - loss: 2963589.3423 - val_loss: 3017883.7045\n",
      "Epoch 74/100\n",
      "222/222 [==============================] - 0s 54us/step - loss: 3056093.2860 - val_loss: 2990114.3864\n",
      "Epoch 75/100\n",
      "222/222 [==============================] - 0s 54us/step - loss: 2931491.0541 - val_loss: 2963668.2273\n",
      "Epoch 76/100\n",
      "222/222 [==============================] - 0s 49us/step - loss: 2770199.8964 - val_loss: 2936692.0227\n",
      "Epoch 77/100\n",
      "222/222 [==============================] - 0s 49us/step - loss: 2941191.0450 - val_loss: 2908904.6136\n",
      "Epoch 78/100\n",
      "222/222 [==============================] - 0s 54us/step - loss: 3005838.6959 - val_loss: 2881564.0227\n",
      "Epoch 79/100\n",
      "222/222 [==============================] - 0s 54us/step - loss: 2802191.9437 - val_loss: 2855101.2500\n",
      "Epoch 80/100\n",
      "222/222 [==============================] - 0s 54us/step - loss: 2811376.2523 - val_loss: 2828490.5682\n",
      "Epoch 81/100\n",
      "222/222 [==============================] - 0s 49us/step - loss: 2763609.1824 - val_loss: 2800682.7955\n",
      "Epoch 82/100\n",
      "222/222 [==============================] - 0s 49us/step - loss: 2747857.9369 - val_loss: 2772274.1136\n",
      "Epoch 83/100\n",
      "222/222 [==============================] - 0s 54us/step - loss: 2757874.8559 - val_loss: 2742530.3636\n",
      "Epoch 84/100\n",
      "222/222 [==============================] - 0s 54us/step - loss: 2624189.5642 - val_loss: 2715649.5682\n",
      "Epoch 85/100\n",
      "222/222 [==============================] - 0s 49us/step - loss: 2654484.5946 - val_loss: 2688641.2727\n",
      "Epoch 86/100\n",
      "222/222 [==============================] - 0s 49us/step - loss: 2600646.7658 - val_loss: 2663898.2955\n",
      "Epoch 87/100\n",
      "222/222 [==============================] - 0s 54us/step - loss: 2597155.4651 - val_loss: 2641368.8864\n",
      "Epoch 88/100\n",
      "222/222 [==============================] - 0s 54us/step - loss: 2546519.6734 - val_loss: 2617910.6364\n",
      "Epoch 89/100\n",
      "222/222 [==============================] - 0s 58us/step - loss: 2431681.7230 - val_loss: 2595861.9773\n",
      "Epoch 90/100\n",
      "222/222 [==============================] - 0s 54us/step - loss: 2494744.9279 - val_loss: 2574501.4773\n",
      "Epoch 91/100\n",
      "222/222 [==============================] - 0s 45us/step - loss: 2462703.6509 - val_loss: 2554369.0909\n",
      "Epoch 92/100\n",
      "222/222 [==============================] - 0s 49us/step - loss: 2573370.8198 - val_loss: 2532332.3409\n",
      "Epoch 93/100\n",
      "222/222 [==============================] - 0s 54us/step - loss: 2477434.9887 - val_loss: 2511789.0000\n",
      "Epoch 94/100\n",
      "222/222 [==============================] - 0s 49us/step - loss: 2404038.3029 - val_loss: 2489898.0000\n",
      "Epoch 95/100\n",
      "222/222 [==============================] - 0s 49us/step - loss: 2345005.5360 - val_loss: 2468955.8864\n",
      "Epoch 96/100\n",
      "222/222 [==============================] - 0s 54us/step - loss: 2488837.5248 - val_loss: 2447552.4545\n",
      "Epoch 97/100\n",
      "222/222 [==============================] - 0s 54us/step - loss: 2360388.6126 - val_loss: 2427160.8182\n",
      "Epoch 98/100\n",
      "222/222 [==============================] - 0s 49us/step - loss: 2286316.5721 - val_loss: 2408646.7273\n",
      "Epoch 99/100\n",
      "222/222 [==============================] - 0s 45us/step - loss: 2395524.4189 - val_loss: 2390706.1364\n",
      "Epoch 100/100\n",
      "222/222 [==============================] - 0s 49us/step - loss: 2218389.7905 - val_loss: 2373921.6364\n",
      "\n",
      "MAE=1274.582599\n",
      "\n",
      "RMSE=1540.753583\n",
      "r^2=0.187541\n"
     ]
    }
   ],
   "source": [
    "# Start by choosing relevant features and normalizing them. \n",
    "features = ['Population Density (per sq. km)', 'Urbanization Rate 2015 (%)', 'GDP per Capita (USD)', 'Life Expectancy (years)']\n",
    "X = df[features]\n",
    "# X.isnull().sum()\n",
    "X = X.fillna(X.mean())\n",
    "X_n = (X-X.mean())/X.std()\n",
    "y = df['eq_dist[km]']\n",
    "X_n.shape\n",
    "\n",
    "from keras.models import Sequential\n",
    "from keras.layers import Dense, Dropout\n",
    "from sklearn.model_selection import train_test_split\n",
    "from sklearn.metrics import r2_score, mean_absolute_error, mean_squared_error\n",
    "\n",
    "# Split data\n",
    "X_train, X_test, y_train, y_test = train_test_split(X_n, y, test_size=0.33, random_state=123)\n",
    "# define the keras model\n",
    "model = Sequential()\n",
    "model.add(Dense(500, input_dim=X_n.shape[1], activation='relu'))\n",
    "model.add(Dropout(rate=0.5))\n",
    "model.add(Dense(200, activation='relu'))\n",
    "model.add(Dropout(rate=0.5))\n",
    "model.add(Dense(1, activation='linear'))\n",
    "\n",
    "# compile the keras model\n",
    "model.compile(loss='mse', optimizer='adam')\n",
    "\n",
    "# fit the keras model on the dataset\n",
    "model.fit(X_train, y_train, epochs=100, batch_size=100, validation_data=(X_test, y_test))\n",
    "\n",
    "# evaluate the keras model\n",
    "pred = model.predict(X_test)\n",
    "\n",
    "# evaluate predictions\n",
    "print(\"\\nMAE=%f\" % mean_absolute_error(y_test, pred))\n",
    "print(\"\\nRMSE=%f\" % np.sqrt(mean_squared_error(y_test, pred)))\n",
    "print(\"r^2=%f\" % r2_score(y_test, pred))\n"
   ]
  },
  {
   "cell_type": "markdown",
   "metadata": {},
   "source": [
    "Mean absolute error (MAE) for our model is  about 1140 km which is about 10.4 degrees when it is evaluated on the test set (1/3 of total dataset). That means that given the 4 features used ('Population Density (per sq. km)', 'Urbanization Rate 2015 (%)', 'GDP per Capita (USD)', 'Life Expectancy (years)') we are able to predict the distance the city is from the equater within an error of 10.4 degrees! This is quite a small distance, see the map figure below for reference, the horizontal lines are spaced 15 degrees apart. \n",
    "\n",
    "![alt text](map_lines.gif \"World latitude and longitude map\")"
   ]
  },
  {
   "cell_type": "markdown",
   "metadata": {},
   "source": [
    "So now that we have seen that we can model the distance from the equator, lets take a step further and try to model the real coordinates of cities (latitude/ longitude). We will also try doing classification of the country regions, i.e. predict which continent the city is located. This time we will try to further analize the features which are used in the prediction model. "
   ]
  },
  {
   "cell_type": "code",
   "execution_count": 44,
   "metadata": {},
   "outputs": [
    {
     "data": {
      "text/html": [
       "<div>\n",
       "<style scoped>\n",
       "    .dataframe tbody tr th:only-of-type {\n",
       "        vertical-align: middle;\n",
       "    }\n",
       "\n",
       "    .dataframe tbody tr th {\n",
       "        vertical-align: top;\n",
       "    }\n",
       "\n",
       "    .dataframe thead th {\n",
       "        text-align: right;\n",
       "    }\n",
       "</style>\n",
       "<table border=\"1\" class=\"dataframe\">\n",
       "  <thead>\n",
       "    <tr style=\"text-align: right;\">\n",
       "      <th></th>\n",
       "      <th>Unnamed: 0</th>\n",
       "      <th>cityID</th>\n",
       "      <th>clusterID</th>\n",
       "      <th>Car Modeshare (%)</th>\n",
       "      <th>Public Transit Modeshare (%)</th>\n",
       "      <th>Walking Modeshare (%)</th>\n",
       "      <th>Gasoline Pump Price (USD/liter)</th>\n",
       "      <th>Road Deaths Rate (per 1000)</th>\n",
       "      <th>Subway Length (km)</th>\n",
       "      <th>Subway Length Density (per km)</th>\n",
       "      <th>...</th>\n",
       "      <th>BikeShare Propensity Factor</th>\n",
       "      <th>Development Factor</th>\n",
       "      <th>Sustainability Factor</th>\n",
       "      <th>Population Factor</th>\n",
       "      <th>Congestion Factor</th>\n",
       "      <th>Sprawl Factor</th>\n",
       "      <th>Network Density Factor</th>\n",
       "      <th>AvgTemperature</th>\n",
       "      <th>Temperature</th>\n",
       "      <th>Humidity</th>\n",
       "    </tr>\n",
       "  </thead>\n",
       "  <tbody>\n",
       "    <tr>\n",
       "      <th>count</th>\n",
       "      <td>332.000000</td>\n",
       "      <td>332.000000</td>\n",
       "      <td>332.000000</td>\n",
       "      <td>268.000000</td>\n",
       "      <td>269.000000</td>\n",
       "      <td>255.000000</td>\n",
       "      <td>332.000000</td>\n",
       "      <td>331.000000</td>\n",
       "      <td>332.000000</td>\n",
       "      <td>332.000000</td>\n",
       "      <td>...</td>\n",
       "      <td>332.000000</td>\n",
       "      <td>332.000000</td>\n",
       "      <td>332.000000</td>\n",
       "      <td>332.000000</td>\n",
       "      <td>332.000000</td>\n",
       "      <td>332.000000</td>\n",
       "      <td>332.000000</td>\n",
       "      <td>111.000000</td>\n",
       "      <td>332.000000</td>\n",
       "      <td>332.000000</td>\n",
       "    </tr>\n",
       "    <tr>\n",
       "      <th>mean</th>\n",
       "      <td>165.500000</td>\n",
       "      <td>165.801205</td>\n",
       "      <td>5.578313</td>\n",
       "      <td>45.611819</td>\n",
       "      <td>28.133913</td>\n",
       "      <td>17.510196</td>\n",
       "      <td>1.056024</td>\n",
       "      <td>14.674622</td>\n",
       "      <td>39.041416</td>\n",
       "      <td>0.038099</td>\n",
       "      <td>...</td>\n",
       "      <td>0.398885</td>\n",
       "      <td>0.417877</td>\n",
       "      <td>0.382575</td>\n",
       "      <td>0.171293</td>\n",
       "      <td>0.491230</td>\n",
       "      <td>0.492131</td>\n",
       "      <td>0.412452</td>\n",
       "      <td>56.055856</td>\n",
       "      <td>8.618614</td>\n",
       "      <td>74.870482</td>\n",
       "    </tr>\n",
       "    <tr>\n",
       "      <th>std</th>\n",
       "      <td>95.984374</td>\n",
       "      <td>95.619666</td>\n",
       "      <td>3.591263</td>\n",
       "      <td>27.787198</td>\n",
       "      <td>20.310731</td>\n",
       "      <td>14.842958</td>\n",
       "      <td>0.425800</td>\n",
       "      <td>8.726269</td>\n",
       "      <td>77.236480</td>\n",
       "      <td>0.068863</td>\n",
       "      <td>...</td>\n",
       "      <td>0.078519</td>\n",
       "      <td>0.266415</td>\n",
       "      <td>0.153237</td>\n",
       "      <td>0.159287</td>\n",
       "      <td>0.189169</td>\n",
       "      <td>0.227305</td>\n",
       "      <td>0.151724</td>\n",
       "      <td>23.389997</td>\n",
       "      <td>11.769086</td>\n",
       "      <td>20.120290</td>\n",
       "    </tr>\n",
       "    <tr>\n",
       "      <th>min</th>\n",
       "      <td>0.000000</td>\n",
       "      <td>1.000000</td>\n",
       "      <td>1.000000</td>\n",
       "      <td>0.000000</td>\n",
       "      <td>0.400000</td>\n",
       "      <td>0.000000</td>\n",
       "      <td>0.010000</td>\n",
       "      <td>0.600000</td>\n",
       "      <td>0.000000</td>\n",
       "      <td>0.000000</td>\n",
       "      <td>...</td>\n",
       "      <td>0.000000</td>\n",
       "      <td>0.000000</td>\n",
       "      <td>0.000000</td>\n",
       "      <td>0.000000</td>\n",
       "      <td>0.000000</td>\n",
       "      <td>0.000000</td>\n",
       "      <td>0.000000</td>\n",
       "      <td>-99.000000</td>\n",
       "      <td>-24.900000</td>\n",
       "      <td>12.000000</td>\n",
       "    </tr>\n",
       "    <tr>\n",
       "      <th>25%</th>\n",
       "      <td>82.750000</td>\n",
       "      <td>83.750000</td>\n",
       "      <td>2.000000</td>\n",
       "      <td>21.525000</td>\n",
       "      <td>11.000000</td>\n",
       "      <td>3.200000</td>\n",
       "      <td>0.707500</td>\n",
       "      <td>7.500000</td>\n",
       "      <td>0.000000</td>\n",
       "      <td>0.000000</td>\n",
       "      <td>...</td>\n",
       "      <td>0.358622</td>\n",
       "      <td>0.215262</td>\n",
       "      <td>0.281454</td>\n",
       "      <td>0.055493</td>\n",
       "      <td>0.364674</td>\n",
       "      <td>0.308533</td>\n",
       "      <td>0.320159</td>\n",
       "      <td>42.100000</td>\n",
       "      <td>-0.700000</td>\n",
       "      <td>65.000000</td>\n",
       "    </tr>\n",
       "    <tr>\n",
       "      <th>50%</th>\n",
       "      <td>165.500000</td>\n",
       "      <td>165.500000</td>\n",
       "      <td>6.000000</td>\n",
       "      <td>38.000000</td>\n",
       "      <td>28.000000</td>\n",
       "      <td>17.000000</td>\n",
       "      <td>1.055000</td>\n",
       "      <td>13.900000</td>\n",
       "      <td>0.000000</td>\n",
       "      <td>0.000000</td>\n",
       "      <td>...</td>\n",
       "      <td>0.390940</td>\n",
       "      <td>0.342730</td>\n",
       "      <td>0.341291</td>\n",
       "      <td>0.119005</td>\n",
       "      <td>0.533161</td>\n",
       "      <td>0.469138</td>\n",
       "      <td>0.394086</td>\n",
       "      <td>57.500000</td>\n",
       "      <td>7.915000</td>\n",
       "      <td>80.000000</td>\n",
       "    </tr>\n",
       "    <tr>\n",
       "      <th>75%</th>\n",
       "      <td>248.250000</td>\n",
       "      <td>248.250000</td>\n",
       "      <td>8.000000</td>\n",
       "      <td>68.775000</td>\n",
       "      <td>42.000000</td>\n",
       "      <td>26.200000</td>\n",
       "      <td>1.322500</td>\n",
       "      <td>20.400000</td>\n",
       "      <td>42.825000</td>\n",
       "      <td>0.053334</td>\n",
       "      <td>...</td>\n",
       "      <td>0.423659</td>\n",
       "      <td>0.707410</td>\n",
       "      <td>0.451648</td>\n",
       "      <td>0.248133</td>\n",
       "      <td>0.640700</td>\n",
       "      <td>0.679300</td>\n",
       "      <td>0.474605</td>\n",
       "      <td>74.200000</td>\n",
       "      <td>17.637500</td>\n",
       "      <td>88.000000</td>\n",
       "    </tr>\n",
       "    <tr>\n",
       "      <th>max</th>\n",
       "      <td>331.000000</td>\n",
       "      <td>331.000000</td>\n",
       "      <td>12.000000</td>\n",
       "      <td>94.800000</td>\n",
       "      <td>82.500000</td>\n",
       "      <td>78.000000</td>\n",
       "      <td>2.120000</td>\n",
       "      <td>37.200000</td>\n",
       "      <td>588.000000</td>\n",
       "      <td>0.612982</td>\n",
       "      <td>...</td>\n",
       "      <td>1.000000</td>\n",
       "      <td>1.000000</td>\n",
       "      <td>1.000000</td>\n",
       "      <td>1.000000</td>\n",
       "      <td>1.000000</td>\n",
       "      <td>1.000000</td>\n",
       "      <td>1.000000</td>\n",
       "      <td>89.000000</td>\n",
       "      <td>30.450000</td>\n",
       "      <td>100.000000</td>\n",
       "    </tr>\n",
       "  </tbody>\n",
       "</table>\n",
       "<p>8 rows × 77 columns</p>\n",
       "</div>"
      ],
      "text/plain": [
       "       Unnamed: 0      cityID   clusterID  Car Modeshare (%)  \\\n",
       "count  332.000000  332.000000  332.000000         268.000000   \n",
       "mean   165.500000  165.801205    5.578313          45.611819   \n",
       "std     95.984374   95.619666    3.591263          27.787198   \n",
       "min      0.000000    1.000000    1.000000           0.000000   \n",
       "25%     82.750000   83.750000    2.000000          21.525000   \n",
       "50%    165.500000  165.500000    6.000000          38.000000   \n",
       "75%    248.250000  248.250000    8.000000          68.775000   \n",
       "max    331.000000  331.000000   12.000000          94.800000   \n",
       "\n",
       "       Public Transit Modeshare (%)  Walking Modeshare (%)  \\\n",
       "count                    269.000000             255.000000   \n",
       "mean                      28.133913              17.510196   \n",
       "std                       20.310731              14.842958   \n",
       "min                        0.400000               0.000000   \n",
       "25%                       11.000000               3.200000   \n",
       "50%                       28.000000              17.000000   \n",
       "75%                       42.000000              26.200000   \n",
       "max                       82.500000              78.000000   \n",
       "\n",
       "       Gasoline Pump Price (USD/liter)  Road Deaths Rate (per 1000)  \\\n",
       "count                       332.000000                   331.000000   \n",
       "mean                          1.056024                    14.674622   \n",
       "std                           0.425800                     8.726269   \n",
       "min                           0.010000                     0.600000   \n",
       "25%                           0.707500                     7.500000   \n",
       "50%                           1.055000                    13.900000   \n",
       "75%                           1.322500                    20.400000   \n",
       "max                           2.120000                    37.200000   \n",
       "\n",
       "       Subway Length (km)  Subway Length Density (per km)  ...  \\\n",
       "count          332.000000                      332.000000  ...   \n",
       "mean            39.041416                        0.038099  ...   \n",
       "std             77.236480                        0.068863  ...   \n",
       "min              0.000000                        0.000000  ...   \n",
       "25%              0.000000                        0.000000  ...   \n",
       "50%              0.000000                        0.000000  ...   \n",
       "75%             42.825000                        0.053334  ...   \n",
       "max            588.000000                        0.612982  ...   \n",
       "\n",
       "       BikeShare Propensity Factor  Development Factor  Sustainability Factor  \\\n",
       "count                   332.000000          332.000000             332.000000   \n",
       "mean                      0.398885            0.417877               0.382575   \n",
       "std                       0.078519            0.266415               0.153237   \n",
       "min                       0.000000            0.000000               0.000000   \n",
       "25%                       0.358622            0.215262               0.281454   \n",
       "50%                       0.390940            0.342730               0.341291   \n",
       "75%                       0.423659            0.707410               0.451648   \n",
       "max                       1.000000            1.000000               1.000000   \n",
       "\n",
       "       Population Factor  Congestion Factor  Sprawl Factor  \\\n",
       "count         332.000000         332.000000     332.000000   \n",
       "mean            0.171293           0.491230       0.492131   \n",
       "std             0.159287           0.189169       0.227305   \n",
       "min             0.000000           0.000000       0.000000   \n",
       "25%             0.055493           0.364674       0.308533   \n",
       "50%             0.119005           0.533161       0.469138   \n",
       "75%             0.248133           0.640700       0.679300   \n",
       "max             1.000000           1.000000       1.000000   \n",
       "\n",
       "       Network Density Factor  AvgTemperature  Temperature    Humidity  \n",
       "count              332.000000      111.000000   332.000000  332.000000  \n",
       "mean                 0.412452       56.055856     8.618614   74.870482  \n",
       "std                  0.151724       23.389997    11.769086   20.120290  \n",
       "min                  0.000000      -99.000000   -24.900000   12.000000  \n",
       "25%                  0.320159       42.100000    -0.700000   65.000000  \n",
       "50%                  0.394086       57.500000     7.915000   80.000000  \n",
       "75%                  0.474605       74.200000    17.637500   88.000000  \n",
       "max                  1.000000       89.000000    30.450000  100.000000  \n",
       "\n",
       "[8 rows x 77 columns]"
      ]
     },
     "execution_count": 44,
     "metadata": {},
     "output_type": "execute_result"
    }
   ],
   "source": [
    "# Again start by loading dataset with pre-calcualated city coordinates\n",
    "df = pd.read_csv('location_from_pickle.csv')\n",
    "df.describe()"
   ]
  },
  {
   "cell_type": "markdown",
   "metadata": {},
   "source": [
    "Above you can see the main statistical features for each column. The dataset consists of 332 cities as it is right now. Since I saved the coordinates in a formatted string in a single column in the dataframe, first I parse them into two different **float** columns, namely: 'Latitude' and 'Longitude'."
   ]
  },
  {
   "cell_type": "code",
   "execution_count": 45,
   "metadata": {},
   "outputs": [
    {
     "data": {
      "text/html": [
       "<div>\n",
       "<style scoped>\n",
       "    .dataframe tbody tr th:only-of-type {\n",
       "        vertical-align: middle;\n",
       "    }\n",
       "\n",
       "    .dataframe tbody tr th {\n",
       "        vertical-align: top;\n",
       "    }\n",
       "\n",
       "    .dataframe thead th {\n",
       "        text-align: right;\n",
       "    }\n",
       "</style>\n",
       "<table border=\"1\" class=\"dataframe\">\n",
       "  <thead>\n",
       "    <tr style=\"text-align: right;\">\n",
       "      <th></th>\n",
       "      <th>Region</th>\n",
       "      <th>Latitude</th>\n",
       "      <th>Longitude</th>\n",
       "    </tr>\n",
       "  </thead>\n",
       "  <tbody>\n",
       "    <tr>\n",
       "      <th>0</th>\n",
       "      <td>North America</td>\n",
       "      <td>39.290882</td>\n",
       "      <td>-76.610759</td>\n",
       "    </tr>\n",
       "    <tr>\n",
       "      <th>1</th>\n",
       "      <td>North America</td>\n",
       "      <td>43.034993</td>\n",
       "      <td>-87.922497</td>\n",
       "    </tr>\n",
       "    <tr>\n",
       "      <th>2</th>\n",
       "      <td>North America</td>\n",
       "      <td>30.271129</td>\n",
       "      <td>-97.743700</td>\n",
       "    </tr>\n",
       "  </tbody>\n",
       "</table>\n",
       "</div>"
      ],
      "text/plain": [
       "          Region   Latitude  Longitude\n",
       "0  North America  39.290882 -76.610759\n",
       "1  North America  43.034993 -87.922497\n",
       "2  North America  30.271129 -97.743700"
      ]
     },
     "execution_count": 45,
     "metadata": {},
     "output_type": "execute_result"
    }
   ],
   "source": [
    "regions = pd.read_csv('country_region.csv')[['Country','Region']]\n",
    "df = pd.merge(df, regions, on='Country', how='inner')\n",
    "\n",
    "def get_lat(x):\n",
    "    return float(x.split(',')[0][1:])\n",
    "def get_lon(x):\n",
    "    return float(x.split(',')[1][:-1])\n",
    "\n",
    "df = df[~df['Location'].isnull()] # To make sure that there's no null values amongst that geopy returned.\n",
    "\n",
    "df['Latitude'] = df['Location'].apply(get_lat)\n",
    "df['Longitude'] = df['Location'].apply(get_lon)\n",
    "df[['Region', 'Latitude', 'Longitude']].head(3)"
   ]
  },
  {
   "cell_type": "code",
   "execution_count": 46,
   "metadata": {},
   "outputs": [
    {
     "data": {
      "text/html": [
       "<div>\n",
       "<style scoped>\n",
       "    .dataframe tbody tr th:only-of-type {\n",
       "        vertical-align: middle;\n",
       "    }\n",
       "\n",
       "    .dataframe tbody tr th {\n",
       "        vertical-align: top;\n",
       "    }\n",
       "\n",
       "    .dataframe thead th {\n",
       "        text-align: right;\n",
       "    }\n",
       "</style>\n",
       "<table border=\"1\" class=\"dataframe\">\n",
       "  <thead>\n",
       "    <tr style=\"text-align: right;\">\n",
       "      <th></th>\n",
       "      <th>Unnamed: 0</th>\n",
       "      <th>City</th>\n",
       "      <th>cityID</th>\n",
       "      <th>clusterID</th>\n",
       "      <th>Typology</th>\n",
       "      <th>Country</th>\n",
       "      <th>Car Modeshare (%)</th>\n",
       "      <th>Public Transit Modeshare (%)</th>\n",
       "      <th>Bicycle Modeshare (%)</th>\n",
       "      <th>Walking Modeshare (%)</th>\n",
       "      <th>...</th>\n",
       "      <th>AvgTemperature</th>\n",
       "      <th>coordinates</th>\n",
       "      <th>Temperature</th>\n",
       "      <th>Humidity</th>\n",
       "      <th>Location</th>\n",
       "      <th>Region</th>\n",
       "      <th>Latitude</th>\n",
       "      <th>Longitude</th>\n",
       "      <th>Region(Encoded)</th>\n",
       "      <th>Country(Encoded)</th>\n",
       "    </tr>\n",
       "  </thead>\n",
       "  <tbody>\n",
       "    <tr>\n",
       "      <th>0</th>\n",
       "      <td>0</td>\n",
       "      <td>Baltimore(MD)</td>\n",
       "      <td>285.0</td>\n",
       "      <td>7.0</td>\n",
       "      <td>Auto Sprawl</td>\n",
       "      <td>United States</td>\n",
       "      <td>85.0</td>\n",
       "      <td>6.1</td>\n",
       "      <td>0.3</td>\n",
       "      <td>2.6</td>\n",
       "      <td>...</td>\n",
       "      <td>NaN</td>\n",
       "      <td>(39.2908816, -76.610759)</td>\n",
       "      <td>7.34</td>\n",
       "      <td>82</td>\n",
       "      <td>(39.2908816, -76.610759)</td>\n",
       "      <td>North America</td>\n",
       "      <td>39.290882</td>\n",
       "      <td>-76.610759</td>\n",
       "      <td>5</td>\n",
       "      <td>105</td>\n",
       "    </tr>\n",
       "    <tr>\n",
       "      <th>1</th>\n",
       "      <td>5</td>\n",
       "      <td>Milwaukee(WI)</td>\n",
       "      <td>297.0</td>\n",
       "      <td>7.0</td>\n",
       "      <td>Auto Sprawl</td>\n",
       "      <td>United States</td>\n",
       "      <td>88.6</td>\n",
       "      <td>3.6</td>\n",
       "      <td>0.5</td>\n",
       "      <td>2.7</td>\n",
       "      <td>...</td>\n",
       "      <td>NaN</td>\n",
       "      <td>(43.0349931, -87.922497)</td>\n",
       "      <td>-9.69</td>\n",
       "      <td>54</td>\n",
       "      <td>(43.0349931, -87.922497)</td>\n",
       "      <td>North America</td>\n",
       "      <td>43.034993</td>\n",
       "      <td>-87.922497</td>\n",
       "      <td>5</td>\n",
       "      <td>105</td>\n",
       "    </tr>\n",
       "    <tr>\n",
       "      <th>2</th>\n",
       "      <td>13</td>\n",
       "      <td>Austin(TX)</td>\n",
       "      <td>301.0</td>\n",
       "      <td>7.0</td>\n",
       "      <td>Auto Sprawl</td>\n",
       "      <td>United States</td>\n",
       "      <td>86.8</td>\n",
       "      <td>2.6</td>\n",
       "      <td>0.8</td>\n",
       "      <td>1.8</td>\n",
       "      <td>...</td>\n",
       "      <td>NaN</td>\n",
       "      <td>(30.2711286, -97.7436995)</td>\n",
       "      <td>-1.02</td>\n",
       "      <td>34</td>\n",
       "      <td>(30.2711286, -97.7436995)</td>\n",
       "      <td>North America</td>\n",
       "      <td>30.271129</td>\n",
       "      <td>-97.743700</td>\n",
       "      <td>5</td>\n",
       "      <td>105</td>\n",
       "    </tr>\n",
       "    <tr>\n",
       "      <th>3</th>\n",
       "      <td>18</td>\n",
       "      <td>Chicago(IL)</td>\n",
       "      <td>269.0</td>\n",
       "      <td>8.0</td>\n",
       "      <td>Auto Innovative</td>\n",
       "      <td>United States</td>\n",
       "      <td>78.0</td>\n",
       "      <td>12.0</td>\n",
       "      <td>0.7</td>\n",
       "      <td>3.1</td>\n",
       "      <td>...</td>\n",
       "      <td>NaN</td>\n",
       "      <td>(41.8755616, -87.6244212)</td>\n",
       "      <td>-8.07</td>\n",
       "      <td>63</td>\n",
       "      <td>(41.8755616, -87.6244212)</td>\n",
       "      <td>North America</td>\n",
       "      <td>41.875562</td>\n",
       "      <td>-87.624421</td>\n",
       "      <td>5</td>\n",
       "      <td>105</td>\n",
       "    </tr>\n",
       "    <tr>\n",
       "      <th>4</th>\n",
       "      <td>40</td>\n",
       "      <td>Atlanta(GA)</td>\n",
       "      <td>273.0</td>\n",
       "      <td>8.0</td>\n",
       "      <td>Auto Innovative</td>\n",
       "      <td>United States</td>\n",
       "      <td>86.8</td>\n",
       "      <td>3.1</td>\n",
       "      <td>0.3</td>\n",
       "      <td>1.3</td>\n",
       "      <td>...</td>\n",
       "      <td>NaN</td>\n",
       "      <td>(33.6238152, -84.1693827)</td>\n",
       "      <td>2.43</td>\n",
       "      <td>74</td>\n",
       "      <td>(33.6238152, -84.1693827)</td>\n",
       "      <td>North America</td>\n",
       "      <td>33.623815</td>\n",
       "      <td>-84.169383</td>\n",
       "      <td>5</td>\n",
       "      <td>105</td>\n",
       "    </tr>\n",
       "  </tbody>\n",
       "</table>\n",
       "<p>5 rows × 89 columns</p>\n",
       "</div>"
      ],
      "text/plain": [
       "   Unnamed: 0           City  cityID  clusterID         Typology  \\\n",
       "0           0  Baltimore(MD)   285.0        7.0      Auto Sprawl   \n",
       "1           5  Milwaukee(WI)   297.0        7.0      Auto Sprawl   \n",
       "2          13     Austin(TX)   301.0        7.0      Auto Sprawl   \n",
       "3          18    Chicago(IL)   269.0        8.0  Auto Innovative   \n",
       "4          40    Atlanta(GA)   273.0        8.0  Auto Innovative   \n",
       "\n",
       "         Country  Car Modeshare (%)  Public Transit Modeshare (%)  \\\n",
       "0  United States               85.0                           6.1   \n",
       "1  United States               88.6                           3.6   \n",
       "2  United States               86.8                           2.6   \n",
       "3  United States               78.0                          12.0   \n",
       "4  United States               86.8                           3.1   \n",
       "\n",
       "  Bicycle Modeshare (%)  Walking Modeshare (%)  ...  AvgTemperature  \\\n",
       "0                   0.3                    2.6  ...             NaN   \n",
       "1                   0.5                    2.7  ...             NaN   \n",
       "2                   0.8                    1.8  ...             NaN   \n",
       "3                   0.7                    3.1  ...             NaN   \n",
       "4                   0.3                    1.3  ...             NaN   \n",
       "\n",
       "                 coordinates  Temperature  Humidity  \\\n",
       "0   (39.2908816, -76.610759)         7.34        82   \n",
       "1   (43.0349931, -87.922497)        -9.69        54   \n",
       "2  (30.2711286, -97.7436995)        -1.02        34   \n",
       "3  (41.8755616, -87.6244212)        -8.07        63   \n",
       "4  (33.6238152, -84.1693827)         2.43        74   \n",
       "\n",
       "                    Location         Region   Latitude  Longitude  \\\n",
       "0   (39.2908816, -76.610759)  North America  39.290882 -76.610759   \n",
       "1   (43.0349931, -87.922497)  North America  43.034993 -87.922497   \n",
       "2  (30.2711286, -97.7436995)  North America  30.271129 -97.743700   \n",
       "3  (41.8755616, -87.6244212)  North America  41.875562 -87.624421   \n",
       "4  (33.6238152, -84.1693827)  North America  33.623815 -84.169383   \n",
       "\n",
       "   Region(Encoded)  Country(Encoded)  \n",
       "0                5               105  \n",
       "1                5               105  \n",
       "2                5               105  \n",
       "3                5               105  \n",
       "4                5               105  \n",
       "\n",
       "[5 rows x 89 columns]"
      ]
     },
     "execution_count": 46,
     "metadata": {},
     "output_type": "execute_result"
    }
   ],
   "source": [
    "from sklearn.preprocessing import LabelEncoder\n",
    "\n",
    "def multi_label_encoder(df, cols2code):\n",
    "        encoder = LabelEncoder()\n",
    "        for col in cols2code:\n",
    "            df[col+'(Encoded)'] = encoder.fit_transform(df[col])\n",
    "        return df\n",
    "    \n",
    "df = multi_label_encoder(df, ['Region', 'Country'])\n",
    "df.head()"
   ]
  },
  {
   "cell_type": "markdown",
   "metadata": {},
   "source": [
    "Now, the dataset is ready to be investigated. First things first, we perform a percentage based check to see which columns are missing and how many values compared to the total number of rows in the dataset. If particular columns are missing relatively too large number of values, it's better to consider dropping the feature them instead of trying to impute the values. Below the top five features are shown, the missing values is shown in procent of total missing for the feature. If a feature is missing more than 25% of its values it is deemed not reliable and therfor dropped. "
   ]
  },
  {
   "cell_type": "code",
   "execution_count": 47,
   "metadata": {},
   "outputs": [
    {
     "name": "stdout",
     "output_type": "stream",
     "text": [
      "                        Missing Values\n",
      "AvgTemperature               67.441860\n",
      "Traffic Index                55.149502\n",
      "Inefficiency Index           55.149502\n",
      "Travel Time Index            55.149502\n",
      "Congestion PM Peak (%)       47.840532\n"
     ]
    },
    {
     "data": {
      "text/html": [
       "<div>\n",
       "<style scoped>\n",
       "    .dataframe tbody tr th:only-of-type {\n",
       "        vertical-align: middle;\n",
       "    }\n",
       "\n",
       "    .dataframe tbody tr th {\n",
       "        vertical-align: top;\n",
       "    }\n",
       "\n",
       "    .dataframe thead th {\n",
       "        text-align: right;\n",
       "    }\n",
       "</style>\n",
       "<table border=\"1\" class=\"dataframe\">\n",
       "  <thead>\n",
       "    <tr style=\"text-align: right;\">\n",
       "      <th></th>\n",
       "      <th>City</th>\n",
       "      <th>cityID</th>\n",
       "      <th>clusterID</th>\n",
       "      <th>Typology</th>\n",
       "      <th>Country</th>\n",
       "      <th>Car Modeshare (%)</th>\n",
       "      <th>Public Transit Modeshare (%)</th>\n",
       "      <th>Walking Modeshare (%)</th>\n",
       "      <th>Gasoline Pump Price (USD/liter)</th>\n",
       "      <th>Road Deaths Rate (per 1000)</th>\n",
       "      <th>...</th>\n",
       "      <th>Sprawl Factor</th>\n",
       "      <th>Network Density Factor</th>\n",
       "      <th>Temperature</th>\n",
       "      <th>Humidity</th>\n",
       "      <th>Location</th>\n",
       "      <th>Region</th>\n",
       "      <th>Latitude</th>\n",
       "      <th>Longitude</th>\n",
       "      <th>Region(Encoded)</th>\n",
       "      <th>Country(Encoded)</th>\n",
       "    </tr>\n",
       "  </thead>\n",
       "  <tbody>\n",
       "    <tr>\n",
       "      <th>0</th>\n",
       "      <td>Baltimore(MD)</td>\n",
       "      <td>285.0</td>\n",
       "      <td>7.0</td>\n",
       "      <td>Auto Sprawl</td>\n",
       "      <td>United States</td>\n",
       "      <td>85.0</td>\n",
       "      <td>6.1</td>\n",
       "      <td>2.6</td>\n",
       "      <td>0.66</td>\n",
       "      <td>8.5</td>\n",
       "      <td>...</td>\n",
       "      <td>0.722163</td>\n",
       "      <td>0.425187</td>\n",
       "      <td>7.34</td>\n",
       "      <td>82</td>\n",
       "      <td>(39.2908816, -76.610759)</td>\n",
       "      <td>North America</td>\n",
       "      <td>39.290882</td>\n",
       "      <td>-76.610759</td>\n",
       "      <td>5</td>\n",
       "      <td>105</td>\n",
       "    </tr>\n",
       "    <tr>\n",
       "      <th>1</th>\n",
       "      <td>Milwaukee(WI)</td>\n",
       "      <td>297.0</td>\n",
       "      <td>7.0</td>\n",
       "      <td>Auto Sprawl</td>\n",
       "      <td>United States</td>\n",
       "      <td>88.6</td>\n",
       "      <td>3.6</td>\n",
       "      <td>2.7</td>\n",
       "      <td>0.64</td>\n",
       "      <td>9.8</td>\n",
       "      <td>...</td>\n",
       "      <td>0.680911</td>\n",
       "      <td>0.582846</td>\n",
       "      <td>-9.69</td>\n",
       "      <td>54</td>\n",
       "      <td>(43.0349931, -87.922497)</td>\n",
       "      <td>North America</td>\n",
       "      <td>43.034993</td>\n",
       "      <td>-87.922497</td>\n",
       "      <td>5</td>\n",
       "      <td>105</td>\n",
       "    </tr>\n",
       "    <tr>\n",
       "      <th>2</th>\n",
       "      <td>Austin(TX)</td>\n",
       "      <td>301.0</td>\n",
       "      <td>7.0</td>\n",
       "      <td>Auto Sprawl</td>\n",
       "      <td>United States</td>\n",
       "      <td>86.8</td>\n",
       "      <td>2.6</td>\n",
       "      <td>1.8</td>\n",
       "      <td>0.60</td>\n",
       "      <td>12.8</td>\n",
       "      <td>...</td>\n",
       "      <td>0.765455</td>\n",
       "      <td>0.379809</td>\n",
       "      <td>-1.02</td>\n",
       "      <td>34</td>\n",
       "      <td>(30.2711286, -97.7436995)</td>\n",
       "      <td>North America</td>\n",
       "      <td>30.271129</td>\n",
       "      <td>-97.743700</td>\n",
       "      <td>5</td>\n",
       "      <td>105</td>\n",
       "    </tr>\n",
       "  </tbody>\n",
       "</table>\n",
       "<p>3 rows × 68 columns</p>\n",
       "</div>"
      ],
      "text/plain": [
       "            City  cityID  clusterID     Typology        Country  \\\n",
       "0  Baltimore(MD)   285.0        7.0  Auto Sprawl  United States   \n",
       "1  Milwaukee(WI)   297.0        7.0  Auto Sprawl  United States   \n",
       "2     Austin(TX)   301.0        7.0  Auto Sprawl  United States   \n",
       "\n",
       "   Car Modeshare (%)  Public Transit Modeshare (%)  Walking Modeshare (%)  \\\n",
       "0               85.0                           6.1                    2.6   \n",
       "1               88.6                           3.6                    2.7   \n",
       "2               86.8                           2.6                    1.8   \n",
       "\n",
       "   Gasoline Pump Price (USD/liter)  Road Deaths Rate (per 1000)  ...  \\\n",
       "0                             0.66                          8.5  ...   \n",
       "1                             0.64                          9.8  ...   \n",
       "2                             0.60                         12.8  ...   \n",
       "\n",
       "   Sprawl Factor  Network Density Factor  Temperature  Humidity  \\\n",
       "0       0.722163                0.425187         7.34        82   \n",
       "1       0.680911                0.582846        -9.69        54   \n",
       "2       0.765455                0.379809        -1.02        34   \n",
       "\n",
       "                    Location         Region   Latitude  Longitude  \\\n",
       "0   (39.2908816, -76.610759)  North America  39.290882 -76.610759   \n",
       "1   (43.0349931, -87.922497)  North America  43.034993 -87.922497   \n",
       "2  (30.2711286, -97.7436995)  North America  30.271129 -97.743700   \n",
       "\n",
       "   Region(Encoded)  Country(Encoded)  \n",
       "0                5               105  \n",
       "1                5               105  \n",
       "2                5               105  \n",
       "\n",
       "[3 rows x 68 columns]"
      ]
     },
     "execution_count": 47,
     "metadata": {},
     "output_type": "execute_result"
    }
   ],
   "source": [
    "temp_df = pd.DataFrame(df.isnull().sum(axis=0), columns=['Missing Values'])/df.count()[0]*100 \n",
    "temp_df = temp_df.sort_values(by=temp_df.columns[0], ascending=False)\n",
    "pd.set_option('display.max_rows', 1000)\n",
    "print(temp_df.head(5))\n",
    "\n",
    "# Drop features\n",
    "cols2drop = temp_df[temp_df['Missing Values']>=25].index\n",
    "df = df.drop(cols2drop, axis=1).drop('Unnamed: 0', axis=1).drop('coordinates', axis=1)\n",
    "df.head(3)"
   ]
  },
  {
   "cell_type": "markdown",
   "metadata": {},
   "source": [
    "Now that all viable features are left in our dataframe we will perform feature selection and select the most useful features to be used in the model.\n",
    "\n",
    "Instead of trying to impute values for the remaining columns we will check the correlation, first correlation check between the coordinates and the Latitude/Longitude values - as a smart way of feature selection. The absolute value of correlation is used because the important aspect is the magnitude of the correlation to explain a change in a variable compared to another one."
   ]
  },
  {
   "cell_type": "code",
   "execution_count": 48,
   "metadata": {},
   "outputs": [
    {
     "data": {
      "text/html": [
       "<div>\n",
       "<style scoped>\n",
       "    .dataframe tbody tr th:only-of-type {\n",
       "        vertical-align: middle;\n",
       "    }\n",
       "\n",
       "    .dataframe tbody tr th {\n",
       "        vertical-align: top;\n",
       "    }\n",
       "\n",
       "    .dataframe thead th {\n",
       "        text-align: right;\n",
       "    }\n",
       "</style>\n",
       "<table border=\"1\" class=\"dataframe\">\n",
       "  <thead>\n",
       "    <tr style=\"text-align: right;\">\n",
       "      <th></th>\n",
       "      <th>Latitude</th>\n",
       "    </tr>\n",
       "  </thead>\n",
       "  <tbody>\n",
       "    <tr>\n",
       "      <th>Latitude</th>\n",
       "      <td>1.000000</td>\n",
       "    </tr>\n",
       "    <tr>\n",
       "      <th>Temperature</th>\n",
       "      <td>0.669497</td>\n",
       "    </tr>\n",
       "    <tr>\n",
       "      <th>clusterID</th>\n",
       "      <td>0.496319</td>\n",
       "    </tr>\n",
       "    <tr>\n",
       "      <th>Road Deaths Rate (per 1000)</th>\n",
       "      <td>0.494275</td>\n",
       "    </tr>\n",
       "    <tr>\n",
       "      <th>Life Expectancy (years)</th>\n",
       "      <td>0.460763</td>\n",
       "    </tr>\n",
       "    <tr>\n",
       "      <th>GDP per Capita (USD)</th>\n",
       "      <td>0.458740</td>\n",
       "    </tr>\n",
       "    <tr>\n",
       "      <th>Digital Penetration</th>\n",
       "      <td>0.458065</td>\n",
       "    </tr>\n",
       "    <tr>\n",
       "      <th>Development Factor</th>\n",
       "      <td>0.433200</td>\n",
       "    </tr>\n",
       "    <tr>\n",
       "      <th>Internet Penetration</th>\n",
       "      <td>0.404412</td>\n",
       "    </tr>\n",
       "    <tr>\n",
       "      <th>CO2 Emissions per Capita (metric tonnes)</th>\n",
       "      <td>0.399059</td>\n",
       "    </tr>\n",
       "  </tbody>\n",
       "</table>\n",
       "</div>"
      ],
      "text/plain": [
       "                                          Latitude\n",
       "Latitude                                  1.000000\n",
       "Temperature                               0.669497\n",
       "clusterID                                 0.496319\n",
       "Road Deaths Rate (per 1000)               0.494275\n",
       "Life Expectancy (years)                   0.460763\n",
       "GDP per Capita (USD)                      0.458740\n",
       "Digital Penetration                       0.458065\n",
       "Development Factor                        0.433200\n",
       "Internet Penetration                      0.404412\n",
       "CO2 Emissions per Capita (metric tonnes)  0.399059"
      ]
     },
     "execution_count": 48,
     "metadata": {},
     "output_type": "execute_result"
    }
   ],
   "source": [
    "# Correlation with latitude\n",
    "pd.set_option('display.max_rows', 1000)\n",
    "corr_Lat = abs(pd.DataFrame(df.corr()['Latitude'])).sort_values(by='Latitude', ascending=False)\n",
    "corr_Lat.head(10)"
   ]
  },
  {
   "cell_type": "code",
   "execution_count": 49,
   "metadata": {},
   "outputs": [
    {
     "data": {
      "text/html": [
       "<div>\n",
       "<style scoped>\n",
       "    .dataframe tbody tr th:only-of-type {\n",
       "        vertical-align: middle;\n",
       "    }\n",
       "\n",
       "    .dataframe tbody tr th {\n",
       "        vertical-align: top;\n",
       "    }\n",
       "\n",
       "    .dataframe thead th {\n",
       "        text-align: right;\n",
       "    }\n",
       "</style>\n",
       "<table border=\"1\" class=\"dataframe\">\n",
       "  <thead>\n",
       "    <tr style=\"text-align: right;\">\n",
       "      <th></th>\n",
       "      <th>Longitude</th>\n",
       "    </tr>\n",
       "  </thead>\n",
       "  <tbody>\n",
       "    <tr>\n",
       "      <th>Longitude</th>\n",
       "      <td>1.000000</td>\n",
       "    </tr>\n",
       "    <tr>\n",
       "      <th>Region(Encoded)</th>\n",
       "      <td>0.686697</td>\n",
       "    </tr>\n",
       "    <tr>\n",
       "      <th>Car Modeshare (%)</th>\n",
       "      <td>0.538104</td>\n",
       "    </tr>\n",
       "    <tr>\n",
       "      <th>Urbanization Rate Change 2015 – 2025 (pp)</th>\n",
       "      <td>0.525583</td>\n",
       "    </tr>\n",
       "    <tr>\n",
       "      <th>Urbanization Rate 2015 (%)</th>\n",
       "      <td>0.437028</td>\n",
       "    </tr>\n",
       "    <tr>\n",
       "      <th>Sustainability Factor</th>\n",
       "      <td>0.433833</td>\n",
       "    </tr>\n",
       "    <tr>\n",
       "      <th>Congestion Factor</th>\n",
       "      <td>0.430325</td>\n",
       "    </tr>\n",
       "    <tr>\n",
       "      <th>Population Factor</th>\n",
       "      <td>0.429835</td>\n",
       "    </tr>\n",
       "    <tr>\n",
       "      <th>Walking Modeshare (%)</th>\n",
       "      <td>0.389066</td>\n",
       "    </tr>\n",
       "    <tr>\n",
       "      <th>Development Factor</th>\n",
       "      <td>0.380073</td>\n",
       "    </tr>\n",
       "  </tbody>\n",
       "</table>\n",
       "</div>"
      ],
      "text/plain": [
       "                                           Longitude\n",
       "Longitude                                   1.000000\n",
       "Region(Encoded)                             0.686697\n",
       "Car Modeshare (%)                           0.538104\n",
       "Urbanization Rate Change 2015 – 2025 (pp)   0.525583\n",
       "Urbanization Rate 2015 (%)                  0.437028\n",
       "Sustainability Factor                       0.433833\n",
       "Congestion Factor                           0.430325\n",
       "Population Factor                           0.429835\n",
       "Walking Modeshare (%)                       0.389066\n",
       "Development Factor                          0.380073"
      ]
     },
     "execution_count": 49,
     "metadata": {},
     "output_type": "execute_result"
    }
   ],
   "source": [
    "# Correlation with longitude\n",
    "pd.set_option('display.max_rows', 1000)\n",
    "corr_Lon = abs(pd.DataFrame(df.corr()['Longitude'])).sort_values(by='Longitude', ascending=False)\n",
    "corr_Lon.head(10)"
   ]
  },
  {
   "cell_type": "markdown",
   "metadata": {},
   "source": [
    "Interestingly, if you see the index of the outputs above, the features that the latitude and longitude values depend on the highest are completely different. Lattitude being correlated to the average temperature on 30th of November is quite logical. However, the other features do not represent a direct relation to both longitude and latitude.\n",
    "\n",
    "Since there is no distinct features for both latitude and longitude, three of the features correlated to each will selected for the model. We will now attempt to perform continent classification of the cities. "
   ]
  },
  {
   "cell_type": "code",
   "execution_count": 50,
   "metadata": {},
   "outputs": [],
   "source": [
    "df_reg = df[['Road Deaths Rate (per 1000)','Urbanization Rate Change 2015 – 2025 (pp)', 'Congestion Factor',\\\n",
    "         'Digital Penetration', 'Car Modeshare (%)', 'Life Expectancy (years)', \\\n",
    "         'Region(Encoded)']].dropna()\n",
    "X = df_reg[['Road Deaths Rate (per 1000)','Urbanization Rate Change 2015 – 2025 (pp)', 'Congestion Factor',\\\n",
    "         'Digital Penetration', 'Car Modeshare (%)', 'Life Expectancy (years)']].values\n",
    "y = df_reg['Region(Encoded)'].values\n",
    "X_norm = (X - np.mean(X))/np.std(X) # Normalize values so we get better results!\n",
    "X_train, X_test, y_train, y_test = train_test_split(X_norm, y, test_size=0.25, random_state=42)"
   ]
  },
  {
   "cell_type": "code",
   "execution_count": 51,
   "metadata": {},
   "outputs": [
    {
     "name": "stdout",
     "output_type": "stream",
     "text": [
      "Fitting 3 folds for each of 100 candidates, totalling 300 fits\n"
     ]
    },
    {
     "name": "stderr",
     "output_type": "stream",
     "text": [
      "[Parallel(n_jobs=-1)]: Using backend LokyBackend with 4 concurrent workers.\n",
      "[Parallel(n_jobs=-1)]: Done  33 tasks      | elapsed:    5.1s\n",
      "[Parallel(n_jobs=-1)]: Done 154 tasks      | elapsed:   17.5s\n",
      "[Parallel(n_jobs=-1)]: Done 300 out of 300 | elapsed:   36.4s finished\n"
     ]
    },
    {
     "data": {
      "text/plain": [
       "0.8688524590163934"
      ]
     },
     "execution_count": 51,
     "metadata": {},
     "output_type": "execute_result"
    }
   ],
   "source": [
    "from sklearn.model_selection import RandomizedSearchCV\n",
    "from sklearn.ensemble import RandomForestClassifier\n",
    "\n",
    "n_estimators = [int(x) for x in np.linspace(start = 100, stop = 600, num = 10)]\n",
    "max_features = ['auto', 'sqrt']\n",
    "max_depth = [int(x) for x in np.linspace(10, 50, num = 5)]\n",
    "max_depth.append(None)\n",
    "min_samples_split = [2, 5, 10]\n",
    "min_samples_leaf = [1, 2, 4]\n",
    "bootstrap = [True, False]\n",
    "random_grid = {'n_estimators': n_estimators,\n",
    "               'max_features': max_features,\n",
    "               'max_depth': max_depth,\n",
    "               'min_samples_split': min_samples_split,\n",
    "               'min_samples_leaf': min_samples_leaf,\n",
    "               'bootstrap': bootstrap} \n",
    "\n",
    "rf = RandomForestClassifier()\n",
    "clf = RandomizedSearchCV(estimator = rf, param_distributions = random_grid, n_iter = 100, cv = 3, verbose=2, random_state=42, n_jobs = -1)# Fit the random search model\n",
    "clf.fit(X_train, y_train)\n",
    "\n",
    "clf.score(X_test, y_test)"
   ]
  },
  {
   "cell_type": "code",
   "execution_count": 52,
   "metadata": {},
   "outputs": [
    {
     "data": {
      "text/plain": [
       "<sklearn.metrics._plot.confusion_matrix.ConfusionMatrixDisplay at 0x28d38896348>"
      ]
     },
     "execution_count": 52,
     "metadata": {},
     "output_type": "execute_result"
    },
    {
     "data": {
      "image/png": "[encoded data removed]",
      "text/plain": [
       "<Figure size 432x288 with 2 Axes>"
      ]
     },
     "metadata": {
      "needs_background": "light"
     },
     "output_type": "display_data"
    }
   ],
   "source": [
    "from sklearn.metrics import plot_confusion_matrix\n",
    "\n",
    "plot_confusion_matrix(clf, X_test, y_test)"
   ]
  },
  {
   "cell_type": "markdown",
   "metadata": {},
   "source": [
    "Three fold cross validation has been used to evaluate the continent classification, as seen above the classification model was able to classify the cities continent quite well, acheiving about 87% accuracy when evaluated.\n",
    "\n",
    "Now we will move on to the most challenging part, namely predicting the latidtude/ longitude coordinates of cities. To do this a multilayer feed-forward neural network will be used. \n",
    "\n",
    "By seeing the correlation results above, we decided to use 6 features in total:\n",
    "* 3 features that are correlated to Latitude the most (which are not directly related with geography).\n",
    "* 3 features that are correlated to Longitude the most (which are not directly related with geography).\n",
    "\n",
    "The chosen features are: Road Deaths Rate (per 1000), Digital Penetration, Life Expectancy (years), Car Modeshare (%), Urbanization Rate Change 2015 – 2025 (pp), Congestion Factor. "
   ]
  },
  {
   "cell_type": "code",
   "execution_count": 53,
   "metadata": {},
   "outputs": [],
   "source": [
    "df_nn = df[['Road Deaths Rate (per 1000)','Urbanization Rate Change 2015 – 2025 (pp)', 'Congestion Factor',\\\n",
    "         'GDP per Capita (USD)', 'Car Modeshare (%)', 'Life Expectancy (years)', \\\n",
    "         'Latitude', 'Longitude']].dropna()\n",
    "\n",
    "X = df_nn[['Road Deaths Rate (per 1000)','Urbanization Rate Change 2015 – 2025 (pp)', 'Congestion Factor',\\\n",
    "         'GDP per Capita (USD)', 'Car Modeshare (%)', 'Life Expectancy (years)']].values\n",
    "\n",
    "y = df_nn[['Latitude', 'Longitude']].values\n",
    "\n",
    "X_norm = (X - np.mean(X))/np.std(X) # Normalize values so we get better results!\n",
    "\n",
    "X_train, X_test, y_train, y_test = train_test_split(X_norm, y, test_size=0.3, random_state=42)"
   ]
  },
  {
   "cell_type": "code",
   "execution_count": 54,
   "metadata": {},
   "outputs": [
    {
     "name": "stdout",
     "output_type": "stream",
     "text": [
      "Train on 127 samples, validate on 43 samples\n",
      "Epoch 1/150\n",
      "127/127 [==============================] - 0s 1ms/step - loss: 3754.4558 - mean_squared_error: 3754.4558 - val_loss: 2849.2747 - val_mean_squared_error: 2849.2747\n",
      "Epoch 2/150\n",
      "127/127 [==============================] - 0s 55us/step - loss: 3553.8931 - mean_squared_error: 3553.8933 - val_loss: 2741.9998 - val_mean_squared_error: 2741.9998\n",
      "Epoch 3/150\n",
      "127/127 [==============================] - 0s 39us/step - loss: 3408.4996 - mean_squared_error: 3408.4995 - val_loss: 2668.1365 - val_mean_squared_error: 2668.1365\n",
      "Epoch 4/150\n",
      "127/127 [==============================] - 0s 47us/step - loss: 3298.5138 - mean_squared_error: 3298.5137 - val_loss: 2604.8672 - val_mean_squared_error: 2604.8672\n",
      "Epoch 5/150\n",
      "127/127 [==============================] - 0s 47us/step - loss: 3183.7068 - mean_squared_error: 3183.7068 - val_loss: 2542.9495 - val_mean_squared_error: 2542.9495\n",
      "Epoch 6/150\n",
      "127/127 [==============================] - 0s 55us/step - loss: 3057.8706 - mean_squared_error: 3057.8706 - val_loss: 2491.8071 - val_mean_squared_error: 2491.8071\n",
      "Epoch 7/150\n",
      "127/127 [==============================] - 0s 47us/step - loss: 2937.6334 - mean_squared_error: 2937.6333 - val_loss: 2466.1692 - val_mean_squared_error: 2466.1692\n",
      "Epoch 8/150\n",
      "127/127 [==============================] - 0s 47us/step - loss: 2845.4209 - mean_squared_error: 2845.4207 - val_loss: 2458.7134 - val_mean_squared_error: 2458.7134\n",
      "Epoch 9/150\n",
      "127/127 [==============================] - 0s 39us/step - loss: 2788.3067 - mean_squared_error: 2788.3066 - val_loss: 2457.3340 - val_mean_squared_error: 2457.3340\n",
      "Epoch 10/150\n",
      "127/127 [==============================] - 0s 39us/step - loss: 2734.7856 - mean_squared_error: 2734.7854 - val_loss: 2448.2625 - val_mean_squared_error: 2448.2625\n",
      "Epoch 11/150\n",
      "127/127 [==============================] - 0s 55us/step - loss: 2696.5225 - mean_squared_error: 2696.5227 - val_loss: 2438.0540 - val_mean_squared_error: 2438.0540\n",
      "Epoch 12/150\n",
      "127/127 [==============================] - 0s 39us/step - loss: 2631.4070 - mean_squared_error: 2631.4070 - val_loss: 2422.1602 - val_mean_squared_error: 2422.1602\n",
      "Epoch 13/150\n",
      "127/127 [==============================] - 0s 39us/step - loss: 2584.0653 - mean_squared_error: 2584.0654 - val_loss: 2394.8232 - val_mean_squared_error: 2394.8232\n",
      "Epoch 14/150\n",
      "127/127 [==============================] - 0s 39us/step - loss: 2556.5714 - mean_squared_error: 2556.5713 - val_loss: 2358.9309 - val_mean_squared_error: 2358.9309\n",
      "Epoch 15/150\n",
      "127/127 [==============================] - 0s 55us/step - loss: 2511.8296 - mean_squared_error: 2511.8298 - val_loss: 2351.9397 - val_mean_squared_error: 2351.9397\n",
      "Epoch 16/150\n",
      "127/127 [==============================] - 0s 39us/step - loss: 2469.3372 - mean_squared_error: 2469.3372 - val_loss: 2345.8652 - val_mean_squared_error: 2345.8652\n",
      "Epoch 17/150\n",
      "127/127 [==============================] - 0s 39us/step - loss: 2433.3135 - mean_squared_error: 2433.3135 - val_loss: 2333.8931 - val_mean_squared_error: 2333.8931\n",
      "Epoch 18/150\n",
      "127/127 [==============================] - 0s 39us/step - loss: 2405.6380 - mean_squared_error: 2405.6377 - val_loss: 2333.5588 - val_mean_squared_error: 2333.5588\n",
      "Epoch 19/150\n",
      "127/127 [==============================] - 0s 39us/step - loss: 2382.2957 - mean_squared_error: 2382.2957 - val_loss: 2333.7371 - val_mean_squared_error: 2333.7371\n",
      "Epoch 20/150\n",
      "127/127 [==============================] - 0s 39us/step - loss: 2368.3280 - mean_squared_error: 2368.3279 - val_loss: 2358.6794 - val_mean_squared_error: 2358.6794\n",
      "Epoch 21/150\n",
      "127/127 [==============================] - 0s 47us/step - loss: 2349.4119 - mean_squared_error: 2349.4119 - val_loss: 2362.0696 - val_mean_squared_error: 2362.0696\n",
      "Epoch 22/150\n",
      "127/127 [==============================] - 0s 47us/step - loss: 2341.3134 - mean_squared_error: 2341.3135 - val_loss: 2396.6396 - val_mean_squared_error: 2396.6396\n",
      "Epoch 23/150\n",
      "127/127 [==============================] - 0s 39us/step - loss: 2312.9359 - mean_squared_error: 2312.9360 - val_loss: 2393.6870 - val_mean_squared_error: 2393.6870\n",
      "Epoch 24/150\n",
      "127/127 [==============================] - 0s 39us/step - loss: 2312.3968 - mean_squared_error: 2312.3967 - val_loss: 2393.4011 - val_mean_squared_error: 2393.4011\n",
      "Epoch 25/150\n",
      "127/127 [==============================] - 0s 39us/step - loss: 2298.7815 - mean_squared_error: 2298.7815 - val_loss: 2415.0430 - val_mean_squared_error: 2415.0430\n",
      "Epoch 26/150\n",
      "127/127 [==============================] - 0s 47us/step - loss: 2278.9372 - mean_squared_error: 2278.9373 - val_loss: 2422.7402 - val_mean_squared_error: 2422.7402\n",
      "Epoch 27/150\n",
      "127/127 [==============================] - 0s 39us/step - loss: 2280.6217 - mean_squared_error: 2280.6216 - val_loss: 2426.0117 - val_mean_squared_error: 2426.0117\n",
      "Epoch 28/150\n",
      "127/127 [==============================] - 0s 39us/step - loss: 2264.1405 - mean_squared_error: 2264.1404 - val_loss: 2413.0349 - val_mean_squared_error: 2413.0349\n",
      "Epoch 29/150\n",
      "127/127 [==============================] - 0s 55us/step - loss: 2266.7154 - mean_squared_error: 2266.7156 - val_loss: 2424.5618 - val_mean_squared_error: 2424.5618\n",
      "Epoch 30/150\n",
      "127/127 [==============================] - 0s 63us/step - loss: 2254.4097 - mean_squared_error: 2254.4097 - val_loss: 2436.0664 - val_mean_squared_error: 2436.0664\n",
      "Epoch 31/150\n",
      "127/127 [==============================] - 0s 47us/step - loss: 2256.0615 - mean_squared_error: 2256.0615 - val_loss: 2441.6863 - val_mean_squared_error: 2441.6863\n",
      "Epoch 32/150\n",
      "127/127 [==============================] - 0s 55us/step - loss: 2249.1097 - mean_squared_error: 2249.1099 - val_loss: 2456.1448 - val_mean_squared_error: 2456.1448\n",
      "Epoch 33/150\n",
      "127/127 [==============================] - 0s 39us/step - loss: 2247.6142 - mean_squared_error: 2247.6143 - val_loss: 2456.1575 - val_mean_squared_error: 2456.1575\n",
      "Epoch 34/150\n",
      "127/127 [==============================] - 0s 55us/step - loss: 2239.1304 - mean_squared_error: 2239.1304 - val_loss: 2452.7224 - val_mean_squared_error: 2452.7224\n",
      "Epoch 35/150\n",
      "127/127 [==============================] - 0s 39us/step - loss: 2245.9274 - mean_squared_error: 2245.9275 - val_loss: 2465.0439 - val_mean_squared_error: 2465.0439\n",
      "Epoch 36/150\n",
      "127/127 [==============================] - 0s 47us/step - loss: 2238.6357 - mean_squared_error: 2238.6355 - val_loss: 2465.0408 - val_mean_squared_error: 2465.0408\n",
      "Epoch 37/150\n",
      "127/127 [==============================] - 0s 39us/step - loss: 2232.4251 - mean_squared_error: 2232.4253 - val_loss: 2462.0388 - val_mean_squared_error: 2462.0388\n",
      "Epoch 38/150\n",
      "127/127 [==============================] - 0s 39us/step - loss: 2234.2997 - mean_squared_error: 2234.2998 - val_loss: 2460.6011 - val_mean_squared_error: 2460.6011\n",
      "Epoch 39/150\n",
      "127/127 [==============================] - 0s 47us/step - loss: 2228.9285 - mean_squared_error: 2228.9287 - val_loss: 2479.8157 - val_mean_squared_error: 2479.8157\n",
      "Epoch 40/150\n",
      "127/127 [==============================] - 0s 39us/step - loss: 2228.1711 - mean_squared_error: 2228.1711 - val_loss: 2498.9175 - val_mean_squared_error: 2498.9175\n",
      "Epoch 41/150\n",
      "127/127 [==============================] - 0s 39us/step - loss: 2229.4095 - mean_squared_error: 2229.4094 - val_loss: 2471.7388 - val_mean_squared_error: 2471.7388\n",
      "Epoch 42/150\n",
      "127/127 [==============================] - 0s 39us/step - loss: 2235.0562 - mean_squared_error: 2235.0562 - val_loss: 2456.0103 - val_mean_squared_error: 2456.0103\n",
      "Epoch 43/150\n",
      "127/127 [==============================] - 0s 31us/step - loss: 2224.4727 - mean_squared_error: 2224.4727 - val_loss: 2481.9805 - val_mean_squared_error: 2481.9805\n",
      "Epoch 44/150\n",
      "127/127 [==============================] - 0s 47us/step - loss: 2219.6919 - mean_squared_error: 2219.6919 - val_loss: 2500.3787 - val_mean_squared_error: 2500.3787\n",
      "Epoch 45/150\n",
      "127/127 [==============================] - 0s 47us/step - loss: 2225.6293 - mean_squared_error: 2225.6294 - val_loss: 2470.7764 - val_mean_squared_error: 2470.7764\n",
      "Epoch 46/150\n",
      "127/127 [==============================] - 0s 47us/step - loss: 2238.7373 - mean_squared_error: 2238.7373 - val_loss: 2456.9109 - val_mean_squared_error: 2456.9109\n",
      "Epoch 47/150\n"
     ]
    },
    {
     "name": "stdout",
     "output_type": "stream",
     "text": [
      "127/127 [==============================] - 0s 39us/step - loss: 2213.5204 - mean_squared_error: 2213.5205 - val_loss: 2487.1316 - val_mean_squared_error: 2487.1316\n",
      "Epoch 48/150\n",
      "127/127 [==============================] - 0s 39us/step - loss: 2213.4746 - mean_squared_error: 2213.4746 - val_loss: 2508.1204 - val_mean_squared_error: 2508.1204\n",
      "Epoch 49/150\n",
      "127/127 [==============================] - 0s 55us/step - loss: 2227.4094 - mean_squared_error: 2227.4094 - val_loss: 2475.5547 - val_mean_squared_error: 2475.5547\n",
      "Epoch 50/150\n",
      "127/127 [==============================] - 0s 39us/step - loss: 2219.7595 - mean_squared_error: 2219.7593 - val_loss: 2448.8188 - val_mean_squared_error: 2448.8188\n",
      "Epoch 51/150\n",
      "127/127 [==============================] - 0s 47us/step - loss: 2229.6317 - mean_squared_error: 2229.6316 - val_loss: 2466.5701 - val_mean_squared_error: 2466.5701\n",
      "Epoch 52/150\n",
      "127/127 [==============================] - 0s 39us/step - loss: 2193.8483 - mean_squared_error: 2193.8484 - val_loss: 2507.5845 - val_mean_squared_error: 2507.5845\n",
      "Epoch 53/150\n",
      "127/127 [==============================] - ETA: 0s - loss: 1958.6677 - mean_squared_error: 1958.66 - 0s 39us/step - loss: 2230.2787 - mean_squared_error: 2230.2786 - val_loss: 2489.7947 - val_mean_squared_error: 2489.7947\n",
      "Epoch 54/150\n",
      "127/127 [==============================] - 0s 31us/step - loss: 2237.2811 - mean_squared_error: 2237.2810 - val_loss: 2455.1438 - val_mean_squared_error: 2455.1438\n",
      "Epoch 55/150\n",
      "127/127 [==============================] - 0s 39us/step - loss: 2218.0816 - mean_squared_error: 2218.0818 - val_loss: 2466.6626 - val_mean_squared_error: 2466.6626\n",
      "Epoch 56/150\n",
      "127/127 [==============================] - 0s 47us/step - loss: 2194.1332 - mean_squared_error: 2194.1333 - val_loss: 2498.1294 - val_mean_squared_error: 2498.1294\n",
      "Epoch 57/150\n",
      "127/127 [==============================] - 0s 39us/step - loss: 2227.7436 - mean_squared_error: 2227.7437 - val_loss: 2493.6807 - val_mean_squared_error: 2493.6807\n",
      "Epoch 58/150\n",
      "127/127 [==============================] - 0s 63us/step - loss: 2227.9777 - mean_squared_error: 2227.9778 - val_loss: 2455.2705 - val_mean_squared_error: 2455.2705\n",
      "Epoch 59/150\n",
      "127/127 [==============================] - 0s 39us/step - loss: 2261.2508 - mean_squared_error: 2261.2510 - val_loss: 2455.0217 - val_mean_squared_error: 2455.0217\n",
      "Epoch 60/150\n",
      "127/127 [==============================] - 0s 55us/step - loss: 2215.4587 - mean_squared_error: 2215.4587 - val_loss: 2511.4419 - val_mean_squared_error: 2511.4419\n",
      "Epoch 61/150\n",
      "127/127 [==============================] - 0s 31us/step - loss: 2275.4675 - mean_squared_error: 2275.4675 - val_loss: 2532.1160 - val_mean_squared_error: 2532.1160\n",
      "Epoch 62/150\n",
      "127/127 [==============================] - 0s 55us/step - loss: 2245.4250 - mean_squared_error: 2245.4250 - val_loss: 2485.9353 - val_mean_squared_error: 2485.9353\n",
      "Epoch 63/150\n",
      "127/127 [==============================] - 0s 39us/step - loss: 2214.9707 - mean_squared_error: 2214.9707 - val_loss: 2463.7451 - val_mean_squared_error: 2463.7451\n",
      "Epoch 64/150\n",
      "127/127 [==============================] - 0s 47us/step - loss: 2249.1480 - mean_squared_error: 2249.1482 - val_loss: 2456.4314 - val_mean_squared_error: 2456.4314\n",
      "Epoch 65/150\n",
      "127/127 [==============================] - 0s 39us/step - loss: 2183.3710 - mean_squared_error: 2183.3711 - val_loss: 2493.4895 - val_mean_squared_error: 2493.4895\n",
      "Epoch 66/150\n",
      "127/127 [==============================] - 0s 47us/step - loss: 2231.1017 - mean_squared_error: 2231.1018 - val_loss: 2502.9636 - val_mean_squared_error: 2502.9636\n",
      "Epoch 67/150\n",
      "127/127 [==============================] - 0s 39us/step - loss: 2228.9205 - mean_squared_error: 2228.9204 - val_loss: 2461.1113 - val_mean_squared_error: 2461.1113\n",
      "Epoch 68/150\n",
      "127/127 [==============================] - 0s 39us/step - loss: 2172.5573 - mean_squared_error: 2172.5571 - val_loss: 2438.6738 - val_mean_squared_error: 2438.6738\n",
      "Epoch 69/150\n",
      "127/127 [==============================] - 0s 39us/step - loss: 2208.8922 - mean_squared_error: 2208.8923 - val_loss: 2435.0735 - val_mean_squared_error: 2435.0735\n",
      "Epoch 70/150\n",
      "127/127 [==============================] - 0s 39us/step - loss: 2185.3759 - mean_squared_error: 2185.3760 - val_loss: 2460.5337 - val_mean_squared_error: 2460.5337\n",
      "Epoch 71/150\n",
      "127/127 [==============================] - 0s 47us/step - loss: 2214.3335 - mean_squared_error: 2214.3335 - val_loss: 2496.5425 - val_mean_squared_error: 2496.5425\n",
      "Epoch 72/150\n",
      "127/127 [==============================] - 0s 39us/step - loss: 2214.9450 - mean_squared_error: 2214.9448 - val_loss: 2476.2803 - val_mean_squared_error: 2476.2803\n",
      "Epoch 73/150\n",
      "127/127 [==============================] - 0s 47us/step - loss: 2189.4023 - mean_squared_error: 2189.4023 - val_loss: 2446.9634 - val_mean_squared_error: 2446.9634\n",
      "Epoch 74/150\n",
      "127/127 [==============================] - 0s 47us/step - loss: 2252.3512 - mean_squared_error: 2252.3513 - val_loss: 2449.7610 - val_mean_squared_error: 2449.7610\n",
      "Epoch 75/150\n",
      "127/127 [==============================] - 0s 47us/step - loss: 2195.3928 - mean_squared_error: 2195.3928 - val_loss: 2494.4443 - val_mean_squared_error: 2494.4443\n",
      "Epoch 76/150\n",
      "127/127 [==============================] - 0s 39us/step - loss: 2231.1064 - mean_squared_error: 2231.1062 - val_loss: 2512.5352 - val_mean_squared_error: 2512.5352\n",
      "Epoch 77/150\n",
      "127/127 [==============================] - 0s 47us/step - loss: 2232.0995 - mean_squared_error: 2232.0994 - val_loss: 2480.5325 - val_mean_squared_error: 2480.5325\n",
      "Epoch 78/150\n",
      "127/127 [==============================] - 0s 47us/step - loss: 2180.4003 - mean_squared_error: 2180.4004 - val_loss: 2456.1479 - val_mean_squared_error: 2456.1479\n",
      "Epoch 79/150\n",
      "127/127 [==============================] - 0s 47us/step - loss: 2226.0579 - mean_squared_error: 2226.0581 - val_loss: 2462.3889 - val_mean_squared_error: 2462.3889\n",
      "Epoch 80/150\n",
      "127/127 [==============================] - 0s 39us/step - loss: 2182.3050 - mean_squared_error: 2182.3052 - val_loss: 2484.7615 - val_mean_squared_error: 2484.7615\n",
      "Epoch 81/150\n",
      "127/127 [==============================] - 0s 31us/step - loss: 2189.6380 - mean_squared_error: 2189.6377 - val_loss: 2502.3364 - val_mean_squared_error: 2502.3364\n",
      "Epoch 82/150\n",
      "127/127 [==============================] - 0s 47us/step - loss: 2213.9921 - mean_squared_error: 2213.9922 - val_loss: 2473.4106 - val_mean_squared_error: 2473.4106\n",
      "Epoch 83/150\n",
      "127/127 [==============================] - 0s 31us/step - loss: 2207.8029 - mean_squared_error: 2207.8030 - val_loss: 2458.4744 - val_mean_squared_error: 2458.4744\n",
      "Epoch 84/150\n",
      "127/127 [==============================] - 0s 39us/step - loss: 2188.8197 - mean_squared_error: 2188.8196 - val_loss: 2447.6877 - val_mean_squared_error: 2447.6877\n",
      "Epoch 85/150\n",
      "127/127 [==============================] - 0s 31us/step - loss: 2162.4689 - mean_squared_error: 2162.4690 - val_loss: 2466.1274 - val_mean_squared_error: 2466.1274\n",
      "Epoch 86/150\n",
      "127/127 [==============================] - 0s 55us/step - loss: 2172.9431 - mean_squared_error: 2172.9431 - val_loss: 2471.5088 - val_mean_squared_error: 2471.5088\n",
      "Epoch 87/150\n",
      "127/127 [==============================] - 0s 39us/step - loss: 2178.6834 - mean_squared_error: 2178.6833 - val_loss: 2461.4346 - val_mean_squared_error: 2461.4346\n",
      "Epoch 88/150\n",
      "127/127 [==============================] - 0s 47us/step - loss: 2162.2742 - mean_squared_error: 2162.2742 - val_loss: 2461.2146 - val_mean_squared_error: 2461.2146\n",
      "Epoch 89/150\n",
      "127/127 [==============================] - 0s 39us/step - loss: 2165.5726 - mean_squared_error: 2165.5725 - val_loss: 2471.3379 - val_mean_squared_error: 2471.3379\n",
      "Epoch 90/150\n",
      "127/127 [==============================] - 0s 47us/step - loss: 2161.0378 - mean_squared_error: 2161.0378 - val_loss: 2477.2271 - val_mean_squared_error: 2477.2271\n",
      "Epoch 91/150\n",
      "127/127 [==============================] - 0s 39us/step - loss: 2160.2591 - mean_squared_error: 2160.2590 - val_loss: 2475.7329 - val_mean_squared_error: 2475.7329\n",
      "Epoch 92/150\n",
      "127/127 [==============================] - 0s 47us/step - loss: 2162.4717 - mean_squared_error: 2162.4717 - val_loss: 2473.0708 - val_mean_squared_error: 2473.0708\n",
      "Epoch 93/150\n"
     ]
    },
    {
     "name": "stdout",
     "output_type": "stream",
     "text": [
      "127/127 [==============================] - 0s 39us/step - loss: 2156.8914 - mean_squared_error: 2156.8914 - val_loss: 2467.0046 - val_mean_squared_error: 2467.0046\n",
      "Epoch 94/150\n",
      "127/127 [==============================] - 0s 55us/step - loss: 2157.8331 - mean_squared_error: 2157.8333 - val_loss: 2463.9001 - val_mean_squared_error: 2463.9001\n",
      "Epoch 95/150\n",
      "127/127 [==============================] - 0s 39us/step - loss: 2155.7198 - mean_squared_error: 2155.7197 - val_loss: 2467.0696 - val_mean_squared_error: 2467.0696\n",
      "Epoch 96/150\n",
      "127/127 [==============================] - 0s 39us/step - loss: 2154.0555 - mean_squared_error: 2154.0557 - val_loss: 2472.3252 - val_mean_squared_error: 2472.3252\n",
      "Epoch 97/150\n",
      "127/127 [==============================] - 0s 39us/step - loss: 2153.9674 - mean_squared_error: 2153.9675 - val_loss: 2483.2473 - val_mean_squared_error: 2483.2473\n",
      "Epoch 98/150\n",
      "127/127 [==============================] - 0s 39us/step - loss: 2154.8869 - mean_squared_error: 2154.8867 - val_loss: 2493.9685 - val_mean_squared_error: 2493.9685\n",
      "Epoch 99/150\n",
      "127/127 [==============================] - 0s 47us/step - loss: 2156.7863 - mean_squared_error: 2156.7864 - val_loss: 2484.9841 - val_mean_squared_error: 2484.9841\n",
      "Epoch 100/150\n",
      "127/127 [==============================] - 0s 39us/step - loss: 2153.1688 - mean_squared_error: 2153.1687 - val_loss: 2491.6353 - val_mean_squared_error: 2491.6353\n",
      "Epoch 101/150\n",
      "127/127 [==============================] - 0s 47us/step - loss: 2153.4304 - mean_squared_error: 2153.4304 - val_loss: 2484.9917 - val_mean_squared_error: 2484.9917\n",
      "Epoch 102/150\n",
      "127/127 [==============================] - 0s 31us/step - loss: 2151.6269 - mean_squared_error: 2151.6270 - val_loss: 2480.6912 - val_mean_squared_error: 2480.6912\n",
      "Epoch 103/150\n",
      "127/127 [==============================] - 0s 39us/step - loss: 2149.9213 - mean_squared_error: 2149.9211 - val_loss: 2476.5996 - val_mean_squared_error: 2476.5996\n",
      "Epoch 104/150\n",
      "127/127 [==============================] - 0s 39us/step - loss: 2154.3787 - mean_squared_error: 2154.3787 - val_loss: 2482.5984 - val_mean_squared_error: 2482.5984\n",
      "Epoch 105/150\n",
      "127/127 [==============================] - 0s 39us/step - loss: 2160.2736 - mean_squared_error: 2160.2737 - val_loss: 2501.5981 - val_mean_squared_error: 2501.5981\n",
      "Epoch 106/150\n",
      "127/127 [==============================] - 0s 39us/step - loss: 2151.7277 - mean_squared_error: 2151.7278 - val_loss: 2492.1594 - val_mean_squared_error: 2492.1594\n",
      "Epoch 107/150\n",
      "127/127 [==============================] - 0s 39us/step - loss: 2145.7613 - mean_squared_error: 2145.7612 - val_loss: 2483.2039 - val_mean_squared_error: 2483.2039\n",
      "Epoch 108/150\n",
      "127/127 [==============================] - 0s 47us/step - loss: 2146.4620 - mean_squared_error: 2146.4622 - val_loss: 2486.3010 - val_mean_squared_error: 2486.3010\n",
      "Epoch 109/150\n",
      "127/127 [==============================] - 0s 31us/step - loss: 2144.3258 - mean_squared_error: 2144.3257 - val_loss: 2491.4636 - val_mean_squared_error: 2491.4636\n",
      "Epoch 110/150\n",
      "127/127 [==============================] - 0s 47us/step - loss: 2143.7114 - mean_squared_error: 2143.7117 - val_loss: 2484.8660 - val_mean_squared_error: 2484.8660\n",
      "Epoch 111/150\n",
      "127/127 [==============================] - 0s 39us/step - loss: 2143.0392 - mean_squared_error: 2143.0391 - val_loss: 2487.7732 - val_mean_squared_error: 2487.7732\n",
      "Epoch 112/150\n",
      "127/127 [==============================] - 0s 39us/step - loss: 2146.7468 - mean_squared_error: 2146.7468 - val_loss: 2494.9402 - val_mean_squared_error: 2494.9402\n",
      "Epoch 113/150\n",
      "127/127 [==============================] - 0s 39us/step - loss: 2139.7780 - mean_squared_error: 2139.7781 - val_loss: 2491.1750 - val_mean_squared_error: 2491.1750\n",
      "Epoch 114/150\n",
      "127/127 [==============================] - 0s 31us/step - loss: 2137.9331 - mean_squared_error: 2137.9331 - val_loss: 2483.3391 - val_mean_squared_error: 2483.3391\n",
      "Epoch 115/150\n",
      "127/127 [==============================] - 0s 47us/step - loss: 2144.1900 - mean_squared_error: 2144.1899 - val_loss: 2482.8914 - val_mean_squared_error: 2482.8914\n",
      "Epoch 116/150\n",
      "127/127 [==============================] - 0s 39us/step - loss: 2142.2517 - mean_squared_error: 2142.2517 - val_loss: 2493.1506 - val_mean_squared_error: 2493.1506\n",
      "Epoch 117/150\n",
      "127/127 [==============================] - 0s 55us/step - loss: 2138.4791 - mean_squared_error: 2138.4790 - val_loss: 2492.9634 - val_mean_squared_error: 2492.9634\n",
      "Epoch 118/150\n",
      "127/127 [==============================] - 0s 39us/step - loss: 2136.0031 - mean_squared_error: 2136.0032 - val_loss: 2485.5532 - val_mean_squared_error: 2485.5532\n",
      "Epoch 119/150\n",
      "127/127 [==============================] - 0s 31us/step - loss: 2134.5937 - mean_squared_error: 2134.5938 - val_loss: 2486.5967 - val_mean_squared_error: 2486.5967\n",
      "Epoch 120/150\n",
      "127/127 [==============================] - 0s 31us/step - loss: 2134.1464 - mean_squared_error: 2134.1465 - val_loss: 2491.9578 - val_mean_squared_error: 2491.9578\n",
      "Epoch 121/150\n",
      "127/127 [==============================] - 0s 39us/step - loss: 2137.4308 - mean_squared_error: 2137.4309 - val_loss: 2500.2986 - val_mean_squared_error: 2500.2986\n",
      "Epoch 122/150\n",
      "127/127 [==============================] - 0s 118us/step - loss: 2140.7166 - mean_squared_error: 2140.7166 - val_loss: 2490.7827 - val_mean_squared_error: 2490.7827\n",
      "Epoch 123/150\n",
      "127/127 [==============================] - 0s 55us/step - loss: 2134.3258 - mean_squared_error: 2134.3257 - val_loss: 2494.7507 - val_mean_squared_error: 2494.7507\n",
      "Epoch 124/150\n",
      "127/127 [==============================] - 0s 31us/step - loss: 2136.4595 - mean_squared_error: 2136.4597 - val_loss: 2495.0864 - val_mean_squared_error: 2495.0864\n",
      "Epoch 125/150\n",
      "127/127 [==============================] - 0s 79us/step - loss: 2137.2710 - mean_squared_error: 2137.2710 - val_loss: 2489.9102 - val_mean_squared_error: 2489.9102\n",
      "Epoch 126/150\n",
      "127/127 [==============================] - 0s 47us/step - loss: 2143.2284 - mean_squared_error: 2143.2283 - val_loss: 2481.0806 - val_mean_squared_error: 2481.0806\n",
      "Epoch 127/150\n",
      "127/127 [==============================] - 0s 39us/step - loss: 2135.9400 - mean_squared_error: 2135.9399 - val_loss: 2491.7742 - val_mean_squared_error: 2491.7742\n",
      "Epoch 128/150\n",
      "127/127 [==============================] - 0s 31us/step - loss: 2127.7420 - mean_squared_error: 2127.7419 - val_loss: 2510.5168 - val_mean_squared_error: 2510.5168\n",
      "Epoch 129/150\n",
      "127/127 [==============================] - 0s 39us/step - loss: 2138.6797 - mean_squared_error: 2138.6797 - val_loss: 2507.6531 - val_mean_squared_error: 2507.6531\n",
      "Epoch 130/150\n",
      "127/127 [==============================] - 0s 31us/step - loss: 2131.2305 - mean_squared_error: 2131.2305 - val_loss: 2493.1985 - val_mean_squared_error: 2493.1985\n",
      "Epoch 131/150\n",
      "127/127 [==============================] - 0s 39us/step - loss: 2142.7833 - mean_squared_error: 2142.7834 - val_loss: 2485.3806 - val_mean_squared_error: 2485.3806\n",
      "Epoch 132/150\n",
      "127/127 [==============================] - 0s 39us/step - loss: 2124.2078 - mean_squared_error: 2124.2078 - val_loss: 2497.0332 - val_mean_squared_error: 2497.0332\n",
      "Epoch 133/150\n",
      "127/127 [==============================] - 0s 47us/step - loss: 2133.3223 - mean_squared_error: 2133.3223 - val_loss: 2506.3408 - val_mean_squared_error: 2506.3408\n",
      "Epoch 134/150\n",
      "127/127 [==============================] - 0s 39us/step - loss: 2129.1171 - mean_squared_error: 2129.1172 - val_loss: 2487.4412 - val_mean_squared_error: 2487.4412\n",
      "Epoch 135/150\n",
      "127/127 [==============================] - 0s 39us/step - loss: 2129.2092 - mean_squared_error: 2129.2092 - val_loss: 2479.7012 - val_mean_squared_error: 2479.7012\n",
      "Epoch 136/150\n",
      "127/127 [==============================] - 0s 39us/step - loss: 2131.4859 - mean_squared_error: 2131.4861 - val_loss: 2490.7871 - val_mean_squared_error: 2490.7871\n",
      "Epoch 137/150\n",
      "127/127 [==============================] - 0s 39us/step - loss: 2122.4766 - mean_squared_error: 2122.4766 - val_loss: 2504.4355 - val_mean_squared_error: 2504.4355\n",
      "Epoch 138/150\n",
      "127/127 [==============================] - 0s 39us/step - loss: 2125.7982 - mean_squared_error: 2125.7983 - val_loss: 2503.3052 - val_mean_squared_error: 2503.3052\n",
      "Epoch 139/150\n"
     ]
    },
    {
     "name": "stdout",
     "output_type": "stream",
     "text": [
      "127/127 [==============================] - 0s 39us/step - loss: 2125.7179 - mean_squared_error: 2125.7180 - val_loss: 2493.7239 - val_mean_squared_error: 2493.7239\n",
      "Epoch 140/150\n",
      "127/127 [==============================] - 0s 39us/step - loss: 2125.9440 - mean_squared_error: 2125.9438 - val_loss: 2497.0688 - val_mean_squared_error: 2497.0688\n",
      "Epoch 141/150\n",
      "127/127 [==============================] - 0s 39us/step - loss: 2119.0074 - mean_squared_error: 2119.0073 - val_loss: 2495.7373 - val_mean_squared_error: 2495.7373\n",
      "Epoch 142/150\n",
      "127/127 [==============================] - 0s 31us/step - loss: 2121.7130 - mean_squared_error: 2121.7131 - val_loss: 2498.4954 - val_mean_squared_error: 2498.4954\n",
      "Epoch 143/150\n",
      "127/127 [==============================] - 0s 39us/step - loss: 2118.3991 - mean_squared_error: 2118.3992 - val_loss: 2496.4197 - val_mean_squared_error: 2496.4197\n",
      "Epoch 144/150\n",
      "127/127 [==============================] - 0s 39us/step - loss: 2120.2716 - mean_squared_error: 2120.2717 - val_loss: 2501.3792 - val_mean_squared_error: 2501.3792\n",
      "Epoch 145/150\n",
      "127/127 [==============================] - 0s 39us/step - loss: 2117.6692 - mean_squared_error: 2117.6692 - val_loss: 2504.9231 - val_mean_squared_error: 2504.9231\n",
      "Epoch 146/150\n",
      "127/127 [==============================] - 0s 47us/step - loss: 2116.9780 - mean_squared_error: 2116.9778 - val_loss: 2506.4707 - val_mean_squared_error: 2506.4707\n",
      "Epoch 147/150\n",
      "127/127 [==============================] - 0s 31us/step - loss: 2120.2346 - mean_squared_error: 2120.2349 - val_loss: 2494.7744 - val_mean_squared_error: 2494.7744\n",
      "Epoch 148/150\n",
      "127/127 [==============================] - 0s 47us/step - loss: 2118.2651 - mean_squared_error: 2118.2649 - val_loss: 2491.8601 - val_mean_squared_error: 2491.8601\n",
      "Epoch 149/150\n",
      "127/127 [==============================] - 0s 31us/step - loss: 2116.8585 - mean_squared_error: 2116.8584 - val_loss: 2501.1670 - val_mean_squared_error: 2501.1670\n",
      "Epoch 150/150\n",
      "127/127 [==============================] - 0s 47us/step - loss: 2118.4400 - mean_squared_error: 2118.4399 - val_loss: 2512.0955 - val_mean_squared_error: 2512.0955\n"
     ]
    },
    {
     "data": {
      "text/plain": [
       "<keras.callbacks.callbacks.History at 0x28d38e4eec8>"
      ]
     },
     "execution_count": 54,
     "metadata": {},
     "output_type": "execute_result"
    }
   ],
   "source": [
    "from keras.models import Sequential\n",
    "from keras.layers import Dense, Dropout, BatchNormalization\n",
    "from keras.optimizers import Adam\n",
    "\n",
    "# define the keras model\n",
    "model = Sequential()\n",
    "model.add(Dense(128, input_dim=np.shape(X_train)[1], activation='relu'))\n",
    "model.add(Dense(128, activation='tanh'))\n",
    "model.add(Dense(2, activation='linear')) # Output layer.\n",
    "\n",
    "\n",
    "# compile the keras model\n",
    "opt = Adam(learning_rate=1e-2)\n",
    "model.compile(loss='mean_squared_error', optimizer=opt, metrics=['mean_squared_error'])\n",
    "model.fit(X_train, y_train, epochs=150, batch_size=64, verbose=1, validation_split=0.25) # Do not print the progress since 3500 epochs."
   ]
  },
  {
   "cell_type": "code",
   "execution_count": 55,
   "metadata": {},
   "outputs": [
    {
     "data": {
      "text/plain": [
       "41.04008580929114"
      ]
     },
     "execution_count": 55,
     "metadata": {},
     "output_type": "execute_result"
    }
   ],
   "source": [
    "from sklearn.metrics import mean_absolute_error\n",
    "\n",
    "y_pred = model.predict(X_test)\n",
    "mean_absolute_error(y_test, y_pred)"
   ]
  },
  {
   "cell_type": "markdown",
   "metadata": {},
   "source": [
    "The error above is the mean euclidean distance between the predicted coordinates and the true coordinates. Since we are dealing with a 2-D plane, it coul be nice if we could visualize this, lets do that below."
   ]
  },
  {
   "cell_type": "code",
   "execution_count": 57,
   "metadata": {},
   "outputs": [
    {
     "data": {
      "text/plain": [
       "<matplotlib.legend.Legend at 0x28d3a1a2548>"
      ]
     },
     "execution_count": 57,
     "metadata": {},
     "output_type": "execute_result"
    },
    {
     "data": {
      "image/png": "[encoded data removed]",
      "text/plain": [
       "<Figure size 720x720 with 1 Axes>"
      ]
     },
     "metadata": {
      "needs_background": "light"
     },
     "output_type": "display_data"
    }
   ],
   "source": [
    "import matplotlib.colors as mcolors\n",
    "import random\n",
    "\n",
    "pred = pd.DataFrame(y_pred, columns=['Latitude', 'Longitude'])\n",
    "true = pd.DataFrame(y_test, columns=['Latitude', 'Longitude'])\n",
    "\n",
    "# Too much info when all preditcitons are plotted, just plot k of them\n",
    "k = 20\n",
    "pred_k = pred[:k]\n",
    "true_k = true[:k]\n",
    "\n",
    "color_dict = mcolors.CSS4_COLORS\n",
    "color_list = list(color_dict.keys())\n",
    "colors = random.sample(color_list, k=k) # pick the k nr. colors needed at random\n",
    "\n",
    "# plot\n",
    "fig, ax = plt.subplots(figsize=(10,10))\n",
    "true_k.plot.scatter(x='Longitude', y='Latitude', marker='o', color=colors, ax=ax, label='True')\n",
    "pred_k.plot.scatter(x='Longitude', y='Latitude', marker='x', color=colors, ax=ax, label='Prediction')\n",
    "plt.title('Prediction of city coordinates')\n",
    "ax.legend(prop={'size': 15})"
   ]
  },
  {
   "cell_type": "markdown",
   "metadata": {},
   "source": [
    "The plot above gives good intuition of how our model behaves. The model is able to predict the coordinats very well for most cities that have a latitude greater than about 20 (above the equator). However for cities which lie below the equator or outlier cities, the model has difficulties predicting the coordinates. "
   ]
  }
 ],
 "metadata": {
  "kernelspec": {
   "display_name": "Python 3",
   "language": "python",
   "name": "python3"
  },
  "language_info": {
   "codemirror_mode": {
    "name": "ipython",
    "version": 3
   },
   "file_extension": ".py",
   "mimetype": "text/x-python",
   "name": "python",
   "nbconvert_exporter": "python",
   "pygments_lexer": "ipython3",
   "version": "3.7.6"
  }
 },
 "nbformat": 4,
 "nbformat_minor": 4
}
