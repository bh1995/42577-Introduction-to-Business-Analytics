{
 "cells": [
  {
   "cell_type": "markdown",
   "metadata": {},
   "source": [
    "## Part 1: Preprocessing of the Database\n",
    "Since the provided dataset is not \"ready-to-use\", it needs to be handled so it could be used further safely. "
   ]
  },
  {
   "cell_type": "code",
   "execution_count": 71,
   "metadata": {},
   "outputs": [],
   "source": [
    "import pandas as pd\n",
    "import numpy as np\n",
    "import matplotlib.pyplot as plt\n",
    "%matplotlib inline\n",
    "\n",
    "pd.set_option('display.max_columns', None)\n",
    "pd.set_option('display.max_rows', None)\n",
    "\n",
    "\n",
    "df_or = pd.read_excel('Cities.xls', index_col=0, skipinitialspace=True) # Read with excel index. \n",
    "# Skip all white-spaces.\n",
    "\n",
    "df = df_or.set_index('cityID') # Remove the indices and use cityID as index.\n",
    "\n",
    "# Drop unnecessary columns (that explicitly imply each other)\n",
    "# cityID implies City, and Country\n",
    "# clusterID implies Typology\n",
    "# Pollution Index is restricted to be used in prediction.\n",
    "col2drop = ['Country', 'City', 'Typology', 'Pollution Index ']\n",
    "\n",
    "\n",
    "df.drop(columns=col2drop, inplace=True)# Typology <=> clusterID, City <=> cityID, "
   ]
  },
  {
   "cell_type": "code",
   "execution_count": 72,
   "metadata": {},
   "outputs": [
    {
     "name": "stdout",
     "output_type": "stream",
     "text": [
      "Initial dataframe shape [rows, columns]: (331, 73)\n",
      "3040\n"
     ]
    }
   ],
   "source": [
    "df = df.replace(r'^\\s*$', np.NaN, regex=True)\n",
    "print(\"Initial dataframe shape [rows, columns]:\", df.shape)\n",
    "n_NaN = df.isna().sum().sum()\n",
    "print(n_NaN) # As you can see the total number of NaNs in the database 3199, so we need to impute.\n",
    "\n",
    "# Impute all NaNs over the database.\n",
    "\n",
    "df_int = df.select_dtypes(include='integer')\n",
    "df_float = df.select_dtypes(include='float')\n",
    "\n",
    "df_int = df_int.fillna(df.mode().iloc[0]) # Try using mean/mod for different columns.\n",
    "df_float = df_float.fillna(df.mean().iloc[0]) # Try using mean/mod for different columns.\n",
    "\n",
    "df[df_int.columns.values.tolist()] = df_int # Use mod for integers,\n",
    "df[df_float.columns.values.tolist()] = df_float # Use mean for floats\n"
   ]
  },
  {
   "cell_type": "code",
   "execution_count": 167,
   "metadata": {},
   "outputs": [
    {
     "name": "stdout",
     "output_type": "stream",
     "text": [
      "Initial dataframe shape [rows, columns]: (331, 73)\n",
      "Current total NaN values: 3040\n"
     ]
    }
   ],
   "source": [
    "# Reseting dataset.\n",
    "df_or = pd.read_excel('FINAL-COMBINED-DATASET.xlsx', index_col=0, skipinitialspace=True) # Read with excel index. \n",
    "# Skip all white-spaces.\n",
    "df = df_or.set_index('cityID') # Remove the indices and use cityID as index.\n",
    "# df.info()\n",
    "# Drop unnecessary columns (that explicitly imply each other)\n",
    "# cityID implies City, and Country\n",
    "# clusterID implies Typology\n",
    "# Pollution Index is restricted to be used in prediction.\n",
    "col2drop = ['Country', 'Typology', 'Pollution Index ']\n",
    "df.drop(columns=col2drop, inplace=True)# Typology <=> clusterID, City <=> cityID, \n",
    "df = df.replace(r'^\\s*$', np.NaN, regex=True)\n",
    "print(\"Initial dataframe shape [rows, columns]:\", df.shape)\n",
    "n_NaN = df.isna().sum().sum()\n",
    "print(\"Current total NaN values:\", n_NaN) # As you can see the total number of NaNs in the database 3199, so we need to impute.\n",
    "# Impute all NaNs over the database.\n",
    "df_int = df.select_dtypes(include='integer')\n",
    "df_float = df.select_dtypes(include='float')\n",
    "# df.info() \n"
   ]
  },
  {
   "cell_type": "code",
   "execution_count": 131,
   "metadata": {},
   "outputs": [],
   "source": [
    "#df.info() # To see how many missing values each column has"
   ]
  },
  {
   "cell_type": "code",
   "execution_count": 137,
   "metadata": {},
   "outputs": [],
   "source": [
    "# If more than 1/3 of the values are missing the column is dropped. i.e. should be atleast 331*(2/3)=218 non-null values.\n",
    "# df2 = df.drop(['Car Modeshare (%)', 'Public Transit Modeshare (%)', 'Bicycle Modeshare (%)', 'Walking Modeshare (%)', 'Congestion (%)','Congestion AM Peak (%)','Congestion PM Peak (%)', 'Traffic Index', 'Travel Time Index', 'Inefficiency Index', 'Unemployment Rate (%)', 'Poverty Rate (%)', 'Safety Index'], axis=1)\n",
    "# df = df.drop(['Car Modeshare (%)', 'Car Modeshare (%)', 'Public Transit Modeshare (%)', 'Bicycle Modeshare (%)', 'Walking Modeshare (%)', 'Congestion (%)','Congestion AM Peak (%)','Congestion PM Peak (%)'], axis=1)"
   ]
  },
  {
   "cell_type": "code",
   "execution_count": null,
   "metadata": {},
   "outputs": [],
   "source": []
  },
  {
   "cell_type": "code",
   "execution_count": 172,
   "metadata": {},
   "outputs": [],
   "source": [
    "from sklearn.linear_model import LinearRegression\n",
    "from sklearn.ensemble import RandomForestRegressor\n",
    "from sklearn import preprocessing\n",
    "\n",
    "def predict_missing_values(df):\n",
    "    \"\"\"\n",
    "    This function will take in the dataframe and for each column predict the missing values.\n",
    "    It also scales the dataframe before performing value predictions. \n",
    "    \"\"\"\n",
    "    # Find which columns are missing values and add the column names to list.\n",
    "    nan_values = df.isna()\n",
    "    nan_columns = nan_values.any()\n",
    "    nan_columns = df.columns[nan_columns].tolist()\n",
    "    # print(nan_columns)\n",
    "    # Normalize dataset\n",
    "#     x = df.values #returns a numpy array\n",
    "    min_max_scaler = preprocessing.MinMaxScaler()\n",
    "#     x_scaled = min_max_scaler.fit_transform(x)\n",
    "#     x_unscaled =  min_max_scaler.inverse_transform(x_scaled)\n",
    "#     df = pd.DataFrame(x_scaled)\n",
    "\n",
    "    for i in nan_columns:\n",
    "        test_df = df[df[i].isnull()]\n",
    "        # print(test_df)\n",
    "        df2 = df.dropna()\n",
    "        y_train = df2[i]\n",
    "        X_train = df2.drop(i, axis=1)\n",
    "        X_train_scaled = min_max_scaler.fit_transform(X_train.values)\n",
    "        X_train = pd.DataFrame(X_train_scaled)\n",
    "        \n",
    "        X_test = test_df.drop(i, axis=1)\n",
    "        X_test_scaled = min_max_scaler.fit_transform(X_test.values)\n",
    "        X_test = pd.DataFrame(X_test_scaled)\n",
    "        # Impute all NaNs over the database.\n",
    "        X_test_int = X_test.select_dtypes(include='integer')\n",
    "        X_test_float = X_test.select_dtypes(include='float')\n",
    "        X_test_int = X_test_int.fillna(X_test.mode().iloc[0]) # Try using mean/mod for different columns.\n",
    "        X_test_float = X_test_float.fillna(X_test.mean().iloc[0]) # Try using mean/mod for different columns.\n",
    "        X_test[X_test_int.columns.values.tolist()] = X_test_int # Use mod for integers,\n",
    "        X_test[X_test_float.columns.values.tolist()] = X_test_float # Use mean for floats\n",
    "        # print(\"Total nr. NaN values:\", X_test.isna().sum().sum())\n",
    "        # print(X_test)\n",
    "        \n",
    "        # Train model to fit dataset and predict missing values from column i\n",
    "        # lr = LinearRegression()\n",
    "        # lr.fit(X_train, y_train)\n",
    "        # y_pred = lr.predict(X_test)\n",
    "        rfr = RandomForestRegressor(n_estimators = 1000, max_depth = 1000, random_state = 42)\n",
    "        rfr.fit(X_train, y_train)\n",
    "        y_pred = rfr.predict(X_test)\n",
    "        # print(y_pred)\n",
    "        #replace the missing values with predicted values\n",
    "        df.loc[df[i].isnull(), i] = y_pred\n",
    "        \n",
    "        # print(\"Done with column\", i)\n",
    "    #df['CO2 Emissions per Capita (metric tonnes)'] = df_targets # Add the original targets back at the end.\n",
    "    assert df.isna().sum().sum() == 0, \"ERROR!, There still contains NaN values in the DataFrame\" \n",
    "    \n",
    "    return df "
   ]
  },
  {
   "cell_type": "code",
   "execution_count": 173,
   "metadata": {},
   "outputs": [
    {
     "name": "stderr",
     "output_type": "stream",
     "text": [
      "C:\\Users\\bjorn\\anaconda3\\lib\\site-packages\\sklearn\\preprocessing\\_data.py:375: RuntimeWarning: All-NaN slice encountered\n",
      "  data_min = np.nanmin(X, axis=0)\n",
      "C:\\Users\\bjorn\\anaconda3\\lib\\site-packages\\sklearn\\preprocessing\\_data.py:376: RuntimeWarning: All-NaN slice encountered\n",
      "  data_max = np.nanmax(X, axis=0)\n",
      "C:\\Users\\bjorn\\anaconda3\\lib\\site-packages\\sklearn\\preprocessing\\_data.py:375: RuntimeWarning: All-NaN slice encountered\n",
      "  data_min = np.nanmin(X, axis=0)\n",
      "C:\\Users\\bjorn\\anaconda3\\lib\\site-packages\\sklearn\\preprocessing\\_data.py:376: RuntimeWarning: All-NaN slice encountered\n",
      "  data_max = np.nanmax(X, axis=0)\n",
      "C:\\Users\\bjorn\\anaconda3\\lib\\site-packages\\sklearn\\preprocessing\\_data.py:375: RuntimeWarning: All-NaN slice encountered\n",
      "  data_min = np.nanmin(X, axis=0)\n",
      "C:\\Users\\bjorn\\anaconda3\\lib\\site-packages\\sklearn\\preprocessing\\_data.py:376: RuntimeWarning: All-NaN slice encountered\n",
      "  data_max = np.nanmax(X, axis=0)\n",
      "C:\\Users\\bjorn\\anaconda3\\lib\\site-packages\\sklearn\\preprocessing\\_data.py:375: RuntimeWarning: All-NaN slice encountered\n",
      "  data_min = np.nanmin(X, axis=0)\n",
      "C:\\Users\\bjorn\\anaconda3\\lib\\site-packages\\sklearn\\preprocessing\\_data.py:376: RuntimeWarning: All-NaN slice encountered\n",
      "  data_max = np.nanmax(X, axis=0)\n",
      "C:\\Users\\bjorn\\anaconda3\\lib\\site-packages\\sklearn\\preprocessing\\_data.py:375: RuntimeWarning: All-NaN slice encountered\n",
      "  data_min = np.nanmin(X, axis=0)\n",
      "C:\\Users\\bjorn\\anaconda3\\lib\\site-packages\\sklearn\\preprocessing\\_data.py:376: RuntimeWarning: All-NaN slice encountered\n",
      "  data_max = np.nanmax(X, axis=0)\n",
      "C:\\Users\\bjorn\\anaconda3\\lib\\site-packages\\sklearn\\preprocessing\\_data.py:375: RuntimeWarning: All-NaN slice encountered\n",
      "  data_min = np.nanmin(X, axis=0)\n",
      "C:\\Users\\bjorn\\anaconda3\\lib\\site-packages\\sklearn\\preprocessing\\_data.py:376: RuntimeWarning: All-NaN slice encountered\n",
      "  data_max = np.nanmax(X, axis=0)\n",
      "C:\\Users\\bjorn\\anaconda3\\lib\\site-packages\\sklearn\\preprocessing\\_data.py:375: RuntimeWarning: All-NaN slice encountered\n",
      "  data_min = np.nanmin(X, axis=0)\n",
      "C:\\Users\\bjorn\\anaconda3\\lib\\site-packages\\sklearn\\preprocessing\\_data.py:376: RuntimeWarning: All-NaN slice encountered\n",
      "  data_max = np.nanmax(X, axis=0)\n",
      "C:\\Users\\bjorn\\anaconda3\\lib\\site-packages\\sklearn\\preprocessing\\_data.py:375: RuntimeWarning: All-NaN slice encountered\n",
      "  data_min = np.nanmin(X, axis=0)\n",
      "C:\\Users\\bjorn\\anaconda3\\lib\\site-packages\\sklearn\\preprocessing\\_data.py:376: RuntimeWarning: All-NaN slice encountered\n",
      "  data_max = np.nanmax(X, axis=0)\n",
      "C:\\Users\\bjorn\\anaconda3\\lib\\site-packages\\sklearn\\preprocessing\\_data.py:375: RuntimeWarning: All-NaN slice encountered\n",
      "  data_min = np.nanmin(X, axis=0)\n",
      "C:\\Users\\bjorn\\anaconda3\\lib\\site-packages\\sklearn\\preprocessing\\_data.py:376: RuntimeWarning: All-NaN slice encountered\n",
      "  data_max = np.nanmax(X, axis=0)\n",
      "C:\\Users\\bjorn\\anaconda3\\lib\\site-packages\\sklearn\\preprocessing\\_data.py:375: RuntimeWarning: All-NaN slice encountered\n",
      "  data_min = np.nanmin(X, axis=0)\n",
      "C:\\Users\\bjorn\\anaconda3\\lib\\site-packages\\sklearn\\preprocessing\\_data.py:376: RuntimeWarning: All-NaN slice encountered\n",
      "  data_max = np.nanmax(X, axis=0)\n",
      "C:\\Users\\bjorn\\anaconda3\\lib\\site-packages\\sklearn\\preprocessing\\_data.py:375: RuntimeWarning: All-NaN slice encountered\n",
      "  data_min = np.nanmin(X, axis=0)\n",
      "C:\\Users\\bjorn\\anaconda3\\lib\\site-packages\\sklearn\\preprocessing\\_data.py:376: RuntimeWarning: All-NaN slice encountered\n",
      "  data_max = np.nanmax(X, axis=0)\n",
      "C:\\Users\\bjorn\\anaconda3\\lib\\site-packages\\sklearn\\preprocessing\\_data.py:375: RuntimeWarning: All-NaN slice encountered\n",
      "  data_min = np.nanmin(X, axis=0)\n",
      "C:\\Users\\bjorn\\anaconda3\\lib\\site-packages\\sklearn\\preprocessing\\_data.py:376: RuntimeWarning: All-NaN slice encountered\n",
      "  data_max = np.nanmax(X, axis=0)\n",
      "C:\\Users\\bjorn\\anaconda3\\lib\\site-packages\\sklearn\\preprocessing\\_data.py:375: RuntimeWarning: All-NaN slice encountered\n",
      "  data_min = np.nanmin(X, axis=0)\n",
      "C:\\Users\\bjorn\\anaconda3\\lib\\site-packages\\sklearn\\preprocessing\\_data.py:376: RuntimeWarning: All-NaN slice encountered\n",
      "  data_max = np.nanmax(X, axis=0)\n",
      "C:\\Users\\bjorn\\anaconda3\\lib\\site-packages\\sklearn\\preprocessing\\_data.py:375: RuntimeWarning: All-NaN slice encountered\n",
      "  data_min = np.nanmin(X, axis=0)\n",
      "C:\\Users\\bjorn\\anaconda3\\lib\\site-packages\\sklearn\\preprocessing\\_data.py:376: RuntimeWarning: All-NaN slice encountered\n",
      "  data_max = np.nanmax(X, axis=0)\n",
      "C:\\Users\\bjorn\\anaconda3\\lib\\site-packages\\sklearn\\preprocessing\\_data.py:375: RuntimeWarning: All-NaN slice encountered\n",
      "  data_min = np.nanmin(X, axis=0)\n",
      "C:\\Users\\bjorn\\anaconda3\\lib\\site-packages\\sklearn\\preprocessing\\_data.py:376: RuntimeWarning: All-NaN slice encountered\n",
      "  data_max = np.nanmax(X, axis=0)\n",
      "C:\\Users\\bjorn\\anaconda3\\lib\\site-packages\\sklearn\\preprocessing\\_data.py:375: RuntimeWarning: All-NaN slice encountered\n",
      "  data_min = np.nanmin(X, axis=0)\n",
      "C:\\Users\\bjorn\\anaconda3\\lib\\site-packages\\sklearn\\preprocessing\\_data.py:376: RuntimeWarning: All-NaN slice encountered\n",
      "  data_max = np.nanmax(X, axis=0)\n",
      "C:\\Users\\bjorn\\anaconda3\\lib\\site-packages\\sklearn\\preprocessing\\_data.py:375: RuntimeWarning: All-NaN slice encountered\n",
      "  data_min = np.nanmin(X, axis=0)\n",
      "C:\\Users\\bjorn\\anaconda3\\lib\\site-packages\\sklearn\\preprocessing\\_data.py:376: RuntimeWarning: All-NaN slice encountered\n",
      "  data_max = np.nanmax(X, axis=0)\n",
      "C:\\Users\\bjorn\\anaconda3\\lib\\site-packages\\sklearn\\preprocessing\\_data.py:375: RuntimeWarning: All-NaN slice encountered\n",
      "  data_min = np.nanmin(X, axis=0)\n",
      "C:\\Users\\bjorn\\anaconda3\\lib\\site-packages\\sklearn\\preprocessing\\_data.py:376: RuntimeWarning: All-NaN slice encountered\n",
      "  data_max = np.nanmax(X, axis=0)\n",
      "C:\\Users\\bjorn\\anaconda3\\lib\\site-packages\\sklearn\\preprocessing\\_data.py:375: RuntimeWarning: All-NaN slice encountered\n",
      "  data_min = np.nanmin(X, axis=0)\n",
      "C:\\Users\\bjorn\\anaconda3\\lib\\site-packages\\sklearn\\preprocessing\\_data.py:376: RuntimeWarning: All-NaN slice encountered\n",
      "  data_max = np.nanmax(X, axis=0)\n",
      "C:\\Users\\bjorn\\anaconda3\\lib\\site-packages\\sklearn\\preprocessing\\_data.py:375: RuntimeWarning: All-NaN slice encountered\n",
      "  data_min = np.nanmin(X, axis=0)\n",
      "C:\\Users\\bjorn\\anaconda3\\lib\\site-packages\\sklearn\\preprocessing\\_data.py:376: RuntimeWarning: All-NaN slice encountered\n",
      "  data_max = np.nanmax(X, axis=0)\n",
      "C:\\Users\\bjorn\\anaconda3\\lib\\site-packages\\sklearn\\preprocessing\\_data.py:375: RuntimeWarning: All-NaN slice encountered\n",
      "  data_min = np.nanmin(X, axis=0)\n",
      "C:\\Users\\bjorn\\anaconda3\\lib\\site-packages\\sklearn\\preprocessing\\_data.py:376: RuntimeWarning: All-NaN slice encountered\n",
      "  data_max = np.nanmax(X, axis=0)\n",
      "C:\\Users\\bjorn\\anaconda3\\lib\\site-packages\\sklearn\\preprocessing\\_data.py:375: RuntimeWarning: All-NaN slice encountered\n",
      "  data_min = np.nanmin(X, axis=0)\n",
      "C:\\Users\\bjorn\\anaconda3\\lib\\site-packages\\sklearn\\preprocessing\\_data.py:376: RuntimeWarning: All-NaN slice encountered\n",
      "  data_max = np.nanmax(X, axis=0)\n",
      "C:\\Users\\bjorn\\anaconda3\\lib\\site-packages\\sklearn\\preprocessing\\_data.py:375: RuntimeWarning: All-NaN slice encountered\n",
      "  data_min = np.nanmin(X, axis=0)\n",
      "C:\\Users\\bjorn\\anaconda3\\lib\\site-packages\\sklearn\\preprocessing\\_data.py:376: RuntimeWarning: All-NaN slice encountered\n",
      "  data_max = np.nanmax(X, axis=0)\n",
      "C:\\Users\\bjorn\\anaconda3\\lib\\site-packages\\sklearn\\preprocessing\\_data.py:375: RuntimeWarning: All-NaN slice encountered\n",
      "  data_min = np.nanmin(X, axis=0)\n",
      "C:\\Users\\bjorn\\anaconda3\\lib\\site-packages\\sklearn\\preprocessing\\_data.py:376: RuntimeWarning: All-NaN slice encountered\n",
      "  data_max = np.nanmax(X, axis=0)\n",
      "C:\\Users\\bjorn\\anaconda3\\lib\\site-packages\\sklearn\\preprocessing\\_data.py:375: RuntimeWarning: All-NaN slice encountered\n",
      "  data_min = np.nanmin(X, axis=0)\n",
      "C:\\Users\\bjorn\\anaconda3\\lib\\site-packages\\sklearn\\preprocessing\\_data.py:376: RuntimeWarning: All-NaN slice encountered\n",
      "  data_max = np.nanmax(X, axis=0)\n",
      "C:\\Users\\bjorn\\anaconda3\\lib\\site-packages\\sklearn\\preprocessing\\_data.py:375: RuntimeWarning: All-NaN slice encountered\n",
      "  data_min = np.nanmin(X, axis=0)\n",
      "C:\\Users\\bjorn\\anaconda3\\lib\\site-packages\\sklearn\\preprocessing\\_data.py:376: RuntimeWarning: All-NaN slice encountered\n",
      "  data_max = np.nanmax(X, axis=0)\n"
     ]
    },
    {
     "name": "stdout",
     "output_type": "stream",
     "text": [
      "Shape of dataframe after predicting missing values: (331, 73)\n",
      "nr NaN values: 0\n"
     ]
    }
   ],
   "source": [
    "df = predict_missing_values(df)\n",
    "print(\"Shape of dataframe after predicting missing values:\", df.shape)\n",
    "print(\"nr NaN values:\", df.isna().sum().sum())"
   ]
  },
  {
   "cell_type": "code",
   "execution_count": 174,
   "metadata": {},
   "outputs": [],
   "source": [
    "# Normalize the database:\n",
    "\n",
    "# df_train = df.iloc[0:tr_slice_ind]\n",
    "# df_test = df.iloc[tr_slice_ind::]\n",
    "\n",
    "\n",
    "\n",
    "# tr_mean = tr_inputs.mean() # min/max normalization\n",
    "# tr_min_ = tr_inputs.min()\n",
    "# tr_max_ = tr_inputs.max()\n",
    "\n",
    "# tr_inputs = (tr_inputs-tr_mean)/(tr_max_-tr_min_)\n",
    "\n",
    "df_targets = df['CO2 Emissions per Capita (metric tonnes)']\n",
    "df_inputs = df.drop(columns=['CO2 Emissions per Capita (metric tonnes)'])\n",
    "\n",
    "# df_in_mean = df_inputs.mean()\n",
    "# df_in_min = df_inputs.min()\n",
    "# df_in_max = df_inputs.max()\n",
    "\n",
    "# df_in = (df_inputs - df_in_mean)/(df_in_max - df_in_min)\n",
    "\n",
    "train_perc = 0.75\n",
    "tr_slice_ind = int(len(df)*0.75)+1\n",
    "\n",
    "tr_target = df_targets[0:tr_slice_ind]\n",
    "tr_inputs = df_in.iloc[0:tr_slice_ind]\n",
    "\n",
    "ts_target = df_targets[tr_slice_ind::]\n",
    "ts_inputs = df_in.iloc[tr_slice_ind::]"
   ]
  },
  {
   "cell_type": "code",
   "execution_count": 175,
   "metadata": {},
   "outputs": [
    {
     "data": {
      "text/plain": [
       "(249, 18)"
      ]
     },
     "execution_count": 175,
     "metadata": {},
     "output_type": "execute_result"
    },
    {
     "data": {
      "image/png": "[encoded data removed]",
      "text/plain": [
       "<Figure size 432x288 with 1 Axes>"
      ]
     },
     "metadata": {
      "needs_background": "light"
     },
     "output_type": "display_data"
    }
   ],
   "source": [
    "from sklearn.decomposition import PCA\n",
    "\n",
    "pca = PCA()\n",
    "# print(p_df.head())\n",
    "# len(pca.components_)\n",
    "pca.fit(tr_inputs)\n",
    "expl=pca.explained_variance_ratio_\n",
    "cdf=[sum(expl[:i+1]) for i in range(len(expl))]\n",
    "plt.plot(range(len(expl)), cdf);\n",
    "# print(cdf[:15]) # 15 most explaining components\n",
    "pca = PCA(n_components=18) # Looks to about how many components explains 95% of the total variance.\n",
    "comps = pca.fit_transform(tr_inputs)\n",
    "p_df = pd.DataFrame(comps)\n",
    "p_df.shape"
   ]
  },
  {
   "cell_type": "code",
   "execution_count": 176,
   "metadata": {},
   "outputs": [
    {
     "data": {
      "text/plain": [
       "-0.8368883048989924"
      ]
     },
     "execution_count": 176,
     "metadata": {},
     "output_type": "execute_result"
    }
   ],
   "source": [
    "from sklearn.ensemble import RandomForestRegressor\n",
    "from sklearn.model_selection import RandomizedSearchCV\n",
    "from sklearn.metrics import r2_score\n",
    "\n",
    "\n",
    "# Number of trees in random forest\n",
    "n_estimators = [int(x) for x in np.linspace(start = 200, stop = 2000, num = 10)]\n",
    "# Number of features to consider at every split\n",
    "max_features = ['auto', 'sqrt']\n",
    "# Maximum number of levels in tree\n",
    "max_depth = [int(x) for x in np.linspace(10, 100, num = 20)]\n",
    "max_depth.append(None)\n",
    "# Minimum number of samples required to split a node\n",
    "min_samples_split = [3, 5, 8]\n",
    "# Minimum number of samples required at each leaf node\n",
    "min_samples_leaf = [1, 2, 4]\n",
    "# Method of selecting samples for training each tree\n",
    "bootstrap = [True, False]\n",
    "\n",
    "\n",
    "regr = RandomForestRegressor()\n",
    "\n",
    "# Create the random grid\n",
    "random_grid = {'n_estimators': n_estimators,\n",
    "               'max_features': max_features,\n",
    "               'max_depth': max_depth,\n",
    "               'min_samples_split': min_samples_split,\n",
    "               'min_samples_leaf': min_samples_leaf,\n",
    "               'bootstrap': bootstrap}\n",
    "\n",
    "regr = RandomizedSearchCV(estimator = regr, \n",
    "                               param_distributions = random_grid, \n",
    "                               n_iter = 100, cv = 3, verbose=2)\n",
    "\n",
    "from sklearn.neural_network import MLPRegressor\n",
    "\n",
    "clf = MLPRegressor(hidden_layer_sizes=(8, 32, 16), \n",
    "                   activation='relu',\n",
    "                   solver = 'adam',\n",
    "                   alpha = 1e-1,\n",
    "                   learning_rate='adaptive',\n",
    "                   learning_rate_init=2.25e-5,\n",
    "                   max_iter=35000,\n",
    "                   random_state = 42,\n",
    "                   shuffle=False).fit(p_df, tr_target)\n",
    "\n",
    "pca_test = pca.transform(ts_inputs)\n",
    "p_test = pd.DataFrame(pca_test)\n",
    "\n",
    "est_out = clf.predict(p_test)\n",
    "\n",
    "R_2 = r2_score(ts_target, est_out)\n",
    "\n",
    "R_2"
   ]
  },
  {
   "cell_type": "code",
   "execution_count": 154,
   "metadata": {},
   "outputs": [],
   "source": [
    "# for (i, _) in df.iteritems():\n",
    "#     print(df[i].value_counts())"
   ]
  },
  {
   "cell_type": "code",
   "execution_count": 177,
   "metadata": {},
   "outputs": [
    {
     "name": "stdout",
     "output_type": "stream",
     "text": [
      "(249, 59)\n",
      "R2 score: -1.0501041615581932\n"
     ]
    }
   ],
   "source": [
    "from sklearn.svm import SVR\n",
    "from sklearn.metrics import r2_score\n",
    "\n",
    "pca_test = pca.transform(ts_inputs)\n",
    "p_test = pd.DataFrame(pca_test)\n",
    "# print(p_test.shape)\n",
    "model_SVR = SVR(C=1.0, epsilon=0.2)\n",
    "print(tr_inputs.shape)\n",
    "model_SVR.fit(p_df, tr_target)\n",
    "est_out_svm = model_SVR.predict(p_test)\n",
    "print(\"R2 score:\", r2_score(ts_target, est_out_svm))\n"
   ]
  },
  {
   "cell_type": "code",
   "execution_count": 178,
   "metadata": {},
   "outputs": [
    {
     "name": "stdout",
     "output_type": "stream",
     "text": [
      "RMSE: 9.596514032859412\n",
      "mean and std of targets: 11.911943928439022 6.702325862171413\n"
     ]
    }
   ],
   "source": [
    "from sklearn.metrics import mean_squared_error\n",
    "\n",
    "rmse = np.sqrt(mean_squared_error(ts_target, est_out_svm))\n",
    "print(\"RMSE:\", rmse)\n",
    "print(\"mean and std of targets:\", np.mean(ts_target), np.std(ts_target))"
   ]
  },
  {
   "cell_type": "code",
   "execution_count": 110,
   "metadata": {},
   "outputs": [
    {
     "data": {
      "text/plain": [
       "array([ 7.32528564,  4.05967819,  4.49630203,  0.35575135,  8.6546077 ,\n",
       "        9.56696068,  5.46667222, 13.6009818 ,  5.09078199, 14.21014084,\n",
       "       12.6127393 ,  8.22381067,  0.95308453,  0.07004595,  2.46690822,\n",
       "        4.69181838,  6.90212741,  6.65772994,  1.51314104,  3.94625506,\n",
       "        4.25998179,  5.5576448 ,  7.54116421,  8.2791104 ,  5.13337423,\n",
       "       10.06643835,  0.36929052,  0.30436386,  6.49031033,  7.18900378,\n",
       "       10.35428745,  1.31178904,  4.14051446,  5.5428264 ,  1.42807879,\n",
       "        3.138044  ,  1.18091641,  3.8412604 ,  0.87986978,  6.0743555 ,\n",
       "        5.65457358,  3.02560062,  6.9236103 ,  7.69119088,  0.95383838,\n",
       "        4.93554685,  7.34172287,  2.00114289,  8.59882033,  5.94126175,\n",
       "        0.21454983,  4.6042168 , 12.36930708,  5.9786258 ,  4.20326899,\n",
       "        7.10793801,  4.9686041 ,  3.42034457,  2.81751902,  0.56111396,\n",
       "        2.21001742,  8.01800757, 12.64253499,  0.8148062 ,  6.05788835,\n",
       "        9.17470417,  7.55835965,  5.30953793,  5.39060814, 13.94373507,\n",
       "       12.00035302,  1.80974311,  8.24508158,  0.70866813,  5.25240146,\n",
       "        4.95223301,  7.03833424,  4.30988534,  0.5551503 ,  3.69614191,\n",
       "        4.85854215,  3.68068708])"
      ]
     },
     "execution_count": 110,
     "metadata": {},
     "output_type": "execute_result"
    }
   ],
   "source": [
    "est_out_svm"
   ]
  },
  {
   "cell_type": "code",
   "execution_count": 6,
   "metadata": {},
   "outputs": [
    {
     "data": {
      "text/plain": [
       "{'activation': 'relu',\n",
       " 'alpha': 0.1,\n",
       " 'batch_size': 'auto',\n",
       " 'beta_1': 0.9,\n",
       " 'beta_2': 0.999,\n",
       " 'early_stopping': False,\n",
       " 'epsilon': 1e-08,\n",
       " 'hidden_layer_sizes': (8, 32, 16),\n",
       " 'learning_rate': 'adaptive',\n",
       " 'learning_rate_init': 2.25e-05,\n",
       " 'max_fun': 15000,\n",
       " 'max_iter': 35000,\n",
       " 'momentum': 0.9,\n",
       " 'n_iter_no_change': 10,\n",
       " 'nesterovs_momentum': True,\n",
       " 'power_t': 0.5,\n",
       " 'random_state': 42,\n",
       " 'shuffle': False,\n",
       " 'solver': 'adam',\n",
       " 'tol': 0.0001,\n",
       " 'validation_fraction': 0.1,\n",
       " 'verbose': False,\n",
       " 'warm_start': False}"
      ]
     },
     "execution_count": 6,
     "metadata": {},
     "output_type": "execute_result"
    }
   ],
   "source": [
    "clf.get_params()"
   ]
  }
 ],
 "metadata": {
  "kernelspec": {
   "display_name": "Python 3",
   "language": "python",
   "name": "python3"
  },
  "language_info": {
   "codemirror_mode": {
    "name": "ipython",
    "version": 3
   },
   "file_extension": ".py",
   "mimetype": "text/x-python",
   "name": "python",
   "nbconvert_exporter": "python",
   "pygments_lexer": "ipython3",
   "version": "3.7.6"
  }
 },
 "nbformat": 4,
 "nbformat_minor": 4
}
